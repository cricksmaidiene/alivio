{
 "cells": [
  {
   "cell_type": "code",
   "execution_count": 0,
   "metadata": {
    "application/vnd.databricks.v1+cell": {
     "cellMetadata": {
      "byteLimit": 2048000,
      "rowLimit": 10000
     },
     "inputWidgets": {},
     "nuid": "f327ac13-6923-4e1a-bded-b54b4eb8f817",
     "showTitle": true,
     "title": "Imports"
    }
   },
   "outputs": [],
   "source": [
    "import json\n",
    "import os\n",
    "import csv\n",
    "from typing import Callable\n",
    "\n",
    "import pandas as pd\n",
    "import requests\n",
    "from pyprojroot import here"
   ]
  },
  {
   "cell_type": "code",
   "execution_count": 0,
   "metadata": {
    "application/vnd.databricks.v1+cell": {
     "cellMetadata": {
      "byteLimit": 2048000,
      "rowLimit": 10000
     },
     "inputWidgets": {},
     "nuid": "122791a3-c5f2-4613-9984-0671058a346e",
     "showTitle": false,
     "title": ""
    }
   },
   "outputs": [
    {
     "output_type": "stream",
     "name": "stdout",
     "output_type": "stream",
     "text": [
      "current_working_directory='/Workspace/Repos/tech@dotlas.com/alivio/src/01_data_ingestion'\nproject_dir='/Workspace/Repos/tech@dotlas.com/alivio'\nDATA_DIR='/Workspace/Repos/tech@dotlas.com/alivio/data'\n"
     ]
    }
   ],
   "source": [
    "current_working_directory: str = os.getcwd()\n",
    "project_dir: str = str(here())\n",
    "DATA_DIR: str = project_dir + \"/data\"\n",
    "\n",
    "print(f\"{current_working_directory=}\")\n",
    "print(f\"{project_dir=}\")\n",
    "print(f\"{DATA_DIR=}\")"
   ]
  },
  {
   "cell_type": "markdown",
   "metadata": {
    "application/vnd.databricks.v1+cell": {
     "cellMetadata": {},
     "inputWidgets": {},
     "nuid": "8346dc54-0563-43ef-b97a-3bcb0cb847ae",
     "showTitle": false,
     "title": ""
    }
   },
   "source": [
    "### Buildging Damage Helper Functions"
   ]
  },
  {
   "cell_type": "code",
   "execution_count": 0,
   "metadata": {
    "application/vnd.databricks.v1+cell": {
     "cellMetadata": {},
     "inputWidgets": {},
     "nuid": "7975404f-65d9-4048-9e80-df95a1b679e2",
     "showTitle": false,
     "title": ""
    }
   },
   "outputs": [],
   "source": [
    "def convert_json_to_csv(path, output_name):\n",
    "    json_files = [\n",
    "        pos_json\n",
    "        for pos_json in os.listdir(path)\n",
    "        if pos_json.endswith(\"post_disaster.json\")\n",
    "    ]\n",
    "\n",
    "    count = 0\n",
    "    count1 = 0\n",
    "    for index, js in enumerate(json_files):\n",
    "        with open(os.path.join(path, js)) as json_file:\n",
    "            data_mx_eq = json.load(json_file)\n",
    "        features = data_mx_eq[\"features\"]\n",
    "\n",
    "        data_file = open(\"train_\" + output_name + \"_geo_details.csv\", \"a\")\n",
    "        csv_writer = csv.writer(data_file)\n",
    "\n",
    "        data_file1 = open(\"train_\" + output_name + \"_geo_xy_details.csv\", \"a\")\n",
    "        csv_writer1 = csv.writer(data_file1)\n",
    "\n",
    "        for lng_lat in features[\"lng_lat\"]:\n",
    "\n",
    "            if count == 0:\n",
    "                header = [\n",
    "                    \"feature_type\",\n",
    "                    \"damage_level\",\n",
    "                    \"uid\",\n",
    "                    \"wkt_lt_lg\",\n",
    "                    \"lat_lng\",\n",
    "                    \"img_name\",\n",
    "                    \"sensor\",\n",
    "                    \"provider_asset_type\",\n",
    "                    \"gsd\",\n",
    "                    \"capture_date\",\n",
    "                    \"off_nadir_angle\",\n",
    "                    \"pan_resolution\",\n",
    "                    \"sun_azimuth\",\n",
    "                    \"sun_elevation\",\n",
    "                    \"target_azimuth\",\n",
    "                    \"disaster\",\n",
    "                    \"disaster_type\",\n",
    "                    \"catalog_id\",\n",
    "                    \"original_width\",\n",
    "                    \"original_height\" \"width\",\n",
    "                    \"height\",\n",
    "                    \"metadata_id\",\n",
    "                ]\n",
    "                csv_writer.writerow(header)\n",
    "                print(data_mx_eq[\"metadata\"][\"gsd\"])\n",
    "                # print(lng_lat['properties']['feature_type'])\n",
    "                count += 1\n",
    "\n",
    "            csv_writer.writerow(\n",
    "                [\n",
    "                    lng_lat[\"properties\"][\"feature_type\"],\n",
    "                    lng_lat[\"properties\"][\"subtype\"],\n",
    "                    lng_lat[\"properties\"][\"uid\"],\n",
    "                    lng_lat[\"wkt\"],\n",
    "                    lng_lat[\"properties\"],\n",
    "                    data_mx_eq[\"metadata\"][\"img_name\"],\n",
    "                    data_mx_eq[\"metadata\"][\"sensor\"],\n",
    "                    data_mx_eq[\"metadata\"][\"provider_asset_type\"],\n",
    "                    str(data_mx_eq[\"metadata\"][\"gsd\"]),\n",
    "                    data_mx_eq[\"metadata\"][\"capture_date\"],\n",
    "                    str(data_mx_eq[\"metadata\"][\"off_nadir_angle\"]),\n",
    "                    str(data_mx_eq[\"metadata\"][\"pan_resolution\"]),\n",
    "                    str(data_mx_eq[\"metadata\"][\"sun_azimuth\"]),\n",
    "                    str(data_mx_eq[\"metadata\"][\"sun_elevation\"]),\n",
    "                    str(data_mx_eq[\"metadata\"][\"target_azimuth\"]),\n",
    "                    data_mx_eq[\"metadata\"][\"disaster\"],\n",
    "                    data_mx_eq[\"metadata\"][\"disaster_type\"],\n",
    "                    data_mx_eq[\"metadata\"][\"catalog_id\"],\n",
    "                    str(data_mx_eq[\"metadata\"][\"original_width\"]),\n",
    "                    str(data_mx_eq[\"metadata\"][\"original_height\"]),\n",
    "                    str(data_mx_eq[\"metadata\"][\"width\"]),\n",
    "                    str(data_mx_eq[\"metadata\"][\"height\"]),\n",
    "                    data_mx_eq[\"metadata\"][\"id\"],\n",
    "                ]\n",
    "            )\n",
    "\n",
    "        for xy in features[\"xy\"]:\n",
    "            if count1 == 0:\n",
    "                # print(xy['properties']['feature_type'])\n",
    "                header1 = [\"uid\", \"wkt\", \"wkt_xy\"]\n",
    "                csv_writer1.writerow(header1)\n",
    "                count1 += 1\n",
    "\n",
    "            csv_writer1.writerow([xy[\"properties\"][\"uid\"], xy[\"wkt\"], xy[\"properties\"]])"
   ]
  },
  {
   "cell_type": "code",
   "execution_count": 0,
   "metadata": {
    "application/vnd.databricks.v1+cell": {
     "cellMetadata": {},
     "inputWidgets": {},
     "nuid": "2fda9c5b-e642-4bf1-b89e-0637d94ec896",
     "showTitle": false,
     "title": ""
    }
   },
   "outputs": [],
   "source": [
    "def merge_geo_output_files(output_name):    \n",
    "        df_f1=pd.read_csv(\"train_\"+output_name+\"_geo_details.csv\", index_col= False)\n",
    "        df_f2=pd.read_csv(\"train_\"+output_name+\"_geo_xy_details.csv\", index_col= False)\n",
    "\n",
    "        df_f1.uid=df_f1.uid.astype(str)\n",
    "        df_f2.uid=df_f2.uid.astype(str)\n",
    "\n",
    "        df_merged = pd.merge(df_f1, df_f2, on='uid')\n",
    "        df_merged.to_csv('train_'+output_name+'.csv', index=False)"
   ]
  },
  {
   "cell_type": "markdown",
   "metadata": {
    "application/vnd.databricks.v1+cell": {
     "cellMetadata": {},
     "inputWidgets": {},
     "nuid": "e59146d2-9995-4c25-a942-2212e61633f8",
     "showTitle": false,
     "title": ""
    }
   },
   "source": [
    "## Data Conversion"
   ]
  },
  {
   "cell_type": "markdown",
   "metadata": {
    "application/vnd.databricks.v1+cell": {
     "cellMetadata": {},
     "inputWidgets": {},
     "nuid": "6075659e-ea79-44c7-920d-3eded0da37fd",
     "showTitle": false,
     "title": ""
    }
   },
   "source": [
    "### Roof Type Classification"
   ]
  },
  {
   "cell_type": "code",
   "execution_count": 0,
   "metadata": {
    "application/vnd.databricks.v1+cell": {
     "cellMetadata": {},
     "inputWidgets": {},
     "nuid": "8f4733e7-0ab2-4d93-8887-16f9f67de78f",
     "showTitle": false,
     "title": ""
    }
   },
   "outputs": [],
   "source": [
    "with open(BASE_DIR) as json_file:\n",
    "    data = json.load(json_file)\n",
    "\n",
    "features=data[\"features\"]\n",
    "data_file = open('train_roof_types_geo_details.csv', 'w')\n",
    "csv_writer = csv.writer(data_file)\n",
    "\n",
    "count = 0\n",
    "\n",
    "for feature in features:\n",
    "    if count == 0:\n",
    " \n",
    "        # Writing headers of CSV file\n",
    "        header = [\"type\", \"id\",\"roof_material\", \"verified\", \"name\", \"geometry_type\", \"cordinates\", \"geometry\"]\n",
    "        csv_writer.writerow(header)\n",
    "        count += 1\n",
    " \n",
    "    # Writing data of CSV file\n",
    "\n",
    "    csv_writer.writerow([feature[\"type\"],feature[\"properties\"][\"id\"],feature[\"properties\"][\"roof_material\"], feature[\"properties\"][\"verified\"],feature[\"properties\"][\"name\"], feature[\"geometry\"][\"type\"], feature[\"geometry\"][\"coordinates\"], feature[\"geometry\"]] )\n",
    "\n",
    "\n",
    "data_file.close()"
   ]
  },
  {
   "cell_type": "markdown",
   "metadata": {
    "application/vnd.databricks.v1+cell": {
     "cellMetadata": {},
     "inputWidgets": {},
     "nuid": "9f17fd4e-9de4-42b4-a48b-3fe767a24618",
     "showTitle": false,
     "title": ""
    }
   },
   "source": [
    "### XView Building Damage Dataset"
   ]
  },
  {
   "cell_type": "code",
   "execution_count": 0,
   "metadata": {
    "application/vnd.databricks.v1+cell": {
     "cellMetadata": {},
     "inputWidgets": {},
     "nuid": "be94d807-2af8-4b11-b433-178122e746e9",
     "showTitle": false,
     "title": ""
    }
   },
   "outputs": [],
   "source": [
    "BDD_BASE_DIR: str = f\"{DATA_DIR}/xview_building_damage/xview_geotransforms.json\""
   ]
  },
  {
   "cell_type": "code",
   "execution_count": 0,
   "metadata": {
    "application/vnd.databricks.v1+cell": {
     "cellMetadata": {},
     "inputWidgets": {},
     "nuid": "02786d3f-03f3-4474-acf9-1b82471c4447",
     "showTitle": false,
     "title": ""
    }
   },
   "outputs": [],
   "source": [
    "with open(BDD_BASE_DIR) as json_file:\n",
    "    bdd_data = json.load(json_file)"
   ]
  },
  {
   "cell_type": "code",
   "execution_count": 0,
   "metadata": {
    "application/vnd.databricks.v1+cell": {
     "cellMetadata": {},
     "inputWidgets": {},
     "nuid": "99c28299-0d2d-4b99-bc15-9025ed9781e2",
     "showTitle": false,
     "title": ""
    }
   },
   "outputs": [],
   "source": [
    "keys=bdd_data.keys()"
   ]
  },
  {
   "cell_type": "code",
   "execution_count": 0,
   "metadata": {
    "application/vnd.databricks.v1+cell": {
     "cellMetadata": {},
     "inputWidgets": {},
     "nuid": "de24f0f0-b620-4533-9e04-cef02948a22b",
     "showTitle": false,
     "title": ""
    }
   },
   "outputs": [],
   "source": [
    "data_file = open('train_roof_damage_geo_details.csv', 'w')\n",
    "csv_writer = csv.writer(data_file)\n",
    "\n",
    "count = 0\n",
    "\n",
    "for key in keys:\n",
    "    if count == 0:\n",
    " \n",
    "        # Writing headers of CSV file\n",
    "        header = [\"image_id\", \"location\",\"GEOGCS\"]\n",
    "        csv_writer.writerow(header)\n",
    "        count += 1\n",
    " \n",
    "    # Writing data of CSV file\n",
    "\n",
    "    csv_writer.writerow([key,bdd_data[key][0],bdd_data[key][1]])\n",
    "\n",
    "\n",
    "data_file.close()"
   ]
  },
  {
   "cell_type": "markdown",
   "metadata": {
    "application/vnd.databricks.v1+cell": {
     "cellMetadata": {},
     "inputWidgets": {},
     "nuid": "ec64a02c-4aa7-4fdd-b027-4cfd7371d940",
     "showTitle": false,
     "title": ""
    }
   },
   "source": [
    "## Mexico Earthquake - Damage datasets"
   ]
  },
  {
   "cell_type": "code",
   "execution_count": 0,
   "metadata": {
    "application/vnd.databricks.v1+cell": {
     "cellMetadata": {},
     "inputWidgets": {},
     "nuid": "4e7231ec-4cca-4344-85d4-f1d1325486cc",
     "showTitle": false,
     "title": ""
    }
   },
   "outputs": [],
   "source": [
    "MX_EQ_BASE_DIR: str = f\"{DATA_DIR}/xview_building_damage/mexico/post_disaster/\""
   ]
  },
  {
   "cell_type": "code",
   "execution_count": 0,
   "metadata": {
    "application/vnd.databricks.v1+cell": {
     "cellMetadata": {},
     "inputWidgets": {},
     "nuid": "b0ff23b0-029b-47aa-bf24-35f414dfbb7e",
     "showTitle": false,
     "title": ""
    }
   },
   "outputs": [
    {
     "output_type": "execute_result",
     "data": {
      "text/plain": [
       "['mexico-earthquake_00000164_post_disaster.json',\n",
       " 'mexico-earthquake_00000107_post_disaster.json',\n",
       " 'mexico-earthquake_00000032_post_disaster.json']"
      ]
     },
     "execution_count": 40,
     "metadata": {},
     "output_type": "execute_result"
    }
   ],
   "source": [
    "json_files = [pos_json for pos_json in os.listdir(MX_EQ_BASE_DIR) if pos_json.endswith('.json')]\n",
    "json_files[:3]"
   ]
  },
  {
   "cell_type": "code",
   "execution_count": 0,
   "metadata": {
    "application/vnd.databricks.v1+cell": {
     "cellMetadata": {},
     "inputWidgets": {},
     "nuid": "149804f2-ae4b-4010-9fc6-8bf04d3a866b",
     "showTitle": false,
     "title": ""
    }
   },
   "outputs": [
    {
     "output_type": "stream",
     "name": "stderr",
     "output_type": "stream",
     "text": [
      "/var/folders/_n/997tnw7n3tdg9z81cr8j96dc0000gn/T/ipykernel_89436/1136020967.py:1: ParserWarning: Length of header or names does not match length of data. This leads to a loss of data with index_col=False.\n  df_f1=pd.read_csv(\"train_mx_eq_geo_details.csv\", index_col= False)\n"
     ]
    }
   ],
   "source": [
    "df_f1=pd.read_csv(\"train_mx_eq_geo_details.csv\", index_col= False)\n",
    "df_f2=pd.read_csv(\"train_mx_eq_geo_xy_details.csv\", index_col= False)"
   ]
  },
  {
   "cell_type": "code",
   "execution_count": 0,
   "metadata": {
    "application/vnd.databricks.v1+cell": {
     "cellMetadata": {},
     "inputWidgets": {},
     "nuid": "070c6e4d-acb9-4619-8816-2d7d5ec38199",
     "showTitle": false,
     "title": ""
    }
   },
   "outputs": [],
   "source": [
    "df_f1.uid=df_f1.uid.astype(str)\n",
    "df_f2.uid=df_f2.uid.astype(str)"
   ]
  },
  {
   "cell_type": "code",
   "execution_count": 0,
   "metadata": {
    "application/vnd.databricks.v1+cell": {
     "cellMetadata": {},
     "inputWidgets": {},
     "nuid": "ea4e97ff-81d1-4d9c-aab5-77c0967bbdc4",
     "showTitle": false,
     "title": ""
    }
   },
   "outputs": [
    {
     "output_type": "execute_result",
     "data": {
      "text/html": [
       "<div>\n",
       "<style scoped>\n",
       "    .dataframe tbody tr th:only-of-type {\n",
       "        vertical-align: middle;\n",
       "    }\n",
       "\n",
       "    .dataframe tbody tr th {\n",
       "        vertical-align: top;\n",
       "    }\n",
       "\n",
       "    .dataframe thead th {\n",
       "        text-align: right;\n",
       "    }\n",
       "</style>\n",
       "<table border=\"1\" class=\"dataframe\">\n",
       "  <thead>\n",
       "    <tr style=\"text-align: right;\">\n",
       "      <th></th>\n",
       "      <th>feature_type</th>\n",
       "      <th>damage_level</th>\n",
       "      <th>uid</th>\n",
       "      <th>wkt_lt_lg</th>\n",
       "      <th>lat_lng</th>\n",
       "      <th>img_name</th>\n",
       "      <th>sensor</th>\n",
       "      <th>provider_asset_type</th>\n",
       "      <th>gsd</th>\n",
       "      <th>capture_date</th>\n",
       "      <th>...</th>\n",
       "      <th>sun_azimuth</th>\n",
       "      <th>sun_elevation</th>\n",
       "      <th>target_azimuth</th>\n",
       "      <th>disaster</th>\n",
       "      <th>disaster_type</th>\n",
       "      <th>catalog_id</th>\n",
       "      <th>original_width</th>\n",
       "      <th>original_heightwidth</th>\n",
       "      <th>height</th>\n",
       "      <th>metadata_id</th>\n",
       "    </tr>\n",
       "  </thead>\n",
       "  <tbody>\n",
       "    <tr>\n",
       "      <th>0</th>\n",
       "      <td>building</td>\n",
       "      <td>no-damage</td>\n",
       "      <td>28119d94-b86c-47aa-bf75-6c42a368ed0c</td>\n",
       "      <td>POLYGON ((-99.15308685010807 19.25984242069931...</td>\n",
       "      <td>{'feature_type': 'building', 'subtype': 'no-da...</td>\n",
       "      <td>mexico-earthquake_00000164_post_disaster.png</td>\n",
       "      <td>WORLDVIEW02</td>\n",
       "      <td>WORLDVIEW02</td>\n",
       "      <td>2.650321</td>\n",
       "      <td>2017-09-20T17:46:11.000Z</td>\n",
       "      <td>...</td>\n",
       "      <td>148.53</td>\n",
       "      <td>68.674</td>\n",
       "      <td>105.50913</td>\n",
       "      <td>mexico-earthquake</td>\n",
       "      <td>earthquake</td>\n",
       "      <td>1030010072469D00</td>\n",
       "      <td>1024</td>\n",
       "      <td>1024</td>\n",
       "      <td>1024</td>\n",
       "      <td>1024</td>\n",
       "    </tr>\n",
       "    <tr>\n",
       "      <th>1</th>\n",
       "      <td>building</td>\n",
       "      <td>no-damage</td>\n",
       "      <td>50b3ec47-afef-441a-9145-330edfb641d9</td>\n",
       "      <td>POLYGON ((-99.15304572138677 19.26399182582984...</td>\n",
       "      <td>{'feature_type': 'building', 'subtype': 'no-da...</td>\n",
       "      <td>mexico-earthquake_00000164_post_disaster.png</td>\n",
       "      <td>WORLDVIEW02</td>\n",
       "      <td>WORLDVIEW02</td>\n",
       "      <td>2.650321</td>\n",
       "      <td>2017-09-20T17:46:11.000Z</td>\n",
       "      <td>...</td>\n",
       "      <td>148.53</td>\n",
       "      <td>68.674</td>\n",
       "      <td>105.50913</td>\n",
       "      <td>mexico-earthquake</td>\n",
       "      <td>earthquake</td>\n",
       "      <td>1030010072469D00</td>\n",
       "      <td>1024</td>\n",
       "      <td>1024</td>\n",
       "      <td>1024</td>\n",
       "      <td>1024</td>\n",
       "    </tr>\n",
       "    <tr>\n",
       "      <th>2</th>\n",
       "      <td>building</td>\n",
       "      <td>no-damage</td>\n",
       "      <td>7c94a152-05cb-4d2e-9a99-e827e4538046</td>\n",
       "      <td>POLYGON ((-99.15313713712854 19.26389313991497...</td>\n",
       "      <td>{'feature_type': 'building', 'subtype': 'no-da...</td>\n",
       "      <td>mexico-earthquake_00000164_post_disaster.png</td>\n",
       "      <td>WORLDVIEW02</td>\n",
       "      <td>WORLDVIEW02</td>\n",
       "      <td>2.650321</td>\n",
       "      <td>2017-09-20T17:46:11.000Z</td>\n",
       "      <td>...</td>\n",
       "      <td>148.53</td>\n",
       "      <td>68.674</td>\n",
       "      <td>105.50913</td>\n",
       "      <td>mexico-earthquake</td>\n",
       "      <td>earthquake</td>\n",
       "      <td>1030010072469D00</td>\n",
       "      <td>1024</td>\n",
       "      <td>1024</td>\n",
       "      <td>1024</td>\n",
       "      <td>1024</td>\n",
       "    </tr>\n",
       "    <tr>\n",
       "      <th>3</th>\n",
       "      <td>building</td>\n",
       "      <td>no-damage</td>\n",
       "      <td>37c80881-34c7-4970-8dfe-cd2bfd918034</td>\n",
       "      <td>POLYGON ((-99.15362687007375 19.26403145735543...</td>\n",
       "      <td>{'feature_type': 'building', 'subtype': 'no-da...</td>\n",
       "      <td>mexico-earthquake_00000164_post_disaster.png</td>\n",
       "      <td>WORLDVIEW02</td>\n",
       "      <td>WORLDVIEW02</td>\n",
       "      <td>2.650321</td>\n",
       "      <td>2017-09-20T17:46:11.000Z</td>\n",
       "      <td>...</td>\n",
       "      <td>148.53</td>\n",
       "      <td>68.674</td>\n",
       "      <td>105.50913</td>\n",
       "      <td>mexico-earthquake</td>\n",
       "      <td>earthquake</td>\n",
       "      <td>1030010072469D00</td>\n",
       "      <td>1024</td>\n",
       "      <td>1024</td>\n",
       "      <td>1024</td>\n",
       "      <td>1024</td>\n",
       "    </tr>\n",
       "    <tr>\n",
       "      <th>4</th>\n",
       "      <td>building</td>\n",
       "      <td>no-damage</td>\n",
       "      <td>4b0a2020-ecf2-420e-8499-97df109b7e2c</td>\n",
       "      <td>POLYGON ((-99.15378920194375 19.26417265095659...</td>\n",
       "      <td>{'feature_type': 'building', 'subtype': 'no-da...</td>\n",
       "      <td>mexico-earthquake_00000164_post_disaster.png</td>\n",
       "      <td>WORLDVIEW02</td>\n",
       "      <td>WORLDVIEW02</td>\n",
       "      <td>2.650321</td>\n",
       "      <td>2017-09-20T17:46:11.000Z</td>\n",
       "      <td>...</td>\n",
       "      <td>148.53</td>\n",
       "      <td>68.674</td>\n",
       "      <td>105.50913</td>\n",
       "      <td>mexico-earthquake</td>\n",
       "      <td>earthquake</td>\n",
       "      <td>1030010072469D00</td>\n",
       "      <td>1024</td>\n",
       "      <td>1024</td>\n",
       "      <td>1024</td>\n",
       "      <td>1024</td>\n",
       "    </tr>\n",
       "    <tr>\n",
       "      <th>...</th>\n",
       "      <td>...</td>\n",
       "      <td>...</td>\n",
       "      <td>...</td>\n",
       "      <td>...</td>\n",
       "      <td>...</td>\n",
       "      <td>...</td>\n",
       "      <td>...</td>\n",
       "      <td>...</td>\n",
       "      <td>...</td>\n",
       "      <td>...</td>\n",
       "      <td>...</td>\n",
       "      <td>...</td>\n",
       "      <td>...</td>\n",
       "      <td>...</td>\n",
       "      <td>...</td>\n",
       "      <td>...</td>\n",
       "      <td>...</td>\n",
       "      <td>...</td>\n",
       "      <td>...</td>\n",
       "      <td>...</td>\n",
       "      <td>...</td>\n",
       "    </tr>\n",
       "    <tr>\n",
       "      <th>32263</th>\n",
       "      <td>building</td>\n",
       "      <td>no-damage</td>\n",
       "      <td>0ebd7459-a529-4ad1-829b-02730f8652f5</td>\n",
       "      <td>POLYGON ((-99.1630583608366 19.29549340808691,...</td>\n",
       "      <td>{'feature_type': 'building', 'subtype': 'no-da...</td>\n",
       "      <td>mexico-earthquake_00000126_post_disaster.png</td>\n",
       "      <td>WORLDVIEW02</td>\n",
       "      <td>WORLDVIEW02</td>\n",
       "      <td>2.650321</td>\n",
       "      <td>2017-09-20T17:46:11.000Z</td>\n",
       "      <td>...</td>\n",
       "      <td>148.53</td>\n",
       "      <td>68.674</td>\n",
       "      <td>105.50913</td>\n",
       "      <td>mexico-earthquake</td>\n",
       "      <td>earthquake</td>\n",
       "      <td>1030010072469D00</td>\n",
       "      <td>1024</td>\n",
       "      <td>1024</td>\n",
       "      <td>1024</td>\n",
       "      <td>1024</td>\n",
       "    </tr>\n",
       "    <tr>\n",
       "      <th>32264</th>\n",
       "      <td>building</td>\n",
       "      <td>no-damage</td>\n",
       "      <td>de92c7b4-281a-4034-a070-f37c16b9ab74</td>\n",
       "      <td>POLYGON ((-99.16308287462437 19.29529677867995...</td>\n",
       "      <td>{'feature_type': 'building', 'subtype': 'no-da...</td>\n",
       "      <td>mexico-earthquake_00000126_post_disaster.png</td>\n",
       "      <td>WORLDVIEW02</td>\n",
       "      <td>WORLDVIEW02</td>\n",
       "      <td>2.650321</td>\n",
       "      <td>2017-09-20T17:46:11.000Z</td>\n",
       "      <td>...</td>\n",
       "      <td>148.53</td>\n",
       "      <td>68.674</td>\n",
       "      <td>105.50913</td>\n",
       "      <td>mexico-earthquake</td>\n",
       "      <td>earthquake</td>\n",
       "      <td>1030010072469D00</td>\n",
       "      <td>1024</td>\n",
       "      <td>1024</td>\n",
       "      <td>1024</td>\n",
       "      <td>1024</td>\n",
       "    </tr>\n",
       "    <tr>\n",
       "      <th>32265</th>\n",
       "      <td>building</td>\n",
       "      <td>no-damage</td>\n",
       "      <td>5ba086bd-dfbd-461d-a4f6-4582d204ad98</td>\n",
       "      <td>POLYGON ((-99.16268003907992 19.29555725941927...</td>\n",
       "      <td>{'feature_type': 'building', 'subtype': 'no-da...</td>\n",
       "      <td>mexico-earthquake_00000126_post_disaster.png</td>\n",
       "      <td>WORLDVIEW02</td>\n",
       "      <td>WORLDVIEW02</td>\n",
       "      <td>2.650321</td>\n",
       "      <td>2017-09-20T17:46:11.000Z</td>\n",
       "      <td>...</td>\n",
       "      <td>148.53</td>\n",
       "      <td>68.674</td>\n",
       "      <td>105.50913</td>\n",
       "      <td>mexico-earthquake</td>\n",
       "      <td>earthquake</td>\n",
       "      <td>1030010072469D00</td>\n",
       "      <td>1024</td>\n",
       "      <td>1024</td>\n",
       "      <td>1024</td>\n",
       "      <td>1024</td>\n",
       "    </tr>\n",
       "    <tr>\n",
       "      <th>32266</th>\n",
       "      <td>building</td>\n",
       "      <td>no-damage</td>\n",
       "      <td>e8d53af5-d795-4b2d-9af3-1ad02e2de5df</td>\n",
       "      <td>POLYGON ((-99.16251399311143 19.29559900916098...</td>\n",
       "      <td>{'feature_type': 'building', 'subtype': 'no-da...</td>\n",
       "      <td>mexico-earthquake_00000126_post_disaster.png</td>\n",
       "      <td>WORLDVIEW02</td>\n",
       "      <td>WORLDVIEW02</td>\n",
       "      <td>2.650321</td>\n",
       "      <td>2017-09-20T17:46:11.000Z</td>\n",
       "      <td>...</td>\n",
       "      <td>148.53</td>\n",
       "      <td>68.674</td>\n",
       "      <td>105.50913</td>\n",
       "      <td>mexico-earthquake</td>\n",
       "      <td>earthquake</td>\n",
       "      <td>1030010072469D00</td>\n",
       "      <td>1024</td>\n",
       "      <td>1024</td>\n",
       "      <td>1024</td>\n",
       "      <td>1024</td>\n",
       "    </tr>\n",
       "    <tr>\n",
       "      <th>32267</th>\n",
       "      <td>building</td>\n",
       "      <td>no-damage</td>\n",
       "      <td>36dd81ff-523a-4e18-95ea-1dd6262957c5</td>\n",
       "      <td>POLYGON ((-99.16286788068211 19.29511129352733...</td>\n",
       "      <td>{'feature_type': 'building', 'subtype': 'no-da...</td>\n",
       "      <td>mexico-earthquake_00000126_post_disaster.png</td>\n",
       "      <td>WORLDVIEW02</td>\n",
       "      <td>WORLDVIEW02</td>\n",
       "      <td>2.650321</td>\n",
       "      <td>2017-09-20T17:46:11.000Z</td>\n",
       "      <td>...</td>\n",
       "      <td>148.53</td>\n",
       "      <td>68.674</td>\n",
       "      <td>105.50913</td>\n",
       "      <td>mexico-earthquake</td>\n",
       "      <td>earthquake</td>\n",
       "      <td>1030010072469D00</td>\n",
       "      <td>1024</td>\n",
       "      <td>1024</td>\n",
       "      <td>1024</td>\n",
       "      <td>1024</td>\n",
       "    </tr>\n",
       "  </tbody>\n",
       "</table>\n",
       "<p>32268 rows × 22 columns</p>\n",
       "</div>"
      ],
      "text/plain": [
       "      feature_type damage_level                                   uid  \\\n",
       "0         building    no-damage  28119d94-b86c-47aa-bf75-6c42a368ed0c   \n",
       "1         building    no-damage  50b3ec47-afef-441a-9145-330edfb641d9   \n",
       "2         building    no-damage  7c94a152-05cb-4d2e-9a99-e827e4538046   \n",
       "3         building    no-damage  37c80881-34c7-4970-8dfe-cd2bfd918034   \n",
       "4         building    no-damage  4b0a2020-ecf2-420e-8499-97df109b7e2c   \n",
       "...            ...          ...                                   ...   \n",
       "32263     building    no-damage  0ebd7459-a529-4ad1-829b-02730f8652f5   \n",
       "32264     building    no-damage  de92c7b4-281a-4034-a070-f37c16b9ab74   \n",
       "32265     building    no-damage  5ba086bd-dfbd-461d-a4f6-4582d204ad98   \n",
       "32266     building    no-damage  e8d53af5-d795-4b2d-9af3-1ad02e2de5df   \n",
       "32267     building    no-damage  36dd81ff-523a-4e18-95ea-1dd6262957c5   \n",
       "\n",
       "                                               wkt_lt_lg  \\\n",
       "0      POLYGON ((-99.15308685010807 19.25984242069931...   \n",
       "1      POLYGON ((-99.15304572138677 19.26399182582984...   \n",
       "2      POLYGON ((-99.15313713712854 19.26389313991497...   \n",
       "3      POLYGON ((-99.15362687007375 19.26403145735543...   \n",
       "4      POLYGON ((-99.15378920194375 19.26417265095659...   \n",
       "...                                                  ...   \n",
       "32263  POLYGON ((-99.1630583608366 19.29549340808691,...   \n",
       "32264  POLYGON ((-99.16308287462437 19.29529677867995...   \n",
       "32265  POLYGON ((-99.16268003907992 19.29555725941927...   \n",
       "32266  POLYGON ((-99.16251399311143 19.29559900916098...   \n",
       "32267  POLYGON ((-99.16286788068211 19.29511129352733...   \n",
       "\n",
       "                                                 lat_lng  \\\n",
       "0      {'feature_type': 'building', 'subtype': 'no-da...   \n",
       "1      {'feature_type': 'building', 'subtype': 'no-da...   \n",
       "2      {'feature_type': 'building', 'subtype': 'no-da...   \n",
       "3      {'feature_type': 'building', 'subtype': 'no-da...   \n",
       "4      {'feature_type': 'building', 'subtype': 'no-da...   \n",
       "...                                                  ...   \n",
       "32263  {'feature_type': 'building', 'subtype': 'no-da...   \n",
       "32264  {'feature_type': 'building', 'subtype': 'no-da...   \n",
       "32265  {'feature_type': 'building', 'subtype': 'no-da...   \n",
       "32266  {'feature_type': 'building', 'subtype': 'no-da...   \n",
       "32267  {'feature_type': 'building', 'subtype': 'no-da...   \n",
       "\n",
       "                                           img_name       sensor  \\\n",
       "0      mexico-earthquake_00000164_post_disaster.png  WORLDVIEW02   \n",
       "1      mexico-earthquake_00000164_post_disaster.png  WORLDVIEW02   \n",
       "2      mexico-earthquake_00000164_post_disaster.png  WORLDVIEW02   \n",
       "3      mexico-earthquake_00000164_post_disaster.png  WORLDVIEW02   \n",
       "4      mexico-earthquake_00000164_post_disaster.png  WORLDVIEW02   \n",
       "...                                             ...          ...   \n",
       "32263  mexico-earthquake_00000126_post_disaster.png  WORLDVIEW02   \n",
       "32264  mexico-earthquake_00000126_post_disaster.png  WORLDVIEW02   \n",
       "32265  mexico-earthquake_00000126_post_disaster.png  WORLDVIEW02   \n",
       "32266  mexico-earthquake_00000126_post_disaster.png  WORLDVIEW02   \n",
       "32267  mexico-earthquake_00000126_post_disaster.png  WORLDVIEW02   \n",
       "\n",
       "      provider_asset_type       gsd              capture_date  ...  \\\n",
       "0             WORLDVIEW02  2.650321  2017-09-20T17:46:11.000Z  ...   \n",
       "1             WORLDVIEW02  2.650321  2017-09-20T17:46:11.000Z  ...   \n",
       "2             WORLDVIEW02  2.650321  2017-09-20T17:46:11.000Z  ...   \n",
       "3             WORLDVIEW02  2.650321  2017-09-20T17:46:11.000Z  ...   \n",
       "4             WORLDVIEW02  2.650321  2017-09-20T17:46:11.000Z  ...   \n",
       "...                   ...       ...                       ...  ...   \n",
       "32263         WORLDVIEW02  2.650321  2017-09-20T17:46:11.000Z  ...   \n",
       "32264         WORLDVIEW02  2.650321  2017-09-20T17:46:11.000Z  ...   \n",
       "32265         WORLDVIEW02  2.650321  2017-09-20T17:46:11.000Z  ...   \n",
       "32266         WORLDVIEW02  2.650321  2017-09-20T17:46:11.000Z  ...   \n",
       "32267         WORLDVIEW02  2.650321  2017-09-20T17:46:11.000Z  ...   \n",
       "\n",
       "       sun_azimuth  sun_elevation  target_azimuth           disaster  \\\n",
       "0           148.53         68.674       105.50913  mexico-earthquake   \n",
       "1           148.53         68.674       105.50913  mexico-earthquake   \n",
       "2           148.53         68.674       105.50913  mexico-earthquake   \n",
       "3           148.53         68.674       105.50913  mexico-earthquake   \n",
       "4           148.53         68.674       105.50913  mexico-earthquake   \n",
       "...            ...            ...             ...                ...   \n",
       "32263       148.53         68.674       105.50913  mexico-earthquake   \n",
       "32264       148.53         68.674       105.50913  mexico-earthquake   \n",
       "32265       148.53         68.674       105.50913  mexico-earthquake   \n",
       "32266       148.53         68.674       105.50913  mexico-earthquake   \n",
       "32267       148.53         68.674       105.50913  mexico-earthquake   \n",
       "\n",
       "       disaster_type        catalog_id original_width original_heightwidth  \\\n",
       "0         earthquake  1030010072469D00           1024                 1024   \n",
       "1         earthquake  1030010072469D00           1024                 1024   \n",
       "2         earthquake  1030010072469D00           1024                 1024   \n",
       "3         earthquake  1030010072469D00           1024                 1024   \n",
       "4         earthquake  1030010072469D00           1024                 1024   \n",
       "...              ...               ...            ...                  ...   \n",
       "32263     earthquake  1030010072469D00           1024                 1024   \n",
       "32264     earthquake  1030010072469D00           1024                 1024   \n",
       "32265     earthquake  1030010072469D00           1024                 1024   \n",
       "32266     earthquake  1030010072469D00           1024                 1024   \n",
       "32267     earthquake  1030010072469D00           1024                 1024   \n",
       "\n",
       "       height  metadata_id  \n",
       "0        1024         1024  \n",
       "1        1024         1024  \n",
       "2        1024         1024  \n",
       "3        1024         1024  \n",
       "4        1024         1024  \n",
       "...       ...          ...  \n",
       "32263    1024         1024  \n",
       "32264    1024         1024  \n",
       "32265    1024         1024  \n",
       "32266    1024         1024  \n",
       "32267    1024         1024  \n",
       "\n",
       "[32268 rows x 22 columns]"
      ]
     },
     "execution_count": 139,
     "metadata": {},
     "output_type": "execute_result"
    }
   ],
   "source": [
    "df_f1"
   ]
  },
  {
   "cell_type": "code",
   "execution_count": 0,
   "metadata": {
    "application/vnd.databricks.v1+cell": {
     "cellMetadata": {},
     "inputWidgets": {},
     "nuid": "dc4e8655-ab46-487b-862b-b0fdac3f3b0f",
     "showTitle": false,
     "title": ""
    }
   },
   "outputs": [
    {
     "output_type": "execute_result",
     "data": {
      "text/html": [
       "<div>\n",
       "<style scoped>\n",
       "    .dataframe tbody tr th:only-of-type {\n",
       "        vertical-align: middle;\n",
       "    }\n",
       "\n",
       "    .dataframe tbody tr th {\n",
       "        vertical-align: top;\n",
       "    }\n",
       "\n",
       "    .dataframe thead th {\n",
       "        text-align: right;\n",
       "    }\n",
       "</style>\n",
       "<table border=\"1\" class=\"dataframe\">\n",
       "  <thead>\n",
       "    <tr style=\"text-align: right;\">\n",
       "      <th></th>\n",
       "      <th>feature_type</th>\n",
       "      <th>damage_level</th>\n",
       "      <th>uid</th>\n",
       "      <th>wkt_lt_lg</th>\n",
       "      <th>lat_lng</th>\n",
       "      <th>img_name</th>\n",
       "      <th>sensor</th>\n",
       "      <th>provider_asset_type</th>\n",
       "      <th>gsd</th>\n",
       "      <th>capture_date</th>\n",
       "      <th>...</th>\n",
       "      <th>target_azimuth</th>\n",
       "      <th>disaster</th>\n",
       "      <th>disaster_type</th>\n",
       "      <th>catalog_id</th>\n",
       "      <th>original_width</th>\n",
       "      <th>original_heightwidth</th>\n",
       "      <th>height</th>\n",
       "      <th>metadata_id</th>\n",
       "      <th>wkt</th>\n",
       "      <th>wkt_xy</th>\n",
       "    </tr>\n",
       "  </thead>\n",
       "  <tbody>\n",
       "    <tr>\n",
       "      <th>0</th>\n",
       "      <td>building</td>\n",
       "      <td>no-damage</td>\n",
       "      <td>28119d94-b86c-47aa-bf75-6c42a368ed0c</td>\n",
       "      <td>POLYGON ((-99.15308685010807 19.25984242069931...</td>\n",
       "      <td>{'feature_type': 'building', 'subtype': 'no-da...</td>\n",
       "      <td>mexico-earthquake_00000164_post_disaster.png</td>\n",
       "      <td>WORLDVIEW02</td>\n",
       "      <td>WORLDVIEW02</td>\n",
       "      <td>2.650321</td>\n",
       "      <td>2017-09-20T17:46:11.000Z</td>\n",
       "      <td>...</td>\n",
       "      <td>105.50913</td>\n",
       "      <td>mexico-earthquake</td>\n",
       "      <td>earthquake</td>\n",
       "      <td>1030010072469D00</td>\n",
       "      <td>1024</td>\n",
       "      <td>1024</td>\n",
       "      <td>1024</td>\n",
       "      <td>1024</td>\n",
       "      <td>POLYGON ((1013.214492098976 1022.976184481574,...</td>\n",
       "      <td>{'feature_type': 'building', 'subtype': 'no-da...</td>\n",
       "    </tr>\n",
       "    <tr>\n",
       "      <th>1</th>\n",
       "      <td>building</td>\n",
       "      <td>no-damage</td>\n",
       "      <td>50b3ec47-afef-441a-9145-330edfb641d9</td>\n",
       "      <td>POLYGON ((-99.15304572138677 19.26399182582984...</td>\n",
       "      <td>{'feature_type': 'building', 'subtype': 'no-da...</td>\n",
       "      <td>mexico-earthquake_00000164_post_disaster.png</td>\n",
       "      <td>WORLDVIEW02</td>\n",
       "      <td>WORLDVIEW02</td>\n",
       "      <td>2.650321</td>\n",
       "      <td>2017-09-20T17:46:11.000Z</td>\n",
       "      <td>...</td>\n",
       "      <td>105.50913</td>\n",
       "      <td>mexico-earthquake</td>\n",
       "      <td>earthquake</td>\n",
       "      <td>1030010072469D00</td>\n",
       "      <td>1024</td>\n",
       "      <td>1024</td>\n",
       "      <td>1024</td>\n",
       "      <td>1024</td>\n",
       "      <td>POLYGON ((1022.975832794109 74.78276414569109,...</td>\n",
       "      <td>{'feature_type': 'building', 'subtype': 'no-da...</td>\n",
       "    </tr>\n",
       "    <tr>\n",
       "      <th>2</th>\n",
       "      <td>building</td>\n",
       "      <td>no-damage</td>\n",
       "      <td>7c94a152-05cb-4d2e-9a99-e827e4538046</td>\n",
       "      <td>POLYGON ((-99.15313713712854 19.26389313991497...</td>\n",
       "      <td>{'feature_type': 'building', 'subtype': 'no-da...</td>\n",
       "      <td>mexico-earthquake_00000164_post_disaster.png</td>\n",
       "      <td>WORLDVIEW02</td>\n",
       "      <td>WORLDVIEW02</td>\n",
       "      <td>2.650321</td>\n",
       "      <td>2017-09-20T17:46:11.000Z</td>\n",
       "      <td>...</td>\n",
       "      <td>105.50913</td>\n",
       "      <td>mexico-earthquake</td>\n",
       "      <td>earthquake</td>\n",
       "      <td>1030010072469D00</td>\n",
       "      <td>1024</td>\n",
       "      <td>1024</td>\n",
       "      <td>1024</td>\n",
       "      <td>1024</td>\n",
       "      <td>POLYGON ((1003.117292562625 97.31649192069297,...</td>\n",
       "      <td>{'feature_type': 'building', 'subtype': 'no-da...</td>\n",
       "    </tr>\n",
       "    <tr>\n",
       "      <th>3</th>\n",
       "      <td>building</td>\n",
       "      <td>no-damage</td>\n",
       "      <td>37c80881-34c7-4970-8dfe-cd2bfd918034</td>\n",
       "      <td>POLYGON ((-99.15362687007375 19.26403145735543...</td>\n",
       "      <td>{'feature_type': 'building', 'subtype': 'no-da...</td>\n",
       "      <td>mexico-earthquake_00000164_post_disaster.png</td>\n",
       "      <td>WORLDVIEW02</td>\n",
       "      <td>WORLDVIEW02</td>\n",
       "      <td>2.650321</td>\n",
       "      <td>2017-09-20T17:46:11.000Z</td>\n",
       "      <td>...</td>\n",
       "      <td>105.50913</td>\n",
       "      <td>mexico-earthquake</td>\n",
       "      <td>earthquake</td>\n",
       "      <td>1030010072469D00</td>\n",
       "      <td>1024</td>\n",
       "      <td>1024</td>\n",
       "      <td>1024</td>\n",
       "      <td>1024</td>\n",
       "      <td>POLYGON ((896.8654319496612 65.61500846844616,...</td>\n",
       "      <td>{'feature_type': 'building', 'subtype': 'no-da...</td>\n",
       "    </tr>\n",
       "    <tr>\n",
       "      <th>4</th>\n",
       "      <td>building</td>\n",
       "      <td>no-damage</td>\n",
       "      <td>4b0a2020-ecf2-420e-8499-97df109b7e2c</td>\n",
       "      <td>POLYGON ((-99.15378920194375 19.26417265095659...</td>\n",
       "      <td>{'feature_type': 'building', 'subtype': 'no-da...</td>\n",
       "      <td>mexico-earthquake_00000164_post_disaster.png</td>\n",
       "      <td>WORLDVIEW02</td>\n",
       "      <td>WORLDVIEW02</td>\n",
       "      <td>2.650321</td>\n",
       "      <td>2017-09-20T17:46:11.000Z</td>\n",
       "      <td>...</td>\n",
       "      <td>105.50913</td>\n",
       "      <td>mexico-earthquake</td>\n",
       "      <td>earthquake</td>\n",
       "      <td>1030010072469D00</td>\n",
       "      <td>1024</td>\n",
       "      <td>1024</td>\n",
       "      <td>1024</td>\n",
       "      <td>1024</td>\n",
       "      <td>POLYGON ((861.6654414518277 33.31896470811938,...</td>\n",
       "      <td>{'feature_type': 'building', 'subtype': 'no-da...</td>\n",
       "    </tr>\n",
       "  </tbody>\n",
       "</table>\n",
       "<p>5 rows × 24 columns</p>\n",
       "</div>"
      ],
      "text/plain": [
       "  feature_type damage_level                                   uid  \\\n",
       "0     building    no-damage  28119d94-b86c-47aa-bf75-6c42a368ed0c   \n",
       "1     building    no-damage  50b3ec47-afef-441a-9145-330edfb641d9   \n",
       "2     building    no-damage  7c94a152-05cb-4d2e-9a99-e827e4538046   \n",
       "3     building    no-damage  37c80881-34c7-4970-8dfe-cd2bfd918034   \n",
       "4     building    no-damage  4b0a2020-ecf2-420e-8499-97df109b7e2c   \n",
       "\n",
       "                                           wkt_lt_lg  \\\n",
       "0  POLYGON ((-99.15308685010807 19.25984242069931...   \n",
       "1  POLYGON ((-99.15304572138677 19.26399182582984...   \n",
       "2  POLYGON ((-99.15313713712854 19.26389313991497...   \n",
       "3  POLYGON ((-99.15362687007375 19.26403145735543...   \n",
       "4  POLYGON ((-99.15378920194375 19.26417265095659...   \n",
       "\n",
       "                                             lat_lng  \\\n",
       "0  {'feature_type': 'building', 'subtype': 'no-da...   \n",
       "1  {'feature_type': 'building', 'subtype': 'no-da...   \n",
       "2  {'feature_type': 'building', 'subtype': 'no-da...   \n",
       "3  {'feature_type': 'building', 'subtype': 'no-da...   \n",
       "4  {'feature_type': 'building', 'subtype': 'no-da...   \n",
       "\n",
       "                                       img_name       sensor  \\\n",
       "0  mexico-earthquake_00000164_post_disaster.png  WORLDVIEW02   \n",
       "1  mexico-earthquake_00000164_post_disaster.png  WORLDVIEW02   \n",
       "2  mexico-earthquake_00000164_post_disaster.png  WORLDVIEW02   \n",
       "3  mexico-earthquake_00000164_post_disaster.png  WORLDVIEW02   \n",
       "4  mexico-earthquake_00000164_post_disaster.png  WORLDVIEW02   \n",
       "\n",
       "  provider_asset_type       gsd              capture_date  ...  \\\n",
       "0         WORLDVIEW02  2.650321  2017-09-20T17:46:11.000Z  ...   \n",
       "1         WORLDVIEW02  2.650321  2017-09-20T17:46:11.000Z  ...   \n",
       "2         WORLDVIEW02  2.650321  2017-09-20T17:46:11.000Z  ...   \n",
       "3         WORLDVIEW02  2.650321  2017-09-20T17:46:11.000Z  ...   \n",
       "4         WORLDVIEW02  2.650321  2017-09-20T17:46:11.000Z  ...   \n",
       "\n",
       "   target_azimuth           disaster  disaster_type        catalog_id  \\\n",
       "0       105.50913  mexico-earthquake     earthquake  1030010072469D00   \n",
       "1       105.50913  mexico-earthquake     earthquake  1030010072469D00   \n",
       "2       105.50913  mexico-earthquake     earthquake  1030010072469D00   \n",
       "3       105.50913  mexico-earthquake     earthquake  1030010072469D00   \n",
       "4       105.50913  mexico-earthquake     earthquake  1030010072469D00   \n",
       "\n",
       "   original_width original_heightwidth height metadata_id  \\\n",
       "0            1024                 1024   1024        1024   \n",
       "1            1024                 1024   1024        1024   \n",
       "2            1024                 1024   1024        1024   \n",
       "3            1024                 1024   1024        1024   \n",
       "4            1024                 1024   1024        1024   \n",
       "\n",
       "                                                 wkt  \\\n",
       "0  POLYGON ((1013.214492098976 1022.976184481574,...   \n",
       "1  POLYGON ((1022.975832794109 74.78276414569109,...   \n",
       "2  POLYGON ((1003.117292562625 97.31649192069297,...   \n",
       "3  POLYGON ((896.8654319496612 65.61500846844616,...   \n",
       "4  POLYGON ((861.6654414518277 33.31896470811938,...   \n",
       "\n",
       "                                              wkt_xy  \n",
       "0  {'feature_type': 'building', 'subtype': 'no-da...  \n",
       "1  {'feature_type': 'building', 'subtype': 'no-da...  \n",
       "2  {'feature_type': 'building', 'subtype': 'no-da...  \n",
       "3  {'feature_type': 'building', 'subtype': 'no-da...  \n",
       "4  {'feature_type': 'building', 'subtype': 'no-da...  \n",
       "\n",
       "[5 rows x 24 columns]"
      ]
     },
     "execution_count": 168,
     "metadata": {},
     "output_type": "execute_result"
    }
   ],
   "source": [
    "df_mexico1 = pd.merge(df_f1, df_f2, on='uid')\n",
    "\n",
    "df_mexico1.head()"
   ]
  },
  {
   "cell_type": "code",
   "execution_count": 0,
   "metadata": {
    "application/vnd.databricks.v1+cell": {
     "cellMetadata": {},
     "inputWidgets": {},
     "nuid": "b81e09b9-07de-448e-8124-862de4b546c8",
     "showTitle": false,
     "title": ""
    }
   },
   "outputs": [],
   "source": [
    "df_mexico1.to_csv('train_mexico_eq_blds_damage.csv', index=False)"
   ]
  },
  {
   "cell_type": "markdown",
   "metadata": {
    "application/vnd.databricks.v1+cell": {
     "cellMetadata": {},
     "inputWidgets": {},
     "nuid": "78e38896-83d9-47fd-9eeb-672a76301699",
     "showTitle": false,
     "title": ""
    }
   },
   "source": [
    "## Hurricane Florence - damage"
   ]
  },
  {
   "cell_type": "code",
   "execution_count": 0,
   "metadata": {
    "application/vnd.databricks.v1+cell": {
     "cellMetadata": {},
     "inputWidgets": {},
     "nuid": "5381632b-7d1d-4800-a565-5ccadc2630c3",
     "showTitle": false,
     "title": ""
    }
   },
   "outputs": [
    {
     "output_type": "stream",
     "name": "stdout",
     "output_type": "stream",
     "text": [
      "2.0916247\n"
     ]
    }
   ],
   "source": [
    "HC_FL_BASE_DIR: str = f\"{DATA_DIR}/xview_building_damage/hurricane/florence/post_disaster/\"\n",
    "convert_json_to_csv(HC_FL_BASE_DIR,\"huricane_florence\")    \n",
    "    "
   ]
  },
  {
   "cell_type": "code",
   "execution_count": 0,
   "metadata": {
    "application/vnd.databricks.v1+cell": {
     "cellMetadata": {},
     "inputWidgets": {},
     "nuid": "f4fce354-145e-4e08-a8f8-787975f1b093",
     "showTitle": false,
     "title": ""
    }
   },
   "outputs": [
    {
     "output_type": "stream",
     "name": "stderr",
     "output_type": "stream",
     "text": [
      "/var/folders/_n/997tnw7n3tdg9z81cr8j96dc0000gn/T/ipykernel_89436/2411827772.py:2: ParserWarning: Length of header or names does not match length of data. This leads to a loss of data with index_col=False.\n  df_f1=pd.read_csv(\"train_\"+output_name+\"_geo_details.csv\", index_col= False)\n"
     ]
    }
   ],
   "source": [
    "merge_geo_output_files(\"huricane_florence\")"
   ]
  },
  {
   "cell_type": "code",
   "execution_count": 0,
   "metadata": {
    "application/vnd.databricks.v1+cell": {
     "cellMetadata": {},
     "inputWidgets": {},
     "nuid": "7165fdbc-5beb-409c-90aa-f3e081767330",
     "showTitle": false,
     "title": ""
    }
   },
   "outputs": [
    {
     "output_type": "execute_result",
     "data": {
      "text/html": [
       "<div>\n",
       "<style scoped>\n",
       "    .dataframe tbody tr th:only-of-type {\n",
       "        vertical-align: middle;\n",
       "    }\n",
       "\n",
       "    .dataframe tbody tr th {\n",
       "        vertical-align: top;\n",
       "    }\n",
       "\n",
       "    .dataframe thead th {\n",
       "        text-align: right;\n",
       "    }\n",
       "</style>\n",
       "<table border=\"1\" class=\"dataframe\">\n",
       "  <thead>\n",
       "    <tr style=\"text-align: right;\">\n",
       "      <th></th>\n",
       "      <th>feature_type</th>\n",
       "      <th>damage_level</th>\n",
       "      <th>uid</th>\n",
       "      <th>wkt_lt_lg</th>\n",
       "      <th>lat_lng</th>\n",
       "      <th>img_name</th>\n",
       "      <th>sensor</th>\n",
       "      <th>provider_asset_type</th>\n",
       "      <th>gsd</th>\n",
       "      <th>capture_date</th>\n",
       "      <th>...</th>\n",
       "      <th>target_azimuth</th>\n",
       "      <th>disaster</th>\n",
       "      <th>disaster_type</th>\n",
       "      <th>catalog_id</th>\n",
       "      <th>original_width</th>\n",
       "      <th>original_heightwidth</th>\n",
       "      <th>height</th>\n",
       "      <th>metadata_id</th>\n",
       "      <th>wkt</th>\n",
       "      <th>wkt_xy</th>\n",
       "    </tr>\n",
       "  </thead>\n",
       "  <tbody>\n",
       "    <tr>\n",
       "      <th>0</th>\n",
       "      <td>building</td>\n",
       "      <td>minor-damage</td>\n",
       "      <td>61e6c19b-8adf-4f85-ab44-048b53395143</td>\n",
       "      <td>POLYGON ((-77.90764031921604 34.8103647423034,...</td>\n",
       "      <td>{'feature_type': 'building', 'subtype': 'minor...</td>\n",
       "      <td>hurricane-florence_00000538_post_disaster.png</td>\n",
       "      <td>GEOEYE01</td>\n",
       "      <td>GEOEYE01</td>\n",
       "      <td>2.091625</td>\n",
       "      <td>2018-09-20T16:04:41.000Z</td>\n",
       "      <td>...</td>\n",
       "      <td>190.82309</td>\n",
       "      <td>hurricane-florence</td>\n",
       "      <td>flooding</td>\n",
       "      <td>1050010012411600</td>\n",
       "      <td>1024</td>\n",
       "      <td>1024</td>\n",
       "      <td>1024</td>\n",
       "      <td>1024</td>\n",
       "      <td>POLYGON ((92.99243866758681 826.8137930208385,...</td>\n",
       "      <td>{'feature_type': 'building', 'subtype': 'minor...</td>\n",
       "    </tr>\n",
       "    <tr>\n",
       "      <th>1</th>\n",
       "      <td>building</td>\n",
       "      <td>un-classified</td>\n",
       "      <td>bf2b217e-2c69-454e-af1d-2abe6265e3cd</td>\n",
       "      <td>POLYGON ((-77.90808191579313 34.80973024327165...</td>\n",
       "      <td>{'feature_type': 'building', 'subtype': 'un-cl...</td>\n",
       "      <td>hurricane-florence_00000538_post_disaster.png</td>\n",
       "      <td>GEOEYE01</td>\n",
       "      <td>GEOEYE01</td>\n",
       "      <td>2.091625</td>\n",
       "      <td>2018-09-20T16:04:41.000Z</td>\n",
       "      <td>...</td>\n",
       "      <td>190.82309</td>\n",
       "      <td>hurricane-florence</td>\n",
       "      <td>flooding</td>\n",
       "      <td>1050010012411600</td>\n",
       "      <td>1024</td>\n",
       "      <td>1024</td>\n",
       "      <td>1024</td>\n",
       "      <td>1024</td>\n",
       "      <td>POLYGON ((-8.769107114089246e-06 978.457033399...</td>\n",
       "      <td>{'feature_type': 'building', 'subtype': 'un-cl...</td>\n",
       "    </tr>\n",
       "    <tr>\n",
       "      <th>2</th>\n",
       "      <td>building</td>\n",
       "      <td>un-classified</td>\n",
       "      <td>debd9427-5951-4882-9757-046aee1652de</td>\n",
       "      <td>POLYGON ((-77.90599617852514 34.81234820561588...</td>\n",
       "      <td>{'feature_type': 'building', 'subtype': 'un-cl...</td>\n",
       "      <td>hurricane-florence_00000538_post_disaster.png</td>\n",
       "      <td>GEOEYE01</td>\n",
       "      <td>GEOEYE01</td>\n",
       "      <td>2.091625</td>\n",
       "      <td>2018-09-20T16:04:41.000Z</td>\n",
       "      <td>...</td>\n",
       "      <td>190.82309</td>\n",
       "      <td>hurricane-florence</td>\n",
       "      <td>flooding</td>\n",
       "      <td>1050010012411600</td>\n",
       "      <td>1024</td>\n",
       "      <td>1024</td>\n",
       "      <td>1024</td>\n",
       "      <td>1024</td>\n",
       "      <td>POLYGON ((436.5393400504175 354.3019833824924,...</td>\n",
       "      <td>{'feature_type': 'building', 'subtype': 'un-cl...</td>\n",
       "    </tr>\n",
       "    <tr>\n",
       "      <th>3</th>\n",
       "      <td>building</td>\n",
       "      <td>major-damage</td>\n",
       "      <td>339288fc-f2ac-47e0-917a-4e4c2b882ad0</td>\n",
       "      <td>POLYGON ((-77.93204432743376 34.7115455171975,...</td>\n",
       "      <td>{'feature_type': 'building', 'subtype': 'major...</td>\n",
       "      <td>hurricane-florence_00000252_post_disaster.png</td>\n",
       "      <td>GEOEYE01</td>\n",
       "      <td>GEOEYE01</td>\n",
       "      <td>2.091625</td>\n",
       "      <td>2018-09-20T16:04:41.000Z</td>\n",
       "      <td>...</td>\n",
       "      <td>190.82309</td>\n",
       "      <td>hurricane-florence</td>\n",
       "      <td>flooding</td>\n",
       "      <td>1050010012411600</td>\n",
       "      <td>1024</td>\n",
       "      <td>1024</td>\n",
       "      <td>1024</td>\n",
       "      <td>1024</td>\n",
       "      <td>POLYGON ((872.3163285131064 409.5181644413699,...</td>\n",
       "      <td>{'feature_type': 'building', 'subtype': 'major...</td>\n",
       "    </tr>\n",
       "    <tr>\n",
       "      <th>4</th>\n",
       "      <td>building</td>\n",
       "      <td>un-classified</td>\n",
       "      <td>3bd12171-3421-4727-aa3d-612f278c7ac0</td>\n",
       "      <td>POLYGON ((-78.95302080681131 33.65446865832116...</td>\n",
       "      <td>{'feature_type': 'building', 'subtype': 'un-cl...</td>\n",
       "      <td>hurricane-florence_00000028_post_disaster.png</td>\n",
       "      <td>GEOEYE01</td>\n",
       "      <td>GEOEYE01</td>\n",
       "      <td>2.895928</td>\n",
       "      <td>2018-09-18T16:32:47.000Z</td>\n",
       "      <td>...</td>\n",
       "      <td>69.02214</td>\n",
       "      <td>hurricane-florence</td>\n",
       "      <td>flooding</td>\n",
       "      <td>10500100123A5000</td>\n",
       "      <td>1024</td>\n",
       "      <td>1024</td>\n",
       "      <td>1024</td>\n",
       "      <td>1024</td>\n",
       "      <td>POLYGON ((3.87645987039575 932.0996923560847, ...</td>\n",
       "      <td>{'feature_type': 'building', 'subtype': 'un-cl...</td>\n",
       "    </tr>\n",
       "  </tbody>\n",
       "</table>\n",
       "<p>5 rows × 24 columns</p>\n",
       "</div>"
      ],
      "text/plain": [
       "  feature_type   damage_level                                   uid  \\\n",
       "0     building   minor-damage  61e6c19b-8adf-4f85-ab44-048b53395143   \n",
       "1     building  un-classified  bf2b217e-2c69-454e-af1d-2abe6265e3cd   \n",
       "2     building  un-classified  debd9427-5951-4882-9757-046aee1652de   \n",
       "3     building   major-damage  339288fc-f2ac-47e0-917a-4e4c2b882ad0   \n",
       "4     building  un-classified  3bd12171-3421-4727-aa3d-612f278c7ac0   \n",
       "\n",
       "                                           wkt_lt_lg  \\\n",
       "0  POLYGON ((-77.90764031921604 34.8103647423034,...   \n",
       "1  POLYGON ((-77.90808191579313 34.80973024327165...   \n",
       "2  POLYGON ((-77.90599617852514 34.81234820561588...   \n",
       "3  POLYGON ((-77.93204432743376 34.7115455171975,...   \n",
       "4  POLYGON ((-78.95302080681131 33.65446865832116...   \n",
       "\n",
       "                                             lat_lng  \\\n",
       "0  {'feature_type': 'building', 'subtype': 'minor...   \n",
       "1  {'feature_type': 'building', 'subtype': 'un-cl...   \n",
       "2  {'feature_type': 'building', 'subtype': 'un-cl...   \n",
       "3  {'feature_type': 'building', 'subtype': 'major...   \n",
       "4  {'feature_type': 'building', 'subtype': 'un-cl...   \n",
       "\n",
       "                                        img_name    sensor  \\\n",
       "0  hurricane-florence_00000538_post_disaster.png  GEOEYE01   \n",
       "1  hurricane-florence_00000538_post_disaster.png  GEOEYE01   \n",
       "2  hurricane-florence_00000538_post_disaster.png  GEOEYE01   \n",
       "3  hurricane-florence_00000252_post_disaster.png  GEOEYE01   \n",
       "4  hurricane-florence_00000028_post_disaster.png  GEOEYE01   \n",
       "\n",
       "  provider_asset_type       gsd              capture_date  ...  \\\n",
       "0            GEOEYE01  2.091625  2018-09-20T16:04:41.000Z  ...   \n",
       "1            GEOEYE01  2.091625  2018-09-20T16:04:41.000Z  ...   \n",
       "2            GEOEYE01  2.091625  2018-09-20T16:04:41.000Z  ...   \n",
       "3            GEOEYE01  2.091625  2018-09-20T16:04:41.000Z  ...   \n",
       "4            GEOEYE01  2.895928  2018-09-18T16:32:47.000Z  ...   \n",
       "\n",
       "   target_azimuth            disaster  disaster_type        catalog_id  \\\n",
       "0       190.82309  hurricane-florence       flooding  1050010012411600   \n",
       "1       190.82309  hurricane-florence       flooding  1050010012411600   \n",
       "2       190.82309  hurricane-florence       flooding  1050010012411600   \n",
       "3       190.82309  hurricane-florence       flooding  1050010012411600   \n",
       "4        69.02214  hurricane-florence       flooding  10500100123A5000   \n",
       "\n",
       "   original_width original_heightwidth height metadata_id  \\\n",
       "0            1024                 1024   1024        1024   \n",
       "1            1024                 1024   1024        1024   \n",
       "2            1024                 1024   1024        1024   \n",
       "3            1024                 1024   1024        1024   \n",
       "4            1024                 1024   1024        1024   \n",
       "\n",
       "                                                 wkt  \\\n",
       "0  POLYGON ((92.99243866758681 826.8137930208385,...   \n",
       "1  POLYGON ((-8.769107114089246e-06 978.457033399...   \n",
       "2  POLYGON ((436.5393400504175 354.3019833824924,...   \n",
       "3  POLYGON ((872.3163285131064 409.5181644413699,...   \n",
       "4  POLYGON ((3.87645987039575 932.0996923560847, ...   \n",
       "\n",
       "                                              wkt_xy  \n",
       "0  {'feature_type': 'building', 'subtype': 'minor...  \n",
       "1  {'feature_type': 'building', 'subtype': 'un-cl...  \n",
       "2  {'feature_type': 'building', 'subtype': 'un-cl...  \n",
       "3  {'feature_type': 'building', 'subtype': 'major...  \n",
       "4  {'feature_type': 'building', 'subtype': 'un-cl...  \n",
       "\n",
       "[5 rows x 24 columns]"
      ]
     },
     "execution_count": 156,
     "metadata": {},
     "output_type": "execute_result"
    }
   ],
   "source": [
    "pd.read_csv('train_huricane_florence.csv').head()"
   ]
  },
  {
   "cell_type": "markdown",
   "metadata": {
    "application/vnd.databricks.v1+cell": {
     "cellMetadata": {},
     "inputWidgets": {},
     "nuid": "0b806228-fb25-49a1-b7dc-366f06a708dd",
     "showTitle": false,
     "title": ""
    }
   },
   "source": [
    "## Hurricane Harvey - damage"
   ]
  },
  {
   "cell_type": "code",
   "execution_count": 0,
   "metadata": {
    "application/vnd.databricks.v1+cell": {
     "cellMetadata": {},
     "inputWidgets": {},
     "nuid": "095b3167-f10b-4f1c-9d28-7763ca4cd3cd",
     "showTitle": false,
     "title": ""
    }
   },
   "outputs": [
    {
     "output_type": "stream",
     "name": "stdout",
     "output_type": "stream",
     "text": [
      "3.024613\n"
     ]
    },
    {
     "output_type": "stream",
     "name": "stderr",
     "output_type": "stream",
     "text": [
      "/var/folders/_n/997tnw7n3tdg9z81cr8j96dc0000gn/T/ipykernel_89436/2411827772.py:2: ParserWarning: Length of header or names does not match length of data. This leads to a loss of data with index_col=False.\n  df_f1=pd.read_csv(\"train_\"+output_name+\"_geo_details.csv\", index_col= False)\n"
     ]
    }
   ],
   "source": [
    "HC_FL_BASE_DIR: str = f\"{DATA_DIR}/xview_building_damage/hurricane/harvey/post_disaster/\"\n",
    "convert_json_to_csv(HC_FL_BASE_DIR,\"huricane_harvey\")   \n",
    "merge_geo_output_files(\"huricane_harvey\")"
   ]
  },
  {
   "cell_type": "markdown",
   "metadata": {
    "application/vnd.databricks.v1+cell": {
     "cellMetadata": {},
     "inputWidgets": {},
     "nuid": "537a6273-b40f-4917-9df0-bd0e95b8d941",
     "showTitle": false,
     "title": ""
    }
   },
   "source": [
    "## Hurricane Matthew - damage"
   ]
  },
  {
   "cell_type": "code",
   "execution_count": 0,
   "metadata": {
    "application/vnd.databricks.v1+cell": {
     "cellMetadata": {},
     "inputWidgets": {},
     "nuid": "e56c3711-ab1f-437f-aee7-7c8fb4d5ab5e",
     "showTitle": false,
     "title": ""
    }
   },
   "outputs": [
    {
     "output_type": "stream",
     "name": "stdout",
     "output_type": "stream",
     "text": [
      "2.37887692\n"
     ]
    },
    {
     "output_type": "stream",
     "name": "stderr",
     "output_type": "stream",
     "text": [
      "/var/folders/_n/997tnw7n3tdg9z81cr8j96dc0000gn/T/ipykernel_89436/2411827772.py:2: ParserWarning: Length of header or names does not match length of data. This leads to a loss of data with index_col=False.\n  df_f1=pd.read_csv(\"train_\"+output_name+\"_geo_details.csv\", index_col= False)\n"
     ]
    }
   ],
   "source": [
    "HC_MW_BASE_DIR: str = f\"{DATA_DIR}/xview_building_damage/hurricane/matthew/post_disaster/\"\n",
    "convert_json_to_csv(HC_MW_BASE_DIR,\"huricane_matthew\")   \n",
    "merge_geo_output_files(\"huricane_matthew\")"
   ]
  },
  {
   "cell_type": "markdown",
   "metadata": {
    "application/vnd.databricks.v1+cell": {
     "cellMetadata": {},
     "inputWidgets": {},
     "nuid": "e6e39ee5-6930-4c28-9922-fa284b3e0f53",
     "showTitle": false,
     "title": ""
    }
   },
   "source": [
    "## Guatemala Volcano - damage"
   ]
  },
  {
   "cell_type": "code",
   "execution_count": 0,
   "metadata": {
    "application/vnd.databricks.v1+cell": {
     "cellMetadata": {},
     "inputWidgets": {},
     "nuid": "73a947c3-054c-4220-b97e-0d9b7ef0c364",
     "showTitle": false,
     "title": ""
    },
    "scrolled": true
   },
   "outputs": [
    {
     "output_type": "stream",
     "name": "stdout",
     "output_type": "stream",
     "text": [
      "1.4085245\n"
     ]
    },
    {
     "output_type": "stream",
     "name": "stderr",
     "output_type": "stream",
     "text": [
      "/var/folders/_n/997tnw7n3tdg9z81cr8j96dc0000gn/T/ipykernel_27676/2411827772.py:2: ParserWarning: Length of header or names does not match length of data. This leads to a loss of data with index_col=False.\n  df_f1=pd.read_csv(\"train_\"+output_name+\"_geo_details.csv\", index_col= False)\n"
     ]
    }
   ],
   "source": [
    "HC_FL_BASE_DIR: str = f\"{DATA_DIR}/xview_building_damage/raw/guatemala/post_disaster/\"\n",
    "convert_json_to_csv(HC_FL_BASE_DIR,\"volcano_guatemala\")   \n",
    "merge_geo_output_files(\"volcano_guatemala\")"
   ]
  },
  {
   "cell_type": "markdown",
   "metadata": {
    "application/vnd.databricks.v1+cell": {
     "cellMetadata": {},
     "inputWidgets": {},
     "nuid": "3b05ad1d-8808-49f3-836e-81112e9a1b7d",
     "showTitle": false,
     "title": ""
    }
   },
   "source": [
    "## Huricane Micheal - damage"
   ]
  },
  {
   "cell_type": "code",
   "execution_count": 0,
   "metadata": {
    "application/vnd.databricks.v1+cell": {
     "cellMetadata": {},
     "inputWidgets": {},
     "nuid": "9996acdd-1bc7-48b5-9c7e-d2cf95b80f07",
     "showTitle": false,
     "title": ""
    },
    "scrolled": true
   },
   "outputs": [
    {
     "output_type": "stream",
     "name": "stdout",
     "output_type": "stream",
     "text": [
      "2.0711906\n"
     ]
    },
    {
     "output_type": "stream",
     "name": "stderr",
     "output_type": "stream",
     "text": [
      "/var/folders/_n/997tnw7n3tdg9z81cr8j96dc0000gn/T/ipykernel_27676/2411827772.py:2: ParserWarning: Length of header or names does not match length of data. This leads to a loss of data with index_col=False.\n  df_f1=pd.read_csv(\"train_\"+output_name+\"_geo_details.csv\", index_col= False)\n"
     ]
    }
   ],
   "source": [
    "HC_FL_BASE_DIR: str = f\"{DATA_DIR}/xview_building_damage/raw/micheal/pre_post_disaster/\"\n",
    "convert_json_to_csv(HC_FL_BASE_DIR,\"hurricane_micheal\")   \n",
    "merge_geo_output_files(\"hurricane_micheal\")"
   ]
  },
  {
   "cell_type": "markdown",
   "metadata": {
    "application/vnd.databricks.v1+cell": {
     "cellMetadata": {},
     "inputWidgets": {},
     "nuid": "63d9e589-f5b9-4dd9-a092-37bfc8173f57",
     "showTitle": false,
     "title": ""
    }
   },
   "source": [
    "## Midwest Flooding - damage"
   ]
  },
  {
   "cell_type": "code",
   "execution_count": 0,
   "metadata": {
    "application/vnd.databricks.v1+cell": {
     "cellMetadata": {},
     "inputWidgets": {},
     "nuid": "641bea71-bbd7-4195-be2f-9c653c4afd4f",
     "showTitle": false,
     "title": ""
    }
   },
   "outputs": [
    {
     "output_type": "stream",
     "name": "stdout",
     "output_type": "stream",
     "text": [
      "1.2524601\n"
     ]
    },
    {
     "output_type": "stream",
     "name": "stderr",
     "output_type": "stream",
     "text": [
      "/var/folders/_n/997tnw7n3tdg9z81cr8j96dc0000gn/T/ipykernel_27676/2411827772.py:2: ParserWarning: Length of header or names does not match length of data. This leads to a loss of data with index_col=False.\n  df_f1=pd.read_csv(\"train_\"+output_name+\"_geo_details.csv\", index_col= False)\n"
     ]
    }
   ],
   "source": [
    "## Guatemala Volcano - damage\n",
    "\n",
    "HC_FL_BASE_DIR: str = f\"{DATA_DIR}/xview_building_damage/raw/midwest_flooding/\"\n",
    "convert_json_to_csv(HC_FL_BASE_DIR,\"midwest_flooding\")   \n",
    "merge_geo_output_files(\"midwest_flooding\")"
   ]
  },
  {
   "cell_type": "markdown",
   "metadata": {
    "application/vnd.databricks.v1+cell": {
     "cellMetadata": {},
     "inputWidgets": {},
     "nuid": "e4afd842-4986-4937-9b24-3709c1ddcc5d",
     "showTitle": false,
     "title": ""
    }
   },
   "source": [
    "## Palu Tsunami - damage"
   ]
  },
  {
   "cell_type": "code",
   "execution_count": 0,
   "metadata": {
    "application/vnd.databricks.v1+cell": {
     "cellMetadata": {},
     "inputWidgets": {},
     "nuid": "872f0ea3-50e1-471e-8959-0504ceaee622",
     "showTitle": false,
     "title": ""
    }
   },
   "outputs": [
    {
     "output_type": "stream",
     "name": "stdout",
     "output_type": "stream",
     "text": [
      "2.8247435\n"
     ]
    },
    {
     "output_type": "stream",
     "name": "stderr",
     "output_type": "stream",
     "text": [
      "/var/folders/_n/997tnw7n3tdg9z81cr8j96dc0000gn/T/ipykernel_27676/2411827772.py:2: ParserWarning: Length of header or names does not match length of data. This leads to a loss of data with index_col=False.\n  df_f1=pd.read_csv(\"train_\"+output_name+\"_geo_details.csv\", index_col= False)\n"
     ]
    }
   ],
   "source": [
    "\n",
    "HC_FL_BASE_DIR: str = f\"{DATA_DIR}/xview_building_damage/raw/palu-tsunami/\"\n",
    "convert_json_to_csv(HC_FL_BASE_DIR,\"palu_tsunami\")   \n",
    "merge_geo_output_files(\"palu_tsunami\")"
   ]
  },
  {
   "cell_type": "markdown",
   "metadata": {
    "application/vnd.databricks.v1+cell": {
     "cellMetadata": {},
     "inputWidgets": {},
     "nuid": "acbc3bf0-7e93-4a4c-805d-e16555e5f946",
     "showTitle": false,
     "title": ""
    }
   },
   "source": [
    "## Santa Rosa Wildfire - damage"
   ]
  },
  {
   "cell_type": "code",
   "execution_count": 0,
   "metadata": {
    "application/vnd.databricks.v1+cell": {
     "cellMetadata": {},
     "inputWidgets": {},
     "nuid": "368976a3-d56d-4af6-ab47-ed6976c51060",
     "showTitle": false,
     "title": ""
    }
   },
   "outputs": [
    {
     "output_type": "stream",
     "name": "stdout",
     "output_type": "stream",
     "text": [
      "1.8769937\n"
     ]
    },
    {
     "output_type": "stream",
     "name": "stderr",
     "output_type": "stream",
     "text": [
      "/var/folders/_n/997tnw7n3tdg9z81cr8j96dc0000gn/T/ipykernel_27676/2411827772.py:2: ParserWarning: Length of header or names does not match length of data. This leads to a loss of data with index_col=False.\n  df_f1=pd.read_csv(\"train_\"+output_name+\"_geo_details.csv\", index_col= False)\n"
     ]
    }
   ],
   "source": [
    "\n",
    "HC_FL_BASE_DIR: str = f\"{DATA_DIR}/xview_building_damage/raw/santa_rosa_wildfire/\"\n",
    "convert_json_to_csv(HC_FL_BASE_DIR,\"santa_rosa_wildfire\")   \n",
    "merge_geo_output_files(\"santa_rosa_wildfire\")"
   ]
  },
  {
   "cell_type": "markdown",
   "metadata": {
    "application/vnd.databricks.v1+cell": {
     "cellMetadata": {},
     "inputWidgets": {},
     "nuid": "5969fbd4-1229-45eb-adf4-d7fc4331068b",
     "showTitle": false,
     "title": ""
    }
   },
   "source": [
    "## Socal fire - damage"
   ]
  },
  {
   "cell_type": "code",
   "execution_count": 0,
   "metadata": {
    "application/vnd.databricks.v1+cell": {
     "cellMetadata": {},
     "inputWidgets": {},
     "nuid": "4a796527-78ba-4962-8328-6d6ca30ed030",
     "showTitle": false,
     "title": ""
    }
   },
   "outputs": [
    {
     "output_type": "stream",
     "name": "stdout",
     "output_type": "stream",
     "text": [
      "2.5700748\n"
     ]
    },
    {
     "output_type": "stream",
     "name": "stderr",
     "output_type": "stream",
     "text": [
      "/var/folders/_n/997tnw7n3tdg9z81cr8j96dc0000gn/T/ipykernel_27676/2411827772.py:2: ParserWarning: Length of header or names does not match length of data. This leads to a loss of data with index_col=False.\n  df_f1=pd.read_csv(\"train_\"+output_name+\"_geo_details.csv\", index_col= False)\n"
     ]
    }
   ],
   "source": [
    "\n",
    "HC_FL_BASE_DIR: str = f\"{DATA_DIR}/xview_building_damage/raw/socal-fire/\"\n",
    "convert_json_to_csv(HC_FL_BASE_DIR,\"socal-fire\")   \n",
    "merge_geo_output_files(\"socal-fire\")"
   ]
  },
  {
   "cell_type": "code",
   "execution_count": 0,
   "metadata": {
    "application/vnd.databricks.v1+cell": {
     "cellMetadata": {},
     "inputWidgets": {},
     "nuid": "9fdcaa2f-47cb-4adb-a4c3-fc942a7ebb0d",
     "showTitle": false,
     "title": ""
    }
   },
   "outputs": [],
   "source": []
  }
 ],
 "metadata": {
  "application/vnd.databricks.v1+notebook": {
   "dashboards": [],
   "language": "python",
   "notebookMetadata": {
    "pythonIndentUnit": 4
   },
   "notebookName": "DataPreparation",
   "widgets": {}
  },
  "kernelspec": {
   "display_name": "Python 3 (ipykernel)",
   "language": "python",
   "name": "python3"
  },
  "language_info": {
   "codemirror_mode": {
    "name": "ipython",
    "version": 3
   },
   "file_extension": ".py",
   "mimetype": "text/x-python",
   "name": "python",
   "nbconvert_exporter": "python",
   "pygments_lexer": "ipython3",
   "version": "3.11.5"
  }
 },
 "nbformat": 4,
 "nbformat_minor": 0
}
