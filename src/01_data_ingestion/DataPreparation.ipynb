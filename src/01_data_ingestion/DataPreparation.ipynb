{
 "cells": [
  {
   "cell_type": "code",
   "execution_count": 0,
   "metadata": {
    "application/vnd.databricks.v1+cell": {
     "cellMetadata": {
      "byteLimit": 2048000,
      "rowLimit": 10000
     },
     "inputWidgets": {},
     "nuid": "f327ac13-6923-4e1a-bded-b54b4eb8f817",
     "showTitle": true,
     "title": "Imports"
    }
   },
   "outputs": [],
   "source": [
    "import json\n",
    "import os\n",
    "import csv\n",
    "from typing import Callable\n",
    "\n",
    "import pandas as pd\n",
    "import requests\n",
    "from pyprojroot import here"
   ]
  },
  {
   "cell_type": "code",
   "execution_count": 0,
   "metadata": {
    "application/vnd.databricks.v1+cell": {
     "cellMetadata": {
      "byteLimit": 2048000,
      "rowLimit": 10000
     },
     "inputWidgets": {},
     "nuid": "122791a3-c5f2-4613-9984-0671058a346e",
     "showTitle": false,
     "title": ""
    }
   },
   "outputs": [],
   "source": [
    "current_working_directory: str = os.getcwd()\n",
    "project_dir: str = str(here())\n",
    "DATA_DIR: str = project_dir + \"/data\"\n",
    "\n",
    "print(f\"{current_working_directory=}\")\n",
    "print(f\"{project_dir=}\")\n",
    "print(f\"{DATA_DIR=}\")"
   ]
  },
  {
   "cell_type": "markdown",
   "metadata": {
    "application/vnd.databricks.v1+cell": {
     "cellMetadata": {},
     "inputWidgets": {},
     "nuid": "8346dc54-0563-43ef-b97a-3bcb0cb847ae",
     "showTitle": false,
     "title": ""
    }
   },
   "source": [
    "### Buildging Damage Helper Functions"
   ]
  },
  {
   "cell_type": "code",
   "execution_count": 0,
   "metadata": {
    "application/vnd.databricks.v1+cell": {
     "cellMetadata": {},
     "inputWidgets": {},
     "nuid": "7975404f-65d9-4048-9e80-df95a1b679e2",
     "showTitle": false,
     "title": ""
    }
   },
   "outputs": [],
   "source": [
    "def convert_json_to_csv(path, output_name):\n",
    "    json_files = [\n",
    "        pos_json\n",
    "        for pos_json in os.listdir(path)\n",
    "        if pos_json.endswith(\"post_disaster.json\")\n",
    "    ]\n",
    "\n",
    "    count = 0\n",
    "    count1 = 0\n",
    "    for index, js in enumerate(json_files):\n",
    "        with open(os.path.join(path, js)) as json_file:\n",
    "            data_mx_eq = json.load(json_file)\n",
    "        features = data_mx_eq[\"features\"]\n",
    "\n",
    "        data_file = open(\"train_\" + output_name + \"_geo_details.csv\", \"a\")\n",
    "        csv_writer = csv.writer(data_file)\n",
    "\n",
    "        data_file1 = open(\"train_\" + output_name + \"_geo_xy_details.csv\", \"a\")\n",
    "        csv_writer1 = csv.writer(data_file1)\n",
    "\n",
    "        for lng_lat in features[\"lng_lat\"]:\n",
    "\n",
    "            if count == 0:\n",
    "                header = [\n",
    "                    \"feature_type\",\n",
    "                    \"damage_level\",\n",
    "                    \"uid\",\n",
    "                    \"wkt_lt_lg\",\n",
    "                    \"lat_lng\",\n",
    "                    \"img_name\",\n",
    "                    \"sensor\",\n",
    "                    \"provider_asset_type\",\n",
    "                    \"gsd\",\n",
    "                    \"capture_date\",\n",
    "                    \"off_nadir_angle\",\n",
    "                    \"pan_resolution\",\n",
    "                    \"sun_azimuth\",\n",
    "                    \"sun_elevation\",\n",
    "                    \"target_azimuth\",\n",
    "                    \"disaster\",\n",
    "                    \"disaster_type\",\n",
    "                    \"catalog_id\",\n",
    "                    \"original_width\",\n",
    "                    \"original_height\" \"width\",\n",
    "                    \"height\",\n",
    "                    \"metadata_id\",\n",
    "                ]\n",
    "                csv_writer.writerow(header)\n",
    "                print(data_mx_eq[\"metadata\"][\"gsd\"])\n",
    "                # print(lng_lat['properties']['feature_type'])\n",
    "                count += 1\n",
    "\n",
    "            csv_writer.writerow(\n",
    "                [\n",
    "                    lng_lat[\"properties\"][\"feature_type\"],\n",
    "                    lng_lat[\"properties\"][\"subtype\"],\n",
    "                    lng_lat[\"properties\"][\"uid\"],\n",
    "                    lng_lat[\"wkt\"],\n",
    "                    lng_lat[\"properties\"],\n",
    "                    data_mx_eq[\"metadata\"][\"img_name\"],\n",
    "                    data_mx_eq[\"metadata\"][\"sensor\"],\n",
    "                    data_mx_eq[\"metadata\"][\"provider_asset_type\"],\n",
    "                    str(data_mx_eq[\"metadata\"][\"gsd\"]),\n",
    "                    data_mx_eq[\"metadata\"][\"capture_date\"],\n",
    "                    str(data_mx_eq[\"metadata\"][\"off_nadir_angle\"]),\n",
    "                    str(data_mx_eq[\"metadata\"][\"pan_resolution\"]),\n",
    "                    str(data_mx_eq[\"metadata\"][\"sun_azimuth\"]),\n",
    "                    str(data_mx_eq[\"metadata\"][\"sun_elevation\"]),\n",
    "                    str(data_mx_eq[\"metadata\"][\"target_azimuth\"]),\n",
    "                    data_mx_eq[\"metadata\"][\"disaster\"],\n",
    "                    data_mx_eq[\"metadata\"][\"disaster_type\"],\n",
    "                    data_mx_eq[\"metadata\"][\"catalog_id\"],\n",
    "                    str(data_mx_eq[\"metadata\"][\"original_width\"]),\n",
    "                    str(data_mx_eq[\"metadata\"][\"original_height\"]),\n",
    "                    str(data_mx_eq[\"metadata\"][\"width\"]),\n",
    "                    str(data_mx_eq[\"metadata\"][\"height\"]),\n",
    "                    data_mx_eq[\"metadata\"][\"id\"],\n",
    "                ]\n",
    "            )\n",
    "\n",
    "        for xy in features[\"xy\"]:\n",
    "            if count1 == 0:\n",
    "                # print(xy['properties']['feature_type'])\n",
    "                header1 = [\"uid\", \"wkt\", \"wkt_xy\"]\n",
    "                csv_writer1.writerow(header1)\n",
    "                count1 += 1\n",
    "\n",
    "            csv_writer1.writerow([xy[\"properties\"][\"uid\"], xy[\"wkt\"], xy[\"properties\"]])"
   ]
  },
  {
   "cell_type": "code",
   "execution_count": 0,
   "metadata": {
    "application/vnd.databricks.v1+cell": {
     "cellMetadata": {},
     "inputWidgets": {},
     "nuid": "2fda9c5b-e642-4bf1-b89e-0637d94ec896",
     "showTitle": false,
     "title": ""
    }
   },
   "outputs": [],
   "source": [
    "def merge_geo_output_files(output_name):    \n",
    "        df_f1=pd.read_csv(\"train_\"+output_name+\"_geo_details.csv\", index_col= False)\n",
    "        df_f2=pd.read_csv(\"train_\"+output_name+\"_geo_xy_details.csv\", index_col= False)\n",
    "\n",
    "        df_f1.uid=df_f1.uid.astype(str)\n",
    "        df_f2.uid=df_f2.uid.astype(str)\n",
    "\n",
    "        df_merged = pd.merge(df_f1, df_f2, on='uid')\n",
    "        df_merged.to_csv('train_'+output_name+'.csv', index=False)"
   ]
  },
  {
   "cell_type": "markdown",
   "metadata": {
    "application/vnd.databricks.v1+cell": {
     "cellMetadata": {},
     "inputWidgets": {},
     "nuid": "e59146d2-9995-4c25-a942-2212e61633f8",
     "showTitle": false,
     "title": ""
    }
   },
   "source": [
    "## Data Conversion"
   ]
  },
  {
   "cell_type": "markdown",
   "metadata": {
    "application/vnd.databricks.v1+cell": {
     "cellMetadata": {},
     "inputWidgets": {},
     "nuid": "6075659e-ea79-44c7-920d-3eded0da37fd",
     "showTitle": false,
     "title": ""
    }
   },
   "source": [
    "### Roof Type Classification"
   ]
  },
  {
   "cell_type": "code",
   "execution_count": 0,
   "metadata": {
    "application/vnd.databricks.v1+cell": {
     "cellMetadata": {},
     "inputWidgets": {},
     "nuid": "8f4733e7-0ab2-4d93-8887-16f9f67de78f",
     "showTitle": false,
     "title": ""
    }
   },
   "outputs": [],
   "source": [
    "with open(BASE_DIR) as json_file:\n",
    "    data = json.load(json_file)\n",
    "\n",
    "features=data[\"features\"]\n",
    "data_file = open('train_roof_types_geo_details.csv', 'w')\n",
    "csv_writer = csv.writer(data_file)\n",
    "\n",
    "count = 0\n",
    "\n",
    "for feature in features:\n",
    "    if count == 0:\n",
    " \n",
    "        # Writing headers of CSV file\n",
    "        header = [\"type\", \"id\",\"roof_material\", \"verified\", \"name\", \"geometry_type\", \"cordinates\", \"geometry\"]\n",
    "        csv_writer.writerow(header)\n",
    "        count += 1\n",
    " \n",
    "    # Writing data of CSV file\n",
    "\n",
    "    csv_writer.writerow([feature[\"type\"],feature[\"properties\"][\"id\"],feature[\"properties\"][\"roof_material\"], feature[\"properties\"][\"verified\"],feature[\"properties\"][\"name\"], feature[\"geometry\"][\"type\"], feature[\"geometry\"][\"coordinates\"], feature[\"geometry\"]] )\n",
    "\n",
    "\n",
    "data_file.close()"
   ]
  },
  {
   "cell_type": "markdown",
   "metadata": {
    "application/vnd.databricks.v1+cell": {
     "cellMetadata": {},
     "inputWidgets": {},
     "nuid": "9f17fd4e-9de4-42b4-a48b-3fe767a24618",
     "showTitle": false,
     "title": ""
    }
   },
   "source": [
    "### XView Building Damage Dataset"
   ]
  },
  {
   "cell_type": "code",
   "execution_count": 0,
   "metadata": {
    "application/vnd.databricks.v1+cell": {
     "cellMetadata": {},
     "inputWidgets": {},
     "nuid": "be94d807-2af8-4b11-b433-178122e746e9",
     "showTitle": false,
     "title": ""
    }
   },
   "outputs": [],
   "source": [
    "BDD_BASE_DIR: str = f\"{DATA_DIR}/xview_building_damage/xview_geotransforms.json\""
   ]
  },
  {
   "cell_type": "code",
   "execution_count": 0,
   "metadata": {
    "application/vnd.databricks.v1+cell": {
     "cellMetadata": {},
     "inputWidgets": {},
     "nuid": "02786d3f-03f3-4474-acf9-1b82471c4447",
     "showTitle": false,
     "title": ""
    }
   },
   "outputs": [],
   "source": [
    "with open(BDD_BASE_DIR) as json_file:\n",
    "    bdd_data = json.load(json_file)"
   ]
  },
  {
   "cell_type": "code",
   "execution_count": 0,
   "metadata": {
    "application/vnd.databricks.v1+cell": {
     "cellMetadata": {},
     "inputWidgets": {},
     "nuid": "99c28299-0d2d-4b99-bc15-9025ed9781e2",
     "showTitle": false,
     "title": ""
    }
   },
   "outputs": [],
   "source": [
    "keys=bdd_data.keys()"
   ]
  },
  {
   "cell_type": "code",
   "execution_count": 0,
   "metadata": {
    "application/vnd.databricks.v1+cell": {
     "cellMetadata": {},
     "inputWidgets": {},
     "nuid": "de24f0f0-b620-4533-9e04-cef02948a22b",
     "showTitle": false,
     "title": ""
    }
   },
   "outputs": [],
   "source": [
    "data_file = open('train_roof_damage_geo_details.csv', 'w')\n",
    "csv_writer = csv.writer(data_file)\n",
    "\n",
    "count = 0\n",
    "\n",
    "for key in keys:\n",
    "    if count == 0:\n",
    " \n",
    "        # Writing headers of CSV file\n",
    "        header = [\"image_id\", \"location\",\"GEOGCS\"]\n",
    "        csv_writer.writerow(header)\n",
    "        count += 1\n",
    " \n",
    "    # Writing data of CSV file\n",
    "\n",
    "    csv_writer.writerow([key,bdd_data[key][0],bdd_data[key][1]])\n",
    "\n",
    "\n",
    "data_file.close()"
   ]
  },
  {
   "cell_type": "markdown",
   "metadata": {
    "application/vnd.databricks.v1+cell": {
     "cellMetadata": {},
     "inputWidgets": {},
     "nuid": "ec64a02c-4aa7-4fdd-b027-4cfd7371d940",
     "showTitle": false,
     "title": ""
    }
   },
   "source": [
    "## Mexico Earthquake - Damage datasets"
   ]
  },
  {
   "cell_type": "code",
   "execution_count": 0,
   "metadata": {
    "application/vnd.databricks.v1+cell": {
     "cellMetadata": {},
     "inputWidgets": {},
     "nuid": "4e7231ec-4cca-4344-85d4-f1d1325486cc",
     "showTitle": false,
     "title": ""
    }
   },
   "outputs": [],
   "source": [
    "MX_EQ_BASE_DIR: str = f\"{DATA_DIR}/xview_building_damage/mexico/post_disaster/\""
   ]
  },
  {
   "cell_type": "code",
   "execution_count": 0,
   "metadata": {
    "application/vnd.databricks.v1+cell": {
     "cellMetadata": {},
     "inputWidgets": {},
     "nuid": "b0ff23b0-029b-47aa-bf24-35f414dfbb7e",
     "showTitle": false,
     "title": ""
    }
   },
   "outputs": [],
   "source": [
    "json_files = [pos_json for pos_json in os.listdir(MX_EQ_BASE_DIR) if pos_json.endswith('.json')]\n",
    "json_files[:3]"
   ]
  },
  {
   "cell_type": "code",
   "execution_count": 0,
   "metadata": {
    "application/vnd.databricks.v1+cell": {
     "cellMetadata": {},
     "inputWidgets": {},
     "nuid": "149804f2-ae4b-4010-9fc6-8bf04d3a866b",
     "showTitle": false,
     "title": ""
    }
   },
   "outputs": [],
   "source": [
    "df_f1=pd.read_csv(\"train_mx_eq_geo_details.csv\", index_col= False)\n",
    "df_f2=pd.read_csv(\"train_mx_eq_geo_xy_details.csv\", index_col= False)"
   ]
  },
  {
   "cell_type": "code",
   "execution_count": 0,
   "metadata": {
    "application/vnd.databricks.v1+cell": {
     "cellMetadata": {},
     "inputWidgets": {},
     "nuid": "070c6e4d-acb9-4619-8816-2d7d5ec38199",
     "showTitle": false,
     "title": ""
    }
   },
   "outputs": [],
   "source": [
    "df_f1.uid=df_f1.uid.astype(str)\n",
    "df_f2.uid=df_f2.uid.astype(str)"
   ]
  },
  {
   "cell_type": "code",
   "execution_count": 0,
   "metadata": {
    "application/vnd.databricks.v1+cell": {
     "cellMetadata": {},
     "inputWidgets": {},
     "nuid": "ea4e97ff-81d1-4d9c-aab5-77c0967bbdc4",
     "showTitle": false,
     "title": ""
    }
   },
   "outputs": [],
   "source": [
    "df_f1"
   ]
  },
  {
   "cell_type": "code",
   "execution_count": 0,
   "metadata": {
    "application/vnd.databricks.v1+cell": {
     "cellMetadata": {},
     "inputWidgets": {},
     "nuid": "dc4e8655-ab46-487b-862b-b0fdac3f3b0f",
     "showTitle": false,
     "title": ""
    }
   },
   "outputs": [],
   "source": [
    "df_mexico1 = pd.merge(df_f1, df_f2, on='uid')\n",
    "\n",
    "df_mexico1.head()"
   ]
  },
  {
   "cell_type": "code",
   "execution_count": 0,
   "metadata": {
    "application/vnd.databricks.v1+cell": {
     "cellMetadata": {},
     "inputWidgets": {},
     "nuid": "b81e09b9-07de-448e-8124-862de4b546c8",
     "showTitle": false,
     "title": ""
    }
   },
   "outputs": [],
   "source": [
    "df_mexico1.to_csv('train_mexico_eq_blds_damage.csv', index=False)"
   ]
  },
  {
   "cell_type": "markdown",
   "metadata": {
    "application/vnd.databricks.v1+cell": {
     "cellMetadata": {},
     "inputWidgets": {},
     "nuid": "78e38896-83d9-47fd-9eeb-672a76301699",
     "showTitle": false,
     "title": ""
    }
   },
   "source": [
    "## Hurricane Florence - damage"
   ]
  },
  {
   "cell_type": "code",
   "execution_count": 0,
   "metadata": {
    "application/vnd.databricks.v1+cell": {
     "cellMetadata": {},
     "inputWidgets": {},
     "nuid": "5381632b-7d1d-4800-a565-5ccadc2630c3",
     "showTitle": false,
     "title": ""
    }
   },
   "outputs": [],
   "source": [
    "HC_FL_BASE_DIR: str = f\"{DATA_DIR}/xview_building_damage/hurricane/florence/post_disaster/\"\n",
    "convert_json_to_csv(HC_FL_BASE_DIR,\"huricane_florence\")    \n",
    "    "
   ]
  },
  {
   "cell_type": "code",
   "execution_count": 0,
   "metadata": {
    "application/vnd.databricks.v1+cell": {
     "cellMetadata": {},
     "inputWidgets": {},
     "nuid": "f4fce354-145e-4e08-a8f8-787975f1b093",
     "showTitle": false,
     "title": ""
    }
   },
   "outputs": [],
   "source": [
    "merge_geo_output_files(\"huricane_florence\")"
   ]
  },
  {
   "cell_type": "code",
   "execution_count": 0,
   "metadata": {
    "application/vnd.databricks.v1+cell": {
     "cellMetadata": {},
     "inputWidgets": {},
     "nuid": "7165fdbc-5beb-409c-90aa-f3e081767330",
     "showTitle": false,
     "title": ""
    }
   },
   "outputs": [],
   "source": [
    "pd.read_csv('train_huricane_florence.csv').head()"
   ]
  },
  {
   "cell_type": "markdown",
   "metadata": {
    "application/vnd.databricks.v1+cell": {
     "cellMetadata": {},
     "inputWidgets": {},
     "nuid": "0b806228-fb25-49a1-b7dc-366f06a708dd",
     "showTitle": false,
     "title": ""
    }
   },
   "source": [
    "## Hurricane Harvey - damage"
   ]
  },
  {
   "cell_type": "code",
   "execution_count": 0,
   "metadata": {
    "application/vnd.databricks.v1+cell": {
     "cellMetadata": {},
     "inputWidgets": {},
     "nuid": "095b3167-f10b-4f1c-9d28-7763ca4cd3cd",
     "showTitle": false,
     "title": ""
    }
   },
   "outputs": [],
   "source": [
    "HC_FL_BASE_DIR: str = f\"{DATA_DIR}/xview_building_damage/hurricane/harvey/post_disaster/\"\n",
    "convert_json_to_csv(HC_FL_BASE_DIR,\"huricane_harvey\")   \n",
    "merge_geo_output_files(\"huricane_harvey\")"
   ]
  },
  {
   "cell_type": "markdown",
   "metadata": {
    "application/vnd.databricks.v1+cell": {
     "cellMetadata": {},
     "inputWidgets": {},
     "nuid": "537a6273-b40f-4917-9df0-bd0e95b8d941",
     "showTitle": false,
     "title": ""
    }
   },
   "source": [
    "## Hurricane Matthew - damage"
   ]
  },
  {
   "cell_type": "code",
   "execution_count": 0,
   "metadata": {
    "application/vnd.databricks.v1+cell": {
     "cellMetadata": {},
     "inputWidgets": {},
     "nuid": "e56c3711-ab1f-437f-aee7-7c8fb4d5ab5e",
     "showTitle": false,
     "title": ""
    }
   },
   "outputs": [],
   "source": [
    "HC_MW_BASE_DIR: str = f\"{DATA_DIR}/xview_building_damage/hurricane/matthew/post_disaster/\"\n",
    "convert_json_to_csv(HC_MW_BASE_DIR,\"huricane_matthew\")   \n",
    "merge_geo_output_files(\"huricane_matthew\")"
   ]
  },
  {
   "cell_type": "markdown",
   "metadata": {
    "application/vnd.databricks.v1+cell": {
     "cellMetadata": {},
     "inputWidgets": {},
     "nuid": "e6e39ee5-6930-4c28-9922-fa284b3e0f53",
     "showTitle": false,
     "title": ""
    }
   },
   "source": [
    "## Guatemala Volcano - damage"
   ]
  },
  {
   "cell_type": "code",
   "execution_count": 0,
   "metadata": {
    "application/vnd.databricks.v1+cell": {
     "cellMetadata": {},
     "inputWidgets": {},
     "nuid": "73a947c3-054c-4220-b97e-0d9b7ef0c364",
     "showTitle": false,
     "title": ""
    },
    "scrolled": true
   },
   "outputs": [],
   "source": [
    "HC_FL_BASE_DIR: str = f\"{DATA_DIR}/xview_building_damage/raw/guatemala/post_disaster/\"\n",
    "convert_json_to_csv(HC_FL_BASE_DIR,\"volcano_guatemala\")   \n",
    "merge_geo_output_files(\"volcano_guatemala\")"
   ]
  },
  {
   "cell_type": "markdown",
   "metadata": {
    "application/vnd.databricks.v1+cell": {
     "cellMetadata": {},
     "inputWidgets": {},
     "nuid": "3b05ad1d-8808-49f3-836e-81112e9a1b7d",
     "showTitle": false,
     "title": ""
    }
   },
   "source": [
    "## Huricane Micheal - damage"
   ]
  },
  {
   "cell_type": "code",
   "execution_count": 0,
   "metadata": {
    "application/vnd.databricks.v1+cell": {
     "cellMetadata": {},
     "inputWidgets": {},
     "nuid": "9996acdd-1bc7-48b5-9c7e-d2cf95b80f07",
     "showTitle": false,
     "title": ""
    },
    "scrolled": true
   },
   "outputs": [],
   "source": [
    "HC_FL_BASE_DIR: str = f\"{DATA_DIR}/xview_building_damage/raw/micheal/pre_post_disaster/\"\n",
    "convert_json_to_csv(HC_FL_BASE_DIR,\"hurricane_micheal\")   \n",
    "merge_geo_output_files(\"hurricane_micheal\")"
   ]
  },
  {
   "cell_type": "markdown",
   "metadata": {
    "application/vnd.databricks.v1+cell": {
     "cellMetadata": {},
     "inputWidgets": {},
     "nuid": "63d9e589-f5b9-4dd9-a092-37bfc8173f57",
     "showTitle": false,
     "title": ""
    }
   },
   "source": [
    "## Midwest Flooding - damage"
   ]
  },
  {
   "cell_type": "code",
   "execution_count": 0,
   "metadata": {
    "application/vnd.databricks.v1+cell": {
     "cellMetadata": {},
     "inputWidgets": {},
     "nuid": "641bea71-bbd7-4195-be2f-9c653c4afd4f",
     "showTitle": false,
     "title": ""
    }
   },
   "outputs": [],
   "source": [
    "## Guatemala Volcano - damage\n",
    "\n",
    "HC_FL_BASE_DIR: str = f\"{DATA_DIR}/xview_building_damage/raw/midwest_flooding/\"\n",
    "convert_json_to_csv(HC_FL_BASE_DIR,\"midwest_flooding\")   \n",
    "merge_geo_output_files(\"midwest_flooding\")"
   ]
  },
  {
   "cell_type": "markdown",
   "metadata": {
    "application/vnd.databricks.v1+cell": {
     "cellMetadata": {},
     "inputWidgets": {},
     "nuid": "e4afd842-4986-4937-9b24-3709c1ddcc5d",
     "showTitle": false,
     "title": ""
    }
   },
   "source": [
    "## Palu Tsunami - damage"
   ]
  },
  {
   "cell_type": "code",
   "execution_count": 0,
   "metadata": {
    "application/vnd.databricks.v1+cell": {
     "cellMetadata": {},
     "inputWidgets": {},
     "nuid": "872f0ea3-50e1-471e-8959-0504ceaee622",
     "showTitle": false,
     "title": ""
    }
   },
   "outputs": [],
   "source": [
    "\n",
    "HC_FL_BASE_DIR: str = f\"{DATA_DIR}/xview_building_damage/raw/palu-tsunami/\"\n",
    "convert_json_to_csv(HC_FL_BASE_DIR,\"palu_tsunami\")   \n",
    "merge_geo_output_files(\"palu_tsunami\")"
   ]
  },
  {
   "cell_type": "markdown",
   "metadata": {
    "application/vnd.databricks.v1+cell": {
     "cellMetadata": {},
     "inputWidgets": {},
     "nuid": "acbc3bf0-7e93-4a4c-805d-e16555e5f946",
     "showTitle": false,
     "title": ""
    }
   },
   "source": [
    "## Santa Rosa Wildfire - damage"
   ]
  },
  {
   "cell_type": "code",
   "execution_count": 0,
   "metadata": {
    "application/vnd.databricks.v1+cell": {
     "cellMetadata": {},
     "inputWidgets": {},
     "nuid": "368976a3-d56d-4af6-ab47-ed6976c51060",
     "showTitle": false,
     "title": ""
    }
   },
   "outputs": [],
   "source": [
    "\n",
    "HC_FL_BASE_DIR: str = f\"{DATA_DIR}/xview_building_damage/raw/santa_rosa_wildfire/\"\n",
    "convert_json_to_csv(HC_FL_BASE_DIR,\"santa_rosa_wildfire\")   \n",
    "merge_geo_output_files(\"santa_rosa_wildfire\")"
   ]
  },
  {
   "cell_type": "markdown",
   "metadata": {
    "application/vnd.databricks.v1+cell": {
     "cellMetadata": {},
     "inputWidgets": {},
     "nuid": "5969fbd4-1229-45eb-adf4-d7fc4331068b",
     "showTitle": false,
     "title": ""
    }
   },
   "source": [
    "## Socal fire - damage"
   ]
  },
  {
   "cell_type": "code",
   "execution_count": 0,
   "metadata": {
    "application/vnd.databricks.v1+cell": {
     "cellMetadata": {},
     "inputWidgets": {},
     "nuid": "4a796527-78ba-4962-8328-6d6ca30ed030",
     "showTitle": false,
     "title": ""
    }
   },
   "outputs": [],
   "source": [
    "\n",
    "HC_FL_BASE_DIR: str = f\"{DATA_DIR}/xview_building_damage/raw/socal-fire/\"\n",
    "convert_json_to_csv(HC_FL_BASE_DIR,\"socal-fire\")   \n",
    "merge_geo_output_files(\"socal-fire\")"
   ]
  },
  {
   "cell_type": "code",
   "execution_count": 0,
   "metadata": {
    "application/vnd.databricks.v1+cell": {
     "cellMetadata": {},
     "inputWidgets": {},
     "nuid": "9fdcaa2f-47cb-4adb-a4c3-fc942a7ebb0d",
     "showTitle": false,
     "title": ""
    }
   },
   "outputs": [],
   "source": []
  }
 ],
 "metadata": {
  "application/vnd.databricks.v1+notebook": {
   "dashboards": [],
   "language": "python",
   "notebookMetadata": {
    "pythonIndentUnit": 4
   },
   "notebookName": "DataPreparation",
   "widgets": {}
  },
  "kernelspec": {
   "display_name": "Python 3 (ipykernel)",
   "language": "python",
   "name": "python3"
  },
  "language_info": {
   "codemirror_mode": {
    "name": "ipython",
    "version": 3
   },
   "file_extension": ".py",
   "mimetype": "text/x-python",
   "name": "python",
   "nbconvert_exporter": "python",
   "pygments_lexer": "ipython3",
   "version": "3.11.5"
  }
 },
 "nbformat": 4,
 "nbformat_minor": 0
}
