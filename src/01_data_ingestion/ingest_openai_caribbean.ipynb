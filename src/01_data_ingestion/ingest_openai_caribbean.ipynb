{
 "cells": [
  {
   "cell_type": "markdown",
   "metadata": {
    "application/vnd.databricks.v1+cell": {
     "cellMetadata": {},
     "inputWidgets": {},
     "nuid": "1bed56ed-dcad-4ad7-98f1-b427be432a25",
     "showTitle": false,
     "title": ""
    }
   },
   "source": [
    "\n",
    "# OpenAI Caribbean Challenge Ingest\n",
    "\n",
    "* Runtime: ~1 min\n",
    "* Compute: 2 GB memory"
   ]
  },
  {
   "cell_type": "code",
   "execution_count": 0,
   "metadata": {
    "application/vnd.databricks.v1+cell": {
     "cellMetadata": {
      "byteLimit": 2048000,
      "rowLimit": 10000
     },
     "inputWidgets": {},
     "nuid": "1d01e323-49d2-44fb-ae4b-199c81b0fa55",
     "showTitle": true,
     "title": "Imports"
    }
   },
   "outputs": [],
   "source": [
    "import warnings\n",
    "warnings.filterwarnings(\"ignore\")\n",
    "\n",
    "import pandas as pd\n",
    "import requests\n",
    "import os\n",
    "import json\n",
    "from loguru import logger\n",
    "from typing import Literal\n",
    "from smart_open import open\n",
    "\n",
    "from src.utils.config import LOCAL_DATA_DIR, S3_DATA_DIR"
   ]
  },
  {
   "cell_type": "code",
   "execution_count": 0,
   "metadata": {
    "application/vnd.databricks.v1+cell": {
     "cellMetadata": {
      "byteLimit": 2048000,
      "rowLimit": 10000
     },
     "inputWidgets": {},
     "nuid": "390214bf-f144-4896-97f8-0aa0e8e0e76b",
     "showTitle": true,
     "title": "Configs"
    }
   },
   "outputs": [
    {
     "output_type": "stream",
     "name": "stdout",
     "output_type": "stream",
     "text": [
      "BASE_DIR='s3://alivio/datasets/openai_caribbean/submission_github_data'\n"
     ]
    }
   ],
   "source": [
    "DESTINATION: Literal[\"LOCAL\", \"S3\"] = \"S3\"\n",
    "\n",
    "DATASET_PREFIX: str = \"/openai_caribbean/submission_github_data\"\n",
    "\n",
    "BASE_DIR: str = (\n",
    "    LOCAL_DATA_DIR + DATASET_PREFIX\n",
    "    if DESTINATION == \"LOCAL\"\n",
    "    else S3_DATA_DIR + DATASET_PREFIX\n",
    "    if DESTINATION == \"S3\"\n",
    "    else None\n",
    ")\n",
    "\n",
    "print(f\"{BASE_DIR=}\")\n",
    "\n",
    "assert all([BASE_DIR]), \"Download Destination not Set\""
   ]
  },
  {
   "cell_type": "code",
   "execution_count": 0,
   "metadata": {
    "application/vnd.databricks.v1+cell": {
     "cellMetadata": {
      "byteLimit": 2048000,
      "rowLimit": 10000
     },
     "inputWidgets": {},
     "nuid": "a02a45fd-1d94-4187-b109-7d0b3f7dc1a8",
     "showTitle": true,
     "title": "Download Data"
    }
   },
   "outputs": [
    {
     "output_type": "stream",
     "name": "stderr",
     "output_type": "stream",
     "text": [
      "2024-02-10 06:13:42.897 | INFO     | __main__:<module>:1 - Downloading OpenAI Caribbean Challenge Dataset\n"
     ]
    }
   ],
   "source": [
    "logger.info(\"Downloading OpenAI Caribbean Challenge Dataset\")\n",
    "base_url: str = \"https://raw.githubusercontent.com/drivendataorg/open-ai-caribbean/main/1st%20Place/data\"\n",
    "train_url: str = base_url + \"/train.geojson\"\n",
    "test_url: str = base_url + \"/test.geojson\"\n",
    "\n",
    "train_response: dict = requests.get(train_url).json()\n",
    "test_response: dict = requests.get(test_url).json()"
   ]
  },
  {
   "cell_type": "code",
   "execution_count": 0,
   "metadata": {
    "application/vnd.databricks.v1+cell": {
     "cellMetadata": {
      "byteLimit": 2048000,
      "rowLimit": 10000
     },
     "inputWidgets": {},
     "nuid": "7908ed10-5a87-4204-9ea0-00c3522a2ce9",
     "showTitle": true,
     "title": "Save Data"
    }
   },
   "outputs": [
    {
     "output_type": "stream",
     "name": "stderr",
     "output_type": "stream",
     "text": [
      "2024-02-10 06:13:46.363 | INFO     | __main__:<module>:10 - OpenAI Caribbean Challenge Dataset saved to s3://alivio/datasets/openai_caribbean/submission_github_data\n"
     ]
    }
   ],
   "source": [
    "if DESTINATION == \"LOCAL\":\n",
    "    os.makedirs(BASE_DIR, exist_ok=True)\n",
    "\n",
    "with open(BASE_DIR + \"/train.geojson\", \"w\") as f:\n",
    "    json.dump(train_response, f, indent=4)\n",
    "\n",
    "with open(BASE_DIR + \"/test.geojson\", \"w\") as f:\n",
    "    json.dump(test_response, f, indent=4)\n",
    "\n",
    "logger.info(f\"OpenAI Caribbean Challenge Dataset saved to {BASE_DIR}\")"
   ]
  }
 ],
 "metadata": {
  "application/vnd.databricks.v1+notebook": {
   "dashboards": [],
   "language": "python",
   "notebookMetadata": {
    "pythonIndentUnit": 4
   },
   "notebookName": "ingest_openai_caribbean",
   "widgets": {}
  }
 },
 "nbformat": 4,
 "nbformat_minor": 0
}
