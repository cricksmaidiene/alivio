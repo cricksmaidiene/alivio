{
 "cells": [
  {
   "cell_type": "code",
   "execution_count": 0,
   "metadata": {
    "application/vnd.databricks.v1+cell": {
     "cellMetadata": {
      "byteLimit": 2048000,
      "rowLimit": 10000
     },
     "inputWidgets": {},
     "nuid": "f327ac13-6923-4e1a-bded-b54b4eb8f817",
     "showTitle": true,
     "title": "Imports"
    }
   },
   "outputs": [],
   "source": [
    "import warnings\n",
    "warnings.filterwarnings(\"ignore\")\n",
    "\n",
    "import pandas as pd\n",
    "import requests\n",
    "import os\n",
    "import json\n",
    "import boto3\n",
    "from loguru import logger\n",
    "from typing import Literal\n",
    "from PIL import Image\n",
    "from smart_open import open\n",
    "from tqdm.autonotebook import tqdm\n",
    "from concurrent.futures import ThreadPoolExecutor\n",
    "\n",
    "from src.utils.config import LOCAL_DATA_DIR, S3_DATA_DIR, S3_BUCKET\n",
    "from xview2_dataset_links import challenge_links as xview2_links"
   ]
  },
  {
   "cell_type": "code",
   "execution_count": 0,
   "metadata": {
    "application/vnd.databricks.v1+cell": {
     "cellMetadata": {
      "byteLimit": 2048000,
      "rowLimit": 10000
     },
     "inputWidgets": {},
     "nuid": "b0024e0f-184f-4a53-bf73-e2acd0e6aeef",
     "showTitle": false,
     "title": ""
    }
   },
   "outputs": [],
   "source": [
    "DESTINATION: Literal[\"LOCAL\", \"S3\"] = \"S3\"\n",
    "CHALLENGE_TYPE: Literal[\"train\", \"test\", \"hold\"] = \"train\""
   ]
  },
  {
   "cell_type": "code",
   "execution_count": 0,
   "metadata": {
    "application/vnd.databricks.v1+cell": {
     "cellMetadata": {
      "byteLimit": 2048000,
      "rowLimit": 10000
     },
     "inputWidgets": {},
     "nuid": "d99c2db1-bbd6-43a8-9e62-7d3f64273829",
     "showTitle": false,
     "title": ""
    }
   },
   "outputs": [],
   "source": [
    "DATASET_PREFIX: str = \"/xview2/challenge\"\n",
    "\n",
    "BASE_DIR: str = (\n",
    "    LOCAL_DATA_DIR + DATASET_PREFIX\n",
    "    if DESTINATION == \"LOCAL\"\n",
    "    else S3_DATA_DIR + DATASET_PREFIX\n",
    "    if DESTINATION == \"S3\"\n",
    "    else None\n",
    ")\n",
    "\n",
    "print(f\"{BASE_DIR=}\")\n",
    "\n",
    "assert all([BASE_DIR]), \"Download Destination not Set\""
   ]
  },
  {
   "cell_type": "markdown",
   "metadata": {
    "application/vnd.databricks.v1+cell": {
     "cellMetadata": {},
     "inputWidgets": {},
     "nuid": "c3ad3bf1-20c3-4f23-a9c9-0708eaf23bef",
     "showTitle": false,
     "title": ""
    }
   },
   "source": [
    "Run the following shell commands on the terminal to download data locally:\n",
    "\n",
    "\n",
    "```bash\n",
    "mkdir test hold train\n",
    "```\n",
    "\n",
    "\n",
    "```bash\n",
    "aws s3 sync s3://alivio/datasets/xview2/challenge/test ./test --request-payer requester\n",
    "```\n",
    "\n",
    "\n",
    "```bash\n",
    "aws s3 sync s3://alivio/datasets/xview2/challenge/hold ./hold --request-payer requester\n",
    "```\n",
    "\n",
    "\n",
    "```bash\n",
    "aws s3 sync s3://alivio/datasets/xview2/challenge/train ./train --request-payer requester\n",
    "```"
   ]
  },
  {
   "cell_type": "code",
   "execution_count": 0,
   "metadata": {
    "application/vnd.databricks.v1+cell": {
     "cellMetadata": {
      "byteLimit": 2048000,
      "rowLimit": 10000
     },
     "inputWidgets": {},
     "nuid": "c81d899e-37b0-4660-b382-a284997745d2",
     "showTitle": false,
     "title": ""
    }
   },
   "outputs": [],
   "source": [
    "image_path, label_path, target_path = (\n",
    "    f\"{CHALLENGE_TYPE}/images\",\n",
    "    f\"{CHALLENGE_TYPE}/labels\",\n",
    "    f\"{CHALLENGE_TYPE}/targets\",\n",
    ")\n",
    "\n",
    "image_dir, label_dir, target_dir = (\n",
    "    [f\"{image_path}/{f}\" for f in os.listdir(image_path)],\n",
    "    [f\"{label_path}/{f}\" for f in os.listdir(label_path)],\n",
    "    [f\"{target_path}/{f}\" for f in os.listdir(target_path)],\n",
    ")\n",
    "\n",
    "print(f\"{len(image_dir)=}\")\n",
    "print(f\"{len(label_dir)=}\")\n",
    "print(f\"{len(target_dir)=}\")\n",
    "\n",
    "print()\n",
    "print(image_dir[0:5])\n",
    "print(label_dir[0:5])\n",
    "print(target_dir[0:5])\n",
    "\n",
    "with open(label_dir[0]) as f:\n",
    "    x = json.load(f)\n",
    "    assert x, \"Unable to read label data\"\n",
    "\n",
    "y = Image.open(image_dir[0])\n",
    "assert y, \"Unable to read image data\"\n",
    "\n",
    "z = Image.open(target_dir[0])\n",
    "assert z, \"Unable to read target data\""
   ]
  },
  {
   "cell_type": "markdown",
   "metadata": {
    "application/vnd.databricks.v1+cell": {
     "cellMetadata": {},
     "inputWidgets": {},
     "nuid": "88452f9a-cb11-463c-acf1-28e3ed0c287d",
     "showTitle": false,
     "title": ""
    }
   },
   "source": [
    "## Process Labels"
   ]
  },
  {
   "cell_type": "code",
   "execution_count": 0,
   "metadata": {
    "application/vnd.databricks.v1+cell": {
     "cellMetadata": {
      "byteLimit": 2048000,
      "rowLimit": 10000
     },
     "inputWidgets": {},
     "nuid": "9fbd47f5-719d-48db-86f1-b9f44e8ee207",
     "showTitle": false,
     "title": ""
    }
   },
   "outputs": [],
   "source": [
    "label_json_data: list[dict] = []\n",
    "\n",
    "\n",
    "def read_and_store_label_json(label_json_path: str):\n",
    "    \"\"\"A thread-safe function that reads a json as a dictionary and writes to a global list\"\"\"\n",
    "    with open(label_json_path) as f:\n",
    "        label_json_data.append(json.load(f))\n",
    "\n",
    "\n",
    "with ThreadPoolExecutor(max_workers=20) as executor:\n",
    "    executor.map(read_and_store_label_json, label_dir)\n",
    "\n",
    "label_json_series: pd.Series = pd.Series(label_json_data)\n",
    "label_df_original: pd.DataFrame = pd.json_normalize(label_json_series)\n",
    "\n",
    "print(label_df_original.shape)\n",
    "label_df_original.head()"
   ]
  },
  {
   "cell_type": "code",
   "execution_count": 0,
   "metadata": {
    "application/vnd.databricks.v1+cell": {
     "cellMetadata": {
      "byteLimit": 2048000,
      "rowLimit": 10000
     },
     "inputWidgets": {},
     "nuid": "bdfc4016-b60b-43e8-852c-341754d798d1",
     "showTitle": false,
     "title": ""
    }
   },
   "outputs": [],
   "source": [
    "label_df: pd.DataFrame = label_df_original.copy()"
   ]
  },
  {
   "cell_type": "code",
   "execution_count": 0,
   "metadata": {
    "application/vnd.databricks.v1+cell": {
     "cellMetadata": {
      "byteLimit": 2048000,
      "rowLimit": 10000
     },
     "inputWidgets": {},
     "nuid": "f8b5fa29-8880-4b5e-b825-0a536ccd60f9",
     "showTitle": false,
     "title": ""
    }
   },
   "outputs": [],
   "source": [
    "label_df_lng_lat: pd.DataFrame = (\n",
    "    label_df.drop(columns=[\"features.xy\", \"features.lng_lat\"])\n",
    "    .join(label_df[\"features.lng_lat\"].explode())\n",
    "    .reset_index(drop=True)\n",
    ")\n",
    "\n",
    "print(label_df_lng_lat.shape)\n",
    "label_df_lng_lat.head()"
   ]
  },
  {
   "cell_type": "code",
   "execution_count": 0,
   "metadata": {
    "application/vnd.databricks.v1+cell": {
     "cellMetadata": {
      "byteLimit": 2048000,
      "rowLimit": 10000
     },
     "inputWidgets": {},
     "nuid": "2e2e88aa-e4c4-4bc6-aede-d0b846e7c300",
     "showTitle": false,
     "title": ""
    }
   },
   "outputs": [],
   "source": [
    "label_df_features: pd.DataFrame = (\n",
    "    label_df.drop(columns=[\"features.xy\", \"features.lng_lat\"])\n",
    "    .join(label_df[\"features.xy\"].explode())\n",
    "    .reset_index(drop=True)\n",
    ")\n",
    "\n",
    "print(label_df_features.shape)\n",
    "label_df_features.head()"
   ]
  },
  {
   "cell_type": "code",
   "execution_count": 0,
   "metadata": {
    "application/vnd.databricks.v1+cell": {
     "cellMetadata": {
      "byteLimit": 2048000,
      "rowLimit": 10000
     },
     "inputWidgets": {},
     "nuid": "e49f8323-a395-4a01-8bcb-a31c2dcbf755",
     "showTitle": false,
     "title": ""
    }
   },
   "outputs": [],
   "source": [
    "lng_lat_normalized: pd.DataFrame = pd.json_normalize(label_df_lng_lat[\"features.lng_lat\"]).rename(\n",
    "    columns={\n",
    "        \"wkt\": \"map_polygon\",\n",
    "        \"properties.feature_type\": \"map_feature_type\",\n",
    "        \"properties.subtype\": \"map_damage\",\n",
    "        \"properties.uid\": \"building_id\",\n",
    "    }\n",
    ")\n",
    "\n",
    "print(lng_lat_normalized.shape)\n",
    "lng_lat_normalized.head()"
   ]
  },
  {
   "cell_type": "code",
   "execution_count": 0,
   "metadata": {
    "application/vnd.databricks.v1+cell": {
     "cellMetadata": {
      "byteLimit": 2048000,
      "rowLimit": 10000
     },
     "inputWidgets": {},
     "nuid": "3fe5a071-7e31-48f4-bb37-427ca1594b43",
     "showTitle": false,
     "title": ""
    }
   },
   "outputs": [],
   "source": [
    "features_normalized: pd.DataFrame = pd.json_normalize(\n",
    "    label_df_features[\"features.xy\"]\n",
    ").rename(\n",
    "    columns={\n",
    "        \"wkt\": \"image_polygon\",\n",
    "        \"properties.feature_type\": \"image_feature_type\",\n",
    "        \"properties.subtype\": \"image_damage\",\n",
    "        \"properties.uid\": \"building_id\",\n",
    "    }\n",
    ")\n",
    "\n",
    "print(features_normalized.shape)\n",
    "features_normalized.head()"
   ]
  },
  {
   "cell_type": "code",
   "execution_count": 0,
   "metadata": {
    "application/vnd.databricks.v1+cell": {
     "cellMetadata": {
      "byteLimit": 2048000,
      "rowLimit": 10000
     },
     "inputWidgets": {},
     "nuid": "9f1df11c-d500-4887-a51e-547aabd1d17b",
     "showTitle": false,
     "title": ""
    }
   },
   "outputs": [],
   "source": [
    "label_df_lng_lat_normalized = label_df_lng_lat.drop(columns=[\"features.lng_lat\"]).join(\n",
    "    lng_lat_normalized\n",
    ")\n",
    "\n",
    "label_df_features_normalized = label_df_features.drop(columns=[\"features.xy\"]).join(\n",
    "    features_normalized\n",
    ")\n",
    "\n",
    "label_df_final: pd.DataFrame = label_df_lng_lat_normalized.merge(\n",
    "    label_df_features_normalized[\n",
    "        [\n",
    "            \"metadata.id\",\n",
    "            \"image_polygon\",\n",
    "            \"image_feature_type\",\n",
    "            \"image_damage\",\n",
    "            \"building_id\",\n",
    "        ]\n",
    "    ],\n",
    "    \"left\",\n",
    "    [\"metadata.id\", \"building_id\"],\n",
    ")\n",
    "\n",
    "print(label_df_final.shape)\n",
    "label_df_final.head()"
   ]
  },
  {
   "cell_type": "code",
   "execution_count": 0,
   "metadata": {
    "application/vnd.databricks.v1+cell": {
     "cellMetadata": {
      "byteLimit": 2048000,
      "rowLimit": 10000
     },
     "inputWidgets": {},
     "nuid": "c09a530c-ea5a-4b52-b7d5-5688a1ae65ec",
     "showTitle": false,
     "title": ""
    }
   },
   "outputs": [],
   "source": [
    "assert (\n",
    "    label_df_final[\"image_damage\"].to_list()\n",
    "    == label_df_final[\"map_damage\"].to_list()\n",
    "), \"Damage Classification Between Image Data and Map Data Differ - Possibly Wrong Source Data or Incorrect Joins\""
   ]
  },
  {
   "cell_type": "code",
   "execution_count": 0,
   "metadata": {
    "application/vnd.databricks.v1+cell": {
     "cellMetadata": {
      "byteLimit": 2048000,
      "rowLimit": 10000
     },
     "inputWidgets": {},
     "nuid": "994b0d02-539a-44f1-a63c-20815b35d17a",
     "showTitle": false,
     "title": ""
    }
   },
   "outputs": [],
   "source": [
    "label_df_final = (\n",
    "    label_df_final.rename(\n",
    "        columns={\n",
    "            c: c.replace(\"metadata.\", \"\")\n",
    "            for c in label_df_final.columns\n",
    "            if c.startswith(\"metadata.\")\n",
    "        }\n",
    "    )\n",
    "    .drop(\n",
    "        columns=[\n",
    "            \"map_feature_type\",\n",
    "            \"map_damage\",\n",
    "        ]\n",
    "    )\n",
    "    .rename(\n",
    "        columns={\n",
    "            \"image_feature_type\": \"feature_type\",\n",
    "            \"image_damage\": \"damage\",\n",
    "        }\n",
    "    )\n",
    ")"
   ]
  },
  {
   "cell_type": "code",
   "execution_count": 0,
   "metadata": {
    "application/vnd.databricks.v1+cell": {
     "cellMetadata": {},
     "inputWidgets": {},
     "nuid": "806c91d7-88b4-4607-af7c-6911e0d6f120",
     "showTitle": false,
     "title": ""
    }
   },
   "outputs": [],
   "source": [
    "label_df_final[\"dataset\"] = CHALLENGE_TYPE\n",
    "label_df_final[\"capture_date\"] = pd.to_datetime(label_df_final[\"capture_date\"])\n",
    "\n",
    "label_df_final[\"image_id\"] = label_df_final[\"img_name\"].dropna().apply(lambda cell: \"_\".join(cell.split(\"_\")[0:2]))\n",
    "label_df_final[\"is_pre_image\"] = label_df_final[\"img_name\"].dropna().apply(lambda cell: \"_pre_disaster\" in cell)\n",
    "label_df_final[\"is_post_image\"] = (\n",
    "    label_df_final[\"img_name\"].dropna().apply(lambda cell: \"_post_disaster\" in cell)\n",
    ")"
   ]
  },
  {
   "cell_type": "code",
   "execution_count": 0,
   "metadata": {
    "application/vnd.databricks.v1+cell": {
     "cellMetadata": {},
     "inputWidgets": {},
     "nuid": "9a3dd8c5-b42f-4631-9c84-eed8a4c6626f",
     "showTitle": false,
     "title": ""
    }
   },
   "outputs": [],
   "source": [
    "print(label_df_final.shape)\n",
    "label_df_final.head()"
   ]
  },
  {
   "cell_type": "code",
   "execution_count": 0,
   "metadata": {
    "application/vnd.databricks.v1+cell": {
     "cellMetadata": {
      "byteLimit": 2048000,
      "rowLimit": 10000
     },
     "inputWidgets": {},
     "nuid": "ceb43514-6247-449d-b48d-d550bba71f1e",
     "showTitle": false,
     "title": ""
    }
   },
   "outputs": [],
   "source": [
    "label_df_final.dtypes"
   ]
  },
  {
   "cell_type": "code",
   "execution_count": 0,
   "metadata": {
    "application/vnd.databricks.v1+cell": {
     "cellMetadata": {
      "byteLimit": 2048000,
      "rowLimit": 10000
     },
     "inputWidgets": {},
     "nuid": "9fdcaa2f-47cb-4adb-a4c3-fc942a7ebb0d",
     "showTitle": false,
     "title": ""
    }
   },
   "outputs": [],
   "source": [
    "print(f\"{len(label_df_final['id'].unique())=}\")\n",
    "print(f\"{len(label_df_final['building_id'].unique())=}\")\n",
    "print()\n",
    "print(label_df_final[\"damage\"].value_counts())\n",
    "print()\n",
    "print(label_df_final[\"disaster\"].value_counts())"
   ]
  },
  {
   "cell_type": "code",
   "execution_count": 0,
   "metadata": {
    "application/vnd.databricks.v1+cell": {
     "cellMetadata": {
      "byteLimit": 2048000,
      "rowLimit": 10000
     },
     "inputWidgets": {},
     "nuid": "8e8580b6-1920-45ca-9d1f-8eb598a392fa",
     "showTitle": false,
     "title": ""
    }
   },
   "outputs": [],
   "source": [
    "label_df_final.to_parquet(f\"{CHALLENGE_TYPE}.parquet\")"
   ]
  },
  {
   "cell_type": "code",
   "execution_count": 0,
   "metadata": {
    "application/vnd.databricks.v1+cell": {
     "cellMetadata": {
      "byteLimit": 2048000,
      "rowLimit": 10000
     },
     "inputWidgets": {},
     "nuid": "8974dd45-60dc-44ef-bb5b-dff078a45039",
     "showTitle": false,
     "title": ""
    }
   },
   "outputs": [],
   "source": [
    "concat_list: list[pd.DataFrame] = [\n",
    "    pd.read_parquet(pq_file) for pq_file in os.listdir() if pq_file.endswith(\".parquet\")\n",
    "]\n",
    "\n",
    "print(len(concat_list))\n",
    "\n",
    "df = pd.concat(concat_list).reset_index(drop=True)\n",
    "\n",
    "print(df.shape)\n",
    "df.head()"
   ]
  },
  {
   "cell_type": "code",
   "execution_count": 0,
   "metadata": {
    "application/vnd.databricks.v1+cell": {
     "cellMetadata": {
      "byteLimit": 2048000,
      "rowLimit": 10000
     },
     "inputWidgets": {},
     "nuid": "eac3d5e1-2e71-4255-833e-7ee3fcdc5ac5",
     "showTitle": false,
     "title": ""
    }
   },
   "outputs": [],
   "source": [
    "df.to_parquet(f\"s3://{S3_BUCKET}/datasets/xview2/processed/full_challenge_data.parquet\")\n",
    "\n",
    "df.to_csv(\n",
    "    f\"s3://{S3_BUCKET}/datasets/xview2/processed/full_challenge_data.csv\", index=False\n",
    ")"
   ]
  }
 ],
 "metadata": {
  "application/vnd.databricks.v1+notebook": {
   "dashboards": [],
   "language": "python",
   "notebookMetadata": {
    "pythonIndentUnit": 4
   },
   "notebookName": "xview2_json_to_csv",
   "widgets": {}
  },
  "kernelspec": {
   "display_name": "Python 3 (ipykernel)",
   "language": "python",
   "name": "python3"
  },
  "language_info": {
   "codemirror_mode": {
    "name": "ipython",
    "version": 3
   },
   "file_extension": ".py",
   "mimetype": "text/x-python",
   "name": "python",
   "nbconvert_exporter": "python",
   "pygments_lexer": "ipython3",
   "version": "3.11.5"
  }
 },
 "nbformat": 4,
 "nbformat_minor": 0
}
