{
 "cells": [
  {
   "cell_type": "markdown",
   "metadata": {
    "application/vnd.databricks.v1+cell": {
     "cellMetadata": {},
     "inputWidgets": {},
     "nuid": "7431084e-b0db-4c1c-9f61-d16f8623c9cf",
     "showTitle": false,
     "title": ""
    }
   },
   "source": [
    "# Ingest Xview2 Dataset\n",
    "\n",
    "This notebook ingests [xView2](xview2.org) data. Since it is quite large, it is stored in AWS S3 on `s3://alivio`\n",
    "\n",
    "* Runtime: ~7 minutes\n",
    "* Compute: 16-32 GB memory"
   ]
  },
  {
   "cell_type": "code",
   "execution_count": 0,
   "metadata": {
    "application/vnd.databricks.v1+cell": {
     "cellMetadata": {
      "byteLimit": 2048000,
      "rowLimit": 10000
     },
     "inputWidgets": {},
     "nuid": "f327ac13-6923-4e1a-bded-b54b4eb8f817",
     "showTitle": true,
     "title": "Imports"
    }
   },
   "outputs": [],
   "source": [
    "import warnings\n",
    "warnings.filterwarnings(\"ignore\")\n",
    "\n",
    "import pandas as pd\n",
    "import requests\n",
    "import os\n",
    "import json\n",
    "import boto3\n",
    "from loguru import logger\n",
    "from typing import Literal\n",
    "from smart_open import open\n",
    "from concurrent.futures import ThreadPoolExecutor\n",
    "\n",
    "from src.utils.config import LOCAL_DATA_DIR, S3_DATA_DIR, S3_BUCKET\n",
    "from xview2_dataset_links import challenge_links as xview2_links"
   ]
  },
  {
   "cell_type": "code",
   "execution_count": 0,
   "metadata": {
    "application/vnd.databricks.v1+cell": {
     "cellMetadata": {
      "byteLimit": 2048000,
      "rowLimit": 10000
     },
     "inputWidgets": {},
     "nuid": "861f5777-569a-46ad-8f78-92c0dd649571",
     "showTitle": false,
     "title": ""
    }
   },
   "outputs": [
    {
     "output_type": "stream",
     "name": "stdout",
     "output_type": "stream",
     "text": [
      "BASE_DIR='s3://alivio/datasets/xview2'\n"
     ]
    }
   ],
   "source": [
    "DESTINATION: Literal[\"LOCAL\", \"S3\"] = \"S3\"\n",
    "\n",
    "DATASET_PREFIX: str = \"/xview2\"\n",
    "\n",
    "BASE_DIR: str = (\n",
    "    LOCAL_DATA_DIR + DATASET_PREFIX\n",
    "    if DESTINATION == \"LOCAL\"\n",
    "    else S3_DATA_DIR + DATASET_PREFIX\n",
    "    if DESTINATION == \"S3\"\n",
    "    else None\n",
    ")\n",
    "\n",
    "print(f\"{BASE_DIR=}\")\n",
    "\n",
    "assert all([BASE_DIR]), \"Download Destination not Set\""
   ]
  },
  {
   "cell_type": "code",
   "execution_count": 0,
   "metadata": {
    "application/vnd.databricks.v1+cell": {
     "cellMetadata": {
      "byteLimit": 2048000,
      "rowLimit": 10000
     },
     "inputWidgets": {},
     "nuid": "fb7071ea-6072-4c15-8ac1-ea1942314415",
     "showTitle": false,
     "title": ""
    }
   },
   "outputs": [],
   "source": [
    "s3 = boto3.client(\"s3\")"
   ]
  },
  {
   "cell_type": "markdown",
   "metadata": {
    "application/vnd.databricks.v1+cell": {
     "cellMetadata": {},
     "inputWidgets": {},
     "nuid": "9fdcaa2f-47cb-4adb-a4c3-fc942a7ebb0d",
     "showTitle": false,
     "title": ""
    }
   },
   "source": [
    "\n",
    "### Ephemeral Links\n",
    "\n",
    "xView2 provides ephemeral links with an expiry from their website. As such, they need to be refreshed when downloading from the website again. Substitute the links in `src.01_data_ingestion.xview2_dataset_links.py` file when re-downloading. Since each dataset link is about 10 GB large, we use streaming to download it programatically"
   ]
  },
  {
   "cell_type": "code",
   "execution_count": 0,
   "metadata": {
    "application/vnd.databricks.v1+cell": {
     "cellMetadata": {
      "byteLimit": 2048000,
      "rowLimit": 10000
     },
     "inputWidgets": {},
     "nuid": "4e852a16-2c32-4991-b12d-e7c7a891035c",
     "showTitle": false,
     "title": ""
    }
   },
   "outputs": [],
   "source": [
    "prefix_path: str = \"/\".join(BASE_DIR.split(\"/\")[3:])\n",
    "\n",
    "def stream_to_s3(url: str, object_name: str):\n",
    "    print(f\"Downloading {object_name}\")\n",
    "    with requests.get(url, stream=True) as r:\n",
    "        r.raise_for_status()\n",
    "        s3.upload_fileobj(r.raw, S3_BUCKET, object_name)"
   ]
  },
  {
   "cell_type": "markdown",
   "metadata": {
    "application/vnd.databricks.v1+cell": {
     "cellMetadata": {},
     "inputWidgets": {},
     "nuid": "0a73e565-0449-42bc-841d-fcbe21a11d1c",
     "showTitle": false,
     "title": ""
    }
   },
   "source": [
    "\n",
    "## Concurrent Downloads\n",
    "\n",
    "On receiving the ephemeral download links from xview2 from the website, each link only lives for about 5-10 minutes. Downloading the links serially, where each link takes about 3-5 minutes on a datacenter network to download means that some dataset links will expire before they're downloaded. This will result in a `403` error. \n",
    "\n",
    "As such, multithreading is used to fetch data from all links simultaneously. This ensures that a local copy of the data is available within the time window of the ephemeral link timeout."
   ]
  },
  {
   "cell_type": "code",
   "execution_count": 0,
   "metadata": {
    "application/vnd.databricks.v1+cell": {
     "cellMetadata": {
      "byteLimit": 2048000,
      "rowLimit": 10000
     },
     "inputWidgets": {},
     "nuid": "c8b562cf-ac39-4759-81ef-9690641ac734",
     "showTitle": false,
     "title": ""
    }
   },
   "outputs": [
    {
     "output_type": "stream",
     "name": "stdout",
     "output_type": "stream",
     "text": [
      "Downloading datasets/xview2/xview2_trainDownloading datasets/xview2/xview2_test\n\nDownloading datasets/xview2/xview2_holdout\n"
     ]
    }
   ],
   "source": [
    "with ThreadPoolExecutor(max_workers=6) as executor:\n",
    "    executor.map(\n",
    "        lambda x: stream_to_s3(*x),\n",
    "        [(v, prefix_path + \"/\" + k) for k, v in xview2_links.items()],\n",
    "    )"
   ]
  }
 ],
 "metadata": {
  "application/vnd.databricks.v1+notebook": {
   "dashboards": [],
   "language": "python",
   "notebookMetadata": {
    "mostRecentlyExecutedCommandWithImplicitDF": {
     "commandId": -1,
     "dataframes": [
      "_sqldf"
     ]
    },
    "pythonIndentUnit": 4
   },
   "notebookName": "ingest_xview2",
   "widgets": {}
  },
  "kernelspec": {
   "display_name": "Python 3 (ipykernel)",
   "language": "python",
   "name": "python3"
  },
  "language_info": {
   "codemirror_mode": {
    "name": "ipython",
    "version": 3
   },
   "file_extension": ".py",
   "mimetype": "text/x-python",
   "name": "python",
   "nbconvert_exporter": "python",
   "pygments_lexer": "ipython3",
   "version": "3.11.5"
  }
 },
 "nbformat": 4,
 "nbformat_minor": 0
}
