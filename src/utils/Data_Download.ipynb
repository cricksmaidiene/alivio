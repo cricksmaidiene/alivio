{
 "cells": [
  {
   "cell_type": "code",
   "execution_count": 0,
   "metadata": {
    "application/vnd.databricks.v1+cell": {
     "cellMetadata": {},
     "inputWidgets": {},
     "nuid": "741a6e14-3cca-4e19-a779-afc8831ad2b5",
     "showTitle": false,
     "title": ""
    }
   },
   "outputs": [],
   "source": [
    "import json\n",
    "import os\n",
    "from typing import Callable\n",
    "\n",
    "import pandas as pd\n",
    "import requests"
   ]
  },
  {
   "cell_type": "code",
   "execution_count": 0,
   "metadata": {
    "application/vnd.databricks.v1+cell": {
     "cellMetadata": {},
     "inputWidgets": {},
     "nuid": "58d457ae-8456-46d3-aaf8-eda236082706",
     "showTitle": false,
     "title": ""
    }
   },
   "outputs": [],
   "source": [
    "current_working_directory = os.getcwd()\n",
    "print(\"Location of the notebook \"+current_working_directory)\n",
    "os.chdir('../')\n",
    "project_root=os.getcwd()\n",
    "print(\"Project root \"+project_root)\n",
    "\n",
    "DATA_DIR: str = project_root + \"/data\""
   ]
  },
  {
   "cell_type": "code",
   "execution_count": 0,
   "metadata": {
    "application/vnd.databricks.v1+cell": {
     "cellMetadata": {},
     "inputWidgets": {},
     "nuid": "0bddf467-e05e-429d-8c87-41a1765d4b71",
     "showTitle": false,
     "title": ""
    }
   },
   "outputs": [],
   "source": [
    "def download_openai_caribbean_dataset():\n",
    "    print(\"Downloading OpenAI Caribbean Challenge Dataset\")\n",
    "    base_url: str = \"https://raw.githubusercontent.com/drivendataorg/open-ai-caribbean/main/1st%20Place/data\"\n",
    "    train_url: str = base_url + \"/train.geojson\"\n",
    "    test_url: str = base_url + \"/test.geojson\"\n",
    "\n",
    "    train_response: dict = requests.get(train_url).json()\n",
    "    test_response: dict = requests.get(test_url).json()\n",
    "\n",
    "    BASE_DIR: str = f\"{DATA_DIR}/openai_caribbean/submission_github_data\"\n",
    "    os.makedirs(BASE_DIR, exist_ok=True)\n",
    "\n",
    "    with open(BASE_DIR + \"/train.json\", \"w\") as f:\n",
    "        json.dump(train_response, f, indent=4)\n",
    "\n",
    "    with open(BASE_DIR + \"/test.json\", \"w\") as f:\n",
    "        json.dump(test_response, f, indent=4)\n",
    "\n",
    "    print(f\"OpenAI Caribbean Challenge Dataset saved to {BASE_DIR}\")\n"
   ]
  },
  {
   "cell_type": "code",
   "execution_count": 0,
   "metadata": {
    "application/vnd.databricks.v1+cell": {
     "cellMetadata": {},
     "inputWidgets": {},
     "nuid": "6cb05606-4ad5-4e7d-8d1e-be045de8a234",
     "showTitle": false,
     "title": ""
    }
   },
   "outputs": [],
   "source": [
    "def download_colobia_meta_demographics():\n",
    "    print(\"Downloading Colombia High Density Population Resolution Map\")\n",
    "    data_url: str = \"https://data.humdata.org/dataset/2f865527-b7bf-466c-b620-c12b8d07a053/resource/357c91e0-c5fb-4ae2-ad9d-00805e5a075d/download/col_general_2020_csv.zip\"\n",
    "    df = pd.read_csv(data_url)\n",
    "    BASE_DIR: str = f\"{DATA_DIR}/meta_demographics/colombia\"\n",
    "    os.makedirs(BASE_DIR, exist_ok=True)\n",
    "    df.to_csv(BASE_DIR + \"/general_2020.csv\", index=False)\n",
    "    print(f\"Colombia High Density Population Dataset saved to {BASE_DIR}\")"
   ]
  },
  {
   "cell_type": "code",
   "execution_count": 0,
   "metadata": {
    "application/vnd.databricks.v1+cell": {
     "cellMetadata": {},
     "inputWidgets": {},
     "nuid": "a96f3d5a-2004-43bd-9ec4-da21bdb64fe2",
     "showTitle": false,
     "title": ""
    }
   },
   "outputs": [
    {
     "output_type": "stream",
     "name": "stdout",
     "output_type": "stream",
     "text": [
      "Found 2 datasets to download\nDownloading OpenAI Caribbean Challenge Dataset\nOpenAI Caribbean Challenge Dataset saved to /Users/yaminigotimukul/DataScience/Berekley/Semesters/Spring_2024/repo/alivio//data/openai_caribbean/submission_github_data\nDownloading Colombia High Density Population Resolution Map\nColombia High Density Population Dataset saved to /Users/yaminigotimukul/DataScience/Berekley/Semesters/Spring_2024/repo/alivio//data/meta_demographics/colombia\n"
     ]
    }
   ],
   "source": [
    "def main():\n",
    "    data_callables: list[Callable] = [\n",
    "        download_openai_caribbean_dataset,\n",
    "        download_colobia_meta_demographics,\n",
    "    ]\n",
    "    print(f\"Found {len(data_callables)} datasets to download\")\n",
    "    for c in data_callables:\n",
    "        c()\n",
    "\n",
    "\n",
    "if __name__ == \"__main__\":\n",
    "    main()\n"
   ]
  },
  {
   "cell_type": "code",
   "execution_count": 0,
   "metadata": {
    "application/vnd.databricks.v1+cell": {
     "cellMetadata": {},
     "inputWidgets": {},
     "nuid": "cfd12bac-b14d-4029-88d6-6ce47f142f3c",
     "showTitle": false,
     "title": ""
    }
   },
   "outputs": [],
   "source": []
  }
 ],
 "metadata": {
  "application/vnd.databricks.v1+notebook": {
   "dashboards": [],
   "language": "python",
   "notebookMetadata": {},
   "notebookName": "Data_Download",
   "widgets": {}
  },
  "kernelspec": {
   "display_name": "Python 3 (ipykernel)",
   "language": "python",
   "name": "python3"
  },
  "language_info": {
   "codemirror_mode": {
    "name": "ipython",
    "version": 3
   },
   "file_extension": ".py",
   "mimetype": "text/x-python",
   "name": "python",
   "nbconvert_exporter": "python",
   "pygments_lexer": "ipython3",
   "version": "3.11.5"
  }
 },
 "nbformat": 4,
 "nbformat_minor": 0
}
