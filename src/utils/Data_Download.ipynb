{
 "cells": [
  {
   "cell_type": "code",
   "execution_count": 3,
   "id": "ca21c38c",
   "metadata": {},
   "outputs": [],
   "source": [
    "import json\n",
    "import os\n",
    "from typing import Callable\n",
    "\n",
    "import pandas as pd\n",
    "import requests"
   ]
  },
  {
   "cell_type": "code",
   "execution_count": 6,
   "id": "4d86845e",
   "metadata": {},
   "outputs": [],
   "source": [
    "current_working_directory = os.getcwd()\n",
    "print(\"Location of the notebook \"+current_working_directory)\n",
    "os.chdir('../')\n",
    "project_root=os.getcwd()\n",
    "print(\"Project root \"+project_root)\n",
    "\n",
    "DATA_DIR: str = project_root + \"/data\""
   ]
  },
  {
   "cell_type": "code",
   "execution_count": 8,
   "id": "d28814a0",
   "metadata": {},
   "outputs": [],
   "source": [
    "def download_openai_caribbean_dataset():\n",
    "    print(\"Downloading OpenAI Caribbean Challenge Dataset\")\n",
    "    base_url: str = \"https://raw.githubusercontent.com/drivendataorg/open-ai-caribbean/main/1st%20Place/data\"\n",
    "    train_url: str = base_url + \"/train.geojson\"\n",
    "    test_url: str = base_url + \"/test.geojson\"\n",
    "\n",
    "    train_response: dict = requests.get(train_url).json()\n",
    "    test_response: dict = requests.get(test_url).json()\n",
    "\n",
    "    BASE_DIR: str = f\"{DATA_DIR}/openai_caribbean/submission_github_data\"\n",
    "    os.makedirs(BASE_DIR, exist_ok=True)\n",
    "\n",
    "    with open(BASE_DIR + \"/train.json\", \"w\") as f:\n",
    "        json.dump(train_response, f, indent=4)\n",
    "\n",
    "    with open(BASE_DIR + \"/test.json\", \"w\") as f:\n",
    "        json.dump(test_response, f, indent=4)\n",
    "\n",
    "    print(f\"OpenAI Caribbean Challenge Dataset saved to {BASE_DIR}\")\n"
   ]
  },
  {
   "cell_type": "code",
   "execution_count": 9,
   "id": "58a5125e",
   "metadata": {},
   "outputs": [],
   "source": [
    "def download_colobia_meta_demographics():\n",
    "    print(\"Downloading Colombia High Density Population Resolution Map\")\n",
    "    data_url: str = \"https://data.humdata.org/dataset/2f865527-b7bf-466c-b620-c12b8d07a053/resource/357c91e0-c5fb-4ae2-ad9d-00805e5a075d/download/col_general_2020_csv.zip\"\n",
    "    df = pd.read_csv(data_url)\n",
    "    BASE_DIR: str = f\"{DATA_DIR}/meta_demographics/colombia\"\n",
    "    os.makedirs(BASE_DIR, exist_ok=True)\n",
    "    df.to_csv(BASE_DIR + \"/general_2020.csv\", index=False)\n",
    "    print(f\"Colombia High Density Population Dataset saved to {BASE_DIR}\")"
   ]
  },
  {
   "cell_type": "code",
   "execution_count": 10,
   "id": "1e6ebef8",
   "metadata": {},
   "outputs": [
    {
     "name": "stdout",
     "output_type": "stream",
     "text": [
      "Found 2 datasets to download\n",
      "Downloading OpenAI Caribbean Challenge Dataset\n",
      "OpenAI Caribbean Challenge Dataset saved to /Users/yaminigotimukul/DataScience/Berekley/Semesters/Spring_2024/repo/alivio//data/openai_caribbean/submission_github_data\n",
      "Downloading Colombia High Density Population Resolution Map\n",
      "Colombia High Density Population Dataset saved to /Users/yaminigotimukul/DataScience/Berekley/Semesters/Spring_2024/repo/alivio//data/meta_demographics/colombia\n"
     ]
    }
   ],
   "source": [
    "def main():\n",
    "    data_callables: list[Callable] = [\n",
    "        download_openai_caribbean_dataset,\n",
    "        download_colobia_meta_demographics,\n",
    "    ]\n",
    "    print(f\"Found {len(data_callables)} datasets to download\")\n",
    "    for c in data_callables:\n",
    "        c()\n",
    "\n",
    "\n",
    "if __name__ == \"__main__\":\n",
    "    main()\n"
   ]
  },
  {
   "cell_type": "code",
   "execution_count": null,
   "id": "1bf05f1f",
   "metadata": {},
   "outputs": [],
   "source": []
  }
 ],
 "metadata": {
  "kernelspec": {
   "display_name": "Python 3 (ipykernel)",
   "language": "python",
   "name": "python3"
  },
  "language_info": {
   "codemirror_mode": {
    "name": "ipython",
    "version": 3
   },
   "file_extension": ".py",
   "mimetype": "text/x-python",
   "name": "python",
   "nbconvert_exporter": "python",
   "pygments_lexer": "ipython3",
   "version": "3.11.5"
  }
 },
 "nbformat": 4,
 "nbformat_minor": 5
}
