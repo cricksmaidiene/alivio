{
 "cells": [
  {
   "cell_type": "markdown",
   "id": "f4f26954-c292-4e91-813e-a31797d4d2a4",
   "metadata": {},
   "source": [
    "### Loading Cleaned Metadata files"
   ]
  },
  {
   "cell_type": "code",
   "execution_count": 330,
   "id": "e037c093-2122-42f3-b0c1-ff901878f1bd",
   "metadata": {},
   "outputs": [],
   "source": [
    "import os\n",
    "import numpy as np\n",
    "import pandas as pd\n",
    "import random\n",
    "import seaborn as sns\n",
    "import matplotlib.pyplot as plt\n",
    "from PIL import Image\n",
    "from shapely.geometry import MultiPolygon, Polygon\n",
    "import shapely.wkt\n",
    "\n",
    "import torchvision\n",
    "from torchvision import datasets\n",
    "from torch.utils.data import DataLoader\n",
    "from torch.utils.data.sampler import SubsetRandomSampler\n",
    "import torchvision.models as models\n",
    "import torch.optim as optim\n",
    "import torch.optim.lr_scheduler as lr_scheduler\n",
    "\n",
    "from torch import tensor\n",
    "\n",
    "import torch\n",
    "import torchvision\n",
    "import torch.nn.functional as F\n",
    "import torchvision.transforms as T\n",
    "import torchvision.models as models\n",
    "import albumentations as A\n",
    "from albumentations.pytorch import ToTensorV2\n",
    "# from torchvision.transforms import ToTensor\n",
    "from torch import nn, optim\n",
    "from torchvision import datasets, models, transforms, utils\n",
    "from torch.utils.data import Dataset, DataLoader\n",
    "#from torchmetrics.classification import MulticlassF1Score\n",
    "#from torchmetrics.classification import MulticlassPrecisionRecallCurve, MultilabelPrecisionRecallCurve, PrecisionRecallCurve\n",
    "from torcheval.metrics.functional import multiclass_precision, multiclass_f1_score, multiclass_recall, multiclass_accuracy\n",
    "\n",
    "\n",
    "import cv2\n",
    "from PIL import Image\n",
    "from transformers import ViTModel, ViTImageProcessor, ViTForImageClassification\n",
    "from timm import create_model\n",
    "\n",
    "from torch.utils.data.sampler import SubsetRandomSampler\n",
    "from torch.utils.data import WeightedRandomSampler\n",
    "\n",
    "#from torchsampler import ImbalancedDatasetSampler\n",
    "\n",
    "from collections import Counter\n",
    "from sklearn.datasets import make_classification\n",
    "from imblearn.over_sampling import SMOTE\n",
    "from imblearn.under_sampling import RandomUnderSampler\n",
    "from imblearn.pipeline import Pipeline\n",
    "from numpy import where\n",
    "import shutil\n",
    "from torch import tensor"
   ]
  },
  {
   "cell_type": "code",
   "execution_count": 2,
   "id": "05db6911-62c3-42c4-8a9d-f287709af45b",
   "metadata": {},
   "outputs": [
    {
     "name": "stdout",
     "output_type": "stream",
     "text": [
      "Current Path :  /Users/yaminigotimukul/DataScience/Berekley/Semesters/Spring_2024/repo/alivio/src/04_models\n"
     ]
    }
   ],
   "source": [
    "print(\"Current Path : \", os.getcwd())\n",
    "os.chdir('../..')"
   ]
  },
  {
   "cell_type": "code",
   "execution_count": 3,
   "id": "bdd561fc-8761-4782-9b25-10b08fd5c76c",
   "metadata": {},
   "outputs": [
    {
     "name": "stdout",
     "output_type": "stream",
     "text": [
      "Root Project Path :  /Users/yaminigotimukul/DataScience/Berekley/Semesters/Spring_2024/repo/alivio\n",
      "Root Data Path :  /Users/yaminigotimukul/DataScience/Berekley/Semesters/Spring_2024/repo/alivio/data/xview_building_damage\n",
      "Train Data Path :  /Users/yaminigotimukul/DataScience/Berekley/Semesters/Spring_2024/repo/alivio/data/xview_building_damage/train\n"
     ]
    }
   ],
   "source": [
    "ROOT_DIR = os.getcwd()\n",
    "print(\"Root Project Path : \", ROOT_DIR)\n",
    "ROOT_DATA_DIR = os.path.join(ROOT_DIR, 'data', 'xview_building_damage')\n",
    "print(\"Root Data Path : \", ROOT_DATA_DIR)\n",
    "TRAIN_DATA_DIR = os.path.join(ROOT_DATA_DIR, 'train')\n",
    "print(\"Train Data Path : \", TRAIN_DATA_DIR)\n",
    "CHALLENGE_DIR = os.path.join(ROOT_DATA_DIR, 'challenge')\n",
    "TRAIN_DIR=os.path.join(CHALLENGE_DIR, 'train')\n",
    "HOLD_DIR=os.path.join(CHALLENGE_DIR, 'hold')\n",
    "TEST_DIR=os.path.join(CHALLENGE_DIR, 'test')"
   ]
  },
  {
   "cell_type": "markdown",
   "id": "3197816a-5517-4af3-b3d7-3300092a770d",
   "metadata": {},
   "source": [
    "### Custom Dataset class"
   ]
  },
  {
   "cell_type": "code",
   "execution_count": 4,
   "id": "1f7ef52e-3918-4ac5-937c-0e59937d05ed",
   "metadata": {},
   "outputs": [],
   "source": [
    "train_meta_df=pd.read_csv(os.path.join(ROOT_DATA_DIR, 'challenge', 'csv', 'hc_train_hurricane-michael.csv'))\n",
    "valid_meta_df=pd.read_csv(os.path.join(ROOT_DATA_DIR, 'challenge', 'csv', 'hc_hold_hurricane-michael.csv'))\n",
    "test_meta_df=pd.read_csv(os.path.join(ROOT_DATA_DIR, 'challenge', 'csv' , 'hc_test_hurricane-michael.csv'))"
   ]
  },
  {
   "cell_type": "markdown",
   "id": "2aa44fd3-0fb5-4bce-a9fa-ef564256b595",
   "metadata": {},
   "source": [
    "### Setting the device"
   ]
  },
  {
   "cell_type": "code",
   "execution_count": 5,
   "id": "9af0b1d5-c7ed-46e0-9d5f-43e87dc90639",
   "metadata": {},
   "outputs": [
    {
     "name": "stdout",
     "output_type": "stream",
     "text": [
      "device =  mps\n"
     ]
    }
   ],
   "source": [
    "model_name = \"vit_base_patch16_224\"\n",
    "device = 'cpu' \n",
    "if torch.cuda.is_available(): \n",
    " device='cuda'\n",
    "elif torch.backends.mps.is_available():\n",
    " device = 'mps' \n",
    "\n",
    "print(\"device = \", device)"
   ]
  },
  {
   "cell_type": "markdown",
   "id": "9f0ddd8b-0f2b-4650-a427-9a48c2c4c5fe",
   "metadata": {},
   "source": [
    "### Helper Methods"
   ]
  },
  {
   "cell_type": "code",
   "execution_count": null,
   "id": "14c776fd-d7b9-4df3-82fa-5076623d24c1",
   "metadata": {},
   "outputs": [],
   "source": []
  },
  {
   "cell_type": "code",
   "execution_count": null,
   "id": "5d73ca0d-022d-4c70-bac6-1ca1963b3c8e",
   "metadata": {},
   "outputs": [],
   "source": []
  },
  {
   "cell_type": "code",
   "execution_count": 175,
   "id": "2cc92969-d054-4c57-8f62-ef4d14f50139",
   "metadata": {},
   "outputs": [],
   "source": [
    "def polygons_mask(polygons, im_size):\n",
    "    img_mask = np.zeros(im_size, np.uint8)\n",
    "    if not polygons:\n",
    "        return img_mask\n",
    "    int_coords = lambda x: np.array(x).round().astype(np.int32)\n",
    "    exteriors = [int_coords(poly.exterior.coords) for poly in polygons]\n",
    "    interiors = [int_coords(pi.coords) for poly in polygons\n",
    "                 for pi in poly.interiors]\n",
    "    cv2.fillPoly(img_mask, exteriors, 1)\n",
    "    cv2.fillPoly(img_mask, interiors, 0)\n",
    "    return img_mask"
   ]
  },
  {
   "cell_type": "code",
   "execution_count": 179,
   "id": "2fc98bf6-c99c-4b4f-8b73-6a401776279e",
   "metadata": {},
   "outputs": [
    {
     "data": {
      "text/plain": [
       "array([[0, 0, 0, ..., 0, 0, 0],\n",
       "       [0, 0, 0, ..., 0, 0, 0],\n",
       "       [0, 0, 0, ..., 0, 0, 0],\n",
       "       ...,\n",
       "       [0, 0, 0, ..., 0, 0, 0],\n",
       "       [0, 0, 0, ..., 0, 0, 0],\n",
       "       [0, 0, 0, ..., 0, 0, 0]], dtype=uint8)"
      ]
     },
     "execution_count": 179,
     "metadata": {},
     "output_type": "execute_result"
    }
   ],
   "source": [
    "polygons_mask([shapely.wkt.loads(train_meta_df.iloc[0]['image_polygon'])],image.shape[:2])"
   ]
  },
  {
   "cell_type": "code",
   "execution_count": 150,
   "id": "9a964bbe-6460-4bcc-b8a0-9969226e1fee",
   "metadata": {},
   "outputs": [
    {
     "name": "stdout",
     "output_type": "stream",
     "text": [
      "(1024, 1024)\n"
     ]
    },
    {
     "data": {
      "image/png": "[encoded data removed]",
      "text/plain": [
       "<Figure size 640x480 with 1 Axes>"
      ]
     },
     "metadata": {},
     "output_type": "display_data"
    }
   ],
   "source": [
    "dir_test =  os.path.join(ROOT_DATA_DIR, 'challenge', 'train', 'disaster', 'hurricane-michael')\n",
    "image = cv2.imread(os.path.join(dir_test, 'hurricane-michael_00000000_post_disaster.png'))\n",
    "cv2.imshow(\"Original\", image)\n",
    "\n",
    "mask = np.zeros(image.shape[:2], dtype=\"uint8\")\n",
    "\n",
    "cv2.rectangle(mask, (0, 90), (290, 450), 255, -1)\n",
    "cv2.imshow(\"Rectangular Mask\", mask)\n",
    "\n",
    "masked = cv2.bitwise_and(image, image, mask=mask)\n",
    "#cv2.imshow(\"Mask Applied to Image\", masked)\n",
    "# cv2.waitKey(0)\n",
    "plt.imshow(masked)\n",
    "#plt.savefig(masked)\n",
    "plt.imsave(os.path.join(dir_test, 'masked.png'), masked)\n"
   ]
  },
  {
   "cell_type": "code",
   "execution_count": 197,
   "id": "ffa91a67-b33f-4065-8dad-6342e8cf8c4c",
   "metadata": {},
   "outputs": [
    {
     "data": {
      "text/plain": [
       "damage\n",
       "no-damage       14588\n",
       "minor-damage     5207\n",
       "major-damage     1902\n",
       "destroyed         757\n",
       "Name: count, dtype: int64"
      ]
     },
     "execution_count": 197,
     "metadata": {},
     "output_type": "execute_result"
    }
   ],
   "source": [
    "train_data = train_meta_df[train_meta_df['damage'] != 'un-classified']\n",
    "train_data_wo_pre = train_data[train_data['damage'] != 'pre']\n",
    "train_data_wo_pre['damage'].value_counts()"
   ]
  },
  {
   "cell_type": "code",
   "execution_count": 355,
   "id": "b7da9aaf-b75f-4ffb-8228-1db64a4302c6",
   "metadata": {},
   "outputs": [],
   "source": [
    "train_data_wo_pre.to_csv(os.path.join(ROOT_DATA_DIR, 'challenge', 'csv')+\"/train_4_classes_post_micheal.csv\")"
   ]
  },
  {
   "cell_type": "code",
   "execution_count": 228,
   "id": "7d5a337b-ce27-49e9-bf03-ceb974ac812d",
   "metadata": {},
   "outputs": [
    {
     "data": {
      "text/plain": [
       "damage\n",
       "no-damage       4457\n",
       "minor-damage    1722\n",
       "major-damage     608\n",
       "destroyed        285\n",
       "Name: count, dtype: int64"
      ]
     },
     "execution_count": 228,
     "metadata": {},
     "output_type": "execute_result"
    }
   ],
   "source": [
    "valid_data = valid_meta_df[valid_meta_df['damage'] != 'un-classified']\n",
    "valid_data_wo_pre = valid_data[valid_data['damage'] != 'pre']\n",
    "valid_data_wo_pre['damage'].value_counts()"
   ]
  },
  {
   "cell_type": "code",
   "execution_count": 356,
   "id": "27b29a42-ea79-4bfd-8692-88fd4d5dcfca",
   "metadata": {},
   "outputs": [],
   "source": [
    "valid_data_wo_pre.to_csv(os.path.join(ROOT_DATA_DIR, 'challenge', 'csv')+\"/hold_4_classes_post_micheal.csv\")"
   ]
  },
  {
   "cell_type": "code",
   "execution_count": 233,
   "id": "84b13de0-9c1c-43f1-ade6-15b4f1838e57",
   "metadata": {},
   "outputs": [
    {
     "data": {
      "text/plain": [
       "height\n",
       "1024    7072\n",
       "Name: count, dtype: int64"
      ]
     },
     "execution_count": 233,
     "metadata": {},
     "output_type": "execute_result"
    }
   ],
   "source": [
    "valid_data_wo_pre['height'].value_counts()"
   ]
  },
  {
   "cell_type": "code",
   "execution_count": 231,
   "id": "fbf71025-53a0-43df-9b58-5b87acbaf533",
   "metadata": {},
   "outputs": [
    {
     "data": {
      "text/plain": [
       "damage\n",
       "no-damage       3647\n",
       "minor-damage    1363\n",
       "major-damage     409\n",
       "destroyed        183\n",
       "Name: count, dtype: int64"
      ]
     },
     "execution_count": 231,
     "metadata": {},
     "output_type": "execute_result"
    }
   ],
   "source": [
    "test_data = test_meta_df[test_meta_df['damage'] != 'un-classified']\n",
    "test_data_wo_pre = test_data[test_data['damage'] != 'pre']\n",
    "test_data_wo_pre['damage'].value_counts()"
   ]
  },
  {
   "cell_type": "code",
   "execution_count": 357,
   "id": "fda305bd-9d7c-4be0-bd99-474beeb3b881",
   "metadata": {},
   "outputs": [],
   "source": [
    "test_data_wo_pre.to_csv(os.path.join(ROOT_DATA_DIR, 'challenge', 'csv')+\"/test_4_classes_post_micheal.csv\")"
   ]
  },
  {
   "cell_type": "code",
   "execution_count": 226,
   "id": "a8743fc5-831f-4968-aee1-239fa3d06a25",
   "metadata": {},
   "outputs": [],
   "source": [
    "def polygons_mask(polygons):\n",
    "    img_mask = np.zeros(im_size, np.uint8)\n",
    "    if not polygons:\n",
    "        return img_mask\n",
    "    int_coords = lambda x: np.array(x).round().astype(np.int32)\n",
    "    exteriors = [int_coords(poly.exterior.coords) for poly in polygons]\n",
    "    interiors = [int_coords(pi.coords) for poly in polygons\n",
    "                 for pi in poly.interiors]\n",
    "    cv2.fillPoly(img_mask, exteriors, 1)\n",
    "    cv2.fillPoly(img_mask, interiors, 0)\n",
    "    return img_mask\n",
    "\n",
    "\n",
    "\n",
    "def create_image_mask_overall(root_dir, im_size, meta_df ,dataSplit = 'train', disaster_name='hurricane-michael'):\n",
    "   input_dir =  os.path.join(root_dir, 'challenge', dataSplit, 'disaster', disaster_name) \n",
    "   img_input = os.path.join(input_dir, 'images')\n",
    "   output_dir =os.path.join(input_dir, 'img_mask_overlay')\n",
    "\n",
    "   df = meta_df[meta_df['is_post_image'] == True]\n",
    "   print(\"Starting : Mask overlay\")\n",
    "   for idx, file_name in enumerate(df['mask_file_names']):\n",
    "       image = cv2.imread(os.path.join(img_input, df.iloc[idx]['img_name']))\n",
    "       mask = np.zeros(image.shape[:2], dtype=\"uint8\")\n",
    "       _mask = polygons_mask([shapely.wkt.loads(df.iloc[idx]['image_polygon'])])\n",
    "       masked = cv2.bitwise_and(image, image, mask=_mask)\n",
    "       plt.imsave(os.path.join(output_dir, file_name), masked)\n",
    "   print(\"Ending : Mask overlay\")"
   ]
  },
  {
   "cell_type": "code",
   "execution_count": 227,
   "id": "2ce58872-2f14-452b-82ff-3e4f5d3bb03f",
   "metadata": {},
   "outputs": [
    {
     "name": "stdout",
     "output_type": "stream",
     "text": [
      "Starting : Mask overlay\n",
      "Ending : Mask overlay\n"
     ]
    }
   ],
   "source": [
    "im_size =(1024, 1024)\n",
    "create_image_mask_overall(ROOT_DATA_DIR, im_size, train_data_wo_pre, 'train', 'hurricane-michael')"
   ]
  },
  {
   "cell_type": "code",
   "execution_count": 235,
   "id": "84b335d3-937e-4b0b-8a30-f53ad1a22ea9",
   "metadata": {},
   "outputs": [
    {
     "name": "stdout",
     "output_type": "stream",
     "text": [
      "Starting : Mask overlay\n",
      "Ending : Mask overlay\n"
     ]
    }
   ],
   "source": [
    "create_image_mask_overall(ROOT_DATA_DIR, im_size, valid_data_wo_pre, 'hold', 'hurricane-michael')"
   ]
  },
  {
   "cell_type": "code",
   "execution_count": 237,
   "id": "d7aed733-fd9a-4ce6-9fd3-f0ce10635312",
   "metadata": {},
   "outputs": [
    {
     "name": "stdout",
     "output_type": "stream",
     "text": [
      "Starting : Mask overlay\n",
      "Ending : Mask overlay\n"
     ]
    }
   ],
   "source": [
    "create_image_mask_overall(ROOT_DATA_DIR, im_size, test_data_wo_pre, 'test', 'hurricane-michael')"
   ]
  },
  {
   "cell_type": "code",
   "execution_count": null,
   "id": "0818f845-f318-4cff-a749-18ec5ba8382e",
   "metadata": {},
   "outputs": [],
   "source": [
    "/Users/yaminigotimukul/DataScience/Berekley/Semesters/Spring_2024/repo/alivio/data/xview_building_damage/challenge"
   ]
  },
  {
   "cell_type": "code",
   "execution_count": 239,
   "id": "7d1c84df-01ed-4569-aad3-8b7d29968c0b",
   "metadata": {},
   "outputs": [],
   "source": [
    "def sort_masks_by_class(top_dir, meta_df, disaster_name='hurricane-michael', post=True):\n",
    "    root_path=os.path.join(top_dir, 'disaster', disaster_name)\n",
    "    disas_post_mask= os.path.join(root_path,'img_mask_overlay') #source\n",
    "    print(\"Source root : \", disas_post_mask)\n",
    "    disas_class_path=os.path.join(root_path, 'img_mask_ov_class')\n",
    "    print(\"Destination root : \", disas_class_path)\n",
    "    \n",
    "    df = meta_df[meta_df['is_post_image'] == True]\n",
    "    \n",
    "    #    df = meta_df[meta_df['is_pre_image'] != post]\n",
    "    print(\"Started moving the mask files to class folder for \", disaster_name)\n",
    "    for idx, file_name in enumerate(df['mask_file_names']):\n",
    "        source = os.path.join(disas_post_mask, df.iloc[idx]['mask_file_names'])\n",
    "        destination = os.path.join(disas_class_path, df.iloc[idx]['damage'])\n",
    "        if os.path.exists(destination):\n",
    "            pass\n",
    "        else:\n",
    "            print( \"Creating dir for \" , df.iloc[idx]['damage'])\n",
    "            os.mkdir(destination)\n",
    "        \n",
    "        if os.path.exists(source):\n",
    "            shutil.copy(source, destination)\n",
    "    print(\"Finshed moving the mask files to class folder for \", disaster_name)"
   ]
  },
  {
   "cell_type": "code",
   "execution_count": 241,
   "id": "9fc63e15-8c4e-4346-ae54-522434df505d",
   "metadata": {},
   "outputs": [
    {
     "name": "stdout",
     "output_type": "stream",
     "text": [
      "Source root :  /Users/yaminigotimukul/DataScience/Berekley/Semesters/Spring_2024/repo/alivio/data/xview_building_damage/challenge/train/disaster/hurricane-michael/img_mask_overlay\n",
      "Destination root :  /Users/yaminigotimukul/DataScience/Berekley/Semesters/Spring_2024/repo/alivio/data/xview_building_damage/challenge/train/disaster/hurricane-michael/img_mask_ov_class\n",
      "Started moving the mask files to class folder for  hurricane-michael\n",
      "Finshed moving the mask files to class folder for  hurricane-michael\n"
     ]
    }
   ],
   "source": [
    "sort_masks_by_class(TRAIN_DIR , train_data_wo_pre , 'hurricane-michael')"
   ]
  },
  {
   "cell_type": "code",
   "execution_count": 242,
   "id": "1056893e-a988-4ecf-9a75-3d465333b73e",
   "metadata": {
    "scrolled": true
   },
   "outputs": [
    {
     "name": "stdout",
     "output_type": "stream",
     "text": [
      "Source root :  /Users/yaminigotimukul/DataScience/Berekley/Semesters/Spring_2024/repo/alivio/data/xview_building_damage/challenge/hold/disaster/hurricane-michael/img_mask_overlay\n",
      "Destination root :  /Users/yaminigotimukul/DataScience/Berekley/Semesters/Spring_2024/repo/alivio/data/xview_building_damage/challenge/hold/disaster/hurricane-michael/img_mask_ov_class\n",
      "Started moving the mask files to class folder for  hurricane-michael\n",
      "Finshed moving the mask files to class folder for  hurricane-michael\n"
     ]
    }
   ],
   "source": [
    "sort_masks_by_class(HOLD_DIR , valid_data_wo_pre , 'hurricane-michael')"
   ]
  },
  {
   "cell_type": "code",
   "execution_count": 243,
   "id": "e7e7091a-90e3-42ae-90c7-198ab6446c92",
   "metadata": {},
   "outputs": [
    {
     "name": "stdout",
     "output_type": "stream",
     "text": [
      "Source root :  /Users/yaminigotimukul/DataScience/Berekley/Semesters/Spring_2024/repo/alivio/data/xview_building_damage/challenge/test/disaster/hurricane-michael/img_mask_overlay\n",
      "Destination root :  /Users/yaminigotimukul/DataScience/Berekley/Semesters/Spring_2024/repo/alivio/data/xview_building_damage/challenge/test/disaster/hurricane-michael/img_mask_ov_class\n",
      "Started moving the mask files to class folder for  hurricane-michael\n",
      "Finshed moving the mask files to class folder for  hurricane-michael\n"
     ]
    }
   ],
   "source": [
    "sort_masks_by_class(TEST_DIR , test_data_wo_pre , 'hurricane-michael')"
   ]
  },
  {
   "cell_type": "code",
   "execution_count": 117,
   "id": "6a794283-897b-4896-af68-e0fd030c9ece",
   "metadata": {},
   "outputs": [],
   "source": [
    "def get_overlapped_img():#filename, img_folder, mask_folder):\n",
    "    # Import orginal img\n",
    "    dir_test =  os.path.join(ROOT_DATA_DIR, 'challenge', 'train', 'disaster', 'hurricane-michael')\n",
    "    mask='hurricane-michael_00000000_post_disaster_0aa410ed-e9af-4ae0-b639-d9e70fc7be80.png'\n",
    "    image = 'hurricane-michael_00000000_post_disaster.png'\n",
    "    img = cv2.imread(os.path.join(dir_test, image))\n",
    "\n",
    "    # Import and convert the mask from binary to RGB\n",
    "    mask = Image.open(os.path.join(dir_test, mask))#.convert('RGB')\n",
    "    width, height = mask.size\n",
    "\n",
    "    # Convert the white color (for blobs) to magenta\n",
    "    mask_colored = change_color(mask, width, height, (255, 255, 255), (186,85,211))\n",
    "    #mask_colored = change_color(mask, width, height, (0, 0, 0), (255,255,255))\n",
    "    # Convert the black (for background) to white --> important to make a good overlapping\n",
    "    mask_colored = change_color(mask_colored, width, height,(255,255,255), (0, 0, 0))\n",
    "\n",
    "    return cv2.addWeighted(np.array(img),0.4,np.array(mask_colored),0.3,0)"
   ]
  },
  {
   "cell_type": "code",
   "execution_count": 104,
   "id": "e2dc2cf5-8338-413e-81bd-0a9f8ea7386e",
   "metadata": {},
   "outputs": [],
   "source": [
    "def change_color(picture, width, height, ex_color, new_color):\n",
    "    # Process every pixel\n",
    "    for x in range(width):\n",
    "        for y in range(height):\n",
    "            current_color = picture.getpixel( (x,y) )\n",
    "            if current_color == ex_color:\n",
    "                picture.putpixel( (x,y), new_color)\n",
    "    return picture"
   ]
  },
  {
   "cell_type": "code",
   "execution_count": 119,
   "id": "6db16cae-ca84-479c-a4c1-3b1889db4b40",
   "metadata": {},
   "outputs": [
    {
     "data": {
      "text/plain": [
       "array([[[ 7, 12,  9],\n",
       "        [ 6, 10,  8],\n",
       "        [ 7, 12,  9],\n",
       "        ...,\n",
       "        [26, 36, 32],\n",
       "        [24, 35, 30],\n",
       "        [24, 36, 30]],\n",
       "\n",
       "       [[ 9, 15, 12],\n",
       "        [ 8, 14, 11],\n",
       "        [ 8, 13, 10],\n",
       "        ...,\n",
       "        [23, 34, 29],\n",
       "        [23, 33, 28],\n",
       "        [24, 35, 29]],\n",
       "\n",
       "       [[13, 22, 18],\n",
       "        [10, 16, 13],\n",
       "        [ 8, 13, 10],\n",
       "        ...,\n",
       "        [28, 40, 34],\n",
       "        [28, 40, 34],\n",
       "        [24, 36, 30]],\n",
       "\n",
       "       ...,\n",
       "\n",
       "       [[58, 64, 64],\n",
       "        [64, 70, 70],\n",
       "        [68, 74, 75],\n",
       "        ...,\n",
       "        [24, 33, 28],\n",
       "        [26, 36, 30],\n",
       "        [27, 38, 32]],\n",
       "\n",
       "       [[57, 64, 64],\n",
       "        [63, 69, 70],\n",
       "        [68, 74, 74],\n",
       "        ...,\n",
       "        [24, 33, 28],\n",
       "        [26, 36, 30],\n",
       "        [31, 42, 36]],\n",
       "\n",
       "       [[60, 67, 68],\n",
       "        [67, 72, 74],\n",
       "        [76, 81, 82],\n",
       "        ...,\n",
       "        [23, 32, 26],\n",
       "        [26, 35, 29],\n",
       "        [31, 42, 36]]], dtype=uint8)"
      ]
     },
     "execution_count": 119,
     "metadata": {},
     "output_type": "execute_result"
    }
   ],
   "source": [
    "get_overlapped_img()"
   ]
  },
  {
   "cell_type": "markdown",
   "id": "eb8f5647-410b-4f1e-b418-b99a5fb870df",
   "metadata": {},
   "source": [
    "#### Data Augumentation:"
   ]
  },
  {
   "cell_type": "code",
   "execution_count": 6,
   "id": "6b5accc0-c18f-45b3-8854-88e99570cca5",
   "metadata": {},
   "outputs": [],
   "source": [
    "# Write transform for image\n",
    "\n",
    "data_transform = transforms.Compose([\n",
    "    # Resize the images to 64x64\n",
    "    transforms.Resize(size=(224, 224)),\n",
    "    # Flip the images randomly on the horizontal\n",
    "    #transforms.RandomHorizontalFlip(p=0.5), # p = probability of flip, 0.5 = 50% chance\n",
    "    # Turn the image into a torch.Tensor\n",
    "    transforms.ToTensor() # this also converts all pixel values from 0 to 255 to be between 0.0 and 1.0 \n",
    "])"
   ]
  },
  {
   "cell_type": "code",
   "execution_count": 88,
   "id": "41377662-af74-475c-b3f1-5332871c8b41",
   "metadata": {},
   "outputs": [],
   "source": [
    "alb_data_transform =  A.Compose([\n",
    "    A.CLAHE(p=0.5),\n",
    "    A.RandomCrop(width=512, height=512),\n",
    "    A.HorizontalFlip(p=0.5),\n",
    "    A.Flip(p=0.5),\n",
    "    A.RandomBrightnessContrast(p=0.2),\n",
    "    A.ShiftScaleRotate(shift_limit=0.05, scale_limit=0.05, rotate_limit=360, p=0.5),\n",
    "    A.RandomCrop(height=256, width=256),\n",
    "    A.RGBShift(r_shift_limit=15, g_shift_limit=15, b_shift_limit=15, p=0.5),\n",
    "    A.RandomBrightnessContrast(p=0.5),\n",
    "    A.MultiplicativeNoise(multiplier=[0.5,2], per_channel=True, p=0.2),\n",
    "    ToTensorV2()\n",
    "])"
   ]
  },
  {
   "cell_type": "markdown",
   "id": "75ad1b3a-9e4b-4dae-91f2-e95f334a4b69",
   "metadata": {},
   "source": [
    "#### Load & Prepare Data"
   ]
  },
  {
   "cell_type": "code",
   "execution_count": 358,
   "id": "764e2c5b-e2ab-4344-a91f-6d0c46ae3504",
   "metadata": {},
   "outputs": [],
   "source": [
    "def get_img_class_dir(disaster_name, dataSplit, ROOT_DIR, class_dir='img_mask_ov_class'):   \n",
    " #DIR=os.path.join(ROOT_DIR, dataSplit,'disaster', disaster_name , 'class', 'post')\n",
    " root_path=os.path.join(ROOT_DIR, 'disaster', disaster_name)\n",
    " DIR = os.path.join(root_path, class_dir)\n",
    " return DIR"
   ]
  },
  {
   "cell_type": "code",
   "execution_count": 250,
   "id": "52db5dc9-b46e-402d-9178-a04a8cb7fd0e",
   "metadata": {
    "scrolled": true
   },
   "outputs": [
    {
     "name": "stdout",
     "output_type": "stream",
     "text": [
      "Train set records :  22454\n",
      "Validation set records :  7072\n",
      "Test set records :  5602\n",
      "================================================\n",
      "Train data:\n",
      "Dataset ImageFolder\n",
      "    Number of datapoints: 22454\n",
      "    Root location: /Users/yaminigotimukul/DataScience/Berekley/Semesters/Spring_2024/repo/alivio/data/xview_building_damage/challenge/train/disaster/hurricane-michael/img_mask_ov_class\n",
      "    StandardTransform\n",
      "Transform: Compose(\n",
      "               Resize(size=(224, 224), interpolation=bilinear, max_size=None, antialias=True)\n",
      "               ToTensor()\n",
      "           )\n",
      "Validation data:\n",
      "Dataset ImageFolder\n",
      "    Number of datapoints: 7072\n",
      "    Root location: /Users/yaminigotimukul/DataScience/Berekley/Semesters/Spring_2024/repo/alivio/data/xview_building_damage/challenge/hold/disaster/hurricane-michael/img_mask_ov_class\n",
      "    StandardTransform\n",
      "Transform: Compose(\n",
      "               Resize(size=(224, 224), interpolation=bilinear, max_size=None, antialias=True)\n",
      "               ToTensor()\n",
      "           )\n",
      "Test data:\n",
      "Dataset ImageFolder\n",
      "    Number of datapoints: 5602\n",
      "    Root location: /Users/yaminigotimukul/DataScience/Berekley/Semesters/Spring_2024/repo/alivio/data/xview_building_damage/challenge/test/disaster/hurricane-michael/img_mask_ov_class\n",
      "    StandardTransform\n",
      "Transform: Compose(\n",
      "               Resize(size=(224, 224), interpolation=bilinear, max_size=None, antialias=True)\n",
      "               ToTensor()\n",
      "           )\n"
     ]
    }
   ],
   "source": [
    "train_dataset = datasets.ImageFolder(get_img_class_dir('hurricane-michael', 'train', TRAIN_DIR), transform=data_transform)\n",
    "valid_dataset = datasets.ImageFolder(get_img_class_dir('hurricane-michael', 'hold', HOLD_DIR), transform=data_transform)\n",
    "test_dataset = datasets.ImageFolder(get_img_class_dir('hurricane-michael', 'test', TEST_DIR), transform=data_transform)\n",
    "#dataloader = torch.utils.data.DataLoader(train_dataset, batch_size=32, shuffle=True, num_workers=2)\n",
    "print(\"Train set records : \", len(train_dataset))\n",
    "print(\"Validation set records : \", len(valid_dataset))\n",
    "print(\"Test set records : \", len(test_dataset))\n",
    "print(\"================================================\")\n",
    "print(f\"Train data:\\n{train_dataset}\")\n",
    "print(f\"Validation data:\\n{valid_dataset}\")\n",
    "print(f\"Test data:\\n{test_dataset}\")"
   ]
  },
  {
   "cell_type": "code",
   "execution_count": 251,
   "id": "90483587-0c3f-4d58-9616-4082666873de",
   "metadata": {},
   "outputs": [
    {
     "name": "stdout",
     "output_type": "stream",
     "text": [
      "class_names  ['destroyed', 'major-damage', 'minor-damage', 'no-damage']\n",
      "class_dict  {'destroyed': 0, 'major-damage': 1, 'minor-damage': 2, 'no-damage': 3}\n"
     ]
    }
   ],
   "source": [
    "class_names = train_dataset.classes\n",
    "print(\"class_names \",class_names)\n",
    "\n",
    "class_dict = train_dataset.class_to_idx\n",
    "print(\"class_dict \",class_dict)"
   ]
  },
  {
   "cell_type": "code",
   "execution_count": 252,
   "id": "f1cc9ba4-beb0-4898-8d4c-2f279207ac1e",
   "metadata": {
    "scrolled": true
   },
   "outputs": [
    {
     "name": "stdout",
     "output_type": "stream",
     "text": [
      "Image tensor:\n",
      "tensor([[[0., 0., 0.,  ..., 0., 0., 0.],\n",
      "         [0., 0., 0.,  ..., 0., 0., 0.],\n",
      "         [0., 0., 0.,  ..., 0., 0., 0.],\n",
      "         ...,\n",
      "         [0., 0., 0.,  ..., 0., 0., 0.],\n",
      "         [0., 0., 0.,  ..., 0., 0., 0.],\n",
      "         [0., 0., 0.,  ..., 0., 0., 0.]],\n",
      "\n",
      "        [[0., 0., 0.,  ..., 0., 0., 0.],\n",
      "         [0., 0., 0.,  ..., 0., 0., 0.],\n",
      "         [0., 0., 0.,  ..., 0., 0., 0.],\n",
      "         ...,\n",
      "         [0., 0., 0.,  ..., 0., 0., 0.],\n",
      "         [0., 0., 0.,  ..., 0., 0., 0.],\n",
      "         [0., 0., 0.,  ..., 0., 0., 0.]],\n",
      "\n",
      "        [[0., 0., 0.,  ..., 0., 0., 0.],\n",
      "         [0., 0., 0.,  ..., 0., 0., 0.],\n",
      "         [0., 0., 0.,  ..., 0., 0., 0.],\n",
      "         ...,\n",
      "         [0., 0., 0.,  ..., 0., 0., 0.],\n",
      "         [0., 0., 0.,  ..., 0., 0., 0.],\n",
      "         [0., 0., 0.,  ..., 0., 0., 0.]]])\n",
      "Image shape: torch.Size([3, 224, 224])\n",
      "Image datatype: torch.float32\n",
      "Image label: 0\n",
      "Label datatype: <class 'int'>\n"
     ]
    }
   ],
   "source": [
    "img, label = train_dataset[0][0], train_dataset[0][1]\n",
    "print(f\"Image tensor:\\n{img}\")\n",
    "print(f\"Image shape: {img.shape}\")\n",
    "print(f\"Image datatype: {img.dtype}\")\n",
    "print(f\"Image label: {label}\")\n",
    "print(f\"Label datatype: {type(label)}\")"
   ]
  },
  {
   "cell_type": "code",
   "execution_count": 253,
   "id": "afec6e7f-e9d3-461a-ae65-8b3b97d1c0ea",
   "metadata": {},
   "outputs": [
    {
     "name": "stdout",
     "output_type": "stream",
     "text": [
      "Original shape: torch.Size([3, 224, 224]) -> [color_channels, height, width]\n",
      "Image permute shape: torch.Size([224, 224, 3]) -> [height, width, color_channels]\n"
     ]
    },
    {
     "data": {
      "image/png": "[encoded data removed]",
      "text/plain": [
       "<Figure size 1000x700 with 1 Axes>"
      ]
     },
     "metadata": {},
     "output_type": "display_data"
    }
   ],
   "source": [
    "# Rearrange the order of dimensions\n",
    "img_permute = img.permute(1, 2, 0)\n",
    "\n",
    "# Print out different shapes (before and after permute)\n",
    "print(f\"Original shape: {img.shape} -> [color_channels, height, width]\")\n",
    "print(f\"Image permute shape: {img_permute.shape} -> [height, width, color_channels]\")\n",
    "\n",
    "# Plot the image\n",
    "plt.figure(figsize=(10, 7))\n",
    "plt.imshow(img.permute(1, 2, 0))\n",
    "plt.axis(\"off\")\n",
    "plt.title(class_names[label], fontsize=14);"
   ]
  },
  {
   "cell_type": "markdown",
   "id": "0c40c69a-a9b9-4a83-b87e-a088f5b8733e",
   "metadata": {},
   "source": [
    "#### Spliting the train into train and validation"
   ]
  },
  {
   "cell_type": "code",
   "execution_count": 254,
   "id": "a0321798-d1c6-4206-bc0f-7578386c92e5",
   "metadata": {},
   "outputs": [],
   "source": [
    "trainset = torch.utils.data.Subset(train_dataset, list(range(len(train_dataset))))\n",
    "testset = torch.utils.data.Subset(test_dataset, list(range(len(test_dataset))))\n",
    "validset = torch.utils.data.Subset(valid_dataset, list(range(len(valid_dataset))))"
   ]
  },
  {
   "cell_type": "code",
   "execution_count": 255,
   "id": "af29299c-3441-4134-bdd6-c5fff74d1c90",
   "metadata": {},
   "outputs": [],
   "source": [
    "batch_size = 128\n",
    "\n",
    "# prepare data loaders\n",
    "train_loader = DataLoader(trainset, batch_size=batch_size, num_workers=2)\n",
    "valid_loader = DataLoader(validset, batch_size=batch_size, num_workers=2)\n",
    "test_loader = DataLoader(testset, batch_size=batch_size, num_workers=2)"
   ]
  },
  {
   "cell_type": "markdown",
   "id": "d1d2642e-ed13-487e-9a4c-f4969e243ce5",
   "metadata": {},
   "source": [
    "#### Class Statistics - Class Balance"
   ]
  },
  {
   "cell_type": "code",
   "execution_count": 256,
   "id": "93db5ed8-b2ea-413c-9d83-7b1ecef3886f",
   "metadata": {},
   "outputs": [],
   "source": [
    "def get_label_stats(data_loader):\n",
    "    labels = [labels for i, (images, labels) in enumerate(data_loader)]\n",
    "    labels = torch.cat((labels), 0)\n",
    "    labels_count = labels.unique(return_counts=True)\n",
    "    \n",
    "    # # print(train_labels_count)\n",
    "    \n",
    "    print('The number of samples per classes in training dataset:\\n')\n",
    "    for label, count in zip(labels_count[0], labels_count[1]):\n",
    "        print('\\t {}: {}'.format(label, count))\n",
    "    return labels, labels_count"
   ]
  },
  {
   "cell_type": "code",
   "execution_count": 257,
   "id": "999674f1-0830-4c6d-b048-ee89516f5525",
   "metadata": {},
   "outputs": [
    {
     "name": "stdout",
     "output_type": "stream",
     "text": [
      "The number of samples per classes in training dataset:\n",
      "\n",
      "\t 0: 757\n",
      "\t 1: 1902\n",
      "\t 2: 5207\n",
      "\t 3: 14588\n"
     ]
    }
   ],
   "source": [
    "# print out classes statistics\n",
    "train_labels, train_labels_count = get_label_stats(train_loader)"
   ]
  },
  {
   "cell_type": "code",
   "execution_count": 258,
   "id": "62415d49-4c41-4f50-b910-fae2b4f79418",
   "metadata": {},
   "outputs": [
    {
     "name": "stdout",
     "output_type": "stream",
     "text": [
      "The number of samples per classes in training dataset:\n",
      "\n",
      "\t 0: 285\n",
      "\t 1: 608\n",
      "\t 2: 1722\n",
      "\t 3: 4457\n"
     ]
    }
   ],
   "source": [
    "# #get all test samples labels\n",
    "valid_labels, valid_labels_count = get_label_stats(valid_loader)"
   ]
  },
  {
   "cell_type": "code",
   "execution_count": 259,
   "id": "1b2797c7-c0b5-446b-8d7d-2f85c36c861c",
   "metadata": {},
   "outputs": [
    {
     "name": "stdout",
     "output_type": "stream",
     "text": [
      "The number of samples per classes in training dataset:\n",
      "\n",
      "\t 0: 183\n",
      "\t 1: 409\n",
      "\t 2: 1363\n",
      "\t 3: 3647\n"
     ]
    }
   ],
   "source": [
    "# #get all test samples labels\n",
    "test_labels, test_labels_count = get_label_stats(test_loader)"
   ]
  },
  {
   "cell_type": "code",
   "execution_count": 18,
   "id": "1fe69d9c-f0e8-42c1-8158-e177a0668ffe",
   "metadata": {},
   "outputs": [
    {
     "data": {
      "text/plain": [
       "{'destroyed': 0,\n",
       " 'major-damage': 1,\n",
       " 'minor-damage': 2,\n",
       " 'no-damage': 3,\n",
       " 'un-classified': 4}"
      ]
     },
     "execution_count": 18,
     "metadata": {},
     "output_type": "execute_result"
    }
   ],
   "source": [
    "class_dict"
   ]
  },
  {
   "cell_type": "markdown",
   "id": "1bf4d18e-c9df-444e-bf66-fbeed6488ae4",
   "metadata": {},
   "source": [
    "#### Metrics"
   ]
  },
  {
   "cell_type": "code",
   "execution_count": 331,
   "id": "42dd9a29-55e8-4ce8-8671-da906bc16a5e",
   "metadata": {},
   "outputs": [],
   "source": [
    "def get_metrics(preds_list, target_list, num_classes = 4 ):\n",
    "    pred_ts=tensor(preds_list)\n",
    "    target_ts = tensor(target_list)\n",
    "    \n",
    "    accuracy = multiclass_accuracy(pred_ts, target_ts, num_classes=4)\n",
    "    \n",
    "    f1_score = multiclass_f1_score(pred_ts, target_ts, num_classes=4, average=\"weighted\")\n",
    "    \n",
    "    precision = multiclass_precision(pred_ts, target_ts, num_classes=4, average=\"weighted\")\n",
    "    recall = multiclass_recall(pred_ts, target_ts, num_classes=4, average=\"weighted\")\n",
    "    \n",
    "    print(\"Accuracy :\", accuracy)\n",
    "    print(\"F1-score : \", f1_score)\n",
    "    print(\"Precision : \", precision)\n",
    "    print(\"Recall : \", recall)"
   ]
  },
  {
   "cell_type": "markdown",
   "id": "68ca9374-87c5-4a52-9e78-613d69ce5725",
   "metadata": {},
   "source": [
    "#### Class Imbalance Correction"
   ]
  },
  {
   "cell_type": "markdown",
   "id": "3ce4c957-af81-40eb-bc05-32ecacb12ab7",
   "metadata": {},
   "source": [
    "#### Sampler -  WeightedSampler"
   ]
  },
  {
   "cell_type": "code",
   "execution_count": 260,
   "id": "8d6a7ae5-f416-4da6-b076-778a847352d2",
   "metadata": {},
   "outputs": [],
   "source": [
    "def get_class_weights(labels):\n",
    "    class_counts = np.bincount(labels)\n",
    "    num_classes = len(class_counts)\n",
    "    total_samples = len(labels)\n",
    "    \n",
    "    class_weights = []\n",
    "    for count in class_counts:\n",
    "        weight = 1 / (count / total_samples)\n",
    "        class_weights.append(weight)\n",
    "    \n",
    "    return class_weights"
   ]
  },
  {
   "cell_type": "code",
   "execution_count": 261,
   "id": "58442b88-090d-41f2-8a33-532291280a73",
   "metadata": {},
   "outputs": [
    {
     "data": {
      "text/plain": [
       "[29.661822985468955, 11.80546792849632, 4.312271941617054, 1.5392103098437073]"
      ]
     },
     "execution_count": 261,
     "metadata": {},
     "output_type": "execute_result"
    }
   ],
   "source": [
    "class_weights=get_class_weights(train_labels)\n",
    "class_weights"
   ]
  },
  {
   "cell_type": "code",
   "execution_count": null,
   "id": "9cfefe7b-940f-4a16-bd0a-0b39892a94b0",
   "metadata": {},
   "outputs": [],
   "source": [
    "#train_imgs = [images for i, (images, labels) in enumerate(train_loader)]"
   ]
  },
  {
   "cell_type": "code",
   "execution_count": 262,
   "id": "084f3993-b98e-4297-8411-553fbde2da51",
   "metadata": {},
   "outputs": [
    {
     "data": {
      "text/plain": [
       "<torch.utils.data.sampler.WeightedRandomSampler at 0x49e7f9e10>"
      ]
     },
     "execution_count": 262,
     "metadata": {},
     "output_type": "execute_result"
    }
   ],
   "source": [
    "class_weights = torch.tensor(class_weights, dtype=torch.float32).to('cpu')\n",
    "# balanced sampler\n",
    "weights = class_weights[train_labels]\n",
    "ws = WeightedRandomSampler(weights, len(weights), replacement=True)\n",
    "ws"
   ]
  },
  {
   "cell_type": "code",
   "execution_count": 263,
   "id": "02f68534-235d-498a-a1ac-bbaa722f9424",
   "metadata": {},
   "outputs": [],
   "source": [
    "train_loader_ws = DataLoader(trainset, batch_size=batch_size, sampler=ws , num_workers=2)"
   ]
  },
  {
   "cell_type": "code",
   "execution_count": 264,
   "id": "d7585fc0-4bea-4d08-93b3-8f497530b99f",
   "metadata": {},
   "outputs": [
    {
     "name": "stdout",
     "output_type": "stream",
     "text": [
      "The number of samples per classes in training dataset:\n",
      "\n",
      "\t 0: 5596\n",
      "\t 1: 5597\n",
      "\t 2: 5545\n",
      "\t 3: 5716\n"
     ]
    }
   ],
   "source": [
    "train_labels_ws, train_labels_count_ws = get_label_stats(train_loader_ws)"
   ]
  },
  {
   "cell_type": "markdown",
   "id": "e84cec26-f550-4197-aa4a-5f1685d9ecc1",
   "metadata": {},
   "source": [
    "### Model Training"
   ]
  },
  {
   "cell_type": "code",
   "execution_count": null,
   "id": "4410c932-074e-46eb-ab21-f54cb879fdcc",
   "metadata": {
    "scrolled": true
   },
   "outputs": [],
   "source": [
    "vision_transformer = models.vit_b_16(weights=models.ViT_B_16_Weights.DEFAULT)\n",
    "vision_transformer"
   ]
  },
  {
   "cell_type": "code",
   "execution_count": 266,
   "id": "ef007a56-8af9-439a-bd8a-8f7246c254ce",
   "metadata": {},
   "outputs": [
    {
     "data": {
      "text/plain": [
       "Sequential(\n",
       "  (head): Linear(in_features=768, out_features=1000, bias=True)\n",
       ")"
      ]
     },
     "execution_count": 266,
     "metadata": {},
     "output_type": "execute_result"
    }
   ],
   "source": [
    "# vit-16 model is trained on ImageNet\n",
    "# we expect to have output of 1000 number of classes\n",
    "\n",
    "vision_transformer.heads"
   ]
  },
  {
   "cell_type": "code",
   "execution_count": 267,
   "id": "2bbab752-dd9e-4f34-a698-8d617a4ef00d",
   "metadata": {},
   "outputs": [],
   "source": [
    "# fine-tune with dataset\n",
    "\n",
    "# change the number of output classes\n",
    "vision_transformer.heads = nn.Linear(in_features=768, out_features=len(class_names), bias=True)\n",
    "\n",
    "# freeze the parameters except the last linear layer\n",
    "#\n",
    "# freeze weights\n",
    "for p in vision_transformer.parameters():\n",
    "    p.requires_grad = False\n",
    "\n",
    "# unfreeze weights of classification head to train\n",
    "for p in vision_transformer.heads.parameters():\n",
    "    p.requires_grad = True"
   ]
  },
  {
   "cell_type": "code",
   "execution_count": null,
   "id": "4e7fd5ac-4bc6-4780-a237-3703685d79b2",
   "metadata": {
    "scrolled": true
   },
   "outputs": [],
   "source": [
    "# check whether corresponding layers are frozen\n",
    "\n",
    "for layer_name, p in vision_transformer.named_parameters():\n",
    "    print('Layer Name: {}, Frozen: {}'.format(layer_name, not p.requires_grad))\n",
    "    print()"
   ]
  },
  {
   "cell_type": "code",
   "execution_count": 347,
   "id": "b6f99b19-5e54-4908-b304-9509e00af5b9",
   "metadata": {},
   "outputs": [],
   "source": [
    "# specify loss function\n",
    "#criterion = nn.CrossEntropyLoss(weight=class_weights)\n",
    "criterion = nn.CrossEntropyLoss()\n",
    "\n",
    "#criterion = FocalLoss(alpha=class_weights, gamma=2)\n",
    "# define optimizer\n",
    "# only train the parameters with requires_grad set to True\n",
    "optimizer = optim.Adam(filter(lambda p: p.requires_grad, vision_transformer.parameters()), lr=0.0001)\n",
    "\n",
    "optimizer_1 = optim.Adam(filter(lambda p: p.requires_grad, vision_transformer.parameters()), lr=0.001)\n",
    "optimizer_2 = optim.SGD(filter(lambda p: p.requires_grad, vision_transformer.parameters()), lr=0.0001)\n",
    "optimizer_3 = optim.AdamW(filter(lambda p: p.requires_grad, vision_transformer.parameters()),lr=0.001,  weight_decay=0.1)\n",
    "optimizer_4 = optim.AdamW(filter(lambda p: p.requires_grad, vision_transformer.parameters()),lr=0.0001,  weight_decay=0.1, amsgrad=True)\n",
    "optimizer_5 = optim.AdamW(filter(lambda p: p.requires_grad, vision_transformer.parameters()),lr=0.0001,  weight_decay=0.1,betas= (0.9,0.999), amsgrad=True)"
   ]
  },
  {
   "cell_type": "code",
   "execution_count": 270,
   "id": "70084c7f-15e7-442a-84e8-df70ee4b73a3",
   "metadata": {},
   "outputs": [
    {
     "data": {
      "text/plain": [
       "True"
      ]
     },
     "execution_count": 270,
     "metadata": {},
     "output_type": "execute_result"
    }
   ],
   "source": [
    "train_on_gpu = torch.backends.mps.is_available()\n",
    "train_on_gpu"
   ]
  },
  {
   "cell_type": "code",
   "execution_count": 31,
   "id": "5048ccb7-3bc3-4140-8886-f6039211b638",
   "metadata": {},
   "outputs": [],
   "source": [
    "# Train model\n",
    "def train_vit(device, train_loader, valid_loader, train_on_gpu = False, n_epoch = 10):\n",
    "    \n",
    "    train_loss_list, valid_loss_list = [], []\n",
    "    \n",
    "    # move model to GPU\n",
    "    if train_on_gpu:\n",
    "        print(\"Device available : \", device)\n",
    "        vision_transformer.to(device)\n",
    "    \n",
    "    # prepare model for training\n",
    "    vision_transformer.train()\n",
    "    \n",
    "    for e in range(n_epoch):\n",
    "        #print(\"Start Iteration \", e)\n",
    "        train_loss = 0.0\n",
    "        valid_loss = 0.0\n",
    "    \n",
    "        # get batch data\n",
    "        for i, (images, targets) in enumerate(train_loader):\n",
    "            \n",
    "            # move to gpu if available\n",
    "            if train_on_gpu:\n",
    "                images, targets = images.to(device), targets.to(device)\n",
    "    \n",
    "            # clear grad\n",
    "            optimizer.zero_grad()\n",
    "    \n",
    "            # feedforward data\n",
    "            outputs = vision_transformer(images)\n",
    "    \n",
    "            # calculate loss\n",
    "            loss = criterion(outputs, targets)\n",
    "    \n",
    "            # backward pass, calculate gradients\n",
    "            loss.backward()\n",
    "    \n",
    "            # update weights\n",
    "            optimizer.step()\n",
    "    \n",
    "            # track loss\n",
    "            train_loss += loss.item()\n",
    "    \n",
    "        # set model to evaluation mode\n",
    "        vision_transformer.eval()\n",
    "    \n",
    "        # validate model\n",
    "        for images, targets in valid_loader:\n",
    "    \n",
    "            # move to gpu if available\n",
    "            if train_on_gpu:\n",
    "                images = images.to(device)\n",
    "                targets = targets.to(device)\n",
    "    \n",
    "            # turn off gradients\n",
    "            with torch.no_grad():\n",
    "    \n",
    "                outputs = vision_transformer(images)\n",
    "                loss = criterion(outputs, targets)\n",
    "                valid_loss += loss.item()\n",
    "    \n",
    "        # set model back to training mode\n",
    "        vision_transformer.train()\n",
    "    \n",
    "        # get average loss values\n",
    "        train_loss = train_loss / len(train_loader)\n",
    "        valid_loss = valid_loss / len(valid_loader)\n",
    "    \n",
    "        train_loss_list.append(train_loss)\n",
    "        valid_loss_list.append(valid_loss)\n",
    "    \n",
    "        # output training statistics for epoch\n",
    "        print('Epoch: {} \\t Training Loss: {:.6f} \\t Validation Loss: {:.6f}'\n",
    "                      .format( (e+1), train_loss, valid_loss))\n",
    "        #print(\"Completed Iteration \", e)\n",
    "    return train_loss_list, valid_loss_list"
   ]
  },
  {
   "cell_type": "code",
   "execution_count": 30,
   "id": "9cad727f-8e2d-41e8-9ad8-bdb3f67ea9cc",
   "metadata": {},
   "outputs": [],
   "source": [
    "def plot_losses(train_loss_list, valid_loss_list):\n",
    "    plt.title(\"Training and Validation Loss\")\n",
    "    plt.xlabel(\"Epoch\")\n",
    "    plt.ylabel(\"Loss\")\n",
    "    \n",
    "    # plot losses\n",
    "    x = list(range(1, n_epoch + 1))\n",
    "    plt.plot(x, train_loss_list, color =\"blue\", label='Train')\n",
    "    plt.plot(x, valid_loss_list, color=\"orange\", label='Validation')\n",
    "    plt.legend(loc=\"upper right\")\n",
    "    plt.xticks(x)\n",
    "    \n",
    "    plt.show()"
   ]
  },
  {
   "cell_type": "markdown",
   "id": "8e532987-a68f-44f1-a38d-14d12b1cbe90",
   "metadata": {},
   "source": [
    "#### Evaluation"
   ]
  },
  {
   "cell_type": "code",
   "execution_count": 36,
   "id": "79f926e5-4baa-4c15-a27e-4eaf73dc869d",
   "metadata": {},
   "outputs": [],
   "source": [
    "def eval_vit(vision_transformer,class_names, test_loader, class_weights, device='cpu'):\n",
    "    # prepare model for evaluation\n",
    "    vision_transformer.eval()\n",
    "    \n",
    "    class_weights = class_weights.to(device)\n",
    "    \n",
    "    test_loss = 0.0\n",
    "    accuracy = 0\n",
    "    \n",
    "    # number of classes\n",
    "    n_class = len(class_names)\n",
    "    \n",
    "    class_correct = np.zeros(n_class)\n",
    "    class_total = np.zeros(n_class)\n",
    "    \n",
    "    # move model back to cpu\n",
    "    vision_transformer = vision_transformer.to(device)\n",
    "    \n",
    "    # test model\n",
    "    for images, targets in test_loader:\n",
    "    \n",
    "        # get outputs\n",
    "        outputs = vision_transformer(images)\n",
    "    \n",
    "        # calculate loss\n",
    "        loss = criterion(outputs, targets)\n",
    "    \n",
    "        # track loss\n",
    "        test_loss += loss.item()\n",
    "    \n",
    "        # get predictions from probabilities\n",
    "        preds = torch.argmax(F.softmax(outputs, dim=1), dim=1)\n",
    "    \n",
    "        # get correct predictions\n",
    "        correct_preds = (preds == targets).type(torch.FloatTensor)\n",
    "    \n",
    "        # calculate and accumulate accuracy\n",
    "        accuracy += torch.mean(correct_preds).item() * 100\n",
    "    \n",
    "        # calculate test accuracy for each class\n",
    "        for c in range(n_class):\n",
    "    \n",
    "            targets = targets.to(device)\n",
    "    \n",
    "            class_total[c] += (targets == c).sum()\n",
    "            class_correct[c] += ((correct_preds) * (targets == c)).sum()\n",
    "    \n",
    "    # get average accuracy\n",
    "    accuracy = accuracy / len(test_loader)\n",
    "    \n",
    "    # get average loss\n",
    "    test_loss = test_loss / len(test_loader)\n",
    "    \n",
    "    # output test loss statistics\n",
    "    print('Test Loss: {:.6f}'.format(test_loss))\n",
    "    return class_correct, class_total"
   ]
  },
  {
   "cell_type": "code",
   "execution_count": 37,
   "id": "5f18b3ca-f96e-4044-bfd0-d7bf6ea2a8ec",
   "metadata": {},
   "outputs": [],
   "source": [
    "def accuracy_per_class(class_correct, class_total, class_names ):\n",
    "    n_class = len(class_names)\n",
    "\n",
    "    class_accuracy = class_correct / class_total\n",
    "\n",
    "    print('Test Accuracy of Classes')\n",
    "    print()\n",
    "    \n",
    "    for c in range(n_class):\n",
    "        print('{}\\t: {}% \\t ({}/{})'.format(class_names[c],\n",
    "                                    int(class_accuracy[c] * 100), int(class_correct[c]), int(class_total[c])) )\n",
    "    \n",
    "    print()\n",
    "    print('Test Accuracy of Dataset: \\t {}% \\t ({}/{})'.format(int(accuracy),\n",
    "                                                               int(np.sum(class_correct)), int(np.sum(class_total)) ))\n",
    "    "
   ]
  },
  {
   "cell_type": "markdown",
   "id": "2f517e82-8e12-46ef-95a2-d4bebd840de5",
   "metadata": {},
   "source": [
    "#### Training & Evaluation using Weighted Sampler"
   ]
  },
  {
   "cell_type": "markdown",
   "id": "a0a76362-e5e2-41b5-b53e-aa2ffc1918d1",
   "metadata": {},
   "source": [
    "#### Epoches =5"
   ]
  },
  {
   "cell_type": "code",
   "execution_count": 32,
   "id": "6c3adfb5-bf59-492d-9fbb-9ea9171db785",
   "metadata": {},
   "outputs": [
    {
     "name": "stdout",
     "output_type": "stream",
     "text": [
      "Device available :  mps\n",
      "Start Iteration  0\n",
      "Epoch: 1 \t Training Loss: 1.594629 \t Validation Loss: 1.648056\n",
      "Completed Iteration  0\n",
      "Start Iteration  1\n",
      "Epoch: 2 \t Training Loss: 1.564477 \t Validation Loss: 1.563349\n",
      "Completed Iteration  1\n",
      "Start Iteration  2\n",
      "Epoch: 3 \t Training Loss: 1.544417 \t Validation Loss: 1.618612\n",
      "Completed Iteration  2\n",
      "Start Iteration  3\n",
      "Epoch: 4 \t Training Loss: 1.530884 \t Validation Loss: 1.563632\n",
      "Completed Iteration  3\n",
      "Start Iteration  4\n",
      "Epoch: 5 \t Training Loss: 1.521391 \t Validation Loss: 1.535777\n",
      "Completed Iteration  4\n"
     ]
    }
   ],
   "source": [
    "train_loss_list_ws, valid_loss_list_ws = train_vit(device, train_loader_ws , valid_loader, train_on_gpu = True, n_epoch = 5)"
   ]
  },
  {
   "cell_type": "code",
   "execution_count": 34,
   "id": "65251a2c-69e6-400d-89c0-84c942cfabbe",
   "metadata": {},
   "outputs": [
    {
     "data": {
      "image/png": "[encoded data removed]",
      "text/plain": [
       "<Figure size 640x480 with 1 Axes>"
      ]
     },
     "metadata": {},
     "output_type": "display_data"
    }
   ],
   "source": [
    "n_epoch = 5\n",
    "plot_losses(train_loss_list_ws, valid_loss_list_ws)"
   ]
  },
  {
   "cell_type": "code",
   "execution_count": 42,
   "id": "86fd33cb-3522-4726-80e4-bc7452708e90",
   "metadata": {},
   "outputs": [
    {
     "name": "stdout",
     "output_type": "stream",
     "text": [
      "Device available :  mps\n",
      "Epoch: 1 \t Training Loss: 1.029876 \t Validation Loss: 1.570930\n",
      "Epoch: 2 \t Training Loss: 1.131172 \t Validation Loss: 1.426397\n",
      "Epoch: 3 \t Training Loss: 1.118510 \t Validation Loss: 1.368962\n",
      "Epoch: 4 \t Training Loss: 1.114036 \t Validation Loss: 1.336934\n",
      "Epoch: 5 \t Training Loss: 1.111377 \t Validation Loss: 1.316477\n"
     ]
    }
   ],
   "source": [
    "    n_epoch = 5\n",
    "    train_loss_list, valid_loss_list = [], []\n",
    "    \n",
    "    # move model to GPU\n",
    "    if train_on_gpu:\n",
    "        print(\"Device available : \", device)\n",
    "        vision_transformer.to(device)\n",
    "    \n",
    "    # prepare model for training\n",
    "    vision_transformer.train()\n",
    "    \n",
    "    for e in range(n_epoch):\n",
    "        #print(\"Start Iteration \", e)\n",
    "        train_loss = 0.0\n",
    "        valid_loss = 0.0\n",
    "    \n",
    "        # get batch data\n",
    "        for i, (images, targets) in enumerate(train_loader):\n",
    "            \n",
    "            # move to gpu if available\n",
    "            if train_on_gpu:\n",
    "                images, targets = images.to(device), targets.to(device)\n",
    "    \n",
    "            # clear grad\n",
    "            optimizer.zero_grad()\n",
    "    \n",
    "            # feedforward data\n",
    "            outputs = vision_transformer(images)\n",
    "    \n",
    "            # calculate loss\n",
    "            loss = criterion(outputs, targets)\n",
    "    \n",
    "            # backward pass, calculate gradients\n",
    "            loss.backward()\n",
    "    \n",
    "            # update weights\n",
    "            optimizer.step()\n",
    "    \n",
    "            # track loss\n",
    "            train_loss += loss.item()\n",
    "    \n",
    "        # set model to evaluation mode\n",
    "        vision_transformer.eval()\n",
    "    \n",
    "        # validate model\n",
    "        for images, targets in valid_loader:\n",
    "    \n",
    "            # move to gpu if available\n",
    "            if train_on_gpu:\n",
    "                images = images.to(device)\n",
    "                targets = targets.to(device)\n",
    "    \n",
    "            # turn off gradients\n",
    "            with torch.no_grad():\n",
    "    \n",
    "                outputs = vision_transformer(images)\n",
    "                loss = criterion(outputs, targets)\n",
    "                valid_loss += loss.item()\n",
    "    \n",
    "        # set model back to training mode\n",
    "        vision_transformer.train()\n",
    "    \n",
    "        # get average loss values\n",
    "        train_loss = train_loss / len(train_loader)\n",
    "        valid_loss = valid_loss / len(valid_loader)\n",
    "    \n",
    "        train_loss_list.append(train_loss)\n",
    "        valid_loss_list.append(valid_loss)\n",
    "    \n",
    "        # output training statistics for epoch\n",
    "        print('Epoch: {} \\t Training Loss: {:.6f} \\t Validation Loss: {:.6f}'\n",
    "                      .format( (e+1), train_loss, valid_loss))\n",
    "        #print(\"Completed Iteration \", e)"
   ]
  },
  {
   "cell_type": "code",
   "execution_count": 44,
   "id": "e9498a72-9529-4199-8584-9629908fbedc",
   "metadata": {},
   "outputs": [
    {
     "name": "stdout",
     "output_type": "stream",
     "text": [
      "Test Loss: 1.288538\n"
     ]
    }
   ],
   "source": [
    "# prepare model for evaluation\n",
    "vision_transformer.eval()\n",
    "\n",
    "class_weights = class_weights.to('cpu')\n",
    "\n",
    "test_loss = 0.0\n",
    "accuracy = 0\n",
    "\n",
    "# number of classes\n",
    "n_class = len(class_names)\n",
    "\n",
    "class_correct = np.zeros(n_class)\n",
    "class_total = np.zeros(n_class)\n",
    "\n",
    "# move model back to cpu\n",
    "vision_transformer = vision_transformer.to('cpu')\n",
    "\n",
    "# test model\n",
    "for images, targets in test_loader:\n",
    "\n",
    "    # get outputs\n",
    "    outputs = vision_transformer(images)\n",
    "\n",
    "    # calculate loss\n",
    "    loss = criterion(outputs, targets)\n",
    "\n",
    "    # track loss\n",
    "    test_loss += loss.item()\n",
    "\n",
    "    # get predictions from probabilities\n",
    "    preds = torch.argmax(F.softmax(outputs, dim=1), dim=1)\n",
    "\n",
    "    # get correct predictions\n",
    "    correct_preds = (preds == targets).type(torch.FloatTensor)\n",
    "\n",
    "    # calculate and accumulate accuracy\n",
    "    accuracy += torch.mean(correct_preds).item() * 100\n",
    "\n",
    "    # calculate test accuracy for each class\n",
    "    for c in range(n_class):\n",
    "\n",
    "        targets = targets.to('cpu')\n",
    "\n",
    "        class_total[c] += (targets == c).sum()\n",
    "        class_correct[c] += ((correct_preds) * (targets == c)).sum()\n",
    "\n",
    "# get average accuracy\n",
    "accuracy = accuracy / len(test_loader)\n",
    "\n",
    "# get average loss\n",
    "test_loss = test_loss / len(test_loader)\n",
    "\n",
    "# output test loss statistics\n",
    "print('Test Loss: {:.6f}'.format(test_loss))"
   ]
  },
  {
   "cell_type": "code",
   "execution_count": 45,
   "id": "7ea0b7aa-5fff-4cf8-971c-8ac52cd733e0",
   "metadata": {},
   "outputs": [
    {
     "name": "stdout",
     "output_type": "stream",
     "text": [
      "Test Accuracy of Classes\n",
      "\n",
      "destroyed\t: 0% \t (0/183)\n",
      "major-damage\t: 0% \t (0/409)\n",
      "minor-damage\t: 0% \t (0/1363)\n",
      "no-damage\t: 100% \t (3647/3647)\n",
      "un-classified\t: 0% \t (0/55)\n",
      "\n",
      "Test Accuracy of Dataset: \t 63% \t (3647/5657)\n"
     ]
    }
   ],
   "source": [
    "accuracy_per_class(class_correct, class_total, class_names)"
   ]
  },
  {
   "cell_type": "markdown",
   "id": "d4a29969-9414-4c1f-90dc-db6461cc5365",
   "metadata": {},
   "source": [
    "#### Epoches =15, lr=0.0001"
   ]
  },
  {
   "cell_type": "code",
   "execution_count": 333,
   "id": "85073c82-6645-42ab-819d-2c2c76fd8f35",
   "metadata": {},
   "outputs": [
    {
     "name": "stdout",
     "output_type": "stream",
     "text": [
      "Device available :  mps\n",
      "Epoch: 1 \t Training Loss: 1.245873 \t Validation Loss: 1.325884\n",
      "Epoch: 2 \t Training Loss: 1.250325 \t Validation Loss: 1.316489\n",
      "Epoch: 3 \t Training Loss: 1.246971 \t Validation Loss: 1.288684\n",
      "Epoch: 4 \t Training Loss: 1.243357 \t Validation Loss: 1.359040\n",
      "Epoch: 5 \t Training Loss: 1.242185 \t Validation Loss: 1.310385\n",
      "Epoch: 6 \t Training Loss: 1.239688 \t Validation Loss: 1.330525\n",
      "Epoch: 7 \t Training Loss: 1.242410 \t Validation Loss: 1.350666\n",
      "Epoch: 8 \t Training Loss: 1.245293 \t Validation Loss: 1.349686\n",
      "Epoch: 9 \t Training Loss: 1.240974 \t Validation Loss: 1.339709\n",
      "Epoch: 10 \t Training Loss: 1.245327 \t Validation Loss: 1.284389\n",
      "Epoch: 11 \t Training Loss: 1.247945 \t Validation Loss: 1.331089\n",
      "Epoch: 12 \t Training Loss: 1.244745 \t Validation Loss: 1.325484\n",
      "Epoch: 13 \t Training Loss: 1.245380 \t Validation Loss: 1.343424\n",
      "Epoch: 14 \t Training Loss: 1.245534 \t Validation Loss: 1.316287\n",
      "Epoch: 15 \t Training Loss: 1.246572 \t Validation Loss: 1.378443\n"
     ]
    }
   ],
   "source": [
    "    n_epoch = 15\n",
    "    data = train_loader_ws\n",
    "    train_loss_list, valid_loss_list = [], []\n",
    "    \n",
    "    # move model to GPU\n",
    "    if train_on_gpu:\n",
    "        print(\"Device available : \", device)\n",
    "        vision_transformer.to(device)\n",
    "    \n",
    "    # prepare model for training\n",
    "    vision_transformer.train()\n",
    "    \n",
    "    for e in range(n_epoch):\n",
    "        #print(\"Start Iteration \", e)\n",
    "        train_loss = 0.0\n",
    "        valid_loss = 0.0\n",
    "    \n",
    "        # get batch data\n",
    "        for i, (images, targets) in enumerate(data):\n",
    "            \n",
    "            # move to gpu if available\n",
    "            if train_on_gpu:\n",
    "                images, targets = images.to(device), targets.to(device)\n",
    "    \n",
    "            # clear grad\n",
    "            optimizer.zero_grad()\n",
    "    \n",
    "            # feedforward data\n",
    "            outputs = vision_transformer(images)\n",
    "    \n",
    "            # calculate loss\n",
    "            loss = criterion(outputs, targets)\n",
    "    \n",
    "            # backward pass, calculate gradients\n",
    "            loss.backward()\n",
    "    \n",
    "            # update weights\n",
    "            optimizer.step()\n",
    "    \n",
    "            # track loss\n",
    "            train_loss += loss.item()\n",
    "    \n",
    "        # set model to evaluation mode\n",
    "        vision_transformer.eval()\n",
    "    \n",
    "        # validate model\n",
    "        for images, targets in valid_loader:\n",
    "    \n",
    "            # move to gpu if available\n",
    "            if train_on_gpu:\n",
    "                images = images.to(device)\n",
    "                targets = targets.to(device)\n",
    "    \n",
    "            # turn off gradients\n",
    "            with torch.no_grad():\n",
    "    \n",
    "                outputs = vision_transformer(images)\n",
    "                loss = criterion(outputs, targets)\n",
    "                valid_loss += loss.item()\n",
    "    \n",
    "        # set model back to training mode\n",
    "        vision_transformer.train()\n",
    "    \n",
    "        # get average loss values\n",
    "        train_loss = train_loss / len(data)\n",
    "        valid_loss = valid_loss / len(valid_loader)\n",
    "    \n",
    "        train_loss_list.append(train_loss)\n",
    "        valid_loss_list.append(valid_loss)\n",
    "    \n",
    "        # output training statistics for epoch\n",
    "        print('Epoch: {} \\t Training Loss: {:.6f} \\t Validation Loss: {:.6f}'\n",
    "                      .format( (e+1), train_loss, valid_loss))"
   ]
  },
  {
   "cell_type": "code",
   "execution_count": 334,
   "id": "ed283e7c-cfc6-41e1-bd87-bce88f384080",
   "metadata": {},
   "outputs": [
    {
     "data": {
      "image/png": "[encoded data removed]",
      "text/plain": [
       "<Figure size 640x480 with 1 Axes>"
      ]
     },
     "metadata": {},
     "output_type": "display_data"
    }
   ],
   "source": [
    "n_epoch = 15\n",
    "plot_losses(train_loss_list, valid_loss_list)"
   ]
  },
  {
   "cell_type": "code",
   "execution_count": 335,
   "id": "9f84eea9-8ef2-414f-8808-2cc607ccc4e6",
   "metadata": {},
   "outputs": [
    {
     "name": "stdout",
     "output_type": "stream",
     "text": [
      "Test Loss: 1.378722\n"
     ]
    }
   ],
   "source": [
    "# prepare model for evaluation\n",
    "vision_transformer.eval()\n",
    "\n",
    "class_weights = class_weights.to('cpu')\n",
    "preds_list = []\n",
    "target_list = []\n",
    "output_list = []\n",
    "\n",
    "test_loss = 0.0\n",
    "accuracy = 0\n",
    "\n",
    "# number of classes\n",
    "n_class = len(class_names)\n",
    "\n",
    "class_correct = np.zeros(n_class)\n",
    "class_total = np.zeros(n_class)\n",
    "\n",
    "# move model back to cpu\n",
    "vision_transformer = vision_transformer.to('cpu')\n",
    "\n",
    "# test model\n",
    "for images, targets in test_loader:\n",
    "\n",
    "    # get outputs\n",
    "    outputs = vision_transformer(images)\n",
    "\n",
    "    # calculate loss\n",
    "    loss = criterion(outputs, targets)\n",
    "\n",
    "    # track loss\n",
    "    test_loss += loss.item()\n",
    "\n",
    "    # get predictions from probabilities\n",
    "    preds = torch.argmax(F.softmax(outputs, dim=1), dim=1)\n",
    "\n",
    "    target_list.extend(targets)\n",
    "    output_list.extend(torch.argmax(F.softmax(outputs, dim=1), dim=1 ))\n",
    "    preds_list.extend(preds)\n",
    "\n",
    "    # get correct predictions\n",
    "    correct_preds = (preds == targets).type(torch.FloatTensor)\n",
    "\n",
    "    # calculate and accumulate accuracy\n",
    "    accuracy += torch.mean(correct_preds).item() * 100\n",
    "\n",
    "    # calculate test accuracy for each class\n",
    "    for c in range(n_class):\n",
    "\n",
    "        targets = targets.to('cpu')\n",
    "\n",
    "        class_total[c] += (targets == c).sum()\n",
    "        class_correct[c] += ((correct_preds) * (targets == c)).sum()\n",
    "\n",
    "# get average accuracy\n",
    "accuracy = accuracy / len(test_loader)\n",
    "\n",
    "# get average loss\n",
    "test_loss = test_loss / len(test_loader)\n",
    "\n",
    "# output test loss statistics\n",
    "print('Test Loss: {:.6f}'.format(test_loss))"
   ]
  },
  {
   "cell_type": "code",
   "execution_count": 336,
   "id": "76cd5c8f-30bc-4ce6-aab8-4a6c920aac4c",
   "metadata": {
    "scrolled": true
   },
   "outputs": [
    {
     "name": "stdout",
     "output_type": "stream",
     "text": [
      "Test Accuracy of Classes\n",
      "\n",
      "destroyed\t: 56% \t (104/183)\n",
      "major-damage\t: 46% \t (192/409)\n",
      "minor-damage\t: 44% \t (605/1363)\n",
      "no-damage\t: 10% \t (386/3647)\n",
      "\n",
      "Test Accuracy of Dataset: \t 22% \t (1287/5602)\n"
     ]
    }
   ],
   "source": [
    "accuracy_per_class(class_correct, class_total, class_names)"
   ]
  },
  {
   "cell_type": "code",
   "execution_count": 337,
   "id": "73270135-46c8-4282-b306-5468b5602658",
   "metadata": {},
   "outputs": [
    {
     "name": "stdout",
     "output_type": "stream",
     "text": [
      "Accuracy : tensor(0.2297)\n",
      "F1-score :  tensor(0.2226)\n",
      "Precision :  tensor(0.5412)\n",
      "Recall :  tensor(0.2297)\n"
     ]
    }
   ],
   "source": [
    "get_metrics(preds_list, target_list)"
   ]
  },
  {
   "cell_type": "markdown",
   "id": "fc44bc74-3643-486a-af52-df964af0f129",
   "metadata": {},
   "source": [
    "#### SGD, lr=0.0001, epoches =15"
   ]
  },
  {
   "cell_type": "code",
   "execution_count": 339,
   "id": "421800d8-30b6-480c-9873-b0176b46bf7c",
   "metadata": {},
   "outputs": [
    {
     "name": "stdout",
     "output_type": "stream",
     "text": [
      "Device available :  mps\n",
      "Epoch: 1 \t Training Loss: 1.239651 \t Validation Loss: 1.348296\n",
      "Epoch: 2 \t Training Loss: 1.245380 \t Validation Loss: 1.334361\n",
      "Epoch: 3 \t Training Loss: 1.245629 \t Validation Loss: 1.330823\n",
      "Epoch: 4 \t Training Loss: 1.238891 \t Validation Loss: 1.329055\n",
      "Epoch: 5 \t Training Loss: 1.244169 \t Validation Loss: 1.319541\n",
      "Epoch: 6 \t Training Loss: 1.246443 \t Validation Loss: 1.317264\n",
      "Epoch: 7 \t Training Loss: 1.246368 \t Validation Loss: 1.321291\n",
      "Epoch: 8 \t Training Loss: 1.245319 \t Validation Loss: 1.328337\n",
      "Epoch: 9 \t Training Loss: 1.242710 \t Validation Loss: 1.322025\n",
      "Epoch: 10 \t Training Loss: 1.245352 \t Validation Loss: 1.326792\n",
      "Epoch: 11 \t Training Loss: 1.242627 \t Validation Loss: 1.325302\n",
      "Epoch: 12 \t Training Loss: 1.241309 \t Validation Loss: 1.320706\n",
      "Epoch: 13 \t Training Loss: 1.245916 \t Validation Loss: 1.324595\n",
      "Epoch: 14 \t Training Loss: 1.243944 \t Validation Loss: 1.319469\n",
      "Epoch: 15 \t Training Loss: 1.242592 \t Validation Loss: 1.317934\n"
     ]
    },
    {
     "data": {
      "image/png": "[encoded data removed]",
      "text/plain": [
       "<Figure size 640x480 with 1 Axes>"
      ]
     },
     "metadata": {},
     "output_type": "display_data"
    },
    {
     "name": "stdout",
     "output_type": "stream",
     "text": [
      "Test Loss: 1.315578\n",
      "Test Accuracy of Classes\n",
      "\n",
      "destroyed\t: 56% \t (104/183)\n",
      "major-damage\t: 45% \t (187/409)\n",
      "minor-damage\t: 30% \t (418/1363)\n",
      "no-damage\t: 26% \t (976/3647)\n",
      "\n",
      "Test Accuracy of Dataset: \t 30% \t (1685/5602)\n",
      "Accuracy : tensor(0.3008)\n",
      "F1-score :  tensor(0.3431)\n",
      "Precision :  tensor(0.5326)\n",
      "Recall :  tensor(0.3008)\n"
     ]
    }
   ],
   "source": [
    "n_epoch = 15\n",
    "\n",
    "data = train_loader_ws\n",
    "train_loss_list, valid_loss_list = [], []\n",
    "\n",
    "# move model to GPU\n",
    "if train_on_gpu:\n",
    "    print(\"Device available : \", device)\n",
    "    vision_transformer.to(device)\n",
    "\n",
    "# prepare model for training\n",
    "vision_transformer.train()\n",
    "\n",
    "for e in range(n_epoch):\n",
    "    #print(\"Start Iteration \", e)\n",
    "    train_loss = 0.0\n",
    "    valid_loss = 0.0\n",
    "\n",
    "    # get batch data\n",
    "    for i, (images, targets) in enumerate(data):\n",
    "        \n",
    "        # move to gpu if available\n",
    "        if train_on_gpu:\n",
    "            images, targets = images.to(device), targets.to(device)\n",
    "\n",
    "        # clear grad\n",
    "        optimizer_2.zero_grad()\n",
    "\n",
    "        # feedforward data\n",
    "        outputs = vision_transformer(images)\n",
    "\n",
    "        # calculate loss\n",
    "        loss = criterion(outputs, targets)\n",
    "\n",
    "        # backward pass, calculate gradients\n",
    "        loss.backward()\n",
    "\n",
    "        # update weights\n",
    "        optimizer_2.step()\n",
    "\n",
    "        # track loss\n",
    "        train_loss += loss.item()\n",
    "\n",
    "    # set model to evaluation mode\n",
    "    vision_transformer.eval()\n",
    "\n",
    "    # validate model\n",
    "    for images, targets in valid_loader:\n",
    "\n",
    "        # move to gpu if available\n",
    "        if train_on_gpu:\n",
    "            images = images.to(device)\n",
    "            targets = targets.to(device)\n",
    "\n",
    "        # turn off gradients\n",
    "        with torch.no_grad():\n",
    "\n",
    "            outputs = vision_transformer(images)\n",
    "            loss = criterion(outputs, targets)\n",
    "            valid_loss += loss.item()\n",
    "\n",
    "    # set model back to training mode\n",
    "    vision_transformer.train()\n",
    "\n",
    "    # get average loss values\n",
    "    train_loss = train_loss / len(data)\n",
    "    valid_loss = valid_loss / len(valid_loader)\n",
    "\n",
    "    train_loss_list.append(train_loss)\n",
    "    valid_loss_list.append(valid_loss)\n",
    "\n",
    "    # output training statistics for epoch\n",
    "    print('Epoch: {} \\t Training Loss: {:.6f} \\t Validation Loss: {:.6f}'\n",
    "                  .format( (e+1), train_loss, valid_loss))\n",
    "\n",
    "\n",
    "plot_losses(train_loss_list, valid_loss_list)\n",
    "\n",
    "# prepare model for evaluation\n",
    "vision_transformer.eval()\n",
    "\n",
    "class_weights = class_weights.to('cpu')\n",
    "preds_list = []\n",
    "target_list = []\n",
    "output_list = []\n",
    "\n",
    "test_loss = 0.0\n",
    "accuracy = 0\n",
    "\n",
    "# number of classes\n",
    "n_class = len(class_names)\n",
    "\n",
    "class_correct = np.zeros(n_class)\n",
    "class_total = np.zeros(n_class)\n",
    "\n",
    "# move model back to cpu\n",
    "vision_transformer = vision_transformer.to('cpu')\n",
    "\n",
    "# test model\n",
    "for images, targets in test_loader:\n",
    "\n",
    "    # get outputs\n",
    "    outputs = vision_transformer(images)\n",
    "\n",
    "    # calculate loss\n",
    "    loss = criterion(outputs, targets)\n",
    "\n",
    "    # track loss\n",
    "    test_loss += loss.item()\n",
    "\n",
    "    # get predictions from probabilities\n",
    "    preds = torch.argmax(F.softmax(outputs, dim=1), dim=1)\n",
    "\n",
    "    target_list.extend(targets)\n",
    "    output_list.extend(torch.argmax(F.softmax(outputs, dim=1), dim=1 ))\n",
    "    preds_list.extend(preds)\n",
    "\n",
    "    # get correct predictions\n",
    "    correct_preds = (preds == targets).type(torch.FloatTensor)\n",
    "\n",
    "    # calculate and accumulate accuracy\n",
    "    accuracy += torch.mean(correct_preds).item() * 100\n",
    "\n",
    "    # calculate test accuracy for each class\n",
    "    for c in range(n_class):\n",
    "\n",
    "        targets = targets.to('cpu')\n",
    "\n",
    "        class_total[c] += (targets == c).sum()\n",
    "        class_correct[c] += ((correct_preds) * (targets == c)).sum()\n",
    "\n",
    "# get average accuracy\n",
    "accuracy = accuracy / len(test_loader)\n",
    "\n",
    "# get average loss\n",
    "test_loss = test_loss / len(test_loader)\n",
    "\n",
    "# output test loss statistics\n",
    "print('Test Loss: {:.6f}'.format(test_loss))\n",
    "\n",
    "accuracy_per_class(class_correct, class_total, class_names)\n",
    "\n",
    "get_metrics(preds_list, target_list)"
   ]
  },
  {
   "cell_type": "markdown",
   "id": "a2b7c7ed-fa75-4265-8fd4-c01b9dd36a94",
   "metadata": {},
   "source": [
    "#### Epoches =20, LR=0.001"
   ]
  },
  {
   "cell_type": "code",
   "execution_count": 279,
   "id": "bc0ecf54-937e-476b-835b-5e11ac74774b",
   "metadata": {},
   "outputs": [
    {
     "name": "stdout",
     "output_type": "stream",
     "text": [
      "Device available :  mps\n",
      "Epoch: 1 \t Training Loss: 1.316357 \t Validation Loss: 1.340290\n",
      "Epoch: 2 \t Training Loss: 1.297129 \t Validation Loss: 1.354300\n",
      "Epoch: 3 \t Training Loss: 1.291978 \t Validation Loss: 1.350017\n",
      "Epoch: 4 \t Training Loss: 1.287721 \t Validation Loss: 1.393980\n",
      "Epoch: 5 \t Training Loss: 1.282067 \t Validation Loss: 1.458812\n",
      "Epoch: 6 \t Training Loss: 1.274431 \t Validation Loss: 1.422644\n",
      "Epoch: 7 \t Training Loss: 1.274786 \t Validation Loss: 1.232070\n",
      "Epoch: 8 \t Training Loss: 1.266894 \t Validation Loss: 1.237244\n",
      "Epoch: 9 \t Training Loss: 1.275054 \t Validation Loss: 1.261387\n",
      "Epoch: 10 \t Training Loss: 1.266797 \t Validation Loss: 1.324771\n",
      "Epoch: 11 \t Training Loss: 1.266176 \t Validation Loss: 1.375170\n",
      "Epoch: 12 \t Training Loss: 1.262144 \t Validation Loss: 1.287203\n",
      "Epoch: 13 \t Training Loss: 1.266063 \t Validation Loss: 1.403027\n",
      "Epoch: 14 \t Training Loss: 1.260921 \t Validation Loss: 1.215971\n",
      "Epoch: 15 \t Training Loss: 1.253648 \t Validation Loss: 1.400056\n",
      "Epoch: 16 \t Training Loss: 1.260034 \t Validation Loss: 1.290191\n",
      "Epoch: 17 \t Training Loss: 1.262703 \t Validation Loss: 1.295761\n",
      "Epoch: 18 \t Training Loss: 1.254378 \t Validation Loss: 1.346143\n",
      "Epoch: 19 \t Training Loss: 1.253307 \t Validation Loss: 1.224796\n",
      "Epoch: 20 \t Training Loss: 1.250563 \t Validation Loss: 1.314287\n"
     ]
    }
   ],
   "source": [
    "    n_epoch = 20\n",
    "    data = train_loader_ws\n",
    "    train_loss_list, valid_loss_list = [], []\n",
    "    \n",
    "    # move model to GPU\n",
    "    if train_on_gpu:\n",
    "        print(\"Device available : \", device)\n",
    "        vision_transformer.to(device)\n",
    "    \n",
    "    # prepare model for training\n",
    "    vision_transformer.train()\n",
    "    \n",
    "    for e in range(n_epoch):\n",
    "        #print(\"Start Iteration \", e)\n",
    "        train_loss = 0.0\n",
    "        valid_loss = 0.0\n",
    "    \n",
    "        # get batch data\n",
    "        for i, (images, targets) in enumerate(data):\n",
    "            \n",
    "            # move to gpu if available\n",
    "            if train_on_gpu:\n",
    "                images, targets = images.to(device), targets.to(device)\n",
    "    \n",
    "            # clear grad\n",
    "            optimizer_1.zero_grad()\n",
    "    \n",
    "            # feedforward data\n",
    "            outputs = vision_transformer(images)\n",
    "    \n",
    "            # calculate loss\n",
    "            loss = criterion(outputs, targets)\n",
    "    \n",
    "            # backward pass, calculate gradients\n",
    "            loss.backward()\n",
    "    \n",
    "            # update weights\n",
    "            optimizer_1.step()\n",
    "    \n",
    "            # track loss\n",
    "            train_loss += loss.item()\n",
    "    \n",
    "        # set model to evaluation mode\n",
    "        vision_transformer.eval()\n",
    "    \n",
    "        # validate model\n",
    "        for images, targets in valid_loader:\n",
    "    \n",
    "            # move to gpu if available\n",
    "            if train_on_gpu:\n",
    "                images = images.to(device)\n",
    "                targets = targets.to(device)\n",
    "    \n",
    "            # turn off gradients\n",
    "            with torch.no_grad():\n",
    "    \n",
    "                outputs = vision_transformer(images)\n",
    "                loss = criterion(outputs, targets)\n",
    "                valid_loss += loss.item()\n",
    "    \n",
    "        # set model back to training mode\n",
    "        vision_transformer.train()\n",
    "    \n",
    "        # get average loss values\n",
    "        train_loss = train_loss / len(data)\n",
    "        valid_loss = valid_loss / len(valid_loader)\n",
    "    \n",
    "        train_loss_list.append(train_loss)\n",
    "        valid_loss_list.append(valid_loss)\n",
    "    \n",
    "        # output training statistics for epoch\n",
    "        print('Epoch: {} \\t Training Loss: {:.6f} \\t Validation Loss: {:.6f}'\n",
    "                      .format( (e+1), train_loss, valid_loss))"
   ]
  },
  {
   "cell_type": "code",
   "execution_count": 280,
   "id": "bb0e6afd-c70b-4dae-bb55-8e7cb01fb135",
   "metadata": {},
   "outputs": [
    {
     "data": {
      "image/png": "[encoded data removed]",
      "text/plain": [
       "<Figure size 640x480 with 1 Axes>"
      ]
     },
     "metadata": {},
     "output_type": "display_data"
    }
   ],
   "source": [
    "n_epoch =  20\n",
    "plot_losses(train_loss_list, valid_loss_list)"
   ]
  },
  {
   "cell_type": "code",
   "execution_count": 323,
   "id": "b9839f1a-b3d8-4bc8-9994-591b5433c23b",
   "metadata": {},
   "outputs": [
    {
     "name": "stdout",
     "output_type": "stream",
     "text": [
      "Test Loss: 1.310831\n"
     ]
    }
   ],
   "source": [
    "# prepare model for evaluation\n",
    "vision_transformer.eval()\n",
    "\n",
    "class_weights = class_weights.to('cpu')\n",
    "\n",
    "test_loss = 0.0\n",
    "accuracy = 0\n",
    "\n",
    "# number of classes\n",
    "n_class = len(class_names)\n",
    "\n",
    "class_correct = np.zeros(n_class)\n",
    "class_total = np.zeros(n_class)\n",
    "\n",
    "preds_list = []\n",
    "target_list = []\n",
    "output_list = []\n",
    "# move model back to cpu\n",
    "vision_transformer = vision_transformer.to('cpu')\n",
    "\n",
    "# test model\n",
    "for images, targets in test_loader:\n",
    "\n",
    "    # get outputs\n",
    "    outputs = vision_transformer(images)\n",
    "\n",
    "    # calculate loss\n",
    "    loss = criterion(outputs, targets)\n",
    "\n",
    "    # track loss\n",
    "    test_loss += loss.item()\n",
    "\n",
    "    # get predictions from probabilities\n",
    "    preds = torch.argmax(F.softmax(outputs, dim=1), dim=1)\n",
    "\n",
    "    # get correct predictions\n",
    "    correct_preds = (preds == targets).type(torch.FloatTensor)\n",
    "\n",
    "    target_list.extend(targets)\n",
    "    output_list.extend(torch.argmax(F.softmax(outputs, dim=1), dim=1 ))\n",
    "    preds_list.extend(preds)\n",
    "    \n",
    "    # calculate and accumulate accuracy\n",
    "    accuracy += torch.mean(correct_preds).item() * 100\n",
    "\n",
    "    # calculate test accuracy for each class\n",
    "    for c in range(n_class):\n",
    "\n",
    "        targets = targets.to('cpu')\n",
    "\n",
    "        class_total[c] += (targets == c).sum()\n",
    "        class_correct[c] += ((correct_preds) * (targets == c)).sum()\n",
    "\n",
    "# get average accuracy\n",
    "accuracy = accuracy / len(test_loader)\n",
    "\n",
    "# get average loss\n",
    "test_loss = test_loss / len(test_loader)\n",
    "\n",
    "# output test loss statistics\n",
    "print('Test Loss: {:.6f}'.format(test_loss))"
   ]
  },
  {
   "cell_type": "code",
   "execution_count": 282,
   "id": "5b1f8c2c-9dbd-4cb8-b4c3-252234b1cf8a",
   "metadata": {
    "scrolled": true
   },
   "outputs": [
    {
     "name": "stdout",
     "output_type": "stream",
     "text": [
      "Test Accuracy of Classes\n",
      "\n",
      "destroyed\t: 56% \t (104/183)\n",
      "major-damage\t: 40% \t (166/409)\n",
      "minor-damage\t: 36% \t (492/1363)\n",
      "no-damage\t: 27% \t (1003/3647)\n",
      "\n",
      "Test Accuracy of Dataset: \t 31% \t (1765/5602)\n"
     ]
    }
   ],
   "source": [
    "accuracy_per_class(class_correct, class_total, class_names)"
   ]
  },
  {
   "cell_type": "code",
   "execution_count": 332,
   "id": "c862234c-d3ce-448e-87ca-a3690a301ab0",
   "metadata": {},
   "outputs": [
    {
     "name": "stdout",
     "output_type": "stream",
     "text": [
      "Accuracy : tensor(0.3151)\n",
      "F1-score :  tensor(0.3567)\n",
      "Precision :  tensor(0.5431)\n",
      "Recall :  tensor(0.3151)\n"
     ]
    }
   ],
   "source": [
    "get_metrics(preds_list, target_list)"
   ]
  },
  {
   "cell_type": "markdown",
   "id": "27e862b8-c950-4ee1-a1ef-c896a101452b",
   "metadata": {},
   "source": [
    "#### Epoches=20, LR=0.001, SGD"
   ]
  },
  {
   "cell_type": "code",
   "execution_count": 340,
   "id": "ad3b999c-c190-4cc2-835b-e307e7f6a488",
   "metadata": {},
   "outputs": [
    {
     "name": "stdout",
     "output_type": "stream",
     "text": [
      "Device available :  mps\n",
      "Epoch: 1 \t Training Loss: 1.240639 \t Validation Loss: 1.327829\n",
      "Epoch: 2 \t Training Loss: 1.243893 \t Validation Loss: 1.318993\n",
      "Epoch: 3 \t Training Loss: 1.241981 \t Validation Loss: 1.315813\n",
      "Epoch: 4 \t Training Loss: 1.241341 \t Validation Loss: 1.316272\n",
      "Epoch: 5 \t Training Loss: 1.236907 \t Validation Loss: 1.318063\n",
      "Epoch: 6 \t Training Loss: 1.244735 \t Validation Loss: 1.319163\n",
      "Epoch: 7 \t Training Loss: 1.242701 \t Validation Loss: 1.327296\n",
      "Epoch: 8 \t Training Loss: 1.241651 \t Validation Loss: 1.316531\n",
      "Epoch: 9 \t Training Loss: 1.243775 \t Validation Loss: 1.321305\n",
      "Epoch: 10 \t Training Loss: 1.239334 \t Validation Loss: 1.329931\n",
      "Epoch: 11 \t Training Loss: 1.245101 \t Validation Loss: 1.326239\n",
      "Epoch: 12 \t Training Loss: 1.236268 \t Validation Loss: 1.334074\n",
      "Epoch: 13 \t Training Loss: 1.243560 \t Validation Loss: 1.325766\n",
      "Epoch: 14 \t Training Loss: 1.248542 \t Validation Loss: 1.320473\n",
      "Epoch: 15 \t Training Loss: 1.243165 \t Validation Loss: 1.323415\n",
      "Epoch: 16 \t Training Loss: 1.240976 \t Validation Loss: 1.321103\n",
      "Epoch: 17 \t Training Loss: 1.243578 \t Validation Loss: 1.326340\n",
      "Epoch: 18 \t Training Loss: 1.238413 \t Validation Loss: 1.324183\n",
      "Epoch: 19 \t Training Loss: 1.244394 \t Validation Loss: 1.319839\n",
      "Epoch: 20 \t Training Loss: 1.248966 \t Validation Loss: 1.321878\n"
     ]
    },
    {
     "data": {
      "image/png": "[encoded data removed]",
      "text/plain": [
       "<Figure size 640x480 with 1 Axes>"
      ]
     },
     "metadata": {},
     "output_type": "display_data"
    },
    {
     "name": "stdout",
     "output_type": "stream",
     "text": [
      "Test Loss: 1.319921\n",
      "Test Accuracy of Classes\n",
      "\n",
      "destroyed\t: 56% \t (104/183)\n",
      "major-damage\t: 45% \t (188/409)\n",
      "minor-damage\t: 31% \t (436/1363)\n",
      "no-damage\t: 24% \t (889/3647)\n",
      "\n",
      "Test Accuracy of Dataset: \t 28% \t (1617/5602)\n",
      "Accuracy : tensor(0.2886)\n",
      "F1-score :  tensor(0.3267)\n",
      "Precision :  tensor(0.5272)\n",
      "Recall :  tensor(0.2886)\n"
     ]
    }
   ],
   "source": [
    "n_epoch = 20\n",
    "\n",
    "data = train_loader_ws\n",
    "train_loss_list, valid_loss_list = [], []\n",
    "\n",
    "# move model to GPU\n",
    "if train_on_gpu:\n",
    "    print(\"Device available : \", device)\n",
    "    vision_transformer.to(device)\n",
    "\n",
    "# prepare model for training\n",
    "vision_transformer.train()\n",
    "\n",
    "for e in range(n_epoch):\n",
    "    #print(\"Start Iteration \", e)\n",
    "    train_loss = 0.0\n",
    "    valid_loss = 0.0\n",
    "\n",
    "    # get batch data\n",
    "    for i, (images, targets) in enumerate(data):\n",
    "        \n",
    "        # move to gpu if available\n",
    "        if train_on_gpu:\n",
    "            images, targets = images.to(device), targets.to(device)\n",
    "\n",
    "        # clear grad\n",
    "        optimizer_2.zero_grad()\n",
    "\n",
    "        # feedforward data\n",
    "        outputs = vision_transformer(images)\n",
    "\n",
    "        # calculate loss\n",
    "        loss = criterion(outputs, targets)\n",
    "\n",
    "        # backward pass, calculate gradients\n",
    "        loss.backward()\n",
    "\n",
    "        # update weights\n",
    "        optimizer_2.step()\n",
    "\n",
    "        # track loss\n",
    "        train_loss += loss.item()\n",
    "\n",
    "    # set model to evaluation mode\n",
    "    vision_transformer.eval()\n",
    "\n",
    "    # validate model\n",
    "    for images, targets in valid_loader:\n",
    "\n",
    "        # move to gpu if available\n",
    "        if train_on_gpu:\n",
    "            images = images.to(device)\n",
    "            targets = targets.to(device)\n",
    "\n",
    "        # turn off gradients\n",
    "        with torch.no_grad():\n",
    "\n",
    "            outputs = vision_transformer(images)\n",
    "            loss = criterion(outputs, targets)\n",
    "            valid_loss += loss.item()\n",
    "\n",
    "    # set model back to training mode\n",
    "    vision_transformer.train()\n",
    "\n",
    "    # get average loss values\n",
    "    train_loss = train_loss / len(data)\n",
    "    valid_loss = valid_loss / len(valid_loader)\n",
    "\n",
    "    train_loss_list.append(train_loss)\n",
    "    valid_loss_list.append(valid_loss)\n",
    "\n",
    "    # output training statistics for epoch\n",
    "    print('Epoch: {} \\t Training Loss: {:.6f} \\t Validation Loss: {:.6f}'\n",
    "                  .format( (e+1), train_loss, valid_loss))\n",
    "\n",
    "\n",
    "plot_losses(train_loss_list, valid_loss_list)\n",
    "\n",
    "# prepare model for evaluation\n",
    "vision_transformer.eval()\n",
    "\n",
    "class_weights = class_weights.to('cpu')\n",
    "preds_list = []\n",
    "target_list = []\n",
    "output_list = []\n",
    "\n",
    "test_loss = 0.0\n",
    "accuracy = 0\n",
    "\n",
    "# number of classes\n",
    "n_class = len(class_names)\n",
    "\n",
    "class_correct = np.zeros(n_class)\n",
    "class_total = np.zeros(n_class)\n",
    "\n",
    "# move model back to cpu\n",
    "vision_transformer = vision_transformer.to('cpu')\n",
    "\n",
    "# test model\n",
    "for images, targets in test_loader:\n",
    "\n",
    "    # get outputs\n",
    "    outputs = vision_transformer(images)\n",
    "\n",
    "    # calculate loss\n",
    "    loss = criterion(outputs, targets)\n",
    "\n",
    "    # track loss\n",
    "    test_loss += loss.item()\n",
    "\n",
    "    # get predictions from probabilities\n",
    "    preds = torch.argmax(F.softmax(outputs, dim=1), dim=1)\n",
    "\n",
    "    target_list.extend(targets)\n",
    "    output_list.extend(torch.argmax(F.softmax(outputs, dim=1), dim=1 ))\n",
    "    preds_list.extend(preds)\n",
    "\n",
    "    # get correct predictions\n",
    "    correct_preds = (preds == targets).type(torch.FloatTensor)\n",
    "\n",
    "    # calculate and accumulate accuracy\n",
    "    accuracy += torch.mean(correct_preds).item() * 100\n",
    "\n",
    "    # calculate test accuracy for each class\n",
    "    for c in range(n_class):\n",
    "\n",
    "        targets = targets.to('cpu')\n",
    "\n",
    "        class_total[c] += (targets == c).sum()\n",
    "        class_correct[c] += ((correct_preds) * (targets == c)).sum()\n",
    "\n",
    "# get average accuracy\n",
    "accuracy = accuracy / len(test_loader)\n",
    "\n",
    "# get average loss\n",
    "test_loss = test_loss / len(test_loader)\n",
    "\n",
    "# output test loss statistics\n",
    "print('Test Loss: {:.6f}'.format(test_loss))\n",
    "\n",
    "accuracy_per_class(class_correct, class_total, class_names)\n",
    "\n",
    "get_metrics(preds_list, target_list)"
   ]
  },
  {
   "cell_type": "markdown",
   "id": "f6ba6daa-63dd-4362-bd50-7e68c1bd8883",
   "metadata": {},
   "source": [
    "#### AdamW, lr = 0.001, epoches = 25"
   ]
  },
  {
   "cell_type": "code",
   "execution_count": 342,
   "id": "259fef5c-1a4d-4b80-b396-8627bc229f97",
   "metadata": {},
   "outputs": [
    {
     "name": "stdout",
     "output_type": "stream",
     "text": [
      "Device available :  mps\n",
      "Epoch: 1 \t Training Loss: 1.249004 \t Validation Loss: 1.331061\n",
      "Epoch: 2 \t Training Loss: 1.244185 \t Validation Loss: 1.434451\n",
      "Epoch: 3 \t Training Loss: 1.259739 \t Validation Loss: 1.427719\n",
      "Epoch: 4 \t Training Loss: 1.244176 \t Validation Loss: 1.262118\n",
      "Epoch: 5 \t Training Loss: 1.250406 \t Validation Loss: 1.311234\n",
      "Epoch: 6 \t Training Loss: 1.244750 \t Validation Loss: 1.322507\n",
      "Epoch: 7 \t Training Loss: 1.248148 \t Validation Loss: 1.248248\n",
      "Epoch: 8 \t Training Loss: 1.249133 \t Validation Loss: 1.249524\n",
      "Epoch: 9 \t Training Loss: 1.248847 \t Validation Loss: 1.364625\n",
      "Epoch: 10 \t Training Loss: 1.245665 \t Validation Loss: 1.350318\n",
      "Epoch: 11 \t Training Loss: 1.241589 \t Validation Loss: 1.328718\n",
      "Epoch: 12 \t Training Loss: 1.248242 \t Validation Loss: 1.455767\n",
      "Epoch: 13 \t Training Loss: 1.238747 \t Validation Loss: 1.271154\n",
      "Epoch: 14 \t Training Loss: 1.241676 \t Validation Loss: 1.277152\n",
      "Epoch: 15 \t Training Loss: 1.239818 \t Validation Loss: 1.354841\n",
      "Epoch: 16 \t Training Loss: 1.247290 \t Validation Loss: 1.231745\n",
      "Epoch: 17 \t Training Loss: 1.243775 \t Validation Loss: 1.334324\n",
      "Epoch: 18 \t Training Loss: 1.247819 \t Validation Loss: 1.256639\n",
      "Epoch: 19 \t Training Loss: 1.245745 \t Validation Loss: 1.108711\n",
      "Epoch: 20 \t Training Loss: 1.244463 \t Validation Loss: 1.389473\n",
      "Epoch: 21 \t Training Loss: 1.247276 \t Validation Loss: 1.370001\n",
      "Epoch: 22 \t Training Loss: 1.244190 \t Validation Loss: 1.316646\n",
      "Epoch: 23 \t Training Loss: 1.247435 \t Validation Loss: 1.225027\n",
      "Epoch: 24 \t Training Loss: 1.248535 \t Validation Loss: 1.343191\n",
      "Epoch: 25 \t Training Loss: 1.242025 \t Validation Loss: 1.434372\n"
     ]
    },
    {
     "data": {
      "image/png": "[encoded data removed]",
      "text/plain": [
       "<Figure size 640x480 with 1 Axes>"
      ]
     },
     "metadata": {},
     "output_type": "display_data"
    },
    {
     "name": "stdout",
     "output_type": "stream",
     "text": [
      "Test Loss: 1.434785\n",
      "Test Accuracy of Classes\n",
      "\n",
      "destroyed\t: 57% \t (105/183)\n",
      "major-damage\t: 55% \t (226/409)\n",
      "minor-damage\t: 31% \t (423/1363)\n",
      "no-damage\t: 10% \t (366/3647)\n",
      "\n",
      "Test Accuracy of Dataset: \t 19% \t (1120/5602)\n",
      "Accuracy : tensor(0.1999)\n",
      "F1-score :  tensor(0.2028)\n",
      "Precision :  tensor(0.5313)\n",
      "Recall :  tensor(0.1999)\n"
     ]
    }
   ],
   "source": [
    "n_epoch = 25\n",
    "\n",
    "data = train_loader_ws\n",
    "train_loss_list, valid_loss_list = [], []\n",
    "\n",
    "# move model to GPU\n",
    "if train_on_gpu:\n",
    "    print(\"Device available : \", device)\n",
    "    vision_transformer.to(device)\n",
    "\n",
    "# prepare model for training\n",
    "vision_transformer.train()\n",
    "\n",
    "for e in range(n_epoch):\n",
    "    #print(\"Start Iteration \", e)\n",
    "    train_loss = 0.0\n",
    "    valid_loss = 0.0\n",
    "\n",
    "    # get batch data\n",
    "    for i, (images, targets) in enumerate(data):\n",
    "        \n",
    "        # move to gpu if available\n",
    "        if train_on_gpu:\n",
    "            images, targets = images.to(device), targets.to(device)\n",
    "\n",
    "        # clear grad\n",
    "        optimizer_3.zero_grad()\n",
    "\n",
    "        # feedforward data\n",
    "        outputs = vision_transformer(images)\n",
    "\n",
    "        # calculate loss\n",
    "        loss = criterion(outputs, targets)\n",
    "\n",
    "        # backward pass, calculate gradients\n",
    "        loss.backward()\n",
    "\n",
    "        # update weights\n",
    "        optimizer_3.step()\n",
    "\n",
    "        # track loss\n",
    "        train_loss += loss.item()\n",
    "\n",
    "    # set model to evaluation mode\n",
    "    vision_transformer.eval()\n",
    "\n",
    "    # validate model\n",
    "    for images, targets in valid_loader:\n",
    "\n",
    "        # move to gpu if available\n",
    "        if train_on_gpu:\n",
    "            images = images.to(device)\n",
    "            targets = targets.to(device)\n",
    "\n",
    "        # turn off gradients\n",
    "        with torch.no_grad():\n",
    "\n",
    "            outputs = vision_transformer(images)\n",
    "            loss = criterion(outputs, targets)\n",
    "            valid_loss += loss.item()\n",
    "\n",
    "    # set model back to training mode\n",
    "    vision_transformer.train()\n",
    "\n",
    "    # get average loss values\n",
    "    train_loss = train_loss / len(data)\n",
    "    valid_loss = valid_loss / len(valid_loader)\n",
    "\n",
    "    train_loss_list.append(train_loss)\n",
    "    valid_loss_list.append(valid_loss)\n",
    "\n",
    "    # output training statistics for epoch\n",
    "    print('Epoch: {} \\t Training Loss: {:.6f} \\t Validation Loss: {:.6f}'\n",
    "                  .format( (e+1), train_loss, valid_loss))\n",
    "\n",
    "\n",
    "plot_losses(train_loss_list, valid_loss_list)\n",
    "\n",
    "# prepare model for evaluation\n",
    "vision_transformer.eval()\n",
    "\n",
    "class_weights = class_weights.to('cpu')\n",
    "preds_list = []\n",
    "target_list = []\n",
    "output_list = []\n",
    "\n",
    "test_loss = 0.0\n",
    "accuracy = 0\n",
    "\n",
    "# number of classes\n",
    "n_class = len(class_names)\n",
    "\n",
    "class_correct = np.zeros(n_class)\n",
    "class_total = np.zeros(n_class)\n",
    "\n",
    "# move model back to cpu\n",
    "vision_transformer = vision_transformer.to('cpu')\n",
    "\n",
    "# test model\n",
    "for images, targets in test_loader:\n",
    "\n",
    "    # get outputs\n",
    "    outputs = vision_transformer(images)\n",
    "\n",
    "    # calculate loss\n",
    "    loss = criterion(outputs, targets)\n",
    "\n",
    "    # track loss\n",
    "    test_loss += loss.item()\n",
    "\n",
    "    # get predictions from probabilities\n",
    "    preds = torch.argmax(F.softmax(outputs, dim=1), dim=1)\n",
    "\n",
    "    target_list.extend(targets)\n",
    "    output_list.extend(torch.argmax(F.softmax(outputs, dim=1), dim=1 ))\n",
    "    preds_list.extend(preds)\n",
    "\n",
    "    # get correct predictions\n",
    "    correct_preds = (preds == targets).type(torch.FloatTensor)\n",
    "\n",
    "    # calculate and accumulate accuracy\n",
    "    accuracy += torch.mean(correct_preds).item() * 100\n",
    "\n",
    "    # calculate test accuracy for each class\n",
    "    for c in range(n_class):\n",
    "\n",
    "        targets = targets.to('cpu')\n",
    "\n",
    "        class_total[c] += (targets == c).sum()\n",
    "        class_correct[c] += ((correct_preds) * (targets == c)).sum()\n",
    "\n",
    "# get average accuracy\n",
    "accuracy = accuracy / len(test_loader)\n",
    "\n",
    "# get average loss\n",
    "test_loss = test_loss / len(test_loader)\n",
    "\n",
    "# output test loss statistics\n",
    "print('Test Loss: {:.6f}'.format(test_loss))\n",
    "\n",
    "accuracy_per_class(class_correct, class_total, class_names)\n",
    "\n",
    "get_metrics(preds_list, target_list)"
   ]
  },
  {
   "cell_type": "code",
   "execution_count": 345,
   "id": "30610d25-7547-4e7a-b082-803531ee3c56",
   "metadata": {},
   "outputs": [
    {
     "name": "stdout",
     "output_type": "stream",
     "text": [
      "Device available :  mps\n",
      "Epoch: 1 \t Training Loss: 1.237044 \t Validation Loss: 1.373934\n",
      "Epoch: 2 \t Training Loss: 1.239829 \t Validation Loss: 1.344744\n",
      "Epoch: 3 \t Training Loss: 1.237709 \t Validation Loss: 1.315459\n",
      "Epoch: 4 \t Training Loss: 1.235506 \t Validation Loss: 1.283663\n",
      "Epoch: 5 \t Training Loss: 1.238437 \t Validation Loss: 1.334226\n",
      "Epoch: 6 \t Training Loss: 1.238066 \t Validation Loss: 1.287562\n",
      "Epoch: 7 \t Training Loss: 1.230483 \t Validation Loss: 1.307323\n",
      "Epoch: 8 \t Training Loss: 1.234290 \t Validation Loss: 1.299232\n",
      "Epoch: 9 \t Training Loss: 1.236037 \t Validation Loss: 1.293698\n",
      "Epoch: 10 \t Training Loss: 1.235020 \t Validation Loss: 1.329342\n",
      "Epoch: 11 \t Training Loss: 1.233632 \t Validation Loss: 1.333398\n",
      "Epoch: 12 \t Training Loss: 1.239116 \t Validation Loss: 1.327663\n",
      "Epoch: 13 \t Training Loss: 1.235663 \t Validation Loss: 1.346922\n",
      "Epoch: 14 \t Training Loss: 1.234294 \t Validation Loss: 1.336554\n",
      "Epoch: 15 \t Training Loss: 1.236995 \t Validation Loss: 1.316039\n",
      "Epoch: 16 \t Training Loss: 1.231238 \t Validation Loss: 1.285314\n",
      "Epoch: 17 \t Training Loss: 1.235992 \t Validation Loss: 1.322266\n",
      "Epoch: 18 \t Training Loss: 1.230165 \t Validation Loss: 1.333991\n",
      "Epoch: 19 \t Training Loss: 1.233742 \t Validation Loss: 1.285766\n",
      "Epoch: 20 \t Training Loss: 1.234503 \t Validation Loss: 1.325641\n",
      "Epoch: 21 \t Training Loss: 1.232842 \t Validation Loss: 1.302549\n",
      "Epoch: 22 \t Training Loss: 1.236199 \t Validation Loss: 1.309499\n",
      "Epoch: 23 \t Training Loss: 1.232032 \t Validation Loss: 1.327501\n",
      "Epoch: 24 \t Training Loss: 1.232410 \t Validation Loss: 1.275885\n",
      "Epoch: 25 \t Training Loss: 1.233247 \t Validation Loss: 1.302362\n"
     ]
    },
    {
     "data": {
      "image/png": "[encoded data removed]",
      "text/plain": [
       "<Figure size 640x480 with 1 Axes>"
      ]
     },
     "metadata": {},
     "output_type": "display_data"
    },
    {
     "name": "stdout",
     "output_type": "stream",
     "text": [
      "Test Loss: 1.298543\n",
      "Test Accuracy of Classes\n",
      "\n",
      "destroyed\t: 56% \t (104/183)\n",
      "major-damage\t: 40% \t (167/409)\n",
      "minor-damage\t: 36% \t (503/1363)\n",
      "no-damage\t: 26% \t (974/3647)\n",
      "\n",
      "Test Accuracy of Dataset: \t 31% \t (1748/5602)\n",
      "Accuracy : tensor(0.3120)\n",
      "F1-score :  tensor(0.3497)\n",
      "Precision :  tensor(0.5331)\n",
      "Recall :  tensor(0.3120)\n"
     ]
    }
   ],
   "source": [
    "n_epoch = 25\n",
    "\n",
    "data = train_loader_ws\n",
    "train_loss_list, valid_loss_list = [], []\n",
    "\n",
    "# move model to GPU\n",
    "if train_on_gpu:\n",
    "    print(\"Device available : \", device)\n",
    "    vision_transformer.to(device)\n",
    "\n",
    "# prepare model for training\n",
    "vision_transformer.train()\n",
    "\n",
    "for e in range(n_epoch):\n",
    "    #print(\"Start Iteration \", e)\n",
    "    train_loss = 0.0\n",
    "    valid_loss = 0.0\n",
    "\n",
    "    # get batch data\n",
    "    for i, (images, targets) in enumerate(data):\n",
    "        \n",
    "        # move to gpu if available\n",
    "        if train_on_gpu:\n",
    "            images, targets = images.to(device), targets.to(device)\n",
    "\n",
    "        # clear grad\n",
    "        optimizer_4.zero_grad()\n",
    "\n",
    "        # feedforward data\n",
    "        outputs = vision_transformer(images)\n",
    "\n",
    "        # calculate loss\n",
    "        loss = criterion(outputs, targets)\n",
    "\n",
    "        # backward pass, calculate gradients\n",
    "        loss.backward()\n",
    "\n",
    "        # update weights\n",
    "        optimizer_4.step()\n",
    "\n",
    "        # track loss\n",
    "        train_loss += loss.item()\n",
    "\n",
    "    # set model to evaluation mode\n",
    "    vision_transformer.eval()\n",
    "\n",
    "    # validate model\n",
    "    for images, targets in valid_loader:\n",
    "\n",
    "        # move to gpu if available\n",
    "        if train_on_gpu:\n",
    "            images = images.to(device)\n",
    "            targets = targets.to(device)\n",
    "\n",
    "        # turn off gradients\n",
    "        with torch.no_grad():\n",
    "\n",
    "            outputs = vision_transformer(images)\n",
    "            loss = criterion(outputs, targets)\n",
    "            valid_loss += loss.item()\n",
    "\n",
    "    # set model back to training mode\n",
    "    vision_transformer.train()\n",
    "\n",
    "    # get average loss values\n",
    "    train_loss = train_loss / len(data)\n",
    "    valid_loss = valid_loss / len(valid_loader)\n",
    "\n",
    "    train_loss_list.append(train_loss)\n",
    "    valid_loss_list.append(valid_loss)\n",
    "\n",
    "    # output training statistics for epoch\n",
    "    print('Epoch: {} \\t Training Loss: {:.6f} \\t Validation Loss: {:.6f}'\n",
    "                  .format( (e+1), train_loss, valid_loss))\n",
    "\n",
    "\n",
    "plot_losses(train_loss_list, valid_loss_list)\n",
    "\n",
    "# prepare model for evaluation\n",
    "vision_transformer.eval()\n",
    "\n",
    "class_weights = class_weights.to('cpu')\n",
    "preds_list = []\n",
    "target_list = []\n",
    "output_list = []\n",
    "\n",
    "test_loss = 0.0\n",
    "accuracy = 0\n",
    "\n",
    "# number of classes\n",
    "n_class = len(class_names)\n",
    "\n",
    "class_correct = np.zeros(n_class)\n",
    "class_total = np.zeros(n_class)\n",
    "\n",
    "# move model back to cpu\n",
    "vision_transformer = vision_transformer.to('cpu')\n",
    "\n",
    "# test model\n",
    "for images, targets in test_loader:\n",
    "\n",
    "    # get outputs\n",
    "    outputs = vision_transformer(images)\n",
    "\n",
    "    # calculate loss\n",
    "    loss = criterion(outputs, targets)\n",
    "\n",
    "    # track loss\n",
    "    test_loss += loss.item()\n",
    "\n",
    "    # get predictions from probabilities\n",
    "    preds = torch.argmax(F.softmax(outputs, dim=1), dim=1)\n",
    "\n",
    "    target_list.extend(targets)\n",
    "    output_list.extend(torch.argmax(F.softmax(outputs, dim=1), dim=1 ))\n",
    "    preds_list.extend(preds)\n",
    "\n",
    "    # get correct predictions\n",
    "    correct_preds = (preds == targets).type(torch.FloatTensor)\n",
    "\n",
    "    # calculate and accumulate accuracy\n",
    "    accuracy += torch.mean(correct_preds).item() * 100\n",
    "\n",
    "    # calculate test accuracy for each class\n",
    "    for c in range(n_class):\n",
    "\n",
    "        targets = targets.to('cpu')\n",
    "\n",
    "        class_total[c] += (targets == c).sum()\n",
    "        class_correct[c] += ((correct_preds) * (targets == c)).sum()\n",
    "\n",
    "# get average accuracy\n",
    "accuracy = accuracy / len(test_loader)\n",
    "\n",
    "# get average loss\n",
    "test_loss = test_loss / len(test_loader)\n",
    "\n",
    "# output test loss statistics\n",
    "print('Test Loss: {:.6f}'.format(test_loss))\n",
    "\n",
    "accuracy_per_class(class_correct, class_total, class_names)\n",
    "\n",
    "get_metrics(preds_list, target_list)"
   ]
  },
  {
   "cell_type": "markdown",
   "id": "ebed8d6a-bb0a-4b8a-87a0-aeb77ad72062",
   "metadata": {},
   "source": [
    "#### Optimizer 5 # lr = 0.0001, weight_decay = 0.1, "
   ]
  },
  {
   "cell_type": "code",
   "execution_count": 348,
   "id": "7909f1d4-ba45-4d04-8a35-f8c2e175de93",
   "metadata": {},
   "outputs": [
    {
     "name": "stdout",
     "output_type": "stream",
     "text": [
      "Device available :  mps\n",
      "Epoch: 1 \t Training Loss: 1.238918 \t Validation Loss: 1.320919\n",
      "Epoch: 2 \t Training Loss: 1.236217 \t Validation Loss: 1.322477\n",
      "Epoch: 3 \t Training Loss: 1.232485 \t Validation Loss: 1.294480\n",
      "Epoch: 4 \t Training Loss: 1.238239 \t Validation Loss: 1.346998\n",
      "Epoch: 5 \t Training Loss: 1.233489 \t Validation Loss: 1.269931\n",
      "Epoch: 6 \t Training Loss: 1.234222 \t Validation Loss: 1.248710\n",
      "Epoch: 7 \t Training Loss: 1.238504 \t Validation Loss: 1.309722\n",
      "Epoch: 8 \t Training Loss: 1.238815 \t Validation Loss: 1.366671\n",
      "Epoch: 9 \t Training Loss: 1.239421 \t Validation Loss: 1.329865\n",
      "Epoch: 10 \t Training Loss: 1.233983 \t Validation Loss: 1.327773\n",
      "Epoch: 11 \t Training Loss: 1.234902 \t Validation Loss: 1.311304\n",
      "Epoch: 12 \t Training Loss: 1.233680 \t Validation Loss: 1.323006\n",
      "Epoch: 13 \t Training Loss: 1.232595 \t Validation Loss: 1.305425\n",
      "Epoch: 14 \t Training Loss: 1.237563 \t Validation Loss: 1.327200\n",
      "Epoch: 15 \t Training Loss: 1.237231 \t Validation Loss: 1.350216\n",
      "Epoch: 16 \t Training Loss: 1.234498 \t Validation Loss: 1.379362\n",
      "Epoch: 17 \t Training Loss: 1.239079 \t Validation Loss: 1.329207\n",
      "Epoch: 18 \t Training Loss: 1.229806 \t Validation Loss: 1.315718\n",
      "Epoch: 19 \t Training Loss: 1.233647 \t Validation Loss: 1.360777\n",
      "Epoch: 20 \t Training Loss: 1.232840 \t Validation Loss: 1.319981\n",
      "Epoch: 21 \t Training Loss: 1.230430 \t Validation Loss: 1.320673\n",
      "Epoch: 22 \t Training Loss: 1.233209 \t Validation Loss: 1.294048\n",
      "Epoch: 23 \t Training Loss: 1.233917 \t Validation Loss: 1.274699\n",
      "Epoch: 24 \t Training Loss: 1.235864 \t Validation Loss: 1.285691\n",
      "Epoch: 25 \t Training Loss: 1.227419 \t Validation Loss: 1.355549\n"
     ]
    },
    {
     "data": {
      "image/png": "[encoded data removed]",
      "text/plain": [
       "<Figure size 640x480 with 1 Axes>"
      ]
     },
     "metadata": {},
     "output_type": "display_data"
    },
    {
     "name": "stdout",
     "output_type": "stream",
     "text": [
      "Test Loss: 1.354432\n",
      "Test Accuracy of Classes\n",
      "\n",
      "destroyed\t: 59% \t (108/183)\n",
      "major-damage\t: 44% \t (184/409)\n",
      "minor-damage\t: 35% \t (481/1363)\n",
      "no-damage\t: 18% \t (685/3647)\n",
      "\n",
      "Test Accuracy of Dataset: \t 26% \t (1458/5602)\n",
      "Accuracy : tensor(0.2603)\n",
      "F1-score :  tensor(0.2873)\n",
      "Precision :  tensor(0.5265)\n",
      "Recall :  tensor(0.2603)\n"
     ]
    }
   ],
   "source": [
    "n_epoch = 25\n",
    "\n",
    "data = train_loader_ws\n",
    "train_loss_list, valid_loss_list = [], []\n",
    "\n",
    "# move model to GPU\n",
    "if train_on_gpu:\n",
    "    print(\"Device available : \", device)\n",
    "    vision_transformer.to(device)\n",
    "\n",
    "# prepare model for training\n",
    "vision_transformer.train()\n",
    "\n",
    "for e in range(n_epoch):\n",
    "    #print(\"Start Iteration \", e)\n",
    "    train_loss = 0.0\n",
    "    valid_loss = 0.0\n",
    "\n",
    "    # get batch data\n",
    "    for i, (images, targets) in enumerate(data):\n",
    "        \n",
    "        # move to gpu if available\n",
    "        if train_on_gpu:\n",
    "            images, targets = images.to(device), targets.to(device)\n",
    "\n",
    "        # clear grad\n",
    "        optimizer_5.zero_grad()\n",
    "\n",
    "        # feedforward data\n",
    "        outputs = vision_transformer(images)\n",
    "\n",
    "        # calculate loss\n",
    "        loss = criterion(outputs, targets)\n",
    "\n",
    "        # backward pass, calculate gradients\n",
    "        loss.backward()\n",
    "\n",
    "        # update weights\n",
    "        optimizer_5.step()\n",
    "\n",
    "        # track loss\n",
    "        train_loss += loss.item()\n",
    "\n",
    "    # set model to evaluation mode\n",
    "    vision_transformer.eval()\n",
    "\n",
    "    # validate model\n",
    "    for images, targets in valid_loader:\n",
    "\n",
    "        # move to gpu if available\n",
    "        if train_on_gpu:\n",
    "            images = images.to(device)\n",
    "            targets = targets.to(device)\n",
    "\n",
    "        # turn off gradients\n",
    "        with torch.no_grad():\n",
    "\n",
    "            outputs = vision_transformer(images)\n",
    "            loss = criterion(outputs, targets)\n",
    "            valid_loss += loss.item()\n",
    "\n",
    "    # set model back to training mode\n",
    "    vision_transformer.train()\n",
    "\n",
    "    # get average loss values\n",
    "    train_loss = train_loss / len(data)\n",
    "    valid_loss = valid_loss / len(valid_loader)\n",
    "\n",
    "    train_loss_list.append(train_loss)\n",
    "    valid_loss_list.append(valid_loss)\n",
    "\n",
    "    # output training statistics for epoch\n",
    "    print('Epoch: {} \\t Training Loss: {:.6f} \\t Validation Loss: {:.6f}'\n",
    "                  .format( (e+1), train_loss, valid_loss))\n",
    "\n",
    "\n",
    "plot_losses(train_loss_list, valid_loss_list)\n",
    "\n",
    "# prepare model for evaluation\n",
    "vision_transformer.eval()\n",
    "\n",
    "class_weights = class_weights.to('cpu')\n",
    "preds_list = []\n",
    "target_list = []\n",
    "output_list = []\n",
    "\n",
    "test_loss = 0.0\n",
    "accuracy = 0\n",
    "\n",
    "# number of classes\n",
    "n_class = len(class_names)\n",
    "\n",
    "class_correct = np.zeros(n_class)\n",
    "class_total = np.zeros(n_class)\n",
    "\n",
    "# move model back to cpu\n",
    "vision_transformer = vision_transformer.to('cpu')\n",
    "\n",
    "# test model\n",
    "for images, targets in test_loader:\n",
    "\n",
    "    # get outputs\n",
    "    outputs = vision_transformer(images)\n",
    "\n",
    "    # calculate loss\n",
    "    loss = criterion(outputs, targets)\n",
    "\n",
    "    # track loss\n",
    "    test_loss += loss.item()\n",
    "\n",
    "    # get predictions from probabilities\n",
    "    preds = torch.argmax(F.softmax(outputs, dim=1), dim=1)\n",
    "\n",
    "    target_list.extend(targets)\n",
    "    output_list.extend(torch.argmax(F.softmax(outputs, dim=1), dim=1 ))\n",
    "    preds_list.extend(preds)\n",
    "\n",
    "    # get correct predictions\n",
    "    correct_preds = (preds == targets).type(torch.FloatTensor)\n",
    "\n",
    "    # calculate and accumulate accuracy\n",
    "    accuracy += torch.mean(correct_preds).item() * 100\n",
    "\n",
    "    # calculate test accuracy for each class\n",
    "    for c in range(n_class):\n",
    "\n",
    "        targets = targets.to('cpu')\n",
    "\n",
    "        class_total[c] += (targets == c).sum()\n",
    "        class_correct[c] += ((correct_preds) * (targets == c)).sum()\n",
    "\n",
    "# get average accuracy\n",
    "accuracy = accuracy / len(test_loader)\n",
    "\n",
    "# get average loss\n",
    "test_loss = test_loss / len(test_loader)\n",
    "\n",
    "# output test loss statistics\n",
    "print('Test Loss: {:.6f}'.format(test_loss))\n",
    "\n",
    "accuracy_per_class(class_correct, class_total, class_names)\n",
    "\n",
    "get_metrics(preds_list, target_list)"
   ]
  },
  {
   "cell_type": "code",
   "execution_count": 349,
   "id": "a93d6fb9-166b-47f1-bf7f-a936ee15d5f8",
   "metadata": {},
   "outputs": [
    {
     "name": "stdout",
     "output_type": "stream",
     "text": [
      "Device available :  mps\n",
      "Epoch: 1 \t Training Loss: 1.236554 \t Validation Loss: 1.312716\n",
      "Epoch: 2 \t Training Loss: 1.233499 \t Validation Loss: 1.342757\n",
      "Epoch: 3 \t Training Loss: 1.233711 \t Validation Loss: 1.281317\n",
      "Epoch: 4 \t Training Loss: 1.233389 \t Validation Loss: 1.302908\n",
      "Epoch: 5 \t Training Loss: 1.232338 \t Validation Loss: 1.292276\n",
      "Epoch: 6 \t Training Loss: 1.234326 \t Validation Loss: 1.305369\n",
      "Epoch: 7 \t Training Loss: 1.237371 \t Validation Loss: 1.311667\n",
      "Epoch: 8 \t Training Loss: 1.237297 \t Validation Loss: 1.311448\n",
      "Epoch: 9 \t Training Loss: 1.236146 \t Validation Loss: 1.320021\n",
      "Epoch: 10 \t Training Loss: 1.233103 \t Validation Loss: 1.343458\n",
      "Epoch: 11 \t Training Loss: 1.232295 \t Validation Loss: 1.365919\n",
      "Epoch: 12 \t Training Loss: 1.233436 \t Validation Loss: 1.304711\n",
      "Epoch: 13 \t Training Loss: 1.234715 \t Validation Loss: 1.341531\n",
      "Epoch: 14 \t Training Loss: 1.233983 \t Validation Loss: 1.360698\n",
      "Epoch: 15 \t Training Loss: 1.233269 \t Validation Loss: 1.316774\n",
      "Epoch: 16 \t Training Loss: 1.229127 \t Validation Loss: 1.329604\n",
      "Epoch: 17 \t Training Loss: 1.235217 \t Validation Loss: 1.360465\n",
      "Epoch: 18 \t Training Loss: 1.234426 \t Validation Loss: 1.333379\n",
      "Epoch: 19 \t Training Loss: 1.231825 \t Validation Loss: 1.318659\n",
      "Epoch: 20 \t Training Loss: 1.231963 \t Validation Loss: 1.351656\n",
      "Epoch: 21 \t Training Loss: 1.228845 \t Validation Loss: 1.344153\n",
      "Epoch: 22 \t Training Loss: 1.228571 \t Validation Loss: 1.294134\n",
      "Epoch: 23 \t Training Loss: 1.234453 \t Validation Loss: 1.311385\n",
      "Epoch: 24 \t Training Loss: 1.232458 \t Validation Loss: 1.315070\n",
      "Epoch: 25 \t Training Loss: 1.230944 \t Validation Loss: 1.386125\n",
      "Epoch: 26 \t Training Loss: 1.234634 \t Validation Loss: 1.321509\n",
      "Epoch: 27 \t Training Loss: 1.234800 \t Validation Loss: 1.294312\n",
      "Epoch: 28 \t Training Loss: 1.234092 \t Validation Loss: 1.261520\n",
      "Epoch: 29 \t Training Loss: 1.231989 \t Validation Loss: 1.315079\n",
      "Epoch: 30 \t Training Loss: 1.231966 \t Validation Loss: 1.281067\n",
      "Epoch: 31 \t Training Loss: 1.231630 \t Validation Loss: 1.337736\n",
      "Epoch: 32 \t Training Loss: 1.230782 \t Validation Loss: 1.317158\n",
      "Epoch: 33 \t Training Loss: 1.231028 \t Validation Loss: 1.333493\n",
      "Epoch: 34 \t Training Loss: 1.240157 \t Validation Loss: 1.291076\n",
      "Epoch: 35 \t Training Loss: 1.233361 \t Validation Loss: 1.333882\n",
      "Epoch: 36 \t Training Loss: 1.232824 \t Validation Loss: 1.294890\n",
      "Epoch: 37 \t Training Loss: 1.235436 \t Validation Loss: 1.357797\n",
      "Epoch: 38 \t Training Loss: 1.235508 \t Validation Loss: 1.307672\n",
      "Epoch: 39 \t Training Loss: 1.230731 \t Validation Loss: 1.317160\n",
      "Epoch: 40 \t Training Loss: 1.228826 \t Validation Loss: 1.288786\n",
      "Epoch: 41 \t Training Loss: 1.235380 \t Validation Loss: 1.302234\n",
      "Epoch: 42 \t Training Loss: 1.235104 \t Validation Loss: 1.303357\n",
      "Epoch: 43 \t Training Loss: 1.235963 \t Validation Loss: 1.304313\n",
      "Epoch: 44 \t Training Loss: 1.232901 \t Validation Loss: 1.275962\n",
      "Epoch: 45 \t Training Loss: 1.233900 \t Validation Loss: 1.295622\n",
      "Epoch: 46 \t Training Loss: 1.238601 \t Validation Loss: 1.313314\n",
      "Epoch: 47 \t Training Loss: 1.224719 \t Validation Loss: 1.320084\n",
      "Epoch: 48 \t Training Loss: 1.228536 \t Validation Loss: 1.323920\n",
      "Epoch: 49 \t Training Loss: 1.236076 \t Validation Loss: 1.286681\n",
      "Epoch: 50 \t Training Loss: 1.231059 \t Validation Loss: 1.297686\n"
     ]
    },
    {
     "data": {
      "image/png": "[encoded data removed]",
      "text/plain": [
       "<Figure size 640x480 with 1 Axes>"
      ]
     },
     "metadata": {},
     "output_type": "display_data"
    },
    {
     "name": "stdout",
     "output_type": "stream",
     "text": [
      "Test Loss: 1.294186\n",
      "Test Accuracy of Classes\n",
      "\n",
      "destroyed\t: 56% \t (103/183)\n",
      "major-damage\t: 50% \t (207/409)\n",
      "minor-damage\t: 21% \t (293/1363)\n",
      "no-damage\t: 35% \t (1281/3647)\n",
      "\n",
      "Test Accuracy of Dataset: \t 33% \t (1884/5602)\n",
      "Accuracy : tensor(0.3363)\n",
      "F1-score :  tensor(0.3855)\n",
      "Precision :  tensor(0.5395)\n",
      "Recall :  tensor(0.3363)\n"
     ]
    }
   ],
   "source": [
    "n_epoch = 50\n",
    "\n",
    "data = train_loader_ws\n",
    "train_loss_list, valid_loss_list = [], []\n",
    "\n",
    "# move model to GPU\n",
    "if train_on_gpu:\n",
    "    print(\"Device available : \", device)\n",
    "    vision_transformer.to(device)\n",
    "\n",
    "# prepare model for training\n",
    "vision_transformer.train()\n",
    "\n",
    "for e in range(n_epoch):\n",
    "    #print(\"Start Iteration \", e)\n",
    "    train_loss = 0.0\n",
    "    valid_loss = 0.0\n",
    "\n",
    "    # get batch data\n",
    "    for i, (images, targets) in enumerate(data):\n",
    "        \n",
    "        # move to gpu if available\n",
    "        if train_on_gpu:\n",
    "            images, targets = images.to(device), targets.to(device)\n",
    "\n",
    "        # clear grad\n",
    "        optimizer_5.zero_grad()\n",
    "\n",
    "        # feedforward data\n",
    "        outputs = vision_transformer(images)\n",
    "\n",
    "        # calculate loss\n",
    "        loss = criterion(outputs, targets)\n",
    "\n",
    "        # backward pass, calculate gradients\n",
    "        loss.backward()\n",
    "\n",
    "        # update weights\n",
    "        optimizer_5.step()\n",
    "\n",
    "        # track loss\n",
    "        train_loss += loss.item()\n",
    "\n",
    "    # set model to evaluation mode\n",
    "    vision_transformer.eval()\n",
    "\n",
    "    # validate model\n",
    "    for images, targets in valid_loader:\n",
    "\n",
    "        # move to gpu if available\n",
    "        if train_on_gpu:\n",
    "            images = images.to(device)\n",
    "            targets = targets.to(device)\n",
    "\n",
    "        # turn off gradients\n",
    "        with torch.no_grad():\n",
    "\n",
    "            outputs = vision_transformer(images)\n",
    "            loss = criterion(outputs, targets)\n",
    "            valid_loss += loss.item()\n",
    "\n",
    "    # set model back to training mode\n",
    "    vision_transformer.train()\n",
    "\n",
    "    # get average loss values\n",
    "    train_loss = train_loss / len(data)\n",
    "    valid_loss = valid_loss / len(valid_loader)\n",
    "\n",
    "    train_loss_list.append(train_loss)\n",
    "    valid_loss_list.append(valid_loss)\n",
    "\n",
    "    # output training statistics for epoch\n",
    "    print('Epoch: {} \\t Training Loss: {:.6f} \\t Validation Loss: {:.6f}'\n",
    "                  .format( (e+1), train_loss, valid_loss))\n",
    "\n",
    "\n",
    "plot_losses(train_loss_list, valid_loss_list)\n",
    "\n",
    "# prepare model for evaluation\n",
    "vision_transformer.eval()\n",
    "\n",
    "class_weights = class_weights.to('cpu')\n",
    "preds_list = []\n",
    "target_list = []\n",
    "output_list = []\n",
    "\n",
    "test_loss = 0.0\n",
    "accuracy = 0\n",
    "\n",
    "# number of classes\n",
    "n_class = len(class_names)\n",
    "\n",
    "class_correct = np.zeros(n_class)\n",
    "class_total = np.zeros(n_class)\n",
    "\n",
    "# move model back to cpu\n",
    "vision_transformer = vision_transformer.to('cpu')\n",
    "\n",
    "# test model\n",
    "for images, targets in test_loader:\n",
    "\n",
    "    # get outputs\n",
    "    outputs = vision_transformer(images)\n",
    "\n",
    "    # calculate loss\n",
    "    loss = criterion(outputs, targets)\n",
    "\n",
    "    # track loss\n",
    "    test_loss += loss.item()\n",
    "\n",
    "    # get predictions from probabilities\n",
    "    preds = torch.argmax(F.softmax(outputs, dim=1), dim=1)\n",
    "\n",
    "    target_list.extend(targets)\n",
    "    output_list.extend(torch.argmax(F.softmax(outputs, dim=1), dim=1 ))\n",
    "    preds_list.extend(preds)\n",
    "\n",
    "    # get correct predictions\n",
    "    correct_preds = (preds == targets).type(torch.FloatTensor)\n",
    "\n",
    "    # calculate and accumulate accuracy\n",
    "    accuracy += torch.mean(correct_preds).item() * 100\n",
    "\n",
    "    # calculate test accuracy for each class\n",
    "    for c in range(n_class):\n",
    "\n",
    "        targets = targets.to('cpu')\n",
    "\n",
    "        class_total[c] += (targets == c).sum()\n",
    "        class_correct[c] += ((correct_preds) * (targets == c)).sum()\n",
    "\n",
    "# get average accuracy\n",
    "accuracy = accuracy / len(test_loader)\n",
    "\n",
    "# get average loss\n",
    "test_loss = test_loss / len(test_loader)\n",
    "\n",
    "# output test loss statistics\n",
    "print('Test Loss: {:.6f}'.format(test_loss))\n",
    "\n",
    "accuracy_per_class(class_correct, class_total, class_names)\n",
    "\n",
    "get_metrics(preds_list, target_list)"
   ]
  },
  {
   "cell_type": "markdown",
   "id": "ffc6b3db-ad6c-477f-be75-ee9ece2d3d85",
   "metadata": {},
   "source": [
    "### epoches = 50 + Weighted Samples"
   ]
  },
  {
   "cell_type": "code",
   "execution_count": 52,
   "id": "daa1ab31-d49f-4c2e-aa01-3814408afe37",
   "metadata": {},
   "outputs": [
    {
     "name": "stdout",
     "output_type": "stream",
     "text": [
      "Device available :  mps\n",
      "Epoch: 1 \t Training Loss: 1.462272 \t Validation Loss: 1.577855\n",
      "Epoch: 2 \t Training Loss: 1.467690 \t Validation Loss: 1.565859\n",
      "Epoch: 3 \t Training Loss: 1.463111 \t Validation Loss: 1.537547\n",
      "Epoch: 4 \t Training Loss: 1.461327 \t Validation Loss: 1.534194\n",
      "Epoch: 5 \t Training Loss: 1.463937 \t Validation Loss: 1.576116\n",
      "Epoch: 6 \t Training Loss: 1.454231 \t Validation Loss: 1.588257\n",
      "Epoch: 7 \t Training Loss: 1.458326 \t Validation Loss: 1.563322\n",
      "Epoch: 8 \t Training Loss: 1.459566 \t Validation Loss: 1.580744\n",
      "Epoch: 9 \t Training Loss: 1.458036 \t Validation Loss: 1.573369\n",
      "Epoch: 10 \t Training Loss: 1.459138 \t Validation Loss: 1.550074\n",
      "Epoch: 11 \t Training Loss: 1.455070 \t Validation Loss: 1.552075\n",
      "Epoch: 12 \t Training Loss: 1.459889 \t Validation Loss: 1.605212\n",
      "Epoch: 13 \t Training Loss: 1.447965 \t Validation Loss: 1.529629\n",
      "Epoch: 14 \t Training Loss: 1.452617 \t Validation Loss: 1.558143\n",
      "Epoch: 15 \t Training Loss: 1.452465 \t Validation Loss: 1.572528\n",
      "Epoch: 16 \t Training Loss: 1.450896 \t Validation Loss: 1.559793\n",
      "Epoch: 17 \t Training Loss: 1.448558 \t Validation Loss: 1.522595\n",
      "Epoch: 18 \t Training Loss: 1.451749 \t Validation Loss: 1.520789\n",
      "Epoch: 19 \t Training Loss: 1.448203 \t Validation Loss: 1.565034\n",
      "Epoch: 20 \t Training Loss: 1.449977 \t Validation Loss: 1.597361\n",
      "Epoch: 21 \t Training Loss: 1.450010 \t Validation Loss: 1.571005\n",
      "Epoch: 22 \t Training Loss: 1.447314 \t Validation Loss: 1.589745\n",
      "Epoch: 23 \t Training Loss: 1.443184 \t Validation Loss: 1.549472\n",
      "Epoch: 24 \t Training Loss: 1.448049 \t Validation Loss: 1.582819\n",
      "Epoch: 25 \t Training Loss: 1.447113 \t Validation Loss: 1.579471\n",
      "Epoch: 26 \t Training Loss: 1.443788 \t Validation Loss: 1.535673\n",
      "Epoch: 27 \t Training Loss: 1.440927 \t Validation Loss: 1.579229\n",
      "Epoch: 28 \t Training Loss: 1.439124 \t Validation Loss: 1.586512\n",
      "Epoch: 29 \t Training Loss: 1.435320 \t Validation Loss: 1.552563\n",
      "Epoch: 30 \t Training Loss: 1.436610 \t Validation Loss: 1.605179\n",
      "Epoch: 31 \t Training Loss: 1.442369 \t Validation Loss: 1.598469\n",
      "Epoch: 32 \t Training Loss: 1.440396 \t Validation Loss: 1.518995\n",
      "Epoch: 33 \t Training Loss: 1.442923 \t Validation Loss: 1.541916\n",
      "Epoch: 34 \t Training Loss: 1.444320 \t Validation Loss: 1.540982\n",
      "Epoch: 35 \t Training Loss: 1.446937 \t Validation Loss: 1.572961\n",
      "Epoch: 36 \t Training Loss: 1.437353 \t Validation Loss: 1.571811\n",
      "Epoch: 37 \t Training Loss: 1.434162 \t Validation Loss: 1.530874\n",
      "Epoch: 38 \t Training Loss: 1.436614 \t Validation Loss: 1.545060\n",
      "Epoch: 39 \t Training Loss: 1.437463 \t Validation Loss: 1.585278\n",
      "Epoch: 40 \t Training Loss: 1.440662 \t Validation Loss: 1.518937\n",
      "Epoch: 41 \t Training Loss: 1.434693 \t Validation Loss: 1.574797\n",
      "Epoch: 42 \t Training Loss: 1.441785 \t Validation Loss: 1.590500\n",
      "Epoch: 43 \t Training Loss: 1.432921 \t Validation Loss: 1.553041\n",
      "Epoch: 44 \t Training Loss: 1.435050 \t Validation Loss: 1.533255\n",
      "Epoch: 45 \t Training Loss: 1.439945 \t Validation Loss: 1.566915\n",
      "Epoch: 46 \t Training Loss: 1.438204 \t Validation Loss: 1.549364\n",
      "Epoch: 47 \t Training Loss: 1.433027 \t Validation Loss: 1.552967\n",
      "Epoch: 48 \t Training Loss: 1.433630 \t Validation Loss: 1.575998\n",
      "Epoch: 49 \t Training Loss: 1.433281 \t Validation Loss: 1.547135\n",
      "Epoch: 50 \t Training Loss: 1.440114 \t Validation Loss: 1.526378\n"
     ]
    }
   ],
   "source": [
    "    n_epoch = 50\n",
    "    data = train_loader_ws\n",
    "\n",
    "    train_loss_list, valid_loss_list = [], []\n",
    "    \n",
    "    # move model to GPU\n",
    "    if train_on_gpu:\n",
    "        print(\"Device available : \", device)\n",
    "        vision_transformer.to(device)\n",
    "    \n",
    "    # prepare model for training\n",
    "    vision_transformer.train()\n",
    "    \n",
    "    for e in range(n_epoch):\n",
    "        #print(\"Start Iteration \", e)\n",
    "        train_loss = 0.0\n",
    "        valid_loss = 0.0\n",
    "    \n",
    "        # get batch data\n",
    "        for i, (images, targets) in enumerate(data):\n",
    "            \n",
    "            # move to gpu if available\n",
    "            if train_on_gpu:\n",
    "                images, targets = images.to(device), targets.to(device)\n",
    "    \n",
    "            # clear grad\n",
    "            optimizer.zero_grad()\n",
    "    \n",
    "            # feedforward data\n",
    "            outputs = vision_transformer(images)\n",
    "    \n",
    "            # calculate loss\n",
    "            loss = criterion(outputs, targets)\n",
    "    \n",
    "            # backward pass, calculate gradients\n",
    "            loss.backward()\n",
    "    \n",
    "            # update weights\n",
    "            optimizer.step()\n",
    "    \n",
    "            # track loss\n",
    "            train_loss += loss.item()\n",
    "    \n",
    "        # set model to evaluation mode\n",
    "        vision_transformer.eval()\n",
    "    \n",
    "        # validate model\n",
    "        for images, targets in valid_loader:\n",
    "    \n",
    "            # move to gpu if available\n",
    "            if train_on_gpu:\n",
    "                images = images.to(device)\n",
    "                targets = targets.to(device)\n",
    "    \n",
    "            # turn off gradients\n",
    "            with torch.no_grad():\n",
    "    \n",
    "                outputs = vision_transformer(images)\n",
    "                loss = criterion(outputs, targets)\n",
    "                valid_loss += loss.item()\n",
    "    \n",
    "        # set model back to training mode\n",
    "        vision_transformer.train()\n",
    "    \n",
    "        # get average loss values\n",
    "        train_loss = train_loss / len(data)\n",
    "        valid_loss = valid_loss / len(valid_loader)\n",
    "    \n",
    "        train_loss_list.append(train_loss)\n",
    "        valid_loss_list.append(valid_loss)\n",
    "    \n",
    "        # output training statistics for epoch\n",
    "        print('Epoch: {} \\t Training Loss: {:.6f} \\t Validation Loss: {:.6f}'\n",
    "                      .format( (e+1), train_loss, valid_loss))"
   ]
  },
  {
   "cell_type": "code",
   "execution_count": 53,
   "id": "06695c4b-fae8-4824-af4e-30e661dfac21",
   "metadata": {},
   "outputs": [
    {
     "data": {
      "image/png": "[encoded data removed]",
      "text/plain": [
       "<Figure size 640x480 with 1 Axes>"
      ]
     },
     "metadata": {},
     "output_type": "display_data"
    }
   ],
   "source": [
    "n_epoch = 50\n",
    "plot_losses(train_loss_list, valid_loss_list)"
   ]
  },
  {
   "cell_type": "code",
   "execution_count": 72,
   "id": "3cf4e895-d6ae-4d50-a073-85cecc7711ff",
   "metadata": {},
   "outputs": [
    {
     "name": "stdout",
     "output_type": "stream",
     "text": [
      "Test Loss: 1.510479\n"
     ]
    }
   ],
   "source": [
    "# prepare model for evaluation\n",
    "vision_transformer.eval()\n",
    "\n",
    "class_weights = class_weights.to('cpu')\n",
    "\n",
    "test_loss = 0.0\n",
    "accuracy = 0\n",
    "\n",
    "# number of classes\n",
    "n_class = len(class_names)\n",
    "\n",
    "class_correct = np.zeros(n_class)\n",
    "class_total = np.zeros(n_class)\n",
    "\n",
    "predictions_labels = []\n",
    "actual_labels = []\n",
    "\n",
    "# move model back to cpu\n",
    "vision_transformer = vision_transformer.to('cpu')\n",
    "\n",
    "# test model\n",
    "for images, targets in test_loader:\n",
    "\n",
    "    # get outputs\n",
    "    outputs = vision_transformer(images)\n",
    "\n",
    "    # calculate loss\n",
    "    loss = criterion(outputs, targets)\n",
    "\n",
    "    # track loss\n",
    "    test_loss += loss.item()\n",
    "\n",
    "    # get predictions from probabilities\n",
    "    preds = torch.argmax(F.softmax(outputs, dim=1), dim=1)\n",
    "    predictions_labels.extend(preds)\n",
    "    actual_labels.extend(targets)\n",
    "    \n",
    "    # get correct predictions\n",
    "    correct_preds = (preds == targets).type(torch.FloatTensor)\n",
    "\n",
    "    # calculate and accumulate accuracy\n",
    "    accuracy += torch.mean(correct_preds).item() * 100\n",
    "\n",
    "    # calculate test accuracy for each class\n",
    "    for c in range(n_class):\n",
    "\n",
    "        targets = targets.to('cpu')\n",
    "\n",
    "        class_total[c] += (targets == c).sum()\n",
    "        class_correct[c] += ((correct_preds) * (targets == c)).sum()\n",
    "\n",
    "# get average accuracy\n",
    "accuracy = accuracy / len(test_loader)\n",
    "\n",
    "# get average loss\n",
    "test_loss = test_loss / len(test_loader)\n",
    "\n",
    "# output test loss statistics\n",
    "print('Test Loss: {:.6f}'.format(test_loss))"
   ]
  },
  {
   "cell_type": "code",
   "execution_count": 55,
   "id": "f29fe2c6-9b8f-4cc9-8bb4-906c5ed42221",
   "metadata": {},
   "outputs": [
    {
     "name": "stdout",
     "output_type": "stream",
     "text": [
      "Test Accuracy of Classes\n",
      "\n",
      "destroyed\t: 49% \t (90/183)\n",
      "major-damage\t: 36% \t (150/409)\n",
      "minor-damage\t: 25% \t (349/1363)\n",
      "no-damage\t: 22% \t (815/3647)\n",
      "un-classified\t: 43% \t (24/55)\n",
      "\n",
      "Test Accuracy of Dataset: \t 25% \t (1428/5657)\n"
     ]
    }
   ],
   "source": [
    "accuracy_per_class(class_correct, class_total, class_names)"
   ]
  },
  {
   "cell_type": "code",
   "execution_count": 71,
   "id": "1123a087-c397-442b-bcad-9d46a4d2fc28",
   "metadata": {},
   "outputs": [
    {
     "data": {
      "text/plain": [
       "torch.Size([5657])"
      ]
     },
     "execution_count": 71,
     "metadata": {},
     "output_type": "execute_result"
    }
   ],
   "source": [
    "len(outputs)\n",
    "test_labels.shape\n",
    "#preds.shape\n",
    "#get_multi_class_F1_score(preds, test_labels)"
   ]
  },
  {
   "cell_type": "code",
   "execution_count": null,
   "id": "836f2520-a8d9-445f-9d20-c99ea6f1a5d4",
   "metadata": {},
   "outputs": [],
   "source": [
    "def train_test_eval(valid_loader, n_epoch = 50, data = train_loader_ws):\n",
    "     \n",
    "    \n",
    "\n",
    "    train_loss_list, valid_loss_list = [], []\n",
    "    \n",
    "    # move model to GPU\n",
    "    if train_on_gpu:\n",
    "        print(\"Device available : \", device)\n",
    "        vision_transformer.to(device)\n",
    "    \n",
    "    # prepare model for training\n",
    "    vision_transformer.train()\n",
    "    \n",
    "    for e in range(n_epoch):\n",
    "        #print(\"Start Iteration \", e)\n",
    "        train_loss = 0.0\n",
    "        valid_loss = 0.0\n",
    "    \n",
    "        # get batch data\n",
    "        for i, (images, targets) in enumerate(data):\n",
    "            \n",
    "            # move to gpu if available\n",
    "            if train_on_gpu:\n",
    "                images, targets = images.to(device), targets.to(device)\n",
    "    \n",
    "            # clear grad\n",
    "            optimizer.zero_grad()\n",
    "    \n",
    "            # feedforward data\n",
    "            outputs = vision_transformer(images)\n",
    "    \n",
    "            # calculate loss\n",
    "            loss = criterion(outputs, targets)\n",
    "    \n",
    "            # backward pass, calculate gradients\n",
    "            loss.backward()\n",
    "    \n",
    "            # update weights\n",
    "            optimizer.step()\n",
    "    \n",
    "            # track loss\n",
    "            train_loss += loss.item()\n",
    "    \n",
    "        # set model to evaluation mode\n",
    "        vision_transformer.eval()\n",
    "    \n",
    "        # validate model\n",
    "        for images, targets in valid_loader:\n",
    "    \n",
    "            # move to gpu if available\n",
    "            if train_on_gpu:\n",
    "                images = images.to(device)\n",
    "                targets = targets.to(device)\n",
    "    \n",
    "            # turn off gradients\n",
    "            with torch.no_grad():\n",
    "    \n",
    "                outputs = vision_transformer(images)\n",
    "                loss = criterion(outputs, targets)\n",
    "                valid_loss += loss.item()\n",
    "    \n",
    "        # set model back to training mode\n",
    "        vision_transformer.train()\n",
    "    \n",
    "        # get average loss values\n",
    "        train_loss = train_loss / len(data)\n",
    "        valid_loss = valid_loss / len(valid_loader)\n",
    "    \n",
    "        train_loss_list.append(train_loss)\n",
    "        valid_loss_list.append(valid_loss)\n",
    "    \n",
    "        # output training statistics for epoch\n",
    "        print('Epoch: {} \\t Training Loss: {:.6f} \\t Validation Loss: {:.6f}'\n",
    "                      .format( (e+1), train_loss, valid_loss))"
   ]
  },
  {
   "cell_type": "markdown",
   "id": "cc724d1f-d02e-4ac1-a1b1-442c98126276",
   "metadata": {},
   "source": [
    "#### Training & Evaluation using Imbalanced Sampler"
   ]
  },
  {
   "cell_type": "markdown",
   "id": "8ba46624-daf6-4639-b055-61f8508ca4ad",
   "metadata": {},
   "source": [
    "#### Sampler -  Imbalance Sampler"
   ]
  },
  {
   "cell_type": "code",
   "execution_count": null,
   "id": "62c197bd-1cba-4740-8f36-855efd79f2ab",
   "metadata": {},
   "outputs": [],
   "source": [
    "class ImbalancedDatasetSampler(torch.utils.data.sampler.Sampler):\n",
    "    \"\"\"Samples elements randomly from a given list of indices for imbalanced dataset\n",
    "    Arguments:\n",
    "        indices (list, optional): a list of indices\n",
    "        num_samples (int, optional): number of samples to draw\n",
    "        callback_get_label func: a callback-like function which takes two arguments - dataset and index\n",
    "    \"\"\"\n",
    "\n",
    "    def __init__(self, trainset, data_size,  labels_count, labels, class_weights, indices=None, num_samples=None, callback_get_label=None):\n",
    "                \n",
    "        # if indices is not provided, \n",
    "        # all elements in the dataset will be considered\n",
    "        self.indices = list(range(data_size)) \\\n",
    "            if indices is None else indices\n",
    "   \n",
    "        # define custom callback\n",
    "        self.callback_get_label = callback_get_label\n",
    "\n",
    "        # if num_samples is not provided, \n",
    "        # draw `len(indices)` samples in each iteration\n",
    "        self.num_samples = len(self.indices) \\\n",
    "            if num_samples is None else num_samples\n",
    "            \n",
    "        # distribution of classes in the dataset \n",
    "        label_to_count = zip(labels_count[0], labels_count[1])\n",
    "        # for idx in self.indices:\n",
    "        #     label = self._get_label(dataset, idx)\n",
    "        #     if label in label_to_count:\n",
    "        #         label_to_count[label] += 1\n",
    "        #     else:\n",
    "        #         label_to_count[label] = 1\n",
    "                \n",
    "        # weight for each sample\n",
    "        # weights = [1.0 / label_to_count[self._get_label(trainset, idx)]\n",
    "        #            for idx in self.indices]\n",
    "        self.weights = torch.DoubleTensor(class_weights)\n",
    "\n",
    "    def _get_label(self, labels, idx):\n",
    "        return labels[idx]\n",
    "                \n",
    "    def __iter__(self):\n",
    "        return (self.indices[i] for i in torch.multinomial(\n",
    "            self.weights, self.num_samples, replacement=True))\n",
    "\n",
    "    def __len__(self):\n",
    "        return self.num_samples\n"
   ]
  },
  {
   "cell_type": "code",
   "execution_count": null,
   "id": "7ba6fbfc-b8ff-4cd0-a996-f3192482ed27",
   "metadata": {},
   "outputs": [],
   "source": [
    "trainset"
   ]
  },
  {
   "cell_type": "code",
   "execution_count": null,
   "id": "429c87d4-10f8-4a33-a12a-fac6d5f2eb2a",
   "metadata": {},
   "outputs": [],
   "source": [
    "ib = ImbalancedDatasetSampler(trainset, len(trainset), train_labels_count, train_labels, class_weights)\n",
    "train_loader_ib = DataLoader(trainset, batch_size=batch_size, sampler=ib , num_workers=2)"
   ]
  },
  {
   "cell_type": "code",
   "execution_count": null,
   "id": "33fed1ed-aa9a-4fdb-adab-09631cfe89eb",
   "metadata": {},
   "outputs": [],
   "source": [
    "train_loss_list_ib, valid_loss_list_ib = train_vit(device, train_loader_ib , valid_loader, train_on_gpu = True, n_epoch = 10)"
   ]
  },
  {
   "cell_type": "code",
   "execution_count": null,
   "id": "33c7c9db-63ac-4ba6-991e-d5177bae2e93",
   "metadata": {},
   "outputs": [],
   "source": [
    "plot_losses(train_loss_list_ib, valid_loss_list_ib)"
   ]
  },
  {
   "cell_type": "code",
   "execution_count": null,
   "id": "8b3cb4c2-d397-4f37-9168-0e801cc9246e",
   "metadata": {},
   "outputs": [],
   "source": [
    "class_correct_ib, class_total_ib = eval_vit(class_names, test_loader, class_weights)"
   ]
  },
  {
   "cell_type": "code",
   "execution_count": null,
   "id": "b1493448-2989-4334-87e7-a51a6ca18575",
   "metadata": {},
   "outputs": [],
   "source": [
    "accuracy_per_class(class_correct_ib, class_total_ib, class_names)"
   ]
  },
  {
   "cell_type": "markdown",
   "id": "d2d6dc29-20a3-42d9-bb00-54af59382aa0",
   "metadata": {},
   "source": [
    "##### 50 epoches"
   ]
  },
  {
   "cell_type": "code",
   "execution_count": null,
   "id": "51cc2848-ed76-436b-a1b0-e9f068645bf9",
   "metadata": {},
   "outputs": [],
   "source": [
    "train_loss_list, valid_loss_list = train_vit(device, train_loader_ib , valid_loader, train_on_gpu = True, n_epoch = 25)"
   ]
  },
  {
   "cell_type": "code",
   "execution_count": null,
   "id": "462e82b0-2b20-4531-83af-8be186681d00",
   "metadata": {},
   "outputs": [],
   "source": []
  }
 ],
 "metadata": {
  "kernelspec": {
   "display_name": "Python 3 (ipykernel)",
   "language": "python",
   "name": "python3"
  },
  "language_info": {
   "codemirror_mode": {
    "name": "ipython",
    "version": 3
   },
   "file_extension": ".py",
   "mimetype": "text/x-python",
   "name": "python",
   "nbconvert_exporter": "python",
   "pygments_lexer": "ipython3",
   "version": "3.10.13"
  }
 },
 "nbformat": 4,
 "nbformat_minor": 5
}
