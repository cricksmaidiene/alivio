{
 "cells": [
  {
   "cell_type": "markdown",
   "id": "f4f26954-c292-4e91-813e-a31797d4d2a4",
   "metadata": {},
   "source": [
    "### Loading Cleaned Metadata files"
   ]
  },
  {
   "cell_type": "code",
   "execution_count": 11,
   "id": "e037c093-2122-42f3-b0c1-ff901878f1bd",
   "metadata": {},
   "outputs": [],
   "source": [
    "import os\n",
    "import numpy as np\n",
    "import pandas as pd\n",
    "import random\n",
    "import seaborn as sns\n",
    "import matplotlib.pyplot as plt\n",
    "\n",
    "import torchvision\n",
    "from torchvision import datasets\n",
    "from torch.utils.data import DataLoader\n",
    "from torch.utils.data.sampler import SubsetRandomSampler\n",
    "import torchvision.models as models\n",
    "import torch.optim as optim\n",
    "import torch.optim.lr_scheduler as lr_scheduler\n",
    "\n",
    "import torch\n",
    "import torchvision\n",
    "import torch.nn.functional as F\n",
    "import torchvision.transforms as T\n",
    "import torchvision.models as models\n",
    "from torchvision.transforms import ToTensor\n",
    "from torch import nn, optim\n",
    "from torchvision import datasets, models, transforms, utils\n",
    "from torch.utils.data import Dataset, DataLoader\n",
    "\n",
    "import cv2\n",
    "from PIL import Image\n",
    "from transformers import ViTModel, ViTImageProcessor, ViTForImageClassification\n",
    "from timm import create_model\n",
    "\n",
    "from torch.utils.data.sampler import SubsetRandomSampler\n"
   ]
  },
  {
   "cell_type": "code",
   "execution_count": 3,
   "id": "05db6911-62c3-42c4-8a9d-f287709af45b",
   "metadata": {},
   "outputs": [
    {
     "name": "stdout",
     "output_type": "stream",
     "text": [
      "Current Path :  /Users/yaminigotimukul/DataScience/Berekley/Semesters/Spring_2024/repo/alivio/src/04_models\n"
     ]
    }
   ],
   "source": [
    "print(\"Current Path : \", os.getcwd())\n",
    "os.chdir('../..')"
   ]
  },
  {
   "cell_type": "code",
   "execution_count": 4,
   "id": "bdd561fc-8761-4782-9b25-10b08fd5c76c",
   "metadata": {},
   "outputs": [
    {
     "name": "stdout",
     "output_type": "stream",
     "text": [
      "Root Project Path :  /Users/yaminigotimukul/DataScience/Berekley/Semesters/Spring_2024/repo/alivio\n",
      "Root Data Path :  /Users/yaminigotimukul/DataScience/Berekley/Semesters/Spring_2024/repo/alivio/data/xview_building_damage\n",
      "Train Data Path :  /Users/yaminigotimukul/DataScience/Berekley/Semesters/Spring_2024/repo/alivio/data/xview_building_damage/train\n",
      "Cleaned Meta CSV file Path :  /Users/yaminigotimukul/DataScience/Berekley/Semesters/Spring_2024/repo/alivio/data/xview_building_damage/train/clean_meta_csv\n"
     ]
    }
   ],
   "source": [
    "ROOT_DIR = os.getcwd()\n",
    "print(\"Root Project Path : \", ROOT_DIR)\n",
    "ROOT_DATA_DIR = os.path.join(ROOT_DIR, 'data', 'xview_building_damage')\n",
    "print(\"Root Data Path : \", ROOT_DATA_DIR)\n",
    "TRAIN_DATA_DIR = os.path.join(ROOT_DATA_DIR, 'train')\n",
    "print(\"Train Data Path : \", TRAIN_DATA_DIR)\n",
    "CLEANED_META_CSV_DIR = os.path.join(TRAIN_DATA_DIR, 'clean_meta_csv')\n",
    "print(\"Cleaned Meta CSV file Path : \", CLEANED_META_CSV_DIR)\n",
    "HC_MICHEAL_PATH = os.path.join(ROOT_DATA_DIR, 'challenge', 'output', 'hurricane-michael')\n",
    "TRAIN_HC_MICHEAL_CLASS=os.path.join(HC_MICHEAL_PATH, 'class', 'post')\n",
    "TRAIN_HMC_MASK_POST_DIR = os.path.join(HC_MICHEAL_PATH, 'post_masks')\n",
    "TRAIN_HMTHW_MASK_POST_DIR = os.path.join(ROOT_DATA_DIR, 'challenge', 'output', 'hurricane-matthew', 'post_masks')\n",
    "TRAIN_HH_MASK_POST_DIR = os.path.join(ROOT_DATA_DIR, 'challenge', 'output', 'hurricane-harvey', 'post_masks')\n",
    "TRAIN_HF_MASK_POST_DIR = os.path.join(ROOT_DATA_DIR, 'challenge', 'output', 'hurricane-florence', 'post_masks')"
   ]
  },
  {
   "cell_type": "markdown",
   "id": "3197816a-5517-4af3-b3d7-3300092a770d",
   "metadata": {},
   "source": [
    "### Custom Dataset class"
   ]
  },
  {
   "cell_type": "code",
   "execution_count": null,
   "id": "5df6cde8-67cf-4959-987f-0d2987a401b7",
   "metadata": {},
   "outputs": [],
   "source": [
    "class CustomBuildingDamageDataset(Dataset):\n",
    "    def __init__(self, meta_df, img_dir, transform=None, dataset='train'):\n",
    "\n",
    "        df = meta_df\n",
    "        self.img_dir = img_dir\n",
    "        self.transform = transform\n",
    "\n",
    "        # based on DataFrame columns\n",
    "        self.img_names = df[\"mask_file_names\"]\n",
    "        self.labels = df[\"damage\"]\n",
    "\n",
    "    def __getitem__(self, index):\n",
    "      image_path = os.path.join(self.data_dir ,self.meta_df.iloc[i]['damage'], img_names[index])\n",
    "      img = Image.open(image_path) \n",
    "        \n",
    "      if self.transform is not None:\n",
    "            img = self.transform(img)\n",
    "\n",
    "      label = self.labels[index]\n",
    "      return img, label\n",
    "\n",
    "    def __len__(self):\n",
    "        return self.labels.shape[0]"
   ]
  },
  {
   "cell_type": "code",
   "execution_count": null,
   "id": "1f7ef52e-3918-4ac5-937c-0e59937d05ed",
   "metadata": {},
   "outputs": [],
   "source": [
    "train_meta_df=pd.read_csv(os.path.join(CLEANED_META_CSV_DIR, 'hc_train_hurricane-michael.csv'))\n",
    "#hold_meta_df=pd.read_csv(os.path.join(CLEANED_META_CSV_DIR, 'hc_hold_hurricane-michael.csv'))\n",
    "#test_meta_df=pd.read_csv(os.path.join(CLEANED_META_CSV_DIR, 'hc_test_hurricane-michael.csv'))"
   ]
  },
  {
   "cell_type": "code",
   "execution_count": null,
   "id": "4f725af5-52cb-4144-964a-105c9d94a3f0",
   "metadata": {},
   "outputs": [],
   "source": [
    "data_transforms = {\n",
    "    \"train\": transforms.Compose(\n",
    "        [\n",
    "            transforms.Resize(size=(224, 224)),\n",
    "            #transforms.RandomCrop((28, 28)),\n",
    "            transforms.ToTensor(),\n",
    "            # normalize images to [-1, 1] range\n",
    "            transforms.Normalize((0.5,), (0.5,)),\n",
    "        ]\n",
    "    ),\n",
    "    \"test\": transforms.Compose(\n",
    "        [\n",
    "            transforms.Resize(size=(224, 224)),\n",
    "            #transforms.CenterCrop((28, 28)),\n",
    "            transforms.ToTensor(),\n",
    "            # normalize images to [-1, 1] range\n",
    "            transforms.Normalize((0.5,), (0.5,)),\n",
    "        ]\n",
    "    ),\n",
    "}"
   ]
  },
  {
   "cell_type": "code",
   "execution_count": null,
   "id": "b69f4acd-8949-4641-8ebe-f7ec04f3744d",
   "metadata": {},
   "outputs": [],
   "source": [
    "train_dataset = CustomBuildingDamageDataset(\n",
    "    meta_df=train_meta_df,\n",
    "    img_dir=TRAIN_HC_MICHEAL_CLASS,\n",
    "    transform=data_transforms[\"train\"],\n",
    ")\n",
    "\n",
    "# val_dataset = MyDataset(\n",
    "#     csv_path=\"mnist-pngs/new_val.csv\",\n",
    "#     img_dir=\"mnist-pngs/\",\n",
    "#     transform=data_transforms[\"test\"],\n",
    "# )\n",
    "\n",
    "# test_dataset = MyDataset(\n",
    "#     csv_path=\"mnist-pngs/test.csv\",\n",
    "#     img_dir=\"mnist-pngs/\",\n",
    "#     transform=data_transforms[\"test\"],\n",
    "# )"
   ]
  },
  {
   "cell_type": "code",
   "execution_count": null,
   "id": "3a9554ed-eaa3-4797-8cd5-d77bcb90bf06",
   "metadata": {},
   "outputs": [],
   "source": [
    "from torch.utils.data import DataLoader\n",
    "train_loader = DataLoader(\n",
    "    dataset=train_dataset,\n",
    "    batch_size=32,\n",
    "    shuffle=True,\n",
    "    drop_last=True,\n",
    "    #transform=data_transforms[\"train\"],\n",
    "    num_workers=2,\n",
    ")  \n",
    "\n",
    "# val_loader = DataLoader(\n",
    "#     dataset=val_dataset,\n",
    "#     batch_size=32,\n",
    "#     shuffle=False,\n",
    "#     transform=data_transforms[\"test\"],\n",
    "#     num_workers=2,\n",
    "# )\n",
    "\n",
    "# test_loader = DataLoader(\n",
    "#     dataset=test_dataset,\n",
    "#     batch_size=32,\n",
    "#     shuffle=False,\n",
    "#     transform=data_transforms[\"test\"],\n",
    "#     num_workers=2\n",
    "# )\n"
   ]
  },
  {
   "cell_type": "code",
   "execution_count": null,
   "id": "65c889dc-127b-4861-81b0-daaef7f1c9f6",
   "metadata": {},
   "outputs": [],
   "source": [
    "enumerate(train_loader)"
   ]
  },
  {
   "cell_type": "code",
   "execution_count": null,
   "id": "d5bec13b-009d-456d-ab04-0dae534cd51a",
   "metadata": {},
   "outputs": [],
   "source": [
    "num_epochs = 1\n",
    "for epoch in range(num_epochs):\n",
    "\n",
    "    for batch_idx, (x, y) in enumerate(train_loader):\n",
    "        if batch_idx >= 3:\n",
    "            break\n",
    "        print(\" Batch index:\", batch_idx, end=\"\")\n",
    "        print(\" | Batch size:\", y.shape[0], end=\"\")\n",
    "        print(\" | x shape:\", x.shape, end=\"\")\n",
    "        print(\" | y shape:\", y.shape)            \n",
    "\n",
    "print(\"Labels from current batch:\", y)"
   ]
  },
  {
   "cell_type": "markdown",
   "id": "2aa44fd3-0fb5-4bce-a9fa-ef564256b595",
   "metadata": {},
   "source": [
    "### Setting the device"
   ]
  },
  {
   "cell_type": "code",
   "execution_count": 7,
   "id": "9af0b1d5-c7ed-46e0-9d5f-43e87dc90639",
   "metadata": {},
   "outputs": [
    {
     "name": "stdout",
     "output_type": "stream",
     "text": [
      "device =  mps\n"
     ]
    }
   ],
   "source": [
    "model_name = \"vit_base_patch16_224\"\n",
    "device = 'cpu' \n",
    "if torch.cuda.is_available(): \n",
    " device='cuda'\n",
    "elif torch.backends.mps.is_available():\n",
    " device = 'mps' \n",
    "\n",
    "print(\"device = \", device)"
   ]
  },
  {
   "cell_type": "markdown",
   "id": "9f0ddd8b-0f2b-4650-a427-9a48c2c4c5fe",
   "metadata": {},
   "source": [
    "### Helper Methods"
   ]
  },
  {
   "cell_type": "markdown",
   "id": "eb8f5647-410b-4f1e-b418-b99a5fb870df",
   "metadata": {},
   "source": [
    "#### Data Augumentation:"
   ]
  },
  {
   "cell_type": "code",
   "execution_count": 12,
   "id": "a892ffc3-509e-4834-8c73-21e098aaac2c",
   "metadata": {},
   "outputs": [],
   "source": [
    "train_transforms = transforms.Compose([transforms.RandomRotation(30),\n",
    "                                       transforms.RandomResizedCrop(224),\n",
    "                                       transforms.RandomHorizontalFlip(),\n",
    "                                       transforms.ToTensor(),\n",
    "                                       transforms.Normalize([0.5, 0.5, 0.5], \n",
    "                                                            [0.5, 0.5, 0.5])])"
   ]
  },
  {
   "cell_type": "code",
   "execution_count": 13,
   "id": "384d39d3-8999-4a73-a520-d7b701bf7136",
   "metadata": {},
   "outputs": [],
   "source": [
    "test_transforms = transforms.Compose([transforms.RandomRotation(30),\n",
    "                                     transforms.RandomResizedCrop(224),\n",
    "                                     transforms.ToTensor()])"
   ]
  },
  {
   "cell_type": "code",
   "execution_count": 14,
   "id": "6b5accc0-c18f-45b3-8854-88e99570cca5",
   "metadata": {},
   "outputs": [],
   "source": [
    "# Write transform for image\n",
    "data_transform = transforms.Compose([\n",
    "    # Resize the images to 64x64\n",
    "    transforms.Resize(size=(224, 224)),\n",
    "    # Flip the images randomly on the horizontal\n",
    "    #transforms.RandomHorizontalFlip(p=0.5), # p = probability of flip, 0.5 = 50% chance\n",
    "    # Turn the image into a torch.Tensor\n",
    "    transforms.ToTensor() # this also converts all pixel values from 0 to 255 to be between 0.0 and 1.0 \n",
    "])"
   ]
  },
  {
   "cell_type": "markdown",
   "id": "75ad1b3a-9e4b-4dae-91f2-e95f334a4b69",
   "metadata": {},
   "source": [
    "#### Load & Prepare Data"
   ]
  },
  {
   "cell_type": "code",
   "execution_count": null,
   "id": "764e2c5b-e2ab-4344-a91f-6d0c46ae3504",
   "metadata": {},
   "outputs": [],
   "source": [
    "TRAIN_HMC_MASK_POST_DIR"
   ]
  },
  {
   "cell_type": "code",
   "execution_count": 15,
   "id": "52db5dc9-b46e-402d-9178-a04a8cb7fd0e",
   "metadata": {
    "scrolled": true
   },
   "outputs": [
    {
     "name": "stdout",
     "output_type": "stream",
     "text": [
      "Train data:\n",
      "Dataset ImageFolder\n",
      "    Number of datapoints: 22686\n",
      "    Root location: /Users/yaminigotimukul/DataScience/Berekley/Semesters/Spring_2024/repo/alivio/data/xview_building_damage/challenge/output/hurricane-michael/class/post\n",
      "    StandardTransform\n",
      "Transform: Compose(\n",
      "               Resize(size=(224, 224), interpolation=bilinear, max_size=None, antialias=True)\n",
      "               ToTensor()\n",
      "           )\n"
     ]
    }
   ],
   "source": [
    "train_dataset = datasets.ImageFolder(TRAIN_HC_MICHEAL_CLASS, transform=data_transform)\n",
    "#dataloader = torch.utils.data.DataLoader(train_dataset, batch_size=32, shuffle=True, num_workers=2)\n",
    "print(f\"Train data:\\n{train_dataset}\")"
   ]
  },
  {
   "cell_type": "code",
   "execution_count": 16,
   "id": "b93e9b68-e0ba-49b1-bf6a-52f72a1f2829",
   "metadata": {},
   "outputs": [
    {
     "data": {
      "text/plain": [
       "['destroyed', 'major-damage', 'minor-damage', 'no-damage', 'un-classified']"
      ]
     },
     "execution_count": 16,
     "metadata": {},
     "output_type": "execute_result"
    }
   ],
   "source": [
    "class_names = train_dataset.classes\n",
    "class_names"
   ]
  },
  {
   "cell_type": "code",
   "execution_count": 17,
   "id": "2061add4-decf-4b93-9c0c-e8a648c5779b",
   "metadata": {},
   "outputs": [
    {
     "data": {
      "text/plain": [
       "{'destroyed': 0,\n",
       " 'major-damage': 1,\n",
       " 'minor-damage': 2,\n",
       " 'no-damage': 3,\n",
       " 'un-classified': 4}"
      ]
     },
     "execution_count": 17,
     "metadata": {},
     "output_type": "execute_result"
    }
   ],
   "source": [
    "class_dict = train_dataset.class_to_idx\n",
    "class_dict"
   ]
  },
  {
   "cell_type": "code",
   "execution_count": 18,
   "id": "276fdbf8-27f6-46ea-93c0-f6c73fd5a5d8",
   "metadata": {},
   "outputs": [
    {
     "data": {
      "text/plain": [
       "22686"
      ]
     },
     "execution_count": 18,
     "metadata": {},
     "output_type": "execute_result"
    }
   ],
   "source": [
    "len(train_dataset)"
   ]
  },
  {
   "cell_type": "code",
   "execution_count": 19,
   "id": "f1cc9ba4-beb0-4898-8d4c-2f279207ac1e",
   "metadata": {},
   "outputs": [
    {
     "name": "stdout",
     "output_type": "stream",
     "text": [
      "Image tensor:\n",
      "tensor([[[0., 0., 0.,  ..., 0., 0., 0.],\n",
      "         [0., 0., 0.,  ..., 0., 0., 0.],\n",
      "         [0., 0., 0.,  ..., 0., 0., 0.],\n",
      "         ...,\n",
      "         [0., 0., 0.,  ..., 0., 0., 0.],\n",
      "         [0., 0., 0.,  ..., 0., 0., 0.],\n",
      "         [0., 0., 0.,  ..., 0., 0., 0.]],\n",
      "\n",
      "        [[0., 0., 0.,  ..., 0., 0., 0.],\n",
      "         [0., 0., 0.,  ..., 0., 0., 0.],\n",
      "         [0., 0., 0.,  ..., 0., 0., 0.],\n",
      "         ...,\n",
      "         [0., 0., 0.,  ..., 0., 0., 0.],\n",
      "         [0., 0., 0.,  ..., 0., 0., 0.],\n",
      "         [0., 0., 0.,  ..., 0., 0., 0.]],\n",
      "\n",
      "        [[0., 0., 0.,  ..., 0., 0., 0.],\n",
      "         [0., 0., 0.,  ..., 0., 0., 0.],\n",
      "         [0., 0., 0.,  ..., 0., 0., 0.],\n",
      "         ...,\n",
      "         [0., 0., 0.,  ..., 0., 0., 0.],\n",
      "         [0., 0., 0.,  ..., 0., 0., 0.],\n",
      "         [0., 0., 0.,  ..., 0., 0., 0.]]])\n",
      "Image shape: torch.Size([3, 224, 224])\n",
      "Image datatype: torch.float32\n",
      "Image label: 0\n",
      "Label datatype: <class 'int'>\n"
     ]
    }
   ],
   "source": [
    "img, label = train_dataset[0][0], train_dataset[0][1]\n",
    "print(f\"Image tensor:\\n{img}\")\n",
    "print(f\"Image shape: {img.shape}\")\n",
    "print(f\"Image datatype: {img.dtype}\")\n",
    "print(f\"Image label: {label}\")\n",
    "print(f\"Label datatype: {type(label)}\")"
   ]
  },
  {
   "cell_type": "code",
   "execution_count": 20,
   "id": "afec6e7f-e9d3-461a-ae65-8b3b97d1c0ea",
   "metadata": {},
   "outputs": [
    {
     "name": "stdout",
     "output_type": "stream",
     "text": [
      "Original shape: torch.Size([3, 224, 224]) -> [color_channels, height, width]\n",
      "Image permute shape: torch.Size([224, 224, 3]) -> [height, width, color_channels]\n"
     ]
    },
    {
     "data": {
      "image/png": "[encoded data removed]",
      "text/plain": [
       "<Figure size 1000x700 with 1 Axes>"
      ]
     },
     "metadata": {},
     "output_type": "display_data"
    }
   ],
   "source": [
    "# Rearrange the order of dimensions\n",
    "img_permute = img.permute(1, 2, 0)\n",
    "\n",
    "# Print out different shapes (before and after permute)\n",
    "print(f\"Original shape: {img.shape} -> [color_channels, height, width]\")\n",
    "print(f\"Image permute shape: {img_permute.shape} -> [height, width, color_channels]\")\n",
    "\n",
    "# Plot the image\n",
    "plt.figure(figsize=(10, 7))\n",
    "plt.imshow(img.permute(1, 2, 0))\n",
    "plt.axis(\"off\")\n",
    "plt.title(class_names[label], fontsize=14);"
   ]
  },
  {
   "cell_type": "markdown",
   "id": "0c40c69a-a9b9-4a83-b87e-a088f5b8733e",
   "metadata": {},
   "source": [
    "#### Spliting the train into train and validation"
   ]
  },
  {
   "cell_type": "code",
   "execution_count": 25,
   "id": "a0321798-d1c6-4206-bc0f-7578386c92e5",
   "metadata": {},
   "outputs": [],
   "source": [
    "trainset = torch.utils.data.Subset(train_dataset, list(range(22686)))\n",
    "#testset = torch.utils.data.Subset(testset, list(range(1000)))"
   ]
  },
  {
   "cell_type": "code",
   "execution_count": 26,
   "id": "af29299c-3441-4134-bdd6-c5fff74d1c90",
   "metadata": {},
   "outputs": [],
   "source": [
    "batch_size = 32\n",
    "\n",
    "# percentage of training set to use as validation\n",
    "valid_size = 0.2\n",
    "\n",
    "# get training indices that wil be used for validation\n",
    "train_size = len(trainset)\n",
    "indices = list(range(train_size))\n",
    "np.random.shuffle(indices)\n",
    "split = int(np.floor(valid_size * train_size))\n",
    "train_idx, valid_idx = indices[split:], indices[:split]\n",
    "\n",
    "# define samplers to obtain training and validation batches\n",
    "train_sampler = SubsetRandomSampler(train_idx)\n",
    "valid_sampler = SubsetRandomSampler(valid_idx)\n",
    "\n",
    "# prepare data loaders\n",
    "train_loader = DataLoader(trainset, batch_size=batch_size, sampler=train_sampler, num_workers=2)\n",
    "valid_loader = DataLoader(trainset, batch_size=batch_size, sampler=valid_sampler, num_workers=2)\n",
    "#test_loader = DataLoader(testset, batch_size=batch_size)"
   ]
  },
  {
   "cell_type": "markdown",
   "id": "a36877e0-d2f8-48f8-8c81-70edabe21223",
   "metadata": {},
   "source": [
    "#### Test Data"
   ]
  },
  {
   "cell_type": "code",
   "execution_count": null,
   "id": "1d09a9bb-6955-44cb-9918-8dcf0c28adb8",
   "metadata": {},
   "outputs": [],
   "source": [
    "# Pass transforms in here, then run the next cell to see how the transforms look\n",
    "test_data = datasets.ImageFolder(data_dir + '/test', transform=test_transforms)\n",
    "testloader = torch.utils.data.DataLoader(test_data, batch_size=32)"
   ]
  },
  {
   "cell_type": "markdown",
   "id": "d1d2642e-ed13-487e-9a4c-f4969e243ce5",
   "metadata": {},
   "source": [
    "#### Class Statistics - Class Balance"
   ]
  },
  {
   "cell_type": "code",
   "execution_count": 27,
   "id": "999674f1-0830-4c6d-b048-ee89516f5525",
   "metadata": {},
   "outputs": [
    {
     "name": "stdout",
     "output_type": "stream",
     "text": [
      "The number of samples per classes in training dataset:\n",
      "\n",
      "\t 0: 578\n",
      "\t 1: 1526\n",
      "\t 2: 4196\n",
      "\t 3: 11666\n",
      "\t 4: 183\n"
     ]
    }
   ],
   "source": [
    "# print out classes statistics\n",
    "\n",
    "# get all training samples labels\n",
    "train_labels = [labels for i, (images, labels) in enumerate(train_loader)]\n",
    "train_labels = torch.cat((train_labels), 0)\n",
    "train_labels_count = train_labels.unique(return_counts=True)\n",
    "\n",
    "# # print(train_labels_count)\n",
    "\n",
    "print('The number of samples per classes in training dataset:\\n')\n",
    "for label, count in zip(train_labels_count[0], train_labels_count[1]):\n",
    "    print('\\t {}: {}'.format(label, count))\n",
    "\n",
    "# # get all test samples labels\n",
    "# # test_labels = [labels for i, (images, labels) in enumerate(test_loader)]\n",
    "# # test_labels = torch.cat((test_labels), 0)\n",
    "# # test_labels_count = test_labels.unique(return_counts=True)\n",
    "\n",
    "# # print()\n",
    "# # print('The number of samples per classes in test dataset:\\n')\n",
    "# # for label, count in zip(test_labels_count[0], test_labels_count[1]):\n",
    "# #     print('\\t {}: {}'.format(label, count))"
   ]
  },
  {
   "cell_type": "code",
   "execution_count": 28,
   "id": "1fe69d9c-f0e8-42c1-8158-e177a0668ffe",
   "metadata": {},
   "outputs": [
    {
     "data": {
      "text/plain": [
       "{'destroyed': 0,\n",
       " 'major-damage': 1,\n",
       " 'minor-damage': 2,\n",
       " 'no-damage': 3,\n",
       " 'un-classified': 4}"
      ]
     },
     "execution_count": 28,
     "metadata": {},
     "output_type": "execute_result"
    }
   ],
   "source": [
    "class_dict"
   ]
  },
  {
   "cell_type": "markdown",
   "id": "e84cec26-f550-4197-aa4a-5f1685d9ecc1",
   "metadata": {},
   "source": [
    "### Model Training"
   ]
  },
  {
   "cell_type": "code",
   "execution_count": 29,
   "id": "4410c932-074e-46eb-ab21-f54cb879fdcc",
   "metadata": {},
   "outputs": [
    {
     "data": {
      "text/plain": [
       "VisionTransformer(\n",
       "  (conv_proj): Conv2d(3, 768, kernel_size=(16, 16), stride=(16, 16))\n",
       "  (encoder): Encoder(\n",
       "    (dropout): Dropout(p=0.0, inplace=False)\n",
       "    (layers): Sequential(\n",
       "      (encoder_layer_0): EncoderBlock(\n",
       "        (ln_1): LayerNorm((768,), eps=1e-06, elementwise_affine=True)\n",
       "        (self_attention): MultiheadAttention(\n",
       "          (out_proj): NonDynamicallyQuantizableLinear(in_features=768, out_features=768, bias=True)\n",
       "        )\n",
       "        (dropout): Dropout(p=0.0, inplace=False)\n",
       "        (ln_2): LayerNorm((768,), eps=1e-06, elementwise_affine=True)\n",
       "        (mlp): MLPBlock(\n",
       "          (0): Linear(in_features=768, out_features=3072, bias=True)\n",
       "          (1): GELU(approximate='none')\n",
       "          (2): Dropout(p=0.0, inplace=False)\n",
       "          (3): Linear(in_features=3072, out_features=768, bias=True)\n",
       "          (4): Dropout(p=0.0, inplace=False)\n",
       "        )\n",
       "      )\n",
       "      (encoder_layer_1): EncoderBlock(\n",
       "        (ln_1): LayerNorm((768,), eps=1e-06, elementwise_affine=True)\n",
       "        (self_attention): MultiheadAttention(\n",
       "          (out_proj): NonDynamicallyQuantizableLinear(in_features=768, out_features=768, bias=True)\n",
       "        )\n",
       "        (dropout): Dropout(p=0.0, inplace=False)\n",
       "        (ln_2): LayerNorm((768,), eps=1e-06, elementwise_affine=True)\n",
       "        (mlp): MLPBlock(\n",
       "          (0): Linear(in_features=768, out_features=3072, bias=True)\n",
       "          (1): GELU(approximate='none')\n",
       "          (2): Dropout(p=0.0, inplace=False)\n",
       "          (3): Linear(in_features=3072, out_features=768, bias=True)\n",
       "          (4): Dropout(p=0.0, inplace=False)\n",
       "        )\n",
       "      )\n",
       "      (encoder_layer_2): EncoderBlock(\n",
       "        (ln_1): LayerNorm((768,), eps=1e-06, elementwise_affine=True)\n",
       "        (self_attention): MultiheadAttention(\n",
       "          (out_proj): NonDynamicallyQuantizableLinear(in_features=768, out_features=768, bias=True)\n",
       "        )\n",
       "        (dropout): Dropout(p=0.0, inplace=False)\n",
       "        (ln_2): LayerNorm((768,), eps=1e-06, elementwise_affine=True)\n",
       "        (mlp): MLPBlock(\n",
       "          (0): Linear(in_features=768, out_features=3072, bias=True)\n",
       "          (1): GELU(approximate='none')\n",
       "          (2): Dropout(p=0.0, inplace=False)\n",
       "          (3): Linear(in_features=3072, out_features=768, bias=True)\n",
       "          (4): Dropout(p=0.0, inplace=False)\n",
       "        )\n",
       "      )\n",
       "      (encoder_layer_3): EncoderBlock(\n",
       "        (ln_1): LayerNorm((768,), eps=1e-06, elementwise_affine=True)\n",
       "        (self_attention): MultiheadAttention(\n",
       "          (out_proj): NonDynamicallyQuantizableLinear(in_features=768, out_features=768, bias=True)\n",
       "        )\n",
       "        (dropout): Dropout(p=0.0, inplace=False)\n",
       "        (ln_2): LayerNorm((768,), eps=1e-06, elementwise_affine=True)\n",
       "        (mlp): MLPBlock(\n",
       "          (0): Linear(in_features=768, out_features=3072, bias=True)\n",
       "          (1): GELU(approximate='none')\n",
       "          (2): Dropout(p=0.0, inplace=False)\n",
       "          (3): Linear(in_features=3072, out_features=768, bias=True)\n",
       "          (4): Dropout(p=0.0, inplace=False)\n",
       "        )\n",
       "      )\n",
       "      (encoder_layer_4): EncoderBlock(\n",
       "        (ln_1): LayerNorm((768,), eps=1e-06, elementwise_affine=True)\n",
       "        (self_attention): MultiheadAttention(\n",
       "          (out_proj): NonDynamicallyQuantizableLinear(in_features=768, out_features=768, bias=True)\n",
       "        )\n",
       "        (dropout): Dropout(p=0.0, inplace=False)\n",
       "        (ln_2): LayerNorm((768,), eps=1e-06, elementwise_affine=True)\n",
       "        (mlp): MLPBlock(\n",
       "          (0): Linear(in_features=768, out_features=3072, bias=True)\n",
       "          (1): GELU(approximate='none')\n",
       "          (2): Dropout(p=0.0, inplace=False)\n",
       "          (3): Linear(in_features=3072, out_features=768, bias=True)\n",
       "          (4): Dropout(p=0.0, inplace=False)\n",
       "        )\n",
       "      )\n",
       "      (encoder_layer_5): EncoderBlock(\n",
       "        (ln_1): LayerNorm((768,), eps=1e-06, elementwise_affine=True)\n",
       "        (self_attention): MultiheadAttention(\n",
       "          (out_proj): NonDynamicallyQuantizableLinear(in_features=768, out_features=768, bias=True)\n",
       "        )\n",
       "        (dropout): Dropout(p=0.0, inplace=False)\n",
       "        (ln_2): LayerNorm((768,), eps=1e-06, elementwise_affine=True)\n",
       "        (mlp): MLPBlock(\n",
       "          (0): Linear(in_features=768, out_features=3072, bias=True)\n",
       "          (1): GELU(approximate='none')\n",
       "          (2): Dropout(p=0.0, inplace=False)\n",
       "          (3): Linear(in_features=3072, out_features=768, bias=True)\n",
       "          (4): Dropout(p=0.0, inplace=False)\n",
       "        )\n",
       "      )\n",
       "      (encoder_layer_6): EncoderBlock(\n",
       "        (ln_1): LayerNorm((768,), eps=1e-06, elementwise_affine=True)\n",
       "        (self_attention): MultiheadAttention(\n",
       "          (out_proj): NonDynamicallyQuantizableLinear(in_features=768, out_features=768, bias=True)\n",
       "        )\n",
       "        (dropout): Dropout(p=0.0, inplace=False)\n",
       "        (ln_2): LayerNorm((768,), eps=1e-06, elementwise_affine=True)\n",
       "        (mlp): MLPBlock(\n",
       "          (0): Linear(in_features=768, out_features=3072, bias=True)\n",
       "          (1): GELU(approximate='none')\n",
       "          (2): Dropout(p=0.0, inplace=False)\n",
       "          (3): Linear(in_features=3072, out_features=768, bias=True)\n",
       "          (4): Dropout(p=0.0, inplace=False)\n",
       "        )\n",
       "      )\n",
       "      (encoder_layer_7): EncoderBlock(\n",
       "        (ln_1): LayerNorm((768,), eps=1e-06, elementwise_affine=True)\n",
       "        (self_attention): MultiheadAttention(\n",
       "          (out_proj): NonDynamicallyQuantizableLinear(in_features=768, out_features=768, bias=True)\n",
       "        )\n",
       "        (dropout): Dropout(p=0.0, inplace=False)\n",
       "        (ln_2): LayerNorm((768,), eps=1e-06, elementwise_affine=True)\n",
       "        (mlp): MLPBlock(\n",
       "          (0): Linear(in_features=768, out_features=3072, bias=True)\n",
       "          (1): GELU(approximate='none')\n",
       "          (2): Dropout(p=0.0, inplace=False)\n",
       "          (3): Linear(in_features=3072, out_features=768, bias=True)\n",
       "          (4): Dropout(p=0.0, inplace=False)\n",
       "        )\n",
       "      )\n",
       "      (encoder_layer_8): EncoderBlock(\n",
       "        (ln_1): LayerNorm((768,), eps=1e-06, elementwise_affine=True)\n",
       "        (self_attention): MultiheadAttention(\n",
       "          (out_proj): NonDynamicallyQuantizableLinear(in_features=768, out_features=768, bias=True)\n",
       "        )\n",
       "        (dropout): Dropout(p=0.0, inplace=False)\n",
       "        (ln_2): LayerNorm((768,), eps=1e-06, elementwise_affine=True)\n",
       "        (mlp): MLPBlock(\n",
       "          (0): Linear(in_features=768, out_features=3072, bias=True)\n",
       "          (1): GELU(approximate='none')\n",
       "          (2): Dropout(p=0.0, inplace=False)\n",
       "          (3): Linear(in_features=3072, out_features=768, bias=True)\n",
       "          (4): Dropout(p=0.0, inplace=False)\n",
       "        )\n",
       "      )\n",
       "      (encoder_layer_9): EncoderBlock(\n",
       "        (ln_1): LayerNorm((768,), eps=1e-06, elementwise_affine=True)\n",
       "        (self_attention): MultiheadAttention(\n",
       "          (out_proj): NonDynamicallyQuantizableLinear(in_features=768, out_features=768, bias=True)\n",
       "        )\n",
       "        (dropout): Dropout(p=0.0, inplace=False)\n",
       "        (ln_2): LayerNorm((768,), eps=1e-06, elementwise_affine=True)\n",
       "        (mlp): MLPBlock(\n",
       "          (0): Linear(in_features=768, out_features=3072, bias=True)\n",
       "          (1): GELU(approximate='none')\n",
       "          (2): Dropout(p=0.0, inplace=False)\n",
       "          (3): Linear(in_features=3072, out_features=768, bias=True)\n",
       "          (4): Dropout(p=0.0, inplace=False)\n",
       "        )\n",
       "      )\n",
       "      (encoder_layer_10): EncoderBlock(\n",
       "        (ln_1): LayerNorm((768,), eps=1e-06, elementwise_affine=True)\n",
       "        (self_attention): MultiheadAttention(\n",
       "          (out_proj): NonDynamicallyQuantizableLinear(in_features=768, out_features=768, bias=True)\n",
       "        )\n",
       "        (dropout): Dropout(p=0.0, inplace=False)\n",
       "        (ln_2): LayerNorm((768,), eps=1e-06, elementwise_affine=True)\n",
       "        (mlp): MLPBlock(\n",
       "          (0): Linear(in_features=768, out_features=3072, bias=True)\n",
       "          (1): GELU(approximate='none')\n",
       "          (2): Dropout(p=0.0, inplace=False)\n",
       "          (3): Linear(in_features=3072, out_features=768, bias=True)\n",
       "          (4): Dropout(p=0.0, inplace=False)\n",
       "        )\n",
       "      )\n",
       "      (encoder_layer_11): EncoderBlock(\n",
       "        (ln_1): LayerNorm((768,), eps=1e-06, elementwise_affine=True)\n",
       "        (self_attention): MultiheadAttention(\n",
       "          (out_proj): NonDynamicallyQuantizableLinear(in_features=768, out_features=768, bias=True)\n",
       "        )\n",
       "        (dropout): Dropout(p=0.0, inplace=False)\n",
       "        (ln_2): LayerNorm((768,), eps=1e-06, elementwise_affine=True)\n",
       "        (mlp): MLPBlock(\n",
       "          (0): Linear(in_features=768, out_features=3072, bias=True)\n",
       "          (1): GELU(approximate='none')\n",
       "          (2): Dropout(p=0.0, inplace=False)\n",
       "          (3): Linear(in_features=3072, out_features=768, bias=True)\n",
       "          (4): Dropout(p=0.0, inplace=False)\n",
       "        )\n",
       "      )\n",
       "    )\n",
       "    (ln): LayerNorm((768,), eps=1e-06, elementwise_affine=True)\n",
       "  )\n",
       "  (heads): Sequential(\n",
       "    (head): Linear(in_features=768, out_features=1000, bias=True)\n",
       "  )\n",
       ")"
      ]
     },
     "execution_count": 29,
     "metadata": {},
     "output_type": "execute_result"
    }
   ],
   "source": [
    "vision_transformer = models.vit_b_16(weights=models.ViT_B_16_Weights.DEFAULT)\n",
    "vision_transformer"
   ]
  },
  {
   "cell_type": "code",
   "execution_count": 30,
   "id": "ef007a56-8af9-439a-bd8a-8f7246c254ce",
   "metadata": {},
   "outputs": [
    {
     "data": {
      "text/plain": [
       "Sequential(\n",
       "  (head): Linear(in_features=768, out_features=1000, bias=True)\n",
       ")"
      ]
     },
     "execution_count": 30,
     "metadata": {},
     "output_type": "execute_result"
    }
   ],
   "source": [
    "# vit-16 model is trained on ImageNet\n",
    "# we expect to have output of 1000 number of classes\n",
    "\n",
    "vision_transformer.heads"
   ]
  },
  {
   "cell_type": "code",
   "execution_count": 31,
   "id": "2bbab752-dd9e-4f34-a698-8d617a4ef00d",
   "metadata": {},
   "outputs": [],
   "source": [
    "# fine-tune with dataset\n",
    "\n",
    "# change the number of output classes\n",
    "vision_transformer.heads = nn.Linear(in_features=768, out_features=len(class_names), bias=True)\n",
    "\n",
    "# freeze the parameters except the last linear layer\n",
    "#\n",
    "# freeze weights\n",
    "for p in vision_transformer.parameters():\n",
    "    p.requires_grad = False\n",
    "\n",
    "# unfreeze weights of classification head to train\n",
    "for p in vision_transformer.heads.parameters():\n",
    "    p.requires_grad = True"
   ]
  },
  {
   "cell_type": "code",
   "execution_count": 32,
   "id": "4e7fd5ac-4bc6-4780-a237-3703685d79b2",
   "metadata": {},
   "outputs": [
    {
     "name": "stdout",
     "output_type": "stream",
     "text": [
      "Layer Name: class_token, Frozen: True\n",
      "\n",
      "Layer Name: conv_proj.weight, Frozen: True\n",
      "\n",
      "Layer Name: conv_proj.bias, Frozen: True\n",
      "\n",
      "Layer Name: encoder.pos_embedding, Frozen: True\n",
      "\n",
      "Layer Name: encoder.layers.encoder_layer_0.ln_1.weight, Frozen: True\n",
      "\n",
      "Layer Name: encoder.layers.encoder_layer_0.ln_1.bias, Frozen: True\n",
      "\n",
      "Layer Name: encoder.layers.encoder_layer_0.self_attention.in_proj_weight, Frozen: True\n",
      "\n",
      "Layer Name: encoder.layers.encoder_layer_0.self_attention.in_proj_bias, Frozen: True\n",
      "\n",
      "Layer Name: encoder.layers.encoder_layer_0.self_attention.out_proj.weight, Frozen: True\n",
      "\n",
      "Layer Name: encoder.layers.encoder_layer_0.self_attention.out_proj.bias, Frozen: True\n",
      "\n",
      "Layer Name: encoder.layers.encoder_layer_0.ln_2.weight, Frozen: True\n",
      "\n",
      "Layer Name: encoder.layers.encoder_layer_0.ln_2.bias, Frozen: True\n",
      "\n",
      "Layer Name: encoder.layers.encoder_layer_0.mlp.0.weight, Frozen: True\n",
      "\n",
      "Layer Name: encoder.layers.encoder_layer_0.mlp.0.bias, Frozen: True\n",
      "\n",
      "Layer Name: encoder.layers.encoder_layer_0.mlp.3.weight, Frozen: True\n",
      "\n",
      "Layer Name: encoder.layers.encoder_layer_0.mlp.3.bias, Frozen: True\n",
      "\n",
      "Layer Name: encoder.layers.encoder_layer_1.ln_1.weight, Frozen: True\n",
      "\n",
      "Layer Name: encoder.layers.encoder_layer_1.ln_1.bias, Frozen: True\n",
      "\n",
      "Layer Name: encoder.layers.encoder_layer_1.self_attention.in_proj_weight, Frozen: True\n",
      "\n",
      "Layer Name: encoder.layers.encoder_layer_1.self_attention.in_proj_bias, Frozen: True\n",
      "\n",
      "Layer Name: encoder.layers.encoder_layer_1.self_attention.out_proj.weight, Frozen: True\n",
      "\n",
      "Layer Name: encoder.layers.encoder_layer_1.self_attention.out_proj.bias, Frozen: True\n",
      "\n",
      "Layer Name: encoder.layers.encoder_layer_1.ln_2.weight, Frozen: True\n",
      "\n",
      "Layer Name: encoder.layers.encoder_layer_1.ln_2.bias, Frozen: True\n",
      "\n",
      "Layer Name: encoder.layers.encoder_layer_1.mlp.0.weight, Frozen: True\n",
      "\n",
      "Layer Name: encoder.layers.encoder_layer_1.mlp.0.bias, Frozen: True\n",
      "\n",
      "Layer Name: encoder.layers.encoder_layer_1.mlp.3.weight, Frozen: True\n",
      "\n",
      "Layer Name: encoder.layers.encoder_layer_1.mlp.3.bias, Frozen: True\n",
      "\n",
      "Layer Name: encoder.layers.encoder_layer_2.ln_1.weight, Frozen: True\n",
      "\n",
      "Layer Name: encoder.layers.encoder_layer_2.ln_1.bias, Frozen: True\n",
      "\n",
      "Layer Name: encoder.layers.encoder_layer_2.self_attention.in_proj_weight, Frozen: True\n",
      "\n",
      "Layer Name: encoder.layers.encoder_layer_2.self_attention.in_proj_bias, Frozen: True\n",
      "\n",
      "Layer Name: encoder.layers.encoder_layer_2.self_attention.out_proj.weight, Frozen: True\n",
      "\n",
      "Layer Name: encoder.layers.encoder_layer_2.self_attention.out_proj.bias, Frozen: True\n",
      "\n",
      "Layer Name: encoder.layers.encoder_layer_2.ln_2.weight, Frozen: True\n",
      "\n",
      "Layer Name: encoder.layers.encoder_layer_2.ln_2.bias, Frozen: True\n",
      "\n",
      "Layer Name: encoder.layers.encoder_layer_2.mlp.0.weight, Frozen: True\n",
      "\n",
      "Layer Name: encoder.layers.encoder_layer_2.mlp.0.bias, Frozen: True\n",
      "\n",
      "Layer Name: encoder.layers.encoder_layer_2.mlp.3.weight, Frozen: True\n",
      "\n",
      "Layer Name: encoder.layers.encoder_layer_2.mlp.3.bias, Frozen: True\n",
      "\n",
      "Layer Name: encoder.layers.encoder_layer_3.ln_1.weight, Frozen: True\n",
      "\n",
      "Layer Name: encoder.layers.encoder_layer_3.ln_1.bias, Frozen: True\n",
      "\n",
      "Layer Name: encoder.layers.encoder_layer_3.self_attention.in_proj_weight, Frozen: True\n",
      "\n",
      "Layer Name: encoder.layers.encoder_layer_3.self_attention.in_proj_bias, Frozen: True\n",
      "\n",
      "Layer Name: encoder.layers.encoder_layer_3.self_attention.out_proj.weight, Frozen: True\n",
      "\n",
      "Layer Name: encoder.layers.encoder_layer_3.self_attention.out_proj.bias, Frozen: True\n",
      "\n",
      "Layer Name: encoder.layers.encoder_layer_3.ln_2.weight, Frozen: True\n",
      "\n",
      "Layer Name: encoder.layers.encoder_layer_3.ln_2.bias, Frozen: True\n",
      "\n",
      "Layer Name: encoder.layers.encoder_layer_3.mlp.0.weight, Frozen: True\n",
      "\n",
      "Layer Name: encoder.layers.encoder_layer_3.mlp.0.bias, Frozen: True\n",
      "\n",
      "Layer Name: encoder.layers.encoder_layer_3.mlp.3.weight, Frozen: True\n",
      "\n",
      "Layer Name: encoder.layers.encoder_layer_3.mlp.3.bias, Frozen: True\n",
      "\n",
      "Layer Name: encoder.layers.encoder_layer_4.ln_1.weight, Frozen: True\n",
      "\n",
      "Layer Name: encoder.layers.encoder_layer_4.ln_1.bias, Frozen: True\n",
      "\n",
      "Layer Name: encoder.layers.encoder_layer_4.self_attention.in_proj_weight, Frozen: True\n",
      "\n",
      "Layer Name: encoder.layers.encoder_layer_4.self_attention.in_proj_bias, Frozen: True\n",
      "\n",
      "Layer Name: encoder.layers.encoder_layer_4.self_attention.out_proj.weight, Frozen: True\n",
      "\n",
      "Layer Name: encoder.layers.encoder_layer_4.self_attention.out_proj.bias, Frozen: True\n",
      "\n",
      "Layer Name: encoder.layers.encoder_layer_4.ln_2.weight, Frozen: True\n",
      "\n",
      "Layer Name: encoder.layers.encoder_layer_4.ln_2.bias, Frozen: True\n",
      "\n",
      "Layer Name: encoder.layers.encoder_layer_4.mlp.0.weight, Frozen: True\n",
      "\n",
      "Layer Name: encoder.layers.encoder_layer_4.mlp.0.bias, Frozen: True\n",
      "\n",
      "Layer Name: encoder.layers.encoder_layer_4.mlp.3.weight, Frozen: True\n",
      "\n",
      "Layer Name: encoder.layers.encoder_layer_4.mlp.3.bias, Frozen: True\n",
      "\n",
      "Layer Name: encoder.layers.encoder_layer_5.ln_1.weight, Frozen: True\n",
      "\n",
      "Layer Name: encoder.layers.encoder_layer_5.ln_1.bias, Frozen: True\n",
      "\n",
      "Layer Name: encoder.layers.encoder_layer_5.self_attention.in_proj_weight, Frozen: True\n",
      "\n",
      "Layer Name: encoder.layers.encoder_layer_5.self_attention.in_proj_bias, Frozen: True\n",
      "\n",
      "Layer Name: encoder.layers.encoder_layer_5.self_attention.out_proj.weight, Frozen: True\n",
      "\n",
      "Layer Name: encoder.layers.encoder_layer_5.self_attention.out_proj.bias, Frozen: True\n",
      "\n",
      "Layer Name: encoder.layers.encoder_layer_5.ln_2.weight, Frozen: True\n",
      "\n",
      "Layer Name: encoder.layers.encoder_layer_5.ln_2.bias, Frozen: True\n",
      "\n",
      "Layer Name: encoder.layers.encoder_layer_5.mlp.0.weight, Frozen: True\n",
      "\n",
      "Layer Name: encoder.layers.encoder_layer_5.mlp.0.bias, Frozen: True\n",
      "\n",
      "Layer Name: encoder.layers.encoder_layer_5.mlp.3.weight, Frozen: True\n",
      "\n",
      "Layer Name: encoder.layers.encoder_layer_5.mlp.3.bias, Frozen: True\n",
      "\n",
      "Layer Name: encoder.layers.encoder_layer_6.ln_1.weight, Frozen: True\n",
      "\n",
      "Layer Name: encoder.layers.encoder_layer_6.ln_1.bias, Frozen: True\n",
      "\n",
      "Layer Name: encoder.layers.encoder_layer_6.self_attention.in_proj_weight, Frozen: True\n",
      "\n",
      "Layer Name: encoder.layers.encoder_layer_6.self_attention.in_proj_bias, Frozen: True\n",
      "\n",
      "Layer Name: encoder.layers.encoder_layer_6.self_attention.out_proj.weight, Frozen: True\n",
      "\n",
      "Layer Name: encoder.layers.encoder_layer_6.self_attention.out_proj.bias, Frozen: True\n",
      "\n",
      "Layer Name: encoder.layers.encoder_layer_6.ln_2.weight, Frozen: True\n",
      "\n",
      "Layer Name: encoder.layers.encoder_layer_6.ln_2.bias, Frozen: True\n",
      "\n",
      "Layer Name: encoder.layers.encoder_layer_6.mlp.0.weight, Frozen: True\n",
      "\n",
      "Layer Name: encoder.layers.encoder_layer_6.mlp.0.bias, Frozen: True\n",
      "\n",
      "Layer Name: encoder.layers.encoder_layer_6.mlp.3.weight, Frozen: True\n",
      "\n",
      "Layer Name: encoder.layers.encoder_layer_6.mlp.3.bias, Frozen: True\n",
      "\n",
      "Layer Name: encoder.layers.encoder_layer_7.ln_1.weight, Frozen: True\n",
      "\n",
      "Layer Name: encoder.layers.encoder_layer_7.ln_1.bias, Frozen: True\n",
      "\n",
      "Layer Name: encoder.layers.encoder_layer_7.self_attention.in_proj_weight, Frozen: True\n",
      "\n",
      "Layer Name: encoder.layers.encoder_layer_7.self_attention.in_proj_bias, Frozen: True\n",
      "\n",
      "Layer Name: encoder.layers.encoder_layer_7.self_attention.out_proj.weight, Frozen: True\n",
      "\n",
      "Layer Name: encoder.layers.encoder_layer_7.self_attention.out_proj.bias, Frozen: True\n",
      "\n",
      "Layer Name: encoder.layers.encoder_layer_7.ln_2.weight, Frozen: True\n",
      "\n",
      "Layer Name: encoder.layers.encoder_layer_7.ln_2.bias, Frozen: True\n",
      "\n",
      "Layer Name: encoder.layers.encoder_layer_7.mlp.0.weight, Frozen: True\n",
      "\n",
      "Layer Name: encoder.layers.encoder_layer_7.mlp.0.bias, Frozen: True\n",
      "\n",
      "Layer Name: encoder.layers.encoder_layer_7.mlp.3.weight, Frozen: True\n",
      "\n",
      "Layer Name: encoder.layers.encoder_layer_7.mlp.3.bias, Frozen: True\n",
      "\n",
      "Layer Name: encoder.layers.encoder_layer_8.ln_1.weight, Frozen: True\n",
      "\n",
      "Layer Name: encoder.layers.encoder_layer_8.ln_1.bias, Frozen: True\n",
      "\n",
      "Layer Name: encoder.layers.encoder_layer_8.self_attention.in_proj_weight, Frozen: True\n",
      "\n",
      "Layer Name: encoder.layers.encoder_layer_8.self_attention.in_proj_bias, Frozen: True\n",
      "\n",
      "Layer Name: encoder.layers.encoder_layer_8.self_attention.out_proj.weight, Frozen: True\n",
      "\n",
      "Layer Name: encoder.layers.encoder_layer_8.self_attention.out_proj.bias, Frozen: True\n",
      "\n",
      "Layer Name: encoder.layers.encoder_layer_8.ln_2.weight, Frozen: True\n",
      "\n",
      "Layer Name: encoder.layers.encoder_layer_8.ln_2.bias, Frozen: True\n",
      "\n",
      "Layer Name: encoder.layers.encoder_layer_8.mlp.0.weight, Frozen: True\n",
      "\n",
      "Layer Name: encoder.layers.encoder_layer_8.mlp.0.bias, Frozen: True\n",
      "\n",
      "Layer Name: encoder.layers.encoder_layer_8.mlp.3.weight, Frozen: True\n",
      "\n",
      "Layer Name: encoder.layers.encoder_layer_8.mlp.3.bias, Frozen: True\n",
      "\n",
      "Layer Name: encoder.layers.encoder_layer_9.ln_1.weight, Frozen: True\n",
      "\n",
      "Layer Name: encoder.layers.encoder_layer_9.ln_1.bias, Frozen: True\n",
      "\n",
      "Layer Name: encoder.layers.encoder_layer_9.self_attention.in_proj_weight, Frozen: True\n",
      "\n",
      "Layer Name: encoder.layers.encoder_layer_9.self_attention.in_proj_bias, Frozen: True\n",
      "\n",
      "Layer Name: encoder.layers.encoder_layer_9.self_attention.out_proj.weight, Frozen: True\n",
      "\n",
      "Layer Name: encoder.layers.encoder_layer_9.self_attention.out_proj.bias, Frozen: True\n",
      "\n",
      "Layer Name: encoder.layers.encoder_layer_9.ln_2.weight, Frozen: True\n",
      "\n",
      "Layer Name: encoder.layers.encoder_layer_9.ln_2.bias, Frozen: True\n",
      "\n",
      "Layer Name: encoder.layers.encoder_layer_9.mlp.0.weight, Frozen: True\n",
      "\n",
      "Layer Name: encoder.layers.encoder_layer_9.mlp.0.bias, Frozen: True\n",
      "\n",
      "Layer Name: encoder.layers.encoder_layer_9.mlp.3.weight, Frozen: True\n",
      "\n",
      "Layer Name: encoder.layers.encoder_layer_9.mlp.3.bias, Frozen: True\n",
      "\n",
      "Layer Name: encoder.layers.encoder_layer_10.ln_1.weight, Frozen: True\n",
      "\n",
      "Layer Name: encoder.layers.encoder_layer_10.ln_1.bias, Frozen: True\n",
      "\n",
      "Layer Name: encoder.layers.encoder_layer_10.self_attention.in_proj_weight, Frozen: True\n",
      "\n",
      "Layer Name: encoder.layers.encoder_layer_10.self_attention.in_proj_bias, Frozen: True\n",
      "\n",
      "Layer Name: encoder.layers.encoder_layer_10.self_attention.out_proj.weight, Frozen: True\n",
      "\n",
      "Layer Name: encoder.layers.encoder_layer_10.self_attention.out_proj.bias, Frozen: True\n",
      "\n",
      "Layer Name: encoder.layers.encoder_layer_10.ln_2.weight, Frozen: True\n",
      "\n",
      "Layer Name: encoder.layers.encoder_layer_10.ln_2.bias, Frozen: True\n",
      "\n",
      "Layer Name: encoder.layers.encoder_layer_10.mlp.0.weight, Frozen: True\n",
      "\n",
      "Layer Name: encoder.layers.encoder_layer_10.mlp.0.bias, Frozen: True\n",
      "\n",
      "Layer Name: encoder.layers.encoder_layer_10.mlp.3.weight, Frozen: True\n",
      "\n",
      "Layer Name: encoder.layers.encoder_layer_10.mlp.3.bias, Frozen: True\n",
      "\n",
      "Layer Name: encoder.layers.encoder_layer_11.ln_1.weight, Frozen: True\n",
      "\n",
      "Layer Name: encoder.layers.encoder_layer_11.ln_1.bias, Frozen: True\n",
      "\n",
      "Layer Name: encoder.layers.encoder_layer_11.self_attention.in_proj_weight, Frozen: True\n",
      "\n",
      "Layer Name: encoder.layers.encoder_layer_11.self_attention.in_proj_bias, Frozen: True\n",
      "\n",
      "Layer Name: encoder.layers.encoder_layer_11.self_attention.out_proj.weight, Frozen: True\n",
      "\n",
      "Layer Name: encoder.layers.encoder_layer_11.self_attention.out_proj.bias, Frozen: True\n",
      "\n",
      "Layer Name: encoder.layers.encoder_layer_11.ln_2.weight, Frozen: True\n",
      "\n",
      "Layer Name: encoder.layers.encoder_layer_11.ln_2.bias, Frozen: True\n",
      "\n",
      "Layer Name: encoder.layers.encoder_layer_11.mlp.0.weight, Frozen: True\n",
      "\n",
      "Layer Name: encoder.layers.encoder_layer_11.mlp.0.bias, Frozen: True\n",
      "\n",
      "Layer Name: encoder.layers.encoder_layer_11.mlp.3.weight, Frozen: True\n",
      "\n",
      "Layer Name: encoder.layers.encoder_layer_11.mlp.3.bias, Frozen: True\n",
      "\n",
      "Layer Name: encoder.ln.weight, Frozen: True\n",
      "\n",
      "Layer Name: encoder.ln.bias, Frozen: True\n",
      "\n",
      "Layer Name: heads.weight, Frozen: False\n",
      "\n",
      "Layer Name: heads.bias, Frozen: False\n",
      "\n"
     ]
    }
   ],
   "source": [
    "# check whether corresponding layers are frozen\n",
    "\n",
    "for layer_name, p in vision_transformer.named_parameters():\n",
    "    print('Layer Name: {}, Frozen: {}'.format(layer_name, not p.requires_grad))\n",
    "    print()"
   ]
  },
  {
   "cell_type": "code",
   "execution_count": 33,
   "id": "b6f99b19-5e54-4908-b304-9509e00af5b9",
   "metadata": {},
   "outputs": [],
   "source": [
    "# specify loss function\n",
    "criterion = nn.CrossEntropyLoss()\n",
    "\n",
    "# define optimizer\n",
    "# only train the parameters with requires_grad set to True\n",
    "optimizer = optim.Adam(filter(lambda p: p.requires_grad, vision_transformer.parameters()), lr=0.0001)"
   ]
  },
  {
   "cell_type": "code",
   "execution_count": 34,
   "id": "70084c7f-15e7-442a-84e8-df70ee4b73a3",
   "metadata": {},
   "outputs": [
    {
     "data": {
      "text/plain": [
       "True"
      ]
     },
     "execution_count": 34,
     "metadata": {},
     "output_type": "execute_result"
    }
   ],
   "source": [
    "train_on_gpu = torch.backends.mps.is_available()\n",
    "train_on_gpu"
   ]
  },
  {
   "cell_type": "code",
   "execution_count": 35,
   "id": "5a6b8071-d6ea-4434-82c1-a4c8c6ca7f9c",
   "metadata": {},
   "outputs": [
    {
     "name": "stdout",
     "output_type": "stream",
     "text": [
      "Device available :  mps\n",
      "Epoch: 1 \t Training Loss: 1.006866 \t Validation Loss: 0.996676\n",
      "Epoch: 2 \t Training Loss: 0.981465 \t Validation Loss: 0.991923\n",
      "Epoch: 3 \t Training Loss: 0.979015 \t Validation Loss: 0.988010\n",
      "Epoch: 4 \t Training Loss: 0.975786 \t Validation Loss: 0.984747\n",
      "Epoch: 5 \t Training Loss: 0.973746 \t Validation Loss: 0.986531\n",
      "Epoch: 6 \t Training Loss: 0.974137 \t Validation Loss: 0.983695\n",
      "Epoch: 7 \t Training Loss: 0.972838 \t Validation Loss: 0.979882\n",
      "Epoch: 8 \t Training Loss: 0.972563 \t Validation Loss: 0.981912\n",
      "Epoch: 9 \t Training Loss: 0.969559 \t Validation Loss: 0.977372\n",
      "Epoch: 10 \t Training Loss: 0.968726 \t Validation Loss: 0.975655\n"
     ]
    }
   ],
   "source": [
    "# Train model\n",
    "\n",
    "# number of epochs\n",
    "n_epoch = 10\n",
    "\n",
    "train_loss_list, valid_loss_list = [], []\n",
    "\n",
    "# move model to GPU\n",
    "if train_on_gpu:\n",
    "    print(\"Device available : \", device)\n",
    "    vision_transformer.to(device)\n",
    "\n",
    "# prepare model for training\n",
    "vision_transformer.train()\n",
    "\n",
    "for e in range(n_epoch):\n",
    "    train_loss = 0.0\n",
    "    valid_loss = 0.0\n",
    "\n",
    "    # get batch data\n",
    "    for i, (images, targets) in enumerate(train_loader):\n",
    "\n",
    "        # move to gpu if available\n",
    "        if train_on_gpu:\n",
    "            images, targets = images.to(device), targets.to(device)\n",
    "\n",
    "        # clear grad\n",
    "        optimizer.zero_grad()\n",
    "\n",
    "        # feedforward data\n",
    "        outputs = vision_transformer(images)\n",
    "\n",
    "        # calculate loss\n",
    "        loss = criterion(outputs, targets)\n",
    "\n",
    "        # backward pass, calculate gradients\n",
    "        loss.backward()\n",
    "\n",
    "        # update weights\n",
    "        optimizer.step()\n",
    "\n",
    "        # track loss\n",
    "        train_loss += loss.item()\n",
    "\n",
    "    # set model to evaluation mode\n",
    "    vision_transformer.eval()\n",
    "\n",
    "    # validate model\n",
    "    for images, targets in valid_loader:\n",
    "\n",
    "        # move to gpu if available\n",
    "        if train_on_gpu:\n",
    "            images = images.to(device)\n",
    "            targets = targets.to(device)\n",
    "\n",
    "        # turn off gradients\n",
    "        with torch.no_grad():\n",
    "\n",
    "            outputs = vision_transformer(images)\n",
    "            loss = criterion(outputs, targets)\n",
    "            valid_loss += loss.item()\n",
    "\n",
    "    # set model back to training mode\n",
    "    vision_transformer.train()\n",
    "\n",
    "    # get average loss values\n",
    "    train_loss = train_loss / len(train_loader)\n",
    "    valid_loss = valid_loss / len(valid_loader)\n",
    "\n",
    "    train_loss_list.append(train_loss)\n",
    "    valid_loss_list.append(valid_loss)\n",
    "\n",
    "    # output training statistics for epoch\n",
    "    print('Epoch: {} \\t Training Loss: {:.6f} \\t Validation Loss: {:.6f}'\n",
    "                  .format( (e+1), train_loss, valid_loss))\n"
   ]
  },
  {
   "cell_type": "code",
   "execution_count": 36,
   "id": "ed283e7c-cfc6-41e1-bd87-bce88f384080",
   "metadata": {},
   "outputs": [
    {
     "data": {
      "image/png": "[encoded data removed]",
      "text/plain": [
       "<Figure size 640x480 with 1 Axes>"
      ]
     },
     "metadata": {},
     "output_type": "display_data"
    }
   ],
   "source": [
    "plt.title(\"Training and Validation Loss\")\n",
    "plt.xlabel(\"Epoch\")\n",
    "plt.ylabel(\"Loss\")\n",
    "\n",
    "# plot losses\n",
    "x = list(range(1, n_epoch + 1))\n",
    "plt.plot(x, train_loss_list, color =\"blue\", label='Train')\n",
    "plt.plot(x, valid_loss_list, color=\"orange\", label='Validation')\n",
    "plt.legend(loc=\"upper right\")\n",
    "plt.xticks(x)\n",
    "\n",
    "plt.show()"
   ]
  },
  {
   "cell_type": "markdown",
   "id": "8e532987-a68f-44f1-a38d-14d12b1cbe90",
   "metadata": {},
   "source": [
    "#### Evaluation"
   ]
  },
  {
   "cell_type": "code",
   "execution_count": null,
   "id": "9f84eea9-8ef2-414f-8808-2cc607ccc4e6",
   "metadata": {},
   "outputs": [],
   "source": [
    "# prepare model for evaluation\n",
    "vision_transformer.eval()\n",
    "\n",
    "test_loss = 0.0\n",
    "accuracy = 0\n",
    "\n",
    "# number of classes\n",
    "n_class = len(classes)\n",
    "\n",
    "class_correct = np.zeros(n_class)\n",
    "class_total = np.zeros(n_class)\n",
    "\n",
    "# move model back to cpu\n",
    "vision_transformer = vision_transformer.to('cpu')\n",
    "\n",
    "# test model\n",
    "for images, targets in test_loader:\n",
    "\n",
    "    # get outputs\n",
    "    outputs = vision_transformer(images)\n",
    "\n",
    "    # calculate loss\n",
    "    loss = criterion(outputs, targets)\n",
    "\n",
    "    # track loss\n",
    "    test_loss += loss.item()\n",
    "\n",
    "    # get predictions from probabilities\n",
    "    preds = torch.argmax(F.softmax(outputs, dim=1), dim=1)\n",
    "\n",
    "    # get correct predictions\n",
    "    correct_preds = (preds == targets).type(torch.FloatTensor)\n",
    "\n",
    "    # calculate and accumulate accuracy\n",
    "    accuracy += torch.mean(correct_preds).item() * 100\n",
    "\n",
    "    # calculate test accuracy for each class\n",
    "    for c in range(n_class):\n",
    "\n",
    "        targets = targets.to('cpu')\n",
    "\n",
    "        class_total[c] += (targets == c).sum()\n",
    "        class_correct[c] += ((correct_preds) * (targets == c)).sum()\n",
    "\n",
    "# get average accuracy\n",
    "accuracy = accuracy / len(test_loader)\n",
    "\n",
    "# get average loss\n",
    "test_loss = test_loss / len(test_loader)\n",
    "\n",
    "# output test loss statistics\n",
    "print('Test Loss: {:.6f}'.format(test_loss))\n"
   ]
  },
  {
   "cell_type": "code",
   "execution_count": null,
   "id": "76cd5c8f-30bc-4ce6-aab8-4a6c920aac4c",
   "metadata": {},
   "outputs": [],
   "source": [
    "class_accuracy = class_correct / class_total\n",
    "\n",
    "print('Test Accuracy of Classes')\n",
    "print()\n",
    "\n",
    "for c in range(n_class):\n",
    "    print('{}\\t: {}% \\t ({}/{})'.format(classes[c],\n",
    "                                int(class_accuracy[c] * 100), int(class_correct[c]), int(class_total[c])) )\n",
    "\n",
    "print()\n",
    "print('Test Accuracy of Dataset: \\t {}% \\t ({}/{})'.format(int(accuracy),\n",
    "                                                           int(np.sum(class_correct)), int(np.sum(class_total)) ))"
   ]
  }
 ],
 "metadata": {
  "kernelspec": {
   "display_name": "Python 3 (ipykernel)",
   "language": "python",
   "name": "python3"
  },
  "language_info": {
   "codemirror_mode": {
    "name": "ipython",
    "version": 3
   },
   "file_extension": ".py",
   "mimetype": "text/x-python",
   "name": "python",
   "nbconvert_exporter": "python",
   "pygments_lexer": "ipython3",
   "version": "3.10.13"
  }
 },
 "nbformat": 4,
 "nbformat_minor": 5
}
