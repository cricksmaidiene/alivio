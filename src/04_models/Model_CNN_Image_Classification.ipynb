{
 "cells": [
  {
   "cell_type": "code",
   "execution_count": 35,
   "id": "b7d407c5-2074-4f9d-bd37-4a292ce68e9a",
   "metadata": {},
   "outputs": [],
   "source": [
    "import os\n",
    "import numpy as np\n",
    "import pandas as pd\n",
    "import random\n",
    "import seaborn as sns\n",
    "import matplotlib.pyplot as plt\n",
    "\n",
    "import torchvision\n",
    "from torchvision import datasets\n",
    "from torch.utils.data import DataLoader\n",
    "from torch.utils.data.sampler import SubsetRandomSampler\n",
    "import torchvision.models as models\n",
    "import torch.optim as optim\n",
    "import torch.optim.lr_scheduler as lr_scheduler\n",
    "\n",
    "import torch\n",
    "import torchvision\n",
    "import torch.nn.functional as F\n",
    "import torchvision.transforms as T\n",
    "import torchvision.models as models\n",
    "from torchvision.transforms import ToTensor\n",
    "from torch import nn, optim\n",
    "from torchvision import datasets, models, transforms, utils\n",
    "from torch.utils.data import Dataset, DataLoader\n",
    "\n",
    "import cv2\n",
    "from PIL import Image\n",
    "from transformers import ViTModel, ViTImageProcessor, ViTForImageClassification\n",
    "from timm import create_model\n",
    "\n",
    "from torch.utils.data.sampler import SubsetRandomSampler\n",
    "from sklearn import metrics\n",
    "from sklearn.metrics import accuracy_score\n",
    "from sklearn.metrics import classification_report, confusion_matrix\n",
    "import itertools"
   ]
  },
  {
   "cell_type": "code",
   "execution_count": 2,
   "id": "1e2428d0-d175-4447-b113-a20e29a72a30",
   "metadata": {},
   "outputs": [
    {
     "data": {
      "text/plain": [
       "'/Users/yaminigotimukul/DataScience/Berekley/Semesters/Spring_2024/repo/alivio'"
      ]
     },
     "execution_count": 2,
     "metadata": {},
     "output_type": "execute_result"
    }
   ],
   "source": [
    "os.getcwd()\n",
    "os.chdir('../..')\n",
    "root_dir=os.getcwd()\n",
    "root_dir"
   ]
  },
  {
   "cell_type": "markdown",
   "id": "813bd8dc-b8ca-430b-958d-3a80484998a1",
   "metadata": {},
   "source": [
    "### CNN "
   ]
  },
  {
   "cell_type": "code",
   "execution_count": 3,
   "id": "63cea0e6-77b2-4ad8-8956-2fcda0e62a26",
   "metadata": {},
   "outputs": [
    {
     "name": "stdout",
     "output_type": "stream",
     "text": [
      "Root Project Path :  /Users/yaminigotimukul/DataScience/Berekley/Semesters/Spring_2024/repo/alivio\n",
      "Root Data Path :  /Users/yaminigotimukul/DataScience/Berekley/Semesters/Spring_2024/repo/alivio/data/xview_building_damage\n",
      "Train Data Path :  /Users/yaminigotimukul/DataScience/Berekley/Semesters/Spring_2024/repo/alivio/data/xview_building_damage/train\n"
     ]
    }
   ],
   "source": [
    "print(\"Root Project Path : \", root_dir)\n",
    "ROOT_DATA_DIR = os.path.join(root_dir, 'data', 'xview_building_damage')\n",
    "print(\"Root Data Path : \", ROOT_DATA_DIR)\n",
    "TRAIN_DATA_DIR = os.path.join(ROOT_DATA_DIR, 'train')\n",
    "print(\"Train Data Path : \", TRAIN_DATA_DIR)\n",
    "CHALLENGE_DIR = os.path.join(ROOT_DATA_DIR, 'challenge')"
   ]
  },
  {
   "cell_type": "code",
   "execution_count": 4,
   "id": "57c41bfe-2173-491b-8a74-58e8004dc4bc",
   "metadata": {},
   "outputs": [
    {
     "name": "stdout",
     "output_type": "stream",
     "text": [
      " Device Available  cpu\n"
     ]
    },
    {
     "data": {
      "text/plain": [
       "device(type='cpu')"
      ]
     },
     "execution_count": 4,
     "metadata": {},
     "output_type": "execute_result"
    }
   ],
   "source": [
    "def get_device():\n",
    "    device = 'cpu' \n",
    "    if torch.cuda.is_available(): \n",
    "     device='cuda'\n",
    "    # elif torch.backends.mps.is_available():\n",
    "    #  device = 'mps' \n",
    "    print(\" Device Available \", device)\n",
    "    return torch.device(device)\n",
    "\n",
    "get_device()"
   ]
  },
  {
   "cell_type": "code",
   "execution_count": 5,
   "id": "943100fa-a59e-46b4-8d9c-f8bb9ea16f34",
   "metadata": {},
   "outputs": [],
   "source": [
    "def to_device(data,device):\n",
    "    if isinstance(data,(list,tuple)):\n",
    "        return [to_device(x,device) for x in data]\n",
    "    return data.to(device,non_blocking=True)\n",
    "\n",
    "\n",
    "class ToDeviceLoader:\n",
    "    def __init__(self,data,device):\n",
    "        self.data = data\n",
    "        self.device = device\n",
    "        \n",
    "    def __iter__(self):\n",
    "        for batch in self.data:\n",
    "            yield to_device(batch,self.device)\n",
    "            \n",
    "    def __len__(self):\n",
    "        return len(self.data)"
   ]
  },
  {
   "cell_type": "markdown",
   "id": "07af50d2-650d-4c22-adc2-2ad6e0a77009",
   "metadata": {},
   "source": [
    "### Load Data"
   ]
  },
  {
   "cell_type": "code",
   "execution_count": 6,
   "id": "2d40ce09-b702-4187-9eb4-e61b9e0751cd",
   "metadata": {},
   "outputs": [],
   "source": [
    "data_transform = transforms.Compose([\n",
    "    # Resize the images to 64x64\n",
    "    transforms.Resize(size=(224, 224)),\n",
    "    transforms.ToTensor() # this also converts all pixel values from 0 to 255 to be between 0.0 and 1.0 \n",
    "])"
   ]
  },
  {
   "cell_type": "code",
   "execution_count": 7,
   "id": "ad85ec23-9ba7-42be-96cd-107146d7541e",
   "metadata": {},
   "outputs": [],
   "source": [
    "def get_img_class_dir(disaster_name, dataSplit, ROOT_DIR):   \n",
    " DIR=os.path.join(ROOT_DIR, dataSplit,'disaster', disaster_name , 'class', 'post')\n",
    " return DIR"
   ]
  },
  {
   "cell_type": "code",
   "execution_count": 8,
   "id": "5acf0d4f-7d72-4dcc-a46d-57d5ce8a9358",
   "metadata": {},
   "outputs": [
    {
     "name": "stdout",
     "output_type": "stream",
     "text": [
      "Train set records :  22686\n",
      "Validation set records :  7158\n",
      "Test set records :  5657\n",
      "================================================\n",
      "Train data:\n",
      "Dataset ImageFolder\n",
      "    Number of datapoints: 22686\n",
      "    Root location: /Users/yaminigotimukul/DataScience/Berekley/Semesters/Spring_2024/repo/alivio/data/xview_building_damage/challenge/train/disaster/hurricane-michael/class/post\n",
      "    StandardTransform\n",
      "Transform: Compose(\n",
      "               Resize(size=(224, 224), interpolation=bilinear, max_size=None, antialias=True)\n",
      "               ToTensor()\n",
      "           )\n",
      "Validation data:\n",
      "Dataset ImageFolder\n",
      "    Number of datapoints: 7158\n",
      "    Root location: /Users/yaminigotimukul/DataScience/Berekley/Semesters/Spring_2024/repo/alivio/data/xview_building_damage/challenge/hold/disaster/hurricane-michael/class/post\n",
      "    StandardTransform\n",
      "Transform: Compose(\n",
      "               Resize(size=(224, 224), interpolation=bilinear, max_size=None, antialias=True)\n",
      "               ToTensor()\n",
      "           )\n",
      "Test data:\n",
      "Dataset ImageFolder\n",
      "    Number of datapoints: 5657\n",
      "    Root location: /Users/yaminigotimukul/DataScience/Berekley/Semesters/Spring_2024/repo/alivio/data/xview_building_damage/challenge/test/disaster/hurricane-michael/class/post\n",
      "    StandardTransform\n",
      "Transform: Compose(\n",
      "               Resize(size=(224, 224), interpolation=bilinear, max_size=None, antialias=True)\n",
      "               ToTensor()\n",
      "           )\n"
     ]
    }
   ],
   "source": [
    "train_dataset = datasets.ImageFolder(get_img_class_dir('hurricane-michael', 'train', CHALLENGE_DIR), transform=data_transform)\n",
    "valid_dataset = datasets.ImageFolder(get_img_class_dir('hurricane-michael', 'hold', CHALLENGE_DIR), transform=data_transform)\n",
    "test_dataset = datasets.ImageFolder(get_img_class_dir('hurricane-michael', 'test', CHALLENGE_DIR), transform=data_transform)\n",
    "#dataloader = torch.utils.data.DataLoader(train_dataset, batch_size=32, shuffle=True, num_workers=2)\n",
    "print(\"Train set records : \", len(train_dataset))\n",
    "print(\"Validation set records : \", len(valid_dataset))\n",
    "print(\"Test set records : \", len(test_dataset))\n",
    "print(\"================================================\")\n",
    "print(f\"Train data:\\n{train_dataset}\")\n",
    "print(f\"Validation data:\\n{valid_dataset}\")\n",
    "print(f\"Test data:\\n{test_dataset}\")"
   ]
  },
  {
   "cell_type": "code",
   "execution_count": 9,
   "id": "e4f7c20b-1854-4ccc-bdaa-fe3d4637a007",
   "metadata": {},
   "outputs": [
    {
     "data": {
      "text/plain": [
       "['destroyed', 'major-damage', 'minor-damage', 'no-damage', 'un-classified']"
      ]
     },
     "execution_count": 9,
     "metadata": {},
     "output_type": "execute_result"
    }
   ],
   "source": [
    "class_names = train_dataset.classes\n",
    "class_names"
   ]
  },
  {
   "cell_type": "code",
   "execution_count": 10,
   "id": "d0724141-b95d-40b2-a38e-5ec8d70b3963",
   "metadata": {},
   "outputs": [
    {
     "data": {
      "text/plain": [
       "{'destroyed': 0,\n",
       " 'major-damage': 1,\n",
       " 'minor-damage': 2,\n",
       " 'no-damage': 3,\n",
       " 'un-classified': 4}"
      ]
     },
     "execution_count": 10,
     "metadata": {},
     "output_type": "execute_result"
    }
   ],
   "source": [
    "class_dict = train_dataset.class_to_idx\n",
    "class_dict"
   ]
  },
  {
   "cell_type": "code",
   "execution_count": 11,
   "id": "2740b5c8-7819-4d7d-a569-f165841118c5",
   "metadata": {},
   "outputs": [
    {
     "name": "stdout",
     "output_type": "stream",
     "text": [
      "Image tensor:\n",
      "tensor([[[0., 0., 0.,  ..., 0., 0., 0.],\n",
      "         [0., 0., 0.,  ..., 0., 0., 0.],\n",
      "         [0., 0., 0.,  ..., 0., 0., 0.],\n",
      "         ...,\n",
      "         [0., 0., 0.,  ..., 0., 0., 0.],\n",
      "         [0., 0., 0.,  ..., 0., 0., 0.],\n",
      "         [0., 0., 0.,  ..., 0., 0., 0.]],\n",
      "\n",
      "        [[0., 0., 0.,  ..., 0., 0., 0.],\n",
      "         [0., 0., 0.,  ..., 0., 0., 0.],\n",
      "         [0., 0., 0.,  ..., 0., 0., 0.],\n",
      "         ...,\n",
      "         [0., 0., 0.,  ..., 0., 0., 0.],\n",
      "         [0., 0., 0.,  ..., 0., 0., 0.],\n",
      "         [0., 0., 0.,  ..., 0., 0., 0.]],\n",
      "\n",
      "        [[0., 0., 0.,  ..., 0., 0., 0.],\n",
      "         [0., 0., 0.,  ..., 0., 0., 0.],\n",
      "         [0., 0., 0.,  ..., 0., 0., 0.],\n",
      "         ...,\n",
      "         [0., 0., 0.,  ..., 0., 0., 0.],\n",
      "         [0., 0., 0.,  ..., 0., 0., 0.],\n",
      "         [0., 0., 0.,  ..., 0., 0., 0.]]])\n",
      "Image shape: torch.Size([3, 224, 224])\n",
      "Image datatype: torch.float32\n",
      "Image label: 0\n",
      "Label datatype: <class 'int'>\n"
     ]
    }
   ],
   "source": [
    "img, label = train_dataset[0][0], train_dataset[0][1]\n",
    "print(f\"Image tensor:\\n{img}\")\n",
    "print(f\"Image shape: {img.shape}\")\n",
    "print(f\"Image datatype: {img.dtype}\")\n",
    "print(f\"Image label: {label}\")\n",
    "print(f\"Label datatype: {type(label)}\")"
   ]
  },
  {
   "cell_type": "code",
   "execution_count": 12,
   "id": "5dadd3a5-4a94-47d2-bab4-8cf10e4c0ff1",
   "metadata": {},
   "outputs": [],
   "source": [
    "trainset = torch.utils.data.Subset(train_dataset, list(range(len(train_dataset))))\n",
    "testset = torch.utils.data.Subset(test_dataset, list(range(len(test_dataset))))\n",
    "validset = torch.utils.data.Subset(valid_dataset, list(range(len(valid_dataset))))"
   ]
  },
  {
   "cell_type": "code",
   "execution_count": 13,
   "id": "a3d92c14-c540-46ee-8550-b633e63b7625",
   "metadata": {},
   "outputs": [],
   "source": [
    "batch_size = 128\n",
    "\n",
    "# prepare data loaders\n",
    "train_loader = DataLoader(trainset, batch_size=batch_size, num_workers=2)\n",
    "valid_loader = DataLoader(validset, batch_size=batch_size, num_workers=2)\n",
    "test_loader = DataLoader(testset, batch_size=batch_size, num_workers=2)"
   ]
  },
  {
   "cell_type": "markdown",
   "id": "2ea66257-f10b-4bb4-9eac-f30e3abf4437",
   "metadata": {},
   "source": [
    "### Visualization Helper"
   ]
  },
  {
   "cell_type": "code",
   "execution_count": 14,
   "id": "7518eea3-84e1-490a-9cbe-70c8c6df5d5e",
   "metadata": {},
   "outputs": [],
   "source": [
    "## This is adapted from https://www.kaggle.com/code/toygarr/pytorch-baseline-for-image-classification-tasks\n",
    "def plot_training_metrics(train_hist, model, test_data, y_actual, y_pred, classes, model_name):\n",
    "    \"\"\"\n",
    "    Input: trained model history, model, test image generator, actual and predicted labels, class list\n",
    "    Output: Plots loss vs epochs, accuracy vs epochs, confusion matrix\n",
    "    \"\"\"\n",
    "    fpr, tpr, thresholds = metrics.roc_curve(y_actual, y_pred, pos_label=9)\n",
    "    AUC       = metrics.auc(fpr, tpr)*100\n",
    "    Acc       = accuracy_score(y_actual, y_pred)*100 \n",
    "    results_title =(f\"\\n Model AUC {AUC:.2f}%, Accuracy {Acc:.2f}% on Test Data\\n\")\n",
    "    print(results_title.format(AUC, Acc))\n",
    "\n",
    "    \n",
    "    # print classification report\n",
    "    print(classification_report(y_actual, y_pred, target_names=classes))\n",
    "\n",
    "    # extract data from training history for plotting\n",
    "    loss_values     = [x.get(\"train_loss\") for x in history]\n",
    "    val_loss_values = [x[\"val_loss\"] for x in history]\n",
    "    val_acc_values  = [x[\"val_acc\"] for x in history]    \n",
    "   \n",
    "\n",
    "    # get the min loss and max accuracy for plotting\n",
    "    min_loss = np.min(val_loss_values)\n",
    "    \n",
    "    # create plots\n",
    "    plt.subplots(figsize=(12,4))\n",
    "    \n",
    "    # plot loss by epochs\n",
    "    plt.subplot(1,3,1)\n",
    "    plt.plot(loss_values, 'bo', label = 'Training loss')\n",
    "    plt.plot(val_loss_values, 'cornflowerblue', label = 'Validation loss')\n",
    "    plt.title('Validation Loss by Epochs')\n",
    "    plt.xlabel('Epochs')\n",
    "    plt.ylabel('Loss')\n",
    "    plt.axhline(y=min_loss,color='darkslategray', linestyle='--')\n",
    "    plt.legend()\n",
    "\n",
    "    # plot accuracy by epochs\n",
    "    plt.subplot(1,3,2)\n",
    "    plt.plot(val_acc_values, 'cornflowerblue', label = 'Validation Accuracy')\n",
    "    plt.title('Validation Accuracy by Epochs')\n",
    "    plt.xlabel('Epochs')\n",
    "    plt.ylabel('AUC')\n",
    "    plt.legend()\n",
    "\n",
    "    \n",
    "     # calculate Confusion Matrix\n",
    "    cm = confusion_matrix(y_true, y_pred)\n",
    "\n",
    "    # create confusion matrix plot\n",
    "    plt.subplot(1,3,3)\n",
    "    plt.imshow(cm, interpolation='nearest', cmap=plt.cm.BuPu)\n",
    "    plt.title(f\"Confusion Matrix \\nAUC: {AUC:.2f}%\")\n",
    "    plt.colorbar()\n",
    "    tick_marks = np.arange(len(classes))\n",
    "    plt.xticks(tick_marks, classes, rotation=45)\n",
    "    plt.yticks(tick_marks, classes)\n",
    "\n",
    "    # loop through matrix, plot each \n",
    "    threshold = cm.max() / 2.\n",
    "    for r, c in itertools.product(range(cm.shape[0]), range(cm.shape[1])):\n",
    "        plt.text(c, r, format(cm[r, c], 'd'),\n",
    "                 horizontalalignment=\"center\",\n",
    "                 color=\"white\" if cm[r, c] > threshold else \"black\")\n",
    "\n",
    "    plt.ylabel('True label')\n",
    "    plt.xlabel('Predicted label')\n",
    "    plt.tight_layout()\n",
    "    plt.savefig(f\"{model_name}.pdf\")\n",
    "\n",
    "    plt.show()"
   ]
  },
  {
   "cell_type": "code",
   "execution_count": 15,
   "id": "6476e712-35d8-4f36-a251-721f7e7b8110",
   "metadata": {},
   "outputs": [],
   "source": [
    "@torch.no_grad()\n",
    "def get_all_preds(model, loader):\n",
    "    all_preds = torch.tensor([])\n",
    "    for batch in loader:\n",
    "        images, labels = batch\n",
    "\n",
    "        preds = model(images)\n",
    "        all_preds = torch.cat((all_preds, preds) ,dim=0)\n",
    "\n",
    "    return all_preds"
   ]
  },
  {
   "cell_type": "code",
   "execution_count": 16,
   "id": "023a5698-5cd7-4d70-b1ae-263e07a300db",
   "metadata": {},
   "outputs": [],
   "source": [
    "def accuracy(predicted, actual):\n",
    "    _, predictions = torch.max(predicted, dim=1)\n",
    "    return torch.tensor(torch.sum(predictions==actual).item()/len(predictions))"
   ]
  },
  {
   "cell_type": "code",
   "execution_count": 17,
   "id": "57cc542c-ac4c-4e44-b120-de20eeaa864b",
   "metadata": {},
   "outputs": [],
   "source": [
    "class BaseModel(nn.Module):\n",
    "    def training_step(self,batch):\n",
    "        images, labels = batch\n",
    "        out = self(images)\n",
    "        loss = F.cross_entropy(out,labels)\n",
    "        return loss\n",
    "    \n",
    "    def validation_step(self,batch):\n",
    "        images, labels = batch\n",
    "        out = self(images)\n",
    "        loss = F.cross_entropy(out,labels)\n",
    "        acc = accuracy(out,labels)\n",
    "        return {\"val_loss\":loss.detach(),\"val_acc\":acc}\n",
    "    \n",
    "    def validation_epoch_end(self,outputs):\n",
    "        batch_losses = [loss[\"val_loss\"] for loss in outputs]\n",
    "        loss = torch.stack(batch_losses).mean()\n",
    "        batch_accuracy = [accuracy[\"val_acc\"] for accuracy in outputs]\n",
    "        acc = torch.stack(batch_accuracy).mean()\n",
    "        return {\"val_loss\":loss.item(),\"val_acc\":acc.item()}\n",
    "    \n",
    "    def epoch_end(self, epoch, result):\n",
    "        print(\"Epoch [{}], last_lr: {:.5f}, train_loss: {:.4f}, val_loss: {:.4f}, val_acc: {:.4f}\".format(\n",
    "            epoch, result['lrs'][-1], result['train_loss'], result['val_loss'], result['val_acc']))"
   ]
  },
  {
   "cell_type": "code",
   "execution_count": 18,
   "id": "3b430773-f0ab-4816-8226-f5dff56488a1",
   "metadata": {},
   "outputs": [],
   "source": [
    "class CNN(BaseModel):\n",
    "\t#  Determine what layers and their order in CNN object \n",
    "    def __init__(self, num_classes, numChannels):\n",
    "        super(CNN, self).__init__()\n",
    "        self.conv_layer1 = nn.Conv2d(in_channels=numChannels, out_channels=32, kernel_size=5, padding='same')\n",
    "        self.conv_layer2 = nn.Conv2d(in_channels=32, out_channels=64, kernel_size=5, padding='same')\n",
    "        self.max_pool1 = nn.MaxPool2d(kernel_size = 2, stride = 2) \n",
    "        \n",
    "        self.conv_layer3 = nn.Conv2d(in_channels=64, out_channels=64, kernel_size=5, padding='same')\n",
    "        self.conv_layer4 = nn.Conv2d(in_channels=64, out_channels=64, kernel_size=5, padding='same')\n",
    "        self.conv_layer5 = nn.Conv2d(in_channels=64, out_channels=64, kernel_size=5, padding='same')\n",
    "        self.max_pool2 = nn.MaxPool2d(kernel_size = 2, stride = 2) \n",
    "    \n",
    "        self.fc1 = nn.Linear( (224 * 224), 128)\n",
    "        self.fc2 = nn.Linear(128, num_classes)\n",
    "                \n",
    "        self.relu1 = nn.ReLU()\n",
    "        self.flatten = nn.Flatten()\n",
    "        #self.dropout = nn.Dropout(0.5)\n",
    "\n",
    "    \n",
    "    # Progresses data across layers    \n",
    "    def forward(self, x):\n",
    "        #CNN Layer 1\n",
    "        out = self.conv_layer1(x)\n",
    "        out = self.relu1(out)\n",
    "        \n",
    "        #CNN Layer 2\n",
    "        out = self.conv_layer2(out)\n",
    "        out = self.relu1(out)\n",
    "        out = self.max_pool1(out)\n",
    "        #out = self.dropout(out)\n",
    "\n",
    "        #CNN Layer 3\n",
    "        out = self.conv_layer3(out)\n",
    "        out = self.relu1(out)\n",
    "        out = self.max_pool2(out)\n",
    "        \n",
    "        #CNN Layer 3\n",
    "        out = self.conv_layer3(out)\n",
    "        out = self.relu1(out)\n",
    "        #out = self.dropout(out)\n",
    "        \n",
    "        #CNN Layer 4\n",
    "        out = self.conv_layer4(out)\n",
    "        out = self.relu1(out)\n",
    "        \n",
    "        #CNN Layer 5\n",
    "        out = self.conv_layer5(out)\n",
    "        out = self.relu1(out)\n",
    "        out = self.max_pool2(out)\n",
    "\n",
    "        #Out layers\n",
    "        out = out.reshape(out.size(0), -1)\n",
    "        #out = self.dropout(out)\n",
    "\n",
    "        out = self.flatten(out)\n",
    "        out = self.fc1(out)\n",
    "        out = self.relu1(out)\n",
    "        out = self.fc2(out)\n",
    "        return out"
   ]
  },
  {
   "cell_type": "code",
   "execution_count": 19,
   "id": "69949fc6-6fcd-452f-ae2f-ec08467de146",
   "metadata": {},
   "outputs": [
    {
     "data": {
      "text/plain": [
       "5"
      ]
     },
     "execution_count": 19,
     "metadata": {},
     "output_type": "execute_result"
    }
   ],
   "source": [
    "epochs = 10\n",
    "optimizer = torch.optim.Adam\n",
    "max_lr = 1e-3\n",
    "grad_clip = 0.1\n",
    "weight_decay = 1e-5\n",
    "scheduler = torch.optim.lr_scheduler.OneCycleLR\n",
    "classes = tuple(class_names)\n",
    "num_classes = len(classes)\n",
    "num_classes"
   ]
  },
  {
   "cell_type": "code",
   "execution_count": 20,
   "id": "ad0cef36-032d-4f5e-a2c2-4989d9976a6b",
   "metadata": {},
   "outputs": [
    {
     "name": "stdout",
     "output_type": "stream",
     "text": [
      " Device Available  cpu\n",
      "cpu\n"
     ]
    }
   ],
   "source": [
    "device = get_device()\n",
    "print(device)\n",
    "\n",
    "train_dl = ToDeviceLoader(train_loader, device)\n",
    "test_dl = ToDeviceLoader(test_loader, device)"
   ]
  },
  {
   "cell_type": "code",
   "execution_count": 21,
   "id": "7ac1e05a-43cb-4f7d-8b86-f4e32e5d44c5",
   "metadata": {},
   "outputs": [],
   "source": [
    "model = CNN(num_classes, numChannels=3)\n",
    "criterion = nn.CrossEntropyLoss()\n",
    "total_step = len(train_loader)\n",
    "model = to_device(model, device)"
   ]
  },
  {
   "cell_type": "markdown",
   "id": "4a6b9837-d174-47cf-92dd-78a87753367d",
   "metadata": {},
   "source": [
    "#### Training"
   ]
  },
  {
   "cell_type": "code",
   "execution_count": 22,
   "id": "10542bcf-a500-4d81-8199-3bedf3664aeb",
   "metadata": {},
   "outputs": [],
   "source": [
    "@torch.no_grad()\n",
    "def evaluate(model,test_dl):\n",
    "    model.eval()\n",
    "    outputs = [model.validation_step(batch) for batch in test_dl]\n",
    "    return model.validation_epoch_end(outputs)"
   ]
  },
  {
   "cell_type": "code",
   "execution_count": 23,
   "id": "116141f5-33f0-4d20-9391-65a0aa67dd4f",
   "metadata": {},
   "outputs": [],
   "source": [
    "def get_lr(optimizer):\n",
    "    for param_group in optimizer.param_groups:\n",
    "        return param_group['lr']\n",
    "\n",
    "def fit (epochs, train_dl, test_dl, model, optimizer, max_lr, weight_decay, scheduler, grad_clip=None):\n",
    "    torch.cuda.empty_cache()\n",
    "    \n",
    "    history = []\n",
    "    \n",
    "    optimizer = optimizer(model.parameters(), max_lr, weight_decay = weight_decay)\n",
    "\n",
    "    scheduler = scheduler(optimizer, max_lr, epochs=epochs, steps_per_epoch=len(train_dl))\n",
    "    \n",
    "    for epoch in range(epochs):\n",
    "        model.train()\n",
    "        \n",
    "        train_loss = []\n",
    "        lrs = []\n",
    "        \n",
    "        for batch in train_dl:\n",
    "            loss = model.training_step(batch)\n",
    "            \n",
    "            train_loss.append(loss)\n",
    "            \n",
    "            loss.backward()\n",
    "            \n",
    "            if grad_clip:\n",
    "                nn.utils.clip_grad_value_(model.parameters(), grad_clip)\n",
    "            \n",
    "            optimizer.step()\n",
    "            optimizer.zero_grad()\n",
    "            \n",
    "            scheduler.step()\n",
    "            lrs.append(get_lr(optimizer))\n",
    "        result = evaluate(model, test_dl)\n",
    "        result[\"train_loss\"] = torch.stack(train_loss).mean().item()\n",
    "        result[\"lrs\"] = lrs\n",
    "        \n",
    "        model.epoch_end(epoch,result)\n",
    "        history.append(result)\n",
    "        \n",
    "    return history"
   ]
  },
  {
   "cell_type": "code",
   "execution_count": 24,
   "id": "2c0268bc-a8b4-4db8-9fbe-adc93cb104a9",
   "metadata": {},
   "outputs": [
    {
     "data": {
      "text/plain": [
       "(22686, 7158)"
      ]
     },
     "execution_count": 24,
     "metadata": {},
     "output_type": "execute_result"
    }
   ],
   "source": [
    "trainSteps = len(train_loader.dataset) \n",
    "valSteps = len(valid_loader.dataset)\n",
    "trainSteps, valSteps"
   ]
  },
  {
   "cell_type": "code",
   "execution_count": 25,
   "id": "24954476-5ac0-467e-a919-ffd4d677273b",
   "metadata": {},
   "outputs": [
    {
     "name": "stdout",
     "output_type": "stream",
     "text": [
      "Epoch [0], last_lr: 0.00028, train_loss: 10.5221, val_loss: 116.7131, val_acc: 0.6332\n",
      "Epoch [1], last_lr: 0.00076, train_loss: 12.9323, val_loss: 36.6527, val_acc: 0.6332\n",
      "Epoch [2], last_lr: 0.00100, train_loss: 9.6495, val_loss: 19.8845, val_acc: 0.6332\n",
      "Epoch [3], last_lr: 0.00095, train_loss: 12.0541, val_loss: 44.4463, val_acc: 0.6332\n",
      "Epoch [4], last_lr: 0.00081, train_loss: 2.4641, val_loss: 2.1174, val_acc: 0.6332\n",
      "Epoch [5], last_lr: 0.00061, train_loss: 3.0740, val_loss: 3.4179, val_acc: 0.6332\n",
      "Epoch [6], last_lr: 0.00039, train_loss: 1.1648, val_loss: 3.7679, val_acc: 0.6332\n",
      "Epoch [7], last_lr: 0.00019, train_loss: 2.4554, val_loss: 1.5229, val_acc: 0.6332\n",
      "Epoch [8], last_lr: 0.00005, train_loss: 1.5153, val_loss: 1.5112, val_acc: 0.6332\n",
      "Epoch [9], last_lr: 0.00000, train_loss: 1.5087, val_loss: 1.5101, val_acc: 0.6332\n",
      "CPU times: user 20h 45min 47s, sys: 2h 30min 17s, total: 23h 16min 4s\n",
      "Wall time: 19h 15min 58s\n"
     ]
    }
   ],
   "source": [
    "%%time\n",
    "history = fit(epochs=epochs, train_dl=train_loader, test_dl=test_loader, model=model, \n",
    "              optimizer=optimizer, max_lr=max_lr, grad_clip=grad_clip,\n",
    "              weight_decay=weight_decay, scheduler=scheduler)"
   ]
  },
  {
   "cell_type": "markdown",
   "id": "637e5a19-db69-4b77-8581-1b96bd6d337d",
   "metadata": {},
   "source": [
    "### Plots"
   ]
  },
  {
   "cell_type": "code",
   "execution_count": 26,
   "id": "3d7fe847-3d1b-4ff4-82be-2633171bd3dd",
   "metadata": {},
   "outputs": [],
   "source": [
    "def plot_lrs(history):\n",
    "    plt.plot(np.concatenate([x.get(\"lrs\",[]) for x in history]))\n",
    "    plt.xlabel(\"Batch number\")\n",
    "    plt.ylabel(\"Learning rate\")"
   ]
  },
  {
   "cell_type": "code",
   "execution_count": 27,
   "id": "e501f2d1-ce45-4962-a0cc-604fb38852cb",
   "metadata": {},
   "outputs": [
    {
     "data": {
      "image/png": "[encoded data removed]",
      "text/plain": [
       "<Figure size 640x480 with 1 Axes>"
      ]
     },
     "metadata": {},
     "output_type": "display_data"
    }
   ],
   "source": [
    "plot_lrs(history)"
   ]
  },
  {
   "cell_type": "code",
   "execution_count": 28,
   "id": "3a1b2837-39c6-4007-941f-3387e0a03ed7",
   "metadata": {},
   "outputs": [],
   "source": [
    "correct_pred = {classname: 0 for classname in classes}\n",
    "total_pred = {classname: 0 for classname in classes}\n",
    "\n",
    "# again no gradients needed\n",
    "with torch.no_grad():\n",
    "    for data in test_dl:\n",
    "        images, labels = data\n",
    "        outputs = model(images)\n",
    "        _, predictions = torch.max(outputs, 1)\n",
    "        # collect the correct predictions for each class\n",
    "        for label, prediction in zip(labels, predictions):\n",
    "            if label == prediction:\n",
    "                correct_pred[classes[label]] += 1\n",
    "            total_pred[classes[label]] += 1"
   ]
  },
  {
   "cell_type": "code",
   "execution_count": 29,
   "id": "a4ffada9-ab85-4dcf-95e3-598a8dde8e04",
   "metadata": {},
   "outputs": [
    {
     "name": "stdout",
     "output_type": "stream",
     "text": [
      "Accuracy for class: destroyed is 0.0 %\n",
      "Accuracy for class: major-damage is 0.0 %\n",
      "Accuracy for class: minor-damage is 0.0 %\n",
      "Accuracy for class: no-damage is 100.0 %\n",
      "Accuracy for class: un-classified is 0.0 %\n"
     ]
    }
   ],
   "source": [
    "# print accuracy for each class\n",
    "for classname, correct_count in correct_pred.items():\n",
    "    accuracy = 100 * float(correct_count) / total_pred[classname]\n",
    "    print(f'Accuracy for class: {classname:5s} is {accuracy:.1f} %')"
   ]
  },
  {
   "cell_type": "code",
   "execution_count": 30,
   "id": "bb96b4c1-d714-47de-870f-46864f002b7a",
   "metadata": {},
   "outputs": [],
   "source": [
    "def predict(model, test_loader, device):\n",
    "    \n",
    "    # set model to evaluate model\n",
    "    model.eval()\n",
    "    \n",
    "    y_true = torch.tensor([], dtype=torch.long, device=device)\n",
    "    all_outputs = torch.tensor([], device=device)\n",
    "    \n",
    "    # deactivate autograd engine and reduce memory usage and speed up computations\n",
    "    with torch.no_grad():\n",
    "        for data in test_loader:\n",
    "            inputs = [i.to(device) for i in data[:-1]]\n",
    "            labels = data[-1].to(device)\n",
    "            \n",
    "            outputs = model(*inputs)\n",
    "            y_true = torch.cat((y_true, labels), 0)\n",
    "            all_outputs = torch.cat((all_outputs, outputs), 0)\n",
    "    \n",
    "    y_true = y_true.cpu().numpy()  \n",
    "    _, y_pred = torch.max(all_outputs, 1)\n",
    "    y_pred = y_pred.cpu().numpy()\n",
    "    y_pred_prob = F.softmax(all_outputs, dim=1).cpu().numpy()\n",
    "    \n",
    "    return y_true, y_pred, y_pred_prob"
   ]
  },
  {
   "cell_type": "code",
   "execution_count": 33,
   "id": "4853c60f-1dfa-4ea5-9b3a-c780686ab8cf",
   "metadata": {},
   "outputs": [],
   "source": [
    "y_true, y_pred, y_pred_prob = predict(model, test_loader, device)"
   ]
  },
  {
   "cell_type": "code",
   "execution_count": 36,
   "id": "e902051e-419a-47c5-82bf-0b49e887f506",
   "metadata": {},
   "outputs": [
    {
     "name": "stderr",
     "output_type": "stream",
     "text": [
      "/Users/yaminigotimukul/anaconda3/envs/alivio/lib/python3.10/site-packages/sklearn/metrics/_ranking.py:1146: UndefinedMetricWarning: No positive samples in y_true, true positive value should be meaningless\n",
      "  warnings.warn(\n",
      "/Users/yaminigotimukul/anaconda3/envs/alivio/lib/python3.10/site-packages/sklearn/metrics/_classification.py:1509: UndefinedMetricWarning: Precision is ill-defined and being set to 0.0 in labels with no predicted samples. Use `zero_division` parameter to control this behavior.\n",
      "  _warn_prf(average, modifier, f\"{metric.capitalize()} is\", len(result))\n",
      "/Users/yaminigotimukul/anaconda3/envs/alivio/lib/python3.10/site-packages/sklearn/metrics/_classification.py:1509: UndefinedMetricWarning: Precision is ill-defined and being set to 0.0 in labels with no predicted samples. Use `zero_division` parameter to control this behavior.\n",
      "  _warn_prf(average, modifier, f\"{metric.capitalize()} is\", len(result))\n",
      "/Users/yaminigotimukul/anaconda3/envs/alivio/lib/python3.10/site-packages/sklearn/metrics/_classification.py:1509: UndefinedMetricWarning: Precision is ill-defined and being set to 0.0 in labels with no predicted samples. Use `zero_division` parameter to control this behavior.\n",
      "  _warn_prf(average, modifier, f\"{metric.capitalize()} is\", len(result))\n"
     ]
    },
    {
     "name": "stdout",
     "output_type": "stream",
     "text": [
      "\n",
      " Model AUC nan%, Accuracy 64.47% on Test Data\n",
      "\n",
      "               precision    recall  f1-score   support\n",
      "\n",
      "    destroyed       0.00      0.00      0.00       183\n",
      " major-damage       0.00      0.00      0.00       409\n",
      " minor-damage       0.00      0.00      0.00      1363\n",
      "    no-damage       0.64      1.00      0.78      3647\n",
      "un-classified       0.00      0.00      0.00        55\n",
      "\n",
      "     accuracy                           0.64      5657\n",
      "    macro avg       0.13      0.20      0.16      5657\n",
      " weighted avg       0.42      0.64      0.51      5657\n",
      "\n"
     ]
    },
    {
     "data": {
      "image/png": "[encoded data removed]",
      "text/plain": [
       "<Figure size 1200x400 with 5 Axes>"
      ]
     },
     "metadata": {},
     "output_type": "display_data"
    }
   ],
   "source": [
    "plot_training_metrics(history, model, test_dataset, y_true, y_pred, classes, model_name = \"v2\")"
   ]
  },
  {
   "cell_type": "code",
   "execution_count": 39,
   "id": "c66bfb6e-4ac3-4e14-85c6-94de6bd2261e",
   "metadata": {},
   "outputs": [],
   "source": [
    "def predict_image(img, model):\n",
    "    xb = to_device(img.unsqueeze(0), device)\n",
    "    yb = model(xb)\n",
    "    _, preds  = torch.max(yb, dim=1)\n",
    "    return test_dataset.classes[preds[0].item()]"
   ]
  },
  {
   "cell_type": "code",
   "execution_count": 40,
   "id": "8ab958c0-6a51-4234-998f-568629ac2055",
   "metadata": {},
   "outputs": [
    {
     "name": "stdout",
     "output_type": "stream",
     "text": [
      "Label: destroyed , Predicted: no-damage\n"
     ]
    },
    {
     "data": {
      "image/png": "[encoded data removed]",
      "text/plain": [
       "<Figure size 640x480 with 1 Axes>"
      ]
     },
     "metadata": {},
     "output_type": "display_data"
    }
   ],
   "source": [
    "img, label = test_dataset[0]\n",
    "plt.imshow(img.permute(1, 2, 0))\n",
    "print('Label:', test_dataset.classes[label], ', Predicted:', predict_image(img, model))"
   ]
  },
  {
   "cell_type": "code",
   "execution_count": 41,
   "id": "5a9f81b9-b946-4a69-bb69-73a4a0aba0de",
   "metadata": {},
   "outputs": [
    {
     "name": "stdout",
     "output_type": "stream",
     "text": [
      "Label: minor-damage , Predicted: no-damage\n"
     ]
    },
    {
     "data": {
      "image/png": "[encoded data removed]",
      "text/plain": [
       "<Figure size 640x480 with 1 Axes>"
      ]
     },
     "metadata": {},
     "output_type": "display_data"
    }
   ],
   "source": [
    "img, label = test_dataset[1002]\n",
    "plt.imshow(img.permute(1, 2, 0))\n",
    "print('Label:', test_dataset.classes[label], ', Predicted:', predict_image(img, model))"
   ]
  },
  {
   "cell_type": "markdown",
   "id": "2a467e65-bf13-426e-a4d1-fa16ffc56829",
   "metadata": {},
   "source": [
    "### Save"
   ]
  },
  {
   "cell_type": "code",
   "execution_count": 42,
   "id": "1389e7ea-b399-4a39-ad5d-7a7c041e341d",
   "metadata": {},
   "outputs": [],
   "source": [
    "torch.save(model.state_dict(), 'build_damage_cnn_model.pth')"
   ]
  },
  {
   "cell_type": "markdown",
   "id": "b477dc7c-0f34-471c-b391-89d5bf1ec53d",
   "metadata": {},
   "source": [
    "### Find Probability"
   ]
  },
  {
   "cell_type": "code",
   "execution_count": 43,
   "id": "aaa3c037-cc95-435e-a996-ce5cc3368ffc",
   "metadata": {},
   "outputs": [],
   "source": [
    "def find_prob(img, model):\n",
    "    xb = to_device(img.unsqueeze(0), device)\n",
    "    yb = model(xb)\n",
    "    yb = F.softmax(yb, dim=1).cpu().detach().numpy()\n",
    "    return yb"
   ]
  },
  {
   "cell_type": "code",
   "execution_count": 45,
   "id": "41c99144-4d98-44ad-a8a9-e73f65b7060f",
   "metadata": {},
   "outputs": [
    {
     "name": "stdout",
     "output_type": "stream",
     "text": [
      "Selected Query Image -> label_idx: 0, label: destroyed\n",
      "TOP 5 LABELS:\n",
      "label_idx: 3, label: no-damage\n",
      "label_idx: 2, label: minor-damage\n",
      "label_idx: 1, label: major-damage\n",
      "label_idx: 4, label: un-classified\n",
      "label_idx: 0, label: destroyed\n"
     ]
    }
   ],
   "source": [
    "n_samples = 100\n",
    "random_index = int(np.random.random()*n_samples)\n",
    "img, label = test_dataset[random_index]\n",
    "y_query_prob = find_prob(img, model)\n",
    "sorted_index = np.argsort(-1*y_query_prob)\n",
    "print(f\"Selected Query Image -> label_idx: {label}, label: {test_dataset.classes[label]}\")\n",
    "print(\"TOP 5 LABELS:\")\n",
    "for i in range(5):\n",
    "    print(f\"label_idx: {sorted_index[0][i]}, label: {test_dataset.classes[sorted_index[0][i]]}\")"
   ]
  }
 ],
 "metadata": {
  "kernelspec": {
   "display_name": "Python 3 (ipykernel)",
   "language": "python",
   "name": "python3"
  },
  "language_info": {
   "codemirror_mode": {
    "name": "ipython",
    "version": 3
   },
   "file_extension": ".py",
   "mimetype": "text/x-python",
   "name": "python",
   "nbconvert_exporter": "python",
   "pygments_lexer": "ipython3",
   "version": "3.10.13"
  }
 },
 "nbformat": 4,
 "nbformat_minor": 5
}
