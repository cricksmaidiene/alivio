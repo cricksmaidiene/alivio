{
 "cells": [
  {
   "cell_type": "code",
   "execution_count": 86,
   "id": "69ded624-cf52-409c-9596-90bb6ec33205",
   "metadata": {},
   "outputs": [],
   "source": [
    "%matplotlib inline\n",
    "%config InlineBackend.figure_format = 'retina'\n",
    "\n",
    "import matplotlib.pyplot as plt\n",
    "from pandas.core.common import flatten\n",
    "import copy\n",
    "import numpy as np\n",
    "import pandas as pd\n",
    "import random\n",
    "\n",
    "import torch\n",
    "from torch import nn\n",
    "from torch import optim\n",
    "import torch.nn.functional as F\n",
    "\n",
    "import albumentations as A\n",
    "import cv2\n",
    "import glob\n",
    "import os\n",
    "import shapely.geometry as sg\n",
    "import shapely.ops as so\n",
    "import colorsys\n",
    "import requests\n",
    "import glob\n",
    "import samgeo\n",
    "import leafmap\n",
    "\n",
    "from tqdm import tqdm\n",
    "from shapely import wkt\n",
    "from shapely.geometry import mapping, Polygon, box\n",
    "\n",
    "from torchvision import datasets, transforms, models\n",
    "from torch.utils.data import Dataset, DataLoader\n",
    "from PIL import Image\n",
    "from samgeo import SamGeo, tms_to_geotiff, get_basemaps\n",
    "from rasterio.plot import show\n",
    "from rasterio.mask import mask\n",
    "from transformers import ViTModel\n",
    "from osgeo import gdal\n",
    "from transformers import ViTForImageClassification, ViTImageProcessor\n",
    "from os import listdir\n",
    "from os.path import isfile, join\n",
    "from segment_anything import sam_model_registry, SamAutomaticMaskGenerator, SamPredictor"
   ]
  },
  {
   "cell_type": "markdown",
   "id": "4355b479-1c27-4ba8-ab1c-f4698477bb77",
   "metadata": {},
   "source": [
    "Notes:\n",
    "\n",
    "\n",
    "- Used the following instead of pip conda install -c huggingface -c conda-forge datasets"
   ]
  },
  {
   "cell_type": "markdown",
   "id": "5bfe3683-2a0e-4780-898d-09b1277b37cb",
   "metadata": {},
   "source": [
    "### Data Prep"
   ]
  },
  {
   "cell_type": "markdown",
   "id": "df5c2ac7-66e8-4f62-943f-590c43bd2119",
   "metadata": {
    "jp-MarkdownHeadingCollapsed": true
   },
   "source": [
    "### Create Transformations\n",
    "\n",
    "Below is the code for transformations related to crop/rotation, colour/saturation, and brightness on training data. It also normalise both train and test data with image net mean and std deviation. Finally, we convert the data to PyTorch tensor using ToTensor()."
   ]
  },
  {
   "cell_type": "code",
   "execution_count": null,
   "id": "868974a1-8526-4150-bd5b-913f44d5e852",
   "metadata": {},
   "outputs": [],
   "source": [
    "train_transforms = A.Compose(\n",
    "    [\n",
    "        A.SmallestMaxSize(max_size=350),\n",
    "        A.ShiftScaleRotate(shift_limit=0.05, scale_limit=0.05, rotate_limit=360, p=0.5),\n",
    "        A.RandomCrop(height=256, width=256),\n",
    "        A.RGBShift(r_shift_limit=15, g_shift_limit=15, b_shift_limit=15, p=0.5),\n",
    "        A.RandomBrightnessContrast(p=0.5),\n",
    "        A.MultiplicativeNoise(multiplier=[0.5,2], per_channel=True, p=0.2),\n",
    "        A.Normalize(mean=(0.485, 0.456, 0.406), std=(0.229, 0.224, 0.225)),\n",
    "        A.HueSaturationValue(hue_shift_limit=0.2, sat_shift_limit=0.2, val_shift_limit=0.2, p=0.5),\n",
    "        A.RandomBrightnessContrast(brightness_limit=(-0.1,0.1), contrast_limit=(-0.1, 0.1), p=0.5),\n",
    "        ToTensorV2(),\n",
    "    ]\n",
    ")\n",
    "\n",
    "test_transforms = A.Compose(\n",
    "    [\n",
    "        A.SmallestMaxSize(max_size=350),\n",
    "        A.CenterCrop(height=256, width=256),\n",
    "        A.Normalize(mean=(0.485, 0.456, 0.406), std=(0.229, 0.224, 0.225)),\n",
    "        ToTensorV2(),\n",
    "    ]\n",
    ")"
   ]
  },
  {
   "cell_type": "code",
   "execution_count": 3,
   "id": "a7a76d75-aee0-483d-9a3f-60ebfbbf6daa",
   "metadata": {},
   "outputs": [
    {
     "data": {
      "text/plain": [
       "'/Users/yaminigotimukul/DataScience/Berekley/Semesters/Spring_2024/repo/alivio/src/04_models'"
      ]
     },
     "execution_count": 3,
     "metadata": {},
     "output_type": "execute_result"
    }
   ],
   "source": [
    "os.getcwd()"
   ]
  },
  {
   "cell_type": "code",
   "execution_count": 4,
   "id": "a26c94a9-e7dd-4fee-bb5f-1a2045cab12f",
   "metadata": {},
   "outputs": [
    {
     "name": "stdout",
     "output_type": "stream",
     "text": [
      "Current Path :  /Users/yaminigotimukul/DataScience/Berekley/Semesters/Spring_2024/repo/alivio/src/04_models\n",
      "Current Path :  /Users/yaminigotimukul/DataScience/Berekley/Semesters/Spring_2024/repo/alivio\n"
     ]
    }
   ],
   "source": [
    "print(\"Current Path : \", os.getcwd())\n",
    "os.chdir('../..')\n",
    "print(\"Current Path : \", os.getcwd())"
   ]
  },
  {
   "cell_type": "code",
   "execution_count": 5,
   "id": "a8f98d1e-5f20-4f99-9ed4-aa992822c3a2",
   "metadata": {},
   "outputs": [
    {
     "name": "stdout",
     "output_type": "stream",
     "text": [
      "BASE_DIR :  /Users/yaminigotimukul/DataScience/Berekley/Semesters/Spring_2024/repo/alivio/data\n",
      "DATA_DIR :  /Users/yaminigotimukul/DataScience/Berekley/Semesters/Spring_2024/repo/alivio/data/xview_building_damage/train/sample\n",
      "SAM_CKPT_DIR :  /Users/yaminigotimukul/DataScience/Berekley/Semesters/Spring_2024/repo/alivio/data/utils\n",
      "Metadata File path :  /Users/yaminigotimukul/DataScience/Berekley/Semesters/Spring_2024/repo/alivio/data/xview_building_damage/train/xview2_processed.csv\n"
     ]
    }
   ],
   "source": [
    "ROOT_DIR=os.getcwd()\n",
    "BASE_DATA_DIR = os.path.join(ROOT_DIR, 'data')\n",
    "print(\"BASE_DIR : \", BASE_DATA_DIR)\n",
    "DATA_DIR = os.path.join(BASE_DATA_DIR, 'xview_building_damage/train/sample')\n",
    "print(\"DATA_DIR : \", DATA_DIR)\n",
    "SAM_CKPT_DIR=os.path.join(BASE_DATA_DIR, 'utils')\n",
    "print(\"SAM_CKPT_DIR : \", SAM_CKPT_DIR)\n",
    "metadata_csv_path=os.path.join(BASE_DATA_DIR, 'xview_building_damage/train/xview2_processed.csv')\n",
    "print(\"Metadata File path : \",metadata_csv_path )\n",
    "MASK_OUTPUT_DIR=os.path.join(DATA_DIR,'hurricane-florence/sam_masks')"
   ]
  },
  {
   "cell_type": "markdown",
   "id": "85ccd750-528b-413d-907d-2e6849e8b21b",
   "metadata": {},
   "source": [
    "### Load the metadatafile"
   ]
  },
  {
   "cell_type": "code",
   "execution_count": 6,
   "id": "8f3140fe-fd1f-4784-8b5c-dda50989db6e",
   "metadata": {},
   "outputs": [
    {
     "data": {
      "text/html": [
       "<div>\n",
       "<style scoped>\n",
       "    .dataframe tbody tr th:only-of-type {\n",
       "        vertical-align: middle;\n",
       "    }\n",
       "\n",
       "    .dataframe tbody tr th {\n",
       "        vertical-align: top;\n",
       "    }\n",
       "\n",
       "    .dataframe thead th {\n",
       "        text-align: right;\n",
       "    }\n",
       "</style>\n",
       "<table border=\"1\" class=\"dataframe\">\n",
       "  <thead>\n",
       "    <tr style=\"text-align: right;\">\n",
       "      <th></th>\n",
       "      <th>sensor</th>\n",
       "      <th>provider_asset_type</th>\n",
       "      <th>gsd</th>\n",
       "      <th>capture_date</th>\n",
       "      <th>off_nadir_angle</th>\n",
       "      <th>pan_resolution</th>\n",
       "      <th>sun_azimuth</th>\n",
       "      <th>sun_elevation</th>\n",
       "      <th>target_azimuth</th>\n",
       "      <th>disaster</th>\n",
       "      <th>...</th>\n",
       "      <th>img_name</th>\n",
       "      <th>map_polygon</th>\n",
       "      <th>building_id</th>\n",
       "      <th>image_polygon</th>\n",
       "      <th>feature_type</th>\n",
       "      <th>damage</th>\n",
       "      <th>dataset</th>\n",
       "      <th>image_id</th>\n",
       "      <th>is_pre_image</th>\n",
       "      <th>is_post_image</th>\n",
       "    </tr>\n",
       "  </thead>\n",
       "  <tbody>\n",
       "    <tr>\n",
       "      <th>0</th>\n",
       "      <td>WORLDVIEW03_VNIR</td>\n",
       "      <td>WORLDVIEW03_VNIR</td>\n",
       "      <td>1.408524</td>\n",
       "      <td>2018-06-22 16:55:40+00:00</td>\n",
       "      <td>21.97336</td>\n",
       "      <td>0.351739</td>\n",
       "      <td>58.571484</td>\n",
       "      <td>71.182274</td>\n",
       "      <td>314.29373</td>\n",
       "      <td>guatemala-volcano</td>\n",
       "      <td>...</td>\n",
       "      <td>guatemala-volcano_00000003_post_disaster.png</td>\n",
       "      <td>POLYGON ((-90.83554484998086 14.43845885230631...</td>\n",
       "      <td>88703461-a33d-4327-9244-a0d4e2242ede</td>\n",
       "      <td>POLYGON ((452.9629646916362 86.81005767060303,...</td>\n",
       "      <td>building</td>\n",
       "      <td>minor-damage</td>\n",
       "      <td>test</td>\n",
       "      <td>guatemala-volcano_00000003</td>\n",
       "      <td>False</td>\n",
       "      <td>True</td>\n",
       "    </tr>\n",
       "    <tr>\n",
       "      <th>1</th>\n",
       "      <td>WORLDVIEW03_VNIR</td>\n",
       "      <td>WORLDVIEW03_VNIR</td>\n",
       "      <td>1.408524</td>\n",
       "      <td>2018-06-22 16:55:40+00:00</td>\n",
       "      <td>21.97336</td>\n",
       "      <td>0.351739</td>\n",
       "      <td>58.571484</td>\n",
       "      <td>71.182274</td>\n",
       "      <td>314.29373</td>\n",
       "      <td>guatemala-volcano</td>\n",
       "      <td>...</td>\n",
       "      <td>guatemala-volcano_00000003_post_disaster.png</td>\n",
       "      <td>POLYGON ((-90.83658244456636 14.43748886352666...</td>\n",
       "      <td>e168e405-3479-44ee-849a-7af2ed32dee1</td>\n",
       "      <td>POLYGON ((226.8267143191367 307.8635026276182,...</td>\n",
       "      <td>building</td>\n",
       "      <td>destroyed</td>\n",
       "      <td>test</td>\n",
       "      <td>guatemala-volcano_00000003</td>\n",
       "      <td>False</td>\n",
       "      <td>True</td>\n",
       "    </tr>\n",
       "    <tr>\n",
       "      <th>2</th>\n",
       "      <td>WORLDVIEW03_VNIR</td>\n",
       "      <td>WORLDVIEW03_VNIR</td>\n",
       "      <td>1.408524</td>\n",
       "      <td>2018-06-22 16:55:40+00:00</td>\n",
       "      <td>21.97336</td>\n",
       "      <td>0.351739</td>\n",
       "      <td>58.571484</td>\n",
       "      <td>71.182274</td>\n",
       "      <td>314.29373</td>\n",
       "      <td>guatemala-volcano</td>\n",
       "      <td>...</td>\n",
       "      <td>guatemala-volcano_00000003_post_disaster.png</td>\n",
       "      <td>POLYGON ((-90.83487803042956 14.43776515972186...</td>\n",
       "      <td>9f8f8916-b6c5-4fa8-ab64-c8fd86eca035</td>\n",
       "      <td>POLYGON ((601.0923397346356 241.9779197994199,...</td>\n",
       "      <td>building</td>\n",
       "      <td>minor-damage</td>\n",
       "      <td>test</td>\n",
       "      <td>guatemala-volcano_00000003</td>\n",
       "      <td>False</td>\n",
       "      <td>True</td>\n",
       "    </tr>\n",
       "    <tr>\n",
       "      <th>3</th>\n",
       "      <td>GEOEYE01</td>\n",
       "      <td>GEOEYE01</td>\n",
       "      <td>2.895928</td>\n",
       "      <td>2018-09-18 16:32:47+00:00</td>\n",
       "      <td>41.74134</td>\n",
       "      <td>0.722669</td>\n",
       "      <td>162.699550</td>\n",
       "      <td>57.024815</td>\n",
       "      <td>69.02214</td>\n",
       "      <td>hurricane-florence</td>\n",
       "      <td>...</td>\n",
       "      <td>hurricane-florence_00000005_post_disaster.png</td>\n",
       "      <td>POLYGON ((-79.05237408501472 33.58644838741007...</td>\n",
       "      <td>624f417b-fd9f-4544-ba25-9ba2be361d27</td>\n",
       "      <td>POLYGON ((43.56144524808627 0.0045224975870225...</td>\n",
       "      <td>building</td>\n",
       "      <td>no-damage</td>\n",
       "      <td>test</td>\n",
       "      <td>hurricane-florence_00000005</td>\n",
       "      <td>False</td>\n",
       "      <td>True</td>\n",
       "    </tr>\n",
       "    <tr>\n",
       "      <th>4</th>\n",
       "      <td>GEOEYE01</td>\n",
       "      <td>GEOEYE01</td>\n",
       "      <td>2.895928</td>\n",
       "      <td>2018-09-18 16:32:47+00:00</td>\n",
       "      <td>41.74134</td>\n",
       "      <td>0.722669</td>\n",
       "      <td>162.699550</td>\n",
       "      <td>57.024815</td>\n",
       "      <td>69.02214</td>\n",
       "      <td>hurricane-florence</td>\n",
       "      <td>...</td>\n",
       "      <td>hurricane-florence_00000005_post_disaster.png</td>\n",
       "      <td>POLYGON ((-79.05057793741786 33.58642007435035...</td>\n",
       "      <td>557fbd1d-68bf-4776-a1a5-9bbd45cda227</td>\n",
       "      <td>POLYGON ((406.9497321265795 0.0095005985733089...</td>\n",
       "      <td>building</td>\n",
       "      <td>no-damage</td>\n",
       "      <td>test</td>\n",
       "      <td>hurricane-florence_00000005</td>\n",
       "      <td>False</td>\n",
       "      <td>True</td>\n",
       "    </tr>\n",
       "  </tbody>\n",
       "</table>\n",
       "<p>5 rows × 27 columns</p>\n",
       "</div>"
      ],
      "text/plain": [
       "             sensor provider_asset_type       gsd               capture_date  \\\n",
       "0  WORLDVIEW03_VNIR    WORLDVIEW03_VNIR  1.408524  2018-06-22 16:55:40+00:00   \n",
       "1  WORLDVIEW03_VNIR    WORLDVIEW03_VNIR  1.408524  2018-06-22 16:55:40+00:00   \n",
       "2  WORLDVIEW03_VNIR    WORLDVIEW03_VNIR  1.408524  2018-06-22 16:55:40+00:00   \n",
       "3          GEOEYE01            GEOEYE01  2.895928  2018-09-18 16:32:47+00:00   \n",
       "4          GEOEYE01            GEOEYE01  2.895928  2018-09-18 16:32:47+00:00   \n",
       "\n",
       "   off_nadir_angle  pan_resolution  sun_azimuth  sun_elevation  \\\n",
       "0         21.97336        0.351739    58.571484      71.182274   \n",
       "1         21.97336        0.351739    58.571484      71.182274   \n",
       "2         21.97336        0.351739    58.571484      71.182274   \n",
       "3         41.74134        0.722669   162.699550      57.024815   \n",
       "4         41.74134        0.722669   162.699550      57.024815   \n",
       "\n",
       "   target_azimuth            disaster  ...  \\\n",
       "0       314.29373   guatemala-volcano  ...   \n",
       "1       314.29373   guatemala-volcano  ...   \n",
       "2       314.29373   guatemala-volcano  ...   \n",
       "3        69.02214  hurricane-florence  ...   \n",
       "4        69.02214  hurricane-florence  ...   \n",
       "\n",
       "                                        img_name  \\\n",
       "0   guatemala-volcano_00000003_post_disaster.png   \n",
       "1   guatemala-volcano_00000003_post_disaster.png   \n",
       "2   guatemala-volcano_00000003_post_disaster.png   \n",
       "3  hurricane-florence_00000005_post_disaster.png   \n",
       "4  hurricane-florence_00000005_post_disaster.png   \n",
       "\n",
       "                                         map_polygon  \\\n",
       "0  POLYGON ((-90.83554484998086 14.43845885230631...   \n",
       "1  POLYGON ((-90.83658244456636 14.43748886352666...   \n",
       "2  POLYGON ((-90.83487803042956 14.43776515972186...   \n",
       "3  POLYGON ((-79.05237408501472 33.58644838741007...   \n",
       "4  POLYGON ((-79.05057793741786 33.58642007435035...   \n",
       "\n",
       "                            building_id  \\\n",
       "0  88703461-a33d-4327-9244-a0d4e2242ede   \n",
       "1  e168e405-3479-44ee-849a-7af2ed32dee1   \n",
       "2  9f8f8916-b6c5-4fa8-ab64-c8fd86eca035   \n",
       "3  624f417b-fd9f-4544-ba25-9ba2be361d27   \n",
       "4  557fbd1d-68bf-4776-a1a5-9bbd45cda227   \n",
       "\n",
       "                                       image_polygon  feature_type  \\\n",
       "0  POLYGON ((452.9629646916362 86.81005767060303,...      building   \n",
       "1  POLYGON ((226.8267143191367 307.8635026276182,...      building   \n",
       "2  POLYGON ((601.0923397346356 241.9779197994199,...      building   \n",
       "3  POLYGON ((43.56144524808627 0.0045224975870225...      building   \n",
       "4  POLYGON ((406.9497321265795 0.0095005985733089...      building   \n",
       "\n",
       "         damage dataset                     image_id is_pre_image  \\\n",
       "0  minor-damage    test   guatemala-volcano_00000003        False   \n",
       "1     destroyed    test   guatemala-volcano_00000003        False   \n",
       "2  minor-damage    test   guatemala-volcano_00000003        False   \n",
       "3     no-damage    test  hurricane-florence_00000005        False   \n",
       "4     no-damage    test  hurricane-florence_00000005        False   \n",
       "\n",
       "  is_post_image  \n",
       "0          True  \n",
       "1          True  \n",
       "2          True  \n",
       "3          True  \n",
       "4          True  \n",
       "\n",
       "[5 rows x 27 columns]"
      ]
     },
     "execution_count": 6,
     "metadata": {},
     "output_type": "execute_result"
    }
   ],
   "source": [
    "metadata_df=pd.read_csv(metadata_csv_path)\n",
    "metadata_df.head()"
   ]
  },
  {
   "cell_type": "markdown",
   "id": "10f42800-feaf-4516-ad95-798dcfa9a8f2",
   "metadata": {},
   "source": [
    "#### Filtering metadata to train, test and filtering for Hurricane Florence"
   ]
  },
  {
   "cell_type": "code",
   "execution_count": 13,
   "id": "eb945b63-1b0b-420d-ba79-9703844eee88",
   "metadata": {},
   "outputs": [
    {
     "name": "stdout",
     "output_type": "stream",
     "text": [
      "All disaster train records :  326606\n",
      "All disaster test records :  110086\n",
      "================================================ \n",
      "Hurricane disaster train records :  12918\n",
      "Hurricane disaster test records :  4546\n"
     ]
    }
   ],
   "source": [
    "all_metadata=metadata_df[['img_name', 'image_polygon','map_polygon', 'damage', 'building_id','disaster_type','disaster','is_post_image','dataset','width','height']]\n",
    "\n",
    "train_metadata = all_metadata.loc[all_metadata['dataset'] == 'train']\n",
    "test_metadata = all_metadata.loc[all_metadata['dataset'] == 'test' ]\n",
    "print(\"All disaster train records : \",len(train_metadata.index))\n",
    "print(\"All disaster test records : \",len(test_metadata.index))\n",
    "\n",
    "train_hurricane_metadata = train_metadata.loc[train_metadata['disaster'].isin(['hurricane-florence'])]\n",
    "test_hurricane_metadata = test_metadata.loc[test_metadata['disaster'].isin(['hurricane-florence'])]\n",
    "\n",
    "\n",
    "# train_hurricane_metadata = train_metadata.loc[train_metadata['disaster'].isin(['hurricane-florence', 'hurricane-harvey', 'hurricane-michael','hurricane-matthew'])]\n",
    "# test_hurricane_metadata = test_metadata.loc[test_metadata['disaster'].isin(['hurricane-florence', 'hurricane-harvey', 'hurricane-michael','hurricane-matthew'])]\n",
    "print(\"================================================ \")\n",
    "print(\"Hurricane disaster train records : \",len(train_hurricane_metadata.index))\n",
    "print(\"Hurricane disaster test records : \",len(test_hurricane_metadata.index))\n",
    "\n",
    "annotations=train_hurricane_metadata.groupby('img_name')['image_polygon'].apply(list).reset_index()\n",
    "polygons = annotations['image_polygon']\n"
   ]
  },
  {
   "cell_type": "markdown",
   "id": "c48c1326-33fc-4015-861b-2e945ff33240",
   "metadata": {},
   "source": [
    "### Helper Methods"
   ]
  },
  {
   "cell_type": "code",
   "execution_count": 7,
   "id": "4ecae008-9b2f-4041-9132-1c7f6f0f0048",
   "metadata": {},
   "outputs": [],
   "source": [
    "def get_centroid(image_wkt):\n",
    "    pnt= wkt.loads(image_wkt)\n",
    "    return pnt.centroid.coords[0]"
   ]
  },
  {
   "cell_type": "code",
   "execution_count": 8,
   "id": "5238d79b-f224-4221-9f8c-f9297ccbe6de",
   "metadata": {},
   "outputs": [],
   "source": [
    "def get_bbox(image_wkt):\n",
    "    bounds = wkt.loads(image_wkt).bounds\n",
    "    return box(bounds[0], bounds[1], bounds[2], bounds[3], ccw= True)\n",
    "\n",
    "def get_bounds_list(image_wkt):\n",
    "    bounds = wkt.loads(image_wkt).bounds\n",
    "    return [bounds[0], bounds[1], bounds[2], bounds[3]]\n"
   ]
  },
  {
   "cell_type": "code",
   "execution_count": 9,
   "id": "afdd28cf-ab6a-46d4-8c6d-16ef50f5c733",
   "metadata": {},
   "outputs": [],
   "source": [
    "def generate_point_mask_sam(img_wkt):\n",
    "    mask_predictor = SamPredictor(sam)\n",
    "    mask_predictor.set_image(sample_image)\n",
    "    \n",
    "    input_point = np.array([list(get_centroid(img_wkt))])\n",
    "    input_label = np.array([1])\n",
    "    \n",
    "    masks, scores, logits = mask_predictor.predict(\n",
    "    point_coords=input_point,\n",
    "    point_labels=input_label,\n",
    "    multimask_output=True,\n",
    "    )\n",
    "    return masks, scores, logits"
   ]
  },
  {
   "cell_type": "code",
   "execution_count": 10,
   "id": "d25a5bcd-ad8d-4091-bb7c-1c7bb39654a1",
   "metadata": {},
   "outputs": [],
   "source": [
    "def generate_bbox_mask_sam(img_wkt):\n",
    "    mask_predictor = SamPredictor(sam)\n",
    "    mask_predictor.set_image(sample_image)\n",
    "    \n",
    "    masks, scores, logits = mask_predictor.predict(\n",
    "    box= get_bbox(img_wkt),\n",
    "    multimask_output=True,\n",
    "    )\n",
    "    return masks, scores, logits"
   ]
  },
  {
   "cell_type": "code",
   "execution_count": 11,
   "id": "89ba65d1-7d88-4f48-8b58-c6a5b53c2bea",
   "metadata": {},
   "outputs": [],
   "source": [
    "def display_image_with_masks(image, masks):\n",
    "    num_masks = len(masks)\n",
    "\n",
    "    fig, axes = plt.subplots(1, num_masks + 1, figsize=(5, 5))\n",
    "    axes[0].imshow(image)\n",
    "    axes[0].set_title(\"Original Image\")\n",
    "    axes[0].axis('off')\n",
    "\n",
    "    for i, mask_np in enumerate(masks):\n",
    "        axes[i+1].imshow(mask_np, cmap='gray')\n",
    "        axes[i+1].set_title(f\"Mask {i+1}\")\n",
    "        axes[i+1].axis('off')\n",
    "\n",
    "    plt.tight_layout()\n",
    "    plt.show()"
   ]
  },
  {
   "cell_type": "code",
   "execution_count": 12,
   "id": "f6f41e9f-5620-4355-aeaf-a02de171b730",
   "metadata": {},
   "outputs": [],
   "source": [
    "def save_mask(mask_np, filename):\n",
    "    mask_image = Image.fromarray((mask_np * 255).astype(np.uint8))\n",
    "    mask_image.save(filename)"
   ]
  },
  {
   "cell_type": "code",
   "execution_count": 14,
   "id": "7dd95592-d555-40f5-a092-6ecd97142541",
   "metadata": {},
   "outputs": [
    {
     "data": {
      "text/plain": [
       "'POLYGON ((281.0476093321693 901.1731423407048, 315.5467743988966 930.7864763428433, 329.0194849627724 917.9062089219493, 333.6350931532248 921.9746513295001, 344.1762843471327 910.7757868407904, 305.7833194500403 875.8008068063064, 281.0476093321693 901.1731423407048))'"
      ]
     },
     "execution_count": 14,
     "metadata": {},
     "output_type": "execute_result"
    }
   ],
   "source": [
    "train_hurricane_metadata[train_hurricane_metadata.img_name == 'hurricane-florence_00000008_pre_disaster.png']['image_polygon'].iloc[4]"
   ]
  },
  {
   "cell_type": "code",
   "execution_count": 15,
   "id": "96b66bc8-ad60-4995-bd96-c47e2a82daf0",
   "metadata": {},
   "outputs": [
    {
     "data": {
      "text/plain": [
       "'POLYGON ((-79.04459649807326 33.65463574405655, -79.04442861452175 33.6545105395461, -79.0443607641207 33.65456276785402, -79.04433831315851 33.65454557625466, -79.04428512127575 33.65459107839318, -79.04447176420324 33.65473876788495, -79.04459649807326 33.65463574405655))'"
      ]
     },
     "execution_count": 15,
     "metadata": {},
     "output_type": "execute_result"
    }
   ],
   "source": [
    "train_hurricane_metadata[train_hurricane_metadata.img_name == 'hurricane-florence_00000008_pre_disaster.png']['map_polygon'].iloc[4]"
   ]
  },
  {
   "cell_type": "code",
   "execution_count": null,
   "id": "b32dbf4f-3957-482a-8bd6-42584d6d8801",
   "metadata": {},
   "outputs": [],
   "source": [
    "def extract_bboxes(mask):\n",
    "    \"\"\"Compute bounding boxes from masks.\n",
    "    mask: [height, width, num_instances]. Mask pixels are either 1 or 0.\n",
    "\n",
    "    Returns: bbox array [num_instances, (y1, x1, y2, x2)].\n",
    "    \"\"\"\n",
    "    boxes = np.zeros([mask.shape[-1], 4], dtype=np.int32)\n",
    "    for i in range(mask.shape[-1]):\n",
    "        m = mask[:, :, i]\n",
    "        # Bounding box.\n",
    "        horizontal_indicies = np.where(np.any(m, axis=0))[0]\n",
    "        vertical_indicies = np.where(np.any(m, axis=1))[0]\n",
    "        if horizontal_indicies.shape[0]:\n",
    "            x1, x2 = horizontal_indicies[[0, -1]]\n",
    "            y1, y2 = vertical_indicies[[0, -1]]\n",
    "            # x2 and y2 should not be part of the box. Increment by 1.\n",
    "            x2 += 1\n",
    "            y2 += 1\n",
    "        else:\n",
    "            # No mask for this instance. Might happen due to\n",
    "            # resizing or cropping. Set bbox to zeros\n",
    "            x1, x2, y1, y2 = 0, 0, 0, 0\n",
    "        boxes[i] = np.array([y1, x1, y2, x2])\n",
    "    return boxes.astype(np.int32)"
   ]
  },
  {
   "cell_type": "markdown",
   "id": "f1ff61cd-9955-485b-aa75-1aeca4790674",
   "metadata": {},
   "source": [
    "### General Segment Anything Model"
   ]
  },
  {
   "cell_type": "code",
   "execution_count": 16,
   "id": "7d65e738-0578-4bf3-90eb-26def5d8ab5d",
   "metadata": {},
   "outputs": [
    {
     "data": {
      "text/plain": [
       "Sam(\n",
       "  (image_encoder): ImageEncoderViT(\n",
       "    (patch_embed): PatchEmbed(\n",
       "      (proj): Conv2d(3, 1280, kernel_size=(16, 16), stride=(16, 16))\n",
       "    )\n",
       "    (blocks): ModuleList(\n",
       "      (0-31): 32 x Block(\n",
       "        (norm1): LayerNorm((1280,), eps=1e-06, elementwise_affine=True)\n",
       "        (attn): Attention(\n",
       "          (qkv): Linear(in_features=1280, out_features=3840, bias=True)\n",
       "          (proj): Linear(in_features=1280, out_features=1280, bias=True)\n",
       "        )\n",
       "        (norm2): LayerNorm((1280,), eps=1e-06, elementwise_affine=True)\n",
       "        (mlp): MLPBlock(\n",
       "          (lin1): Linear(in_features=1280, out_features=5120, bias=True)\n",
       "          (lin2): Linear(in_features=5120, out_features=1280, bias=True)\n",
       "          (act): GELU(approximate='none')\n",
       "        )\n",
       "      )\n",
       "    )\n",
       "    (neck): Sequential(\n",
       "      (0): Conv2d(1280, 256, kernel_size=(1, 1), stride=(1, 1), bias=False)\n",
       "      (1): LayerNorm2d()\n",
       "      (2): Conv2d(256, 256, kernel_size=(3, 3), stride=(1, 1), padding=(1, 1), bias=False)\n",
       "      (3): LayerNorm2d()\n",
       "    )\n",
       "  )\n",
       "  (prompt_encoder): PromptEncoder(\n",
       "    (pe_layer): PositionEmbeddingRandom()\n",
       "    (point_embeddings): ModuleList(\n",
       "      (0-3): 4 x Embedding(1, 256)\n",
       "    )\n",
       "    (not_a_point_embed): Embedding(1, 256)\n",
       "    (mask_downscaling): Sequential(\n",
       "      (0): Conv2d(1, 4, kernel_size=(2, 2), stride=(2, 2))\n",
       "      (1): LayerNorm2d()\n",
       "      (2): GELU(approximate='none')\n",
       "      (3): Conv2d(4, 16, kernel_size=(2, 2), stride=(2, 2))\n",
       "      (4): LayerNorm2d()\n",
       "      (5): GELU(approximate='none')\n",
       "      (6): Conv2d(16, 256, kernel_size=(1, 1), stride=(1, 1))\n",
       "    )\n",
       "    (no_mask_embed): Embedding(1, 256)\n",
       "  )\n",
       "  (mask_decoder): MaskDecoder(\n",
       "    (transformer): TwoWayTransformer(\n",
       "      (layers): ModuleList(\n",
       "        (0-1): 2 x TwoWayAttentionBlock(\n",
       "          (self_attn): Attention(\n",
       "            (q_proj): Linear(in_features=256, out_features=256, bias=True)\n",
       "            (k_proj): Linear(in_features=256, out_features=256, bias=True)\n",
       "            (v_proj): Linear(in_features=256, out_features=256, bias=True)\n",
       "            (out_proj): Linear(in_features=256, out_features=256, bias=True)\n",
       "          )\n",
       "          (norm1): LayerNorm((256,), eps=1e-05, elementwise_affine=True)\n",
       "          (cross_attn_token_to_image): Attention(\n",
       "            (q_proj): Linear(in_features=256, out_features=128, bias=True)\n",
       "            (k_proj): Linear(in_features=256, out_features=128, bias=True)\n",
       "            (v_proj): Linear(in_features=256, out_features=128, bias=True)\n",
       "            (out_proj): Linear(in_features=128, out_features=256, bias=True)\n",
       "          )\n",
       "          (norm2): LayerNorm((256,), eps=1e-05, elementwise_affine=True)\n",
       "          (mlp): MLPBlock(\n",
       "            (lin1): Linear(in_features=256, out_features=2048, bias=True)\n",
       "            (lin2): Linear(in_features=2048, out_features=256, bias=True)\n",
       "            (act): ReLU()\n",
       "          )\n",
       "          (norm3): LayerNorm((256,), eps=1e-05, elementwise_affine=True)\n",
       "          (norm4): LayerNorm((256,), eps=1e-05, elementwise_affine=True)\n",
       "          (cross_attn_image_to_token): Attention(\n",
       "            (q_proj): Linear(in_features=256, out_features=128, bias=True)\n",
       "            (k_proj): Linear(in_features=256, out_features=128, bias=True)\n",
       "            (v_proj): Linear(in_features=256, out_features=128, bias=True)\n",
       "            (out_proj): Linear(in_features=128, out_features=256, bias=True)\n",
       "          )\n",
       "        )\n",
       "      )\n",
       "      (final_attn_token_to_image): Attention(\n",
       "        (q_proj): Linear(in_features=256, out_features=128, bias=True)\n",
       "        (k_proj): Linear(in_features=256, out_features=128, bias=True)\n",
       "        (v_proj): Linear(in_features=256, out_features=128, bias=True)\n",
       "        (out_proj): Linear(in_features=128, out_features=256, bias=True)\n",
       "      )\n",
       "      (norm_final_attn): LayerNorm((256,), eps=1e-05, elementwise_affine=True)\n",
       "    )\n",
       "    (iou_token): Embedding(1, 256)\n",
       "    (mask_tokens): Embedding(4, 256)\n",
       "    (output_upscaling): Sequential(\n",
       "      (0): ConvTranspose2d(256, 64, kernel_size=(2, 2), stride=(2, 2))\n",
       "      (1): LayerNorm2d()\n",
       "      (2): GELU(approximate='none')\n",
       "      (3): ConvTranspose2d(64, 32, kernel_size=(2, 2), stride=(2, 2))\n",
       "      (4): GELU(approximate='none')\n",
       "    )\n",
       "    (output_hypernetworks_mlps): ModuleList(\n",
       "      (0-3): 4 x MLP(\n",
       "        (layers): ModuleList(\n",
       "          (0-1): 2 x Linear(in_features=256, out_features=256, bias=True)\n",
       "          (2): Linear(in_features=256, out_features=32, bias=True)\n",
       "        )\n",
       "      )\n",
       "    )\n",
       "    (iou_prediction_head): MLP(\n",
       "      (layers): ModuleList(\n",
       "        (0-1): 2 x Linear(in_features=256, out_features=256, bias=True)\n",
       "        (2): Linear(in_features=256, out_features=4, bias=True)\n",
       "      )\n",
       "    )\n",
       "  )\n",
       ")"
      ]
     },
     "execution_count": 16,
     "metadata": {},
     "output_type": "execute_result"
    }
   ],
   "source": [
    "sam_checkpoint = os.path.join(SAM_CKPT_DIR,\"sam_vit_h_4b8939.pth\")\n",
    "model_type = \"vit_h\"\n",
    "device = 'cuda' if torch.cuda.is_available() else 'cpu'\n",
    "\n",
    "sam = sam_model_registry[model_type](checkpoint=sam_checkpoint)\n",
    "sam.to(device=device)"
   ]
  },
  {
   "cell_type": "code",
   "execution_count": 17,
   "id": "ddfb67ce-d524-4a81-8ed5-fd98d4c34817",
   "metadata": {},
   "outputs": [],
   "source": [
    "sample_image = cv2.imread(os.path.join(DATA_DIR,'hurricane-florence/images/hurricane-florence_00000008_pre_disaster.png'))\n",
    "sample_image = cv2.cvtColor(sample_image, cv2.COLOR_BGR2RGB)\n",
    "\n",
    "img_wkt='POLYGON ((281.0476093321693 901.1731423407048, 315.5467743988966 930.7864763428433, 329.0194849627724 917.9062089219493, 333.6350931532248 921.9746513295001, 344.1762843471327 910.7757868407904, 305.7833194500403 875.8008068063064, 281.0476093321693 901.1731423407048))'\n",
    "masks, scores, logits = generate_point_mask_sam(img_wkt)\n",
    "save_mask(masks[np.argmax(scores)],MASK_OUTPUT_DIR+'hurricane-florence_00000008_pre_disaster.png')\n"
   ]
  },
  {
   "cell_type": "code",
   "execution_count": 18,
   "id": "ca70a47c-3a47-4b94-98f6-cb453e0374e5",
   "metadata": {},
   "outputs": [
    {
     "data": {
      "image/svg+xml": [
       "<svg xmlns=\"http://www.w3.org/2000/svg\" xmlns:xlink=\"http://www.w3.org/1999/xlink\" width=\"100.0\" height=\"100.0\" viewBox=\"278.5224623315708 873.2756598057078 68.17896901616041 60.035963537734006\" preserveAspectRatio=\"xMinYMin meet\"><g transform=\"matrix(1,0,0,-1,0,1806.5872831491497)\"><path fill-rule=\"evenodd\" fill=\"#66cc99\" stroke=\"#555555\" stroke-width=\"1.3635793803232081\" opacity=\"0.6\" d=\"M 344.1762843471327,875.8008068063064 L 344.1762843471327,930.7864763428433 L 281.0476093321693,930.7864763428433 L 281.0476093321693,875.8008068063064 L 344.1762843471327,875.8008068063064 z\" /></g></svg>"
      ],
      "text/plain": [
       "<POLYGON ((344.176 875.801, 344.176 930.786, 281.048 930.786, 281.048 875.80...>"
      ]
     },
     "execution_count": 18,
     "metadata": {},
     "output_type": "execute_result"
    }
   ],
   "source": [
    "poly= wkt.loads('POLYGON ((281.0476093321693 901.1731423407048, 315.5467743988966 930.7864763428433, 329.0194849627724 917.9062089219493, 333.6350931532248 921.9746513295001, 344.1762843471327 910.7757868407904, 305.7833194500403 875.8008068063064, 281.0476093321693 901.1731423407048))')\n",
    "bounds = poly.bounds\n",
    "box(bounds[0], bounds[1], bounds[2], bounds[3], ccw= True)"
   ]
  },
  {
   "cell_type": "code",
   "execution_count": null,
   "id": "b36c34d0-0b93-41f1-837d-be5aeedd1193",
   "metadata": {},
   "outputs": [],
   "source": [
    "# sample_image = cv2.imread(DATA_DIR+'hurricane-florence/images/hurricane-florence_00000008_pre_disaster.png')\n",
    "# sample_image = cv2.cvtColor(sample_image, cv2.COLOR_BGR2RGB)\n",
    "# img_wkt='POLYGON ((281.0476093321693 901.1731423407048, 315.5467743988966 930.7864763428433, 329.0194849627724 917.9062089219493, 333.6350931532248 921.9746513295001, 344.1762843471327 910.7757868407904, 305.7833194500403 875.8008068063064, 281.0476093321693 901.1731423407048))'\n",
    "# masks, scores, logits = generate_bbox_mask_sam(img_wkt)\n",
    "# save_mask(masks[np.argmax(scores)],MASK_OUTPUT_DIR+'hurricane-florence_00000008_pre_disaster.png')"
   ]
  },
  {
   "cell_type": "markdown",
   "id": "7d8a289f-720a-4a27-84d9-5f7b5ac81519",
   "metadata": {},
   "source": [
    "#### Generating Individual Masks for Hurricane-florence - Using General SAM"
   ]
  },
  {
   "cell_type": "markdown",
   "id": "63c2d22b-43d8-4b72-a430-8fffbccadddb",
   "metadata": {},
   "source": [
    "- Tried using general SAM for generating Mask and it did not do a great Job.\n",
    "- Mask generated were of not good quality\n",
    "- So Switching to a pre-trained version of SAM - Segement Anything Geo Module"
   ]
  },
  {
   "cell_type": "code",
   "execution_count": 19,
   "id": "4be173a5-b0b9-4c33-8643-267a9f4e6dc3",
   "metadata": {},
   "outputs": [],
   "source": [
    "def generate_and_save_mask_by_disaster(data_dir, disaster_name,  annotations, meta_file, mask_output_dir):\n",
    "    image_files_list = list(annotations['img_name'])\n",
    "\n",
    "    for img_name in image_files_list:\n",
    "        sample_image = cv2.imread(data_dir + disaster_name + '/images/'+ img_name)\n",
    "        sample_image = cv2.cvtColor(sample_image, cv2.COLOR_BGR2RGB)\n",
    "        images_df = meta_file[meta_file['img_name'] == img_name]\n",
    "        for idx, img_df in enumerate(images_df['image_polygon']):\n",
    "            masks, scores, logits = generate_point_mask_sam(img_df)\n",
    "            mask_name = img_name.strip('.png')+'_'+images_df.iloc[idx]['building_id']+'.png'\n",
    "            save_mask(masks[np.argmax(scores)],mask_output_dir+mask_name)\n",
    "    print(\"Finished mask creation for disaster \",  disaster_name)       "
   ]
  },
  {
   "cell_type": "code",
   "execution_count": null,
   "id": "334d134e-186b-4004-bff4-63a51553d6ab",
   "metadata": {},
   "outputs": [],
   "source": [
    "generate_and_save_mask_by_disaster(DATA_DIR,'hurricane-florence',annotations, train_hurricane_metadata, MASK_OUTPUT_DIR)"
   ]
  },
  {
   "cell_type": "markdown",
   "id": "b06896f8-17f8-4386-8287-cff922f021dd",
   "metadata": {},
   "source": [
    "### Segment Anything GEO MODULE"
   ]
  },
  {
   "cell_type": "code",
   "execution_count": 71,
   "id": "f427aad3-bcc5-41cf-9729-fa8fb968bbe9",
   "metadata": {},
   "outputs": [
    {
     "name": "stdout",
     "output_type": "stream",
     "text": [
      "Downloaded image 1/4\n",
      "Downloaded image 2/4\n",
      "Downloaded image 3/4\n",
      "Downloaded image 4/4\n",
      "Saving GeoTIFF. Please wait...\n",
      "Image saved to /Users/yaminigotimukul/DataScience/Berekley/Semesters/Spring_2024/repo/alivio/data/xview_building_damage/train/sample/hurricane-florence/tifs/hurricane-florence_00000008_pre_disaster.tif\n"
     ]
    }
   ],
   "source": [
    "#Sample map_wkt\n",
    "map_wkt='POLYGON ((-79.04459649807326 33.65463574405655, -79.04442861452175 33.6545105395461, -79.0443607641207 33.65456276785402, -79.04433831315851 33.65454557625466, -79.04428512127575 33.65459107839318, -79.04447176420324 33.65473876788495, -79.04459649807326 33.65463574405655))'\n",
    "\n",
    "sample_image = cv2.imread(os.path.join(DATA_DIR,'hurricane-florence/images/hurricane-florence_00000008_pre_disaster.png'))\n",
    "# Converting the image to tif model\n",
    "sample_image_tif=cv2.imwrite(os.path.join(DATA_DIR,'hurricane-florence/tifs/hurricane-florence_00000008_pre_disaster.tif'),sample_image)\n",
    "image=os.path.join(DATA_DIR,'hurricane-florence/tifs/hurricane-florence_00000008_pre_disaster.tif')\n",
    "\n",
    "tms_to_geotiff(output=image, bbox=get_bounds_list(map_wkt), zoom=20, source='SATELLITE', crs='EPSG:3857', overwrite=True)\n",
    "\n",
    "sam_geo = SamGeo(\n",
    "    checkpoint=sam_checkpoint,\n",
    "    model_type=model_type,\n",
    "    device=device,\n",
    "    erosion_kernel=(3, 3),\n",
    "    mask_multiplier=255,\n",
    "    sam_kwargs=None,\n",
    ")"
   ]
  },
  {
   "cell_type": "markdown",
   "id": "10782796-f1c5-4592-80ba-e1c414ed94b3",
   "metadata": {},
   "source": [
    "### Loading the Leaf Map with the Segmentation for a sample building"
   ]
  },
  {
   "cell_type": "code",
   "execution_count": 72,
   "id": "473d593e-da35-4995-aa89-7ba98f1f7b7e",
   "metadata": {
    "scrolled": true
   },
   "outputs": [
    {
     "data": {
      "application/vnd.jupyter.widget-view+json": {
       "model_id": "9831610b94fe40d1b47be600e68d0bc4",
       "version_major": 2,
       "version_minor": 0
      },
      "text/plain": [
       "Map(center=[-79.04444385070549, 33.65462096649966], controls=(ZoomControl(options=['position', 'zoom_in_text',…"
      ]
     },
     "execution_count": 72,
     "metadata": {},
     "output_type": "execute_result"
    }
   ],
   "source": [
    "cent = get_centroid(map_wkt)\n",
    "m = leafmap.Map(center=[cent[0], cent[1]], zoom=19)\n",
    "m.add_basemap(\"SATELLITE\")\n",
    "m.layers[-1].visible = False  # turn off the basemap\n",
    "m.add_raster(image, layer_name=\"Image\")\n",
    "m"
   ]
  },
  {
   "cell_type": "markdown",
   "id": "c861cc8d-06e2-4f9a-8c83-18e99e37c512",
   "metadata": {},
   "source": [
    "#### Segment the image\n",
    "\n",
    "\n",
    "Generate the Mask for and input image and saves it in the output directory"
   ]
  },
  {
   "cell_type": "code",
   "execution_count": 74,
   "id": "f90bd531-a670-4a42-b02c-e73ebf44852a",
   "metadata": {},
   "outputs": [
    {
     "name": "stderr",
     "output_type": "stream",
     "text": [
      "100%|█████████████████████████████████████████████| 1/1 [00:30<00:00, 30.46s/it]\n"
     ]
    }
   ],
   "source": [
    "output_dir = os.path.join(ROOT_DIR,'data/xview_building_damage/train/sam_geo/masks','hurricane-florence_00000008_pre_disaster.tif' )\n",
    "\n",
    "sam_geo.generate(\n",
    "    output=output_dir, source=image, batch=True, foreground=True, erosion_kernel=(3, 3), mask_multiplier=255\n",
    ")"
   ]
  },
  {
   "cell_type": "markdown",
   "id": "d3ac49dc-07e8-4075-991b-91c48db47731",
   "metadata": {},
   "source": [
    "#### Polygonize the raster data"
   ]
  },
  {
   "cell_type": "code",
   "execution_count": 75,
   "id": "0a5e4755-e75c-4d9b-a604-f29095ab5165",
   "metadata": {},
   "outputs": [],
   "source": [
    "vector = os.path.join(ROOT_DIR,'data/xview_building_damage/train/sam_geo/geo_pkgs','hurricane-florence_00000008_pre_disaster.gpkg' )\n",
    "sam_geo.tiff_to_gpkg(mask, vector, simplify_tolerance=None)"
   ]
  },
  {
   "cell_type": "markdown",
   "id": "f93af060-9f0c-42a4-aeb4-a5e3a15fcf3c",
   "metadata": {},
   "source": [
    "#### Generate the shape file"
   ]
  },
  {
   "cell_type": "code",
   "execution_count": 49,
   "id": "b59f56e7-b526-461c-bd13-78261951c471",
   "metadata": {},
   "outputs": [],
   "source": [
    "shapefile = os.path.join(ROOT_DIR,'data/xview_building_damage/train/sam_geo/shape_files','hurricane-florence_00000008_pre_disaster.shp' )\n",
    "sam_geo.tiff_to_vector(mask, shapefile)"
   ]
  },
  {
   "cell_type": "markdown",
   "id": "cc006f5c-7eb9-4921-a183-63084d4e1534",
   "metadata": {},
   "source": [
    "#### Visualize the results"
   ]
  },
  {
   "cell_type": "code",
   "execution_count": 76,
   "id": "35942e48-93fd-4ccf-928b-74ccb5f447d0",
   "metadata": {
    "scrolled": true
   },
   "outputs": [
    {
     "data": {
      "application/vnd.jupyter.widget-view+json": {
       "model_id": "9831610b94fe40d1b47be600e68d0bc4",
       "version_major": 2,
       "version_minor": 0
      },
      "text/plain": [
       "Map(bottom=26885679.0, center=[33.654624999999996, -79.04444050000001], controls=(ZoomControl(options=['positi…"
      ]
     },
     "execution_count": 76,
     "metadata": {},
     "output_type": "execute_result"
    }
   ],
   "source": [
    "style = {\n",
    "    \"color\": \"#3388ff\",\n",
    "    \"weight\": 2,\n",
    "    \"fillColor\": \"#7c4185\",\n",
    "    \"fillOpacity\": 0.5,\n",
    "}\n",
    "m.add_vector(vector, layer_name=\"Vector\", style=style)\n",
    "m"
   ]
  },
  {
   "cell_type": "markdown",
   "id": "0a665866-6685-4a08-8ec2-95bbbca02dd9",
   "metadata": {},
   "source": [
    "## Model - VIT (Vision Transformer)"
   ]
  },
  {
   "cell_type": "markdown",
   "id": "4120da05-8c2c-46fa-88f5-8976f178cec9",
   "metadata": {},
   "source": [
    "The Vision Transformer (ViT) is basically BERT, but applied to images. It attains excellent results compared to state-of-the-art convolutional networks. Note that there have been made some improvements already (such as DeiT by Facebook AI = Data Efficient Image Transformers), which I also ported to HuggingFace Transformers.\n",
    "\n",
    "Each image is split into a sequence of non-overlapping patches (of resolutions like 16x16 or 32x32), which are linearly embedded. This is also known as a convolution operation according to some ;) next, absolute position embeddings are added, and sent through a stack of encoder layers. A [CLS] token is added at the beginning in order to get a representation of the entire image. A linear classification head can be added on top of the final hidden state in order to classify images."
   ]
  },
  {
   "cell_type": "markdown",
   "id": "a86a5ed5-56be-4225-8964-44a12906214c",
   "metadata": {},
   "source": [
    "### Loading the Vision Transformer"
   ]
  },
  {
   "cell_type": "code",
   "execution_count": 29,
   "id": "05026c33-79ee-4a1f-88b9-4ef46ae6ee41",
   "metadata": {},
   "outputs": [
    {
     "data": {
      "application/vnd.jupyter.widget-view+json": {
       "model_id": "c632f79a27624677bb32a27ddc461bcf",
       "version_major": 2,
       "version_minor": 0
      },
      "text/plain": [
       "config.json:   0%|          | 0.00/69.7k [00:00<?, ?B/s]"
      ]
     },
     "metadata": {},
     "output_type": "display_data"
    },
    {
     "data": {
      "application/vnd.jupyter.widget-view+json": {
       "model_id": "dfaa3f5421c641ac88245729012492ad",
       "version_major": 2,
       "version_minor": 0
      },
      "text/plain": [
       "model.safetensors:   0%|          | 0.00/346M [00:00<?, ?B/s]"
      ]
     },
     "metadata": {},
     "output_type": "display_data"
    },
    {
     "data": {
      "text/plain": [
       "ViTForImageClassification(\n",
       "  (vit): ViTModel(\n",
       "    (embeddings): ViTEmbeddings(\n",
       "      (patch_embeddings): ViTPatchEmbeddings(\n",
       "        (projection): Conv2d(3, 768, kernel_size=(16, 16), stride=(16, 16))\n",
       "      )\n",
       "      (dropout): Dropout(p=0.0, inplace=False)\n",
       "    )\n",
       "    (encoder): ViTEncoder(\n",
       "      (layer): ModuleList(\n",
       "        (0-11): 12 x ViTLayer(\n",
       "          (attention): ViTAttention(\n",
       "            (attention): ViTSelfAttention(\n",
       "              (query): Linear(in_features=768, out_features=768, bias=True)\n",
       "              (key): Linear(in_features=768, out_features=768, bias=True)\n",
       "              (value): Linear(in_features=768, out_features=768, bias=True)\n",
       "              (dropout): Dropout(p=0.0, inplace=False)\n",
       "            )\n",
       "            (output): ViTSelfOutput(\n",
       "              (dense): Linear(in_features=768, out_features=768, bias=True)\n",
       "              (dropout): Dropout(p=0.0, inplace=False)\n",
       "            )\n",
       "          )\n",
       "          (intermediate): ViTIntermediate(\n",
       "            (dense): Linear(in_features=768, out_features=3072, bias=True)\n",
       "            (intermediate_act_fn): GELUActivation()\n",
       "          )\n",
       "          (output): ViTOutput(\n",
       "            (dense): Linear(in_features=3072, out_features=768, bias=True)\n",
       "            (dropout): Dropout(p=0.0, inplace=False)\n",
       "          )\n",
       "          (layernorm_before): LayerNorm((768,), eps=1e-12, elementwise_affine=True)\n",
       "          (layernorm_after): LayerNorm((768,), eps=1e-12, elementwise_affine=True)\n",
       "        )\n",
       "      )\n",
       "    )\n",
       "    (layernorm): LayerNorm((768,), eps=1e-12, elementwise_affine=True)\n",
       "  )\n",
       "  (classifier): Linear(in_features=768, out_features=1000, bias=True)\n",
       ")"
      ]
     },
     "execution_count": 29,
     "metadata": {},
     "output_type": "execute_result"
    }
   ],
   "source": [
    "model = ViTForImageClassification.from_pretrained('google/vit-base-patch16-224')\n",
    "model.to(device)"
   ]
  },
  {
   "cell_type": "code",
   "execution_count": 79,
   "id": "bb3ff254-53cd-4a5a-9593-68a312c87a07",
   "metadata": {},
   "outputs": [
    {
     "name": "stdout",
     "output_type": "stream",
     "text": [
      "{'compression': 'tiff_adobe_deflate', 'dpi': (1, 1), 'resolution': (1, 1)}\n"
     ]
    },
    {
     "data": {
      "image/png": "[encoded data removed]",
      "text/plain": [
       "<PIL.TiffImagePlugin.TiffImageFile image mode=RGB size=232x204>"
      ]
     },
     "execution_count": 79,
     "metadata": {},
     "output_type": "execute_result"
    }
   ],
   "source": [
    "aws_env = False\n",
    "loaded_image =  None\n",
    "sample_image_path=os.path.join(ROOT_DIR,'data/xview_building_damage/train/sam_geo/masks','hurricane-florence_00000008_pre_disaster.tif')\n",
    "if aws_env:\n",
    "    url = 'http://images.cocodataset.org/val2017/000000039769.jpg'\n",
    "    loaded_image = Image.open(requests.get(url, stream=True).raw)\n",
    "else:\n",
    "    loaded_image = Image.open(image)\n",
    "\n",
    "print(loaded_image.info)\n",
    "loaded_image\n"
   ]
  },
  {
   "cell_type": "code",
   "execution_count": 81,
   "id": "330840f8-0e23-4f3a-973b-e4c738e82e1e",
   "metadata": {},
   "outputs": [],
   "source": [
    "processor = ViTImageProcessor.from_pretrained('google/vit-base-patch16-224')\n",
    "inputs = processor(images=loaded_image, return_tensors=\"pt\").to(device)\n",
    "pixel_values = inputs.pixel_values"
   ]
  },
  {
   "cell_type": "code",
   "execution_count": 83,
   "id": "568638d6-e2b4-4da2-8422-e4ce8e5ef20c",
   "metadata": {},
   "outputs": [
    {
     "name": "stdout",
     "output_type": "stream",
     "text": [
      "torch.Size([1, 3, 224, 224])\n"
     ]
    }
   ],
   "source": [
    "print(pixel_values.shape)"
   ]
  },
  {
   "cell_type": "markdown",
   "id": "f0104cce-0b1a-47f6-a21f-a8c6d21082c6",
   "metadata": {},
   "source": [
    "### Forward pass"
   ]
  },
  {
   "cell_type": "code",
   "execution_count": 84,
   "id": "84d2fd1b-5707-4935-b8fb-cf971506d063",
   "metadata": {},
   "outputs": [
    {
     "data": {
      "text/plain": [
       "torch.Size([1, 1000])"
      ]
     },
     "execution_count": 84,
     "metadata": {},
     "output_type": "execute_result"
    }
   ],
   "source": [
    "with torch.no_grad():\n",
    "  outputs = model(pixel_values)\n",
    "logits = outputs.logits\n",
    "logits.shape"
   ]
  },
  {
   "cell_type": "code",
   "execution_count": 85,
   "id": "d017c752-15f6-425a-9d92-b9ec23921d13",
   "metadata": {},
   "outputs": [
    {
     "name": "stdout",
     "output_type": "stream",
     "text": [
      "Predicted class: solar dish, solar collector, solar furnace\n"
     ]
    }
   ],
   "source": [
    "prediction = logits.argmax(-1)\n",
    "print(\"Predicted class:\", model.config.id2label[prediction.item()])"
   ]
  }
 ],
 "metadata": {
  "kernelspec": {
   "display_name": "Python 3 (ipykernel)",
   "language": "python",
   "name": "python3"
  },
  "language_info": {
   "codemirror_mode": {
    "name": "ipython",
    "version": 3
   },
   "file_extension": ".py",
   "mimetype": "text/x-python",
   "name": "python",
   "nbconvert_exporter": "python",
   "pygments_lexer": "ipython3",
   "version": "3.10.13"
  }
 },
 "nbformat": 4,
 "nbformat_minor": 5
}
