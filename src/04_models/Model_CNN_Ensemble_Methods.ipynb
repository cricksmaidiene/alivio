{
  "cells": [
    {
      "cell_type": "markdown",
      "source": [],
      "metadata": {
        "id": "0h4diMXjjiiY"
      },
      "id": "0h4diMXjjiiY"
    },
    {
      "cell_type": "code",
      "execution_count": 3,
      "metadata": {
        "colab": {
          "base_uri": "https://localhost:8080/"
        },
        "id": "m3LuGhWabS9E",
        "outputId": "ae6e4167-1553-45b0-c82f-ab7e6d5c0b44"
      },
      "outputs": [
        {
          "output_type": "stream",
          "name": "stdout",
          "text": [
            "Requirement already satisfied: torchensemble in /usr/local/lib/python3.10/dist-packages (0.1.9)\n",
            "Requirement already satisfied: torch>=1.4.0 in /usr/local/lib/python3.10/dist-packages (from torchensemble) (2.2.1+cu121)\n",
            "Requirement already satisfied: torchvision>=0.2.2 in /usr/local/lib/python3.10/dist-packages (from torchensemble) (0.17.1+cu121)\n",
            "Requirement already satisfied: scikit-learn>=0.23.0 in /usr/local/lib/python3.10/dist-packages (from torchensemble) (1.2.2)\n",
            "Requirement already satisfied: numpy>=1.17.3 in /usr/local/lib/python3.10/dist-packages (from scikit-learn>=0.23.0->torchensemble) (1.25.2)\n",
            "Requirement already satisfied: scipy>=1.3.2 in /usr/local/lib/python3.10/dist-packages (from scikit-learn>=0.23.0->torchensemble) (1.11.4)\n",
            "Requirement already satisfied: joblib>=1.1.1 in /usr/local/lib/python3.10/dist-packages (from scikit-learn>=0.23.0->torchensemble) (1.3.2)\n",
            "Requirement already satisfied: threadpoolctl>=2.0.0 in /usr/local/lib/python3.10/dist-packages (from scikit-learn>=0.23.0->torchensemble) (3.3.0)\n",
            "Requirement already satisfied: filelock in /usr/local/lib/python3.10/dist-packages (from torch>=1.4.0->torchensemble) (3.13.1)\n",
            "Requirement already satisfied: typing-extensions>=4.8.0 in /usr/local/lib/python3.10/dist-packages (from torch>=1.4.0->torchensemble) (4.10.0)\n",
            "Requirement already satisfied: sympy in /usr/local/lib/python3.10/dist-packages (from torch>=1.4.0->torchensemble) (1.12)\n",
            "Requirement already satisfied: networkx in /usr/local/lib/python3.10/dist-packages (from torch>=1.4.0->torchensemble) (3.2.1)\n",
            "Requirement already satisfied: jinja2 in /usr/local/lib/python3.10/dist-packages (from torch>=1.4.0->torchensemble) (3.1.3)\n",
            "Requirement already satisfied: fsspec in /usr/local/lib/python3.10/dist-packages (from torch>=1.4.0->torchensemble) (2023.6.0)\n",
            "Requirement already satisfied: nvidia-cuda-nvrtc-cu12==12.1.105 in /usr/local/lib/python3.10/dist-packages (from torch>=1.4.0->torchensemble) (12.1.105)\n",
            "Requirement already satisfied: nvidia-cuda-runtime-cu12==12.1.105 in /usr/local/lib/python3.10/dist-packages (from torch>=1.4.0->torchensemble) (12.1.105)\n",
            "Requirement already satisfied: nvidia-cuda-cupti-cu12==12.1.105 in /usr/local/lib/python3.10/dist-packages (from torch>=1.4.0->torchensemble) (12.1.105)\n",
            "Requirement already satisfied: nvidia-cudnn-cu12==8.9.2.26 in /usr/local/lib/python3.10/dist-packages (from torch>=1.4.0->torchensemble) (8.9.2.26)\n",
            "Requirement already satisfied: nvidia-cublas-cu12==12.1.3.1 in /usr/local/lib/python3.10/dist-packages (from torch>=1.4.0->torchensemble) (12.1.3.1)\n",
            "Requirement already satisfied: nvidia-cufft-cu12==11.0.2.54 in /usr/local/lib/python3.10/dist-packages (from torch>=1.4.0->torchensemble) (11.0.2.54)\n",
            "Requirement already satisfied: nvidia-curand-cu12==10.3.2.106 in /usr/local/lib/python3.10/dist-packages (from torch>=1.4.0->torchensemble) (10.3.2.106)\n",
            "Requirement already satisfied: nvidia-cusolver-cu12==11.4.5.107 in /usr/local/lib/python3.10/dist-packages (from torch>=1.4.0->torchensemble) (11.4.5.107)\n",
            "Requirement already satisfied: nvidia-cusparse-cu12==12.1.0.106 in /usr/local/lib/python3.10/dist-packages (from torch>=1.4.0->torchensemble) (12.1.0.106)\n",
            "Requirement already satisfied: nvidia-nccl-cu12==2.19.3 in /usr/local/lib/python3.10/dist-packages (from torch>=1.4.0->torchensemble) (2.19.3)\n",
            "Requirement already satisfied: nvidia-nvtx-cu12==12.1.105 in /usr/local/lib/python3.10/dist-packages (from torch>=1.4.0->torchensemble) (12.1.105)\n",
            "Requirement already satisfied: triton==2.2.0 in /usr/local/lib/python3.10/dist-packages (from torch>=1.4.0->torchensemble) (2.2.0)\n",
            "Requirement already satisfied: nvidia-nvjitlink-cu12 in /usr/local/lib/python3.10/dist-packages (from nvidia-cusolver-cu12==11.4.5.107->torch>=1.4.0->torchensemble) (12.4.99)\n",
            "Requirement already satisfied: pillow!=8.3.*,>=5.3.0 in /usr/local/lib/python3.10/dist-packages (from torchvision>=0.2.2->torchensemble) (9.4.0)\n",
            "Requirement already satisfied: MarkupSafe>=2.0 in /usr/local/lib/python3.10/dist-packages (from jinja2->torch>=1.4.0->torchensemble) (2.1.5)\n",
            "Requirement already satisfied: mpmath>=0.19 in /usr/local/lib/python3.10/dist-packages (from sympy->torch>=1.4.0->torchensemble) (1.3.0)\n",
            "Requirement already satisfied: torchmetrics in /usr/local/lib/python3.10/dist-packages (1.3.2)\n",
            "Requirement already satisfied: numpy>1.20.0 in /usr/local/lib/python3.10/dist-packages (from torchmetrics) (1.25.2)\n",
            "Requirement already satisfied: packaging>17.1 in /usr/local/lib/python3.10/dist-packages (from torchmetrics) (24.0)\n",
            "Requirement already satisfied: torch>=1.10.0 in /usr/local/lib/python3.10/dist-packages (from torchmetrics) (2.2.1+cu121)\n",
            "Requirement already satisfied: lightning-utilities>=0.8.0 in /usr/local/lib/python3.10/dist-packages (from torchmetrics) (0.10.1)\n",
            "Requirement already satisfied: setuptools in /usr/local/lib/python3.10/dist-packages (from lightning-utilities>=0.8.0->torchmetrics) (67.7.2)\n",
            "Requirement already satisfied: typing-extensions in /usr/local/lib/python3.10/dist-packages (from lightning-utilities>=0.8.0->torchmetrics) (4.10.0)\n",
            "Requirement already satisfied: filelock in /usr/local/lib/python3.10/dist-packages (from torch>=1.10.0->torchmetrics) (3.13.1)\n",
            "Requirement already satisfied: sympy in /usr/local/lib/python3.10/dist-packages (from torch>=1.10.0->torchmetrics) (1.12)\n",
            "Requirement already satisfied: networkx in /usr/local/lib/python3.10/dist-packages (from torch>=1.10.0->torchmetrics) (3.2.1)\n",
            "Requirement already satisfied: jinja2 in /usr/local/lib/python3.10/dist-packages (from torch>=1.10.0->torchmetrics) (3.1.3)\n",
            "Requirement already satisfied: fsspec in /usr/local/lib/python3.10/dist-packages (from torch>=1.10.0->torchmetrics) (2023.6.0)\n",
            "Requirement already satisfied: nvidia-cuda-nvrtc-cu12==12.1.105 in /usr/local/lib/python3.10/dist-packages (from torch>=1.10.0->torchmetrics) (12.1.105)\n",
            "Requirement already satisfied: nvidia-cuda-runtime-cu12==12.1.105 in /usr/local/lib/python3.10/dist-packages (from torch>=1.10.0->torchmetrics) (12.1.105)\n",
            "Requirement already satisfied: nvidia-cuda-cupti-cu12==12.1.105 in /usr/local/lib/python3.10/dist-packages (from torch>=1.10.0->torchmetrics) (12.1.105)\n",
            "Requirement already satisfied: nvidia-cudnn-cu12==8.9.2.26 in /usr/local/lib/python3.10/dist-packages (from torch>=1.10.0->torchmetrics) (8.9.2.26)\n",
            "Requirement already satisfied: nvidia-cublas-cu12==12.1.3.1 in /usr/local/lib/python3.10/dist-packages (from torch>=1.10.0->torchmetrics) (12.1.3.1)\n",
            "Requirement already satisfied: nvidia-cufft-cu12==11.0.2.54 in /usr/local/lib/python3.10/dist-packages (from torch>=1.10.0->torchmetrics) (11.0.2.54)\n",
            "Requirement already satisfied: nvidia-curand-cu12==10.3.2.106 in /usr/local/lib/python3.10/dist-packages (from torch>=1.10.0->torchmetrics) (10.3.2.106)\n",
            "Requirement already satisfied: nvidia-cusolver-cu12==11.4.5.107 in /usr/local/lib/python3.10/dist-packages (from torch>=1.10.0->torchmetrics) (11.4.5.107)\n",
            "Requirement already satisfied: nvidia-cusparse-cu12==12.1.0.106 in /usr/local/lib/python3.10/dist-packages (from torch>=1.10.0->torchmetrics) (12.1.0.106)\n",
            "Requirement already satisfied: nvidia-nccl-cu12==2.19.3 in /usr/local/lib/python3.10/dist-packages (from torch>=1.10.0->torchmetrics) (2.19.3)\n",
            "Requirement already satisfied: nvidia-nvtx-cu12==12.1.105 in /usr/local/lib/python3.10/dist-packages (from torch>=1.10.0->torchmetrics) (12.1.105)\n",
            "Requirement already satisfied: triton==2.2.0 in /usr/local/lib/python3.10/dist-packages (from torch>=1.10.0->torchmetrics) (2.2.0)\n",
            "Requirement already satisfied: nvidia-nvjitlink-cu12 in /usr/local/lib/python3.10/dist-packages (from nvidia-cusolver-cu12==11.4.5.107->torch>=1.10.0->torchmetrics) (12.4.99)\n",
            "Requirement already satisfied: MarkupSafe>=2.0 in /usr/local/lib/python3.10/dist-packages (from jinja2->torch>=1.10.0->torchmetrics) (2.1.5)\n",
            "Requirement already satisfied: mpmath>=0.19 in /usr/local/lib/python3.10/dist-packages (from sympy->torch>=1.10.0->torchmetrics) (1.3.0)\n"
          ]
        }
      ],
      "source": [
        "!pip install torchensemble\n",
        "!pip install torchmetrics"
      ],
      "id": "m3LuGhWabS9E"
    },
    {
      "cell_type": "code",
      "source": [
        "from torcheval.metrics.functional import multiclass_precision, multiclass_f1_score, multiclass_recall, multiclass_accuracy"
      ],
      "metadata": {
        "id": "OtWUeOEjjkWi"
      },
      "id": "OtWUeOEjjkWi",
      "execution_count": 50,
      "outputs": []
    },
    {
      "cell_type": "code",
      "execution_count": 4,
      "metadata": {
        "id": "7eaf69a2-7b5b-428d-bdf0-024b146fe2d5"
      },
      "outputs": [],
      "source": [
        "import time\n",
        "import data_prep\n",
        "import os\n",
        "import torch.optim as optim\n",
        "import torch\n",
        "import torch.nn as nn\n",
        "import torch.nn.functional as F\n",
        "import pandas as pd\n",
        "import numpy as np\n",
        "import matplotlib.pyplot as plt\n",
        "from torchvision import datasets, transforms, models\n",
        "from collections import OrderedDict\n",
        "\n",
        "from torch.utils.data import DataLoader\n",
        "from torch.utils.data import WeightedRandomSampler\n",
        "\n",
        "from torchensemble import NeuralForestClassifier, VotingClassifier\n",
        "from torchensemble.utils.logging import set_logger"
      ],
      "id": "7eaf69a2-7b5b-428d-bdf0-024b146fe2d5"
    },
    {
      "cell_type": "code",
      "execution_count": 5,
      "metadata": {
        "colab": {
          "base_uri": "https://localhost:8080/"
        },
        "id": "A_UdqbQ6qm-H",
        "outputId": "979ecd70-f5bd-469b-faea-3c79c2f686ed"
      },
      "outputs": [
        {
          "output_type": "stream",
          "name": "stdout",
          "text": [
            "Mounted at /content/drive\n"
          ]
        }
      ],
      "source": [
        "from google.colab import drive\n",
        "drive.mount('/content/drive')"
      ],
      "id": "A_UdqbQ6qm-H"
    },
    {
      "cell_type": "code",
      "execution_count": null,
      "metadata": {
        "id": "b1b834d9-795e-4eab-aa57-2f6075cd0050",
        "outputId": "cccc67d7-25f9-43d3-8040-186275b5c571",
        "colab": {
          "base_uri": "https://localhost:8080/"
        }
      },
      "outputs": [
        {
          "output_type": "stream",
          "name": "stdout",
          "text": [
            "Current Path :  /content\n"
          ]
        }
      ],
      "source": [
        "print(\"Current Path : \", os.getcwd())\n",
        "os.chdir('../..')"
      ],
      "id": "b1b834d9-795e-4eab-aa57-2f6075cd0050"
    },
    {
      "cell_type": "code",
      "execution_count": null,
      "metadata": {
        "id": "0698c6fe-08e4-440f-85ae-4e467a2af33b",
        "outputId": "eca99a9b-cba8-47fb-ea29-2c016bef18a9"
      },
      "outputs": [
        {
          "name": "stdout",
          "output_type": "stream",
          "text": [
            "Root Project Path :  /Users/yaminigotimukul/DataScience/Berekley/Semesters/Spring_2024/repo/alivio\n",
            "Root Data Path :  /Users/yaminigotimukul/DataScience/Berekley/Semesters/Spring_2024/repo/alivio/data/xview_building_damage\n",
            "Train Data Path :  /Users/yaminigotimukul/DataScience/Berekley/Semesters/Spring_2024/repo/alivio/data/xview_building_damage/train\n"
          ]
        }
      ],
      "source": [
        "ROOT_DIR = os.getcwd()\n",
        "print(\"Root Project Path : \", ROOT_DIR)\n",
        "ROOT_DATA_DIR = os.path.join(ROOT_DIR, 'data', 'xview_building_damage')\n",
        "print(\"Root Data Path : \", ROOT_DATA_DIR)\n",
        "TRAIN_DATA_DIR = os.path.join(ROOT_DATA_DIR, 'train')\n",
        "print(\"Train Data Path : \", TRAIN_DATA_DIR)\n",
        "CHALLENGE_DIR = os.path.join(ROOT_DATA_DIR, 'challenge')\n",
        "TRAIN_DIR=os.path.join(CHALLENGE_DIR, 'train')\n",
        "HOLD_DIR=os.path.join(CHALLENGE_DIR, 'hold')\n",
        "TEST_DIR=os.path.join(CHALLENGE_DIR, 'test')"
      ],
      "id": "0698c6fe-08e4-440f-85ae-4e467a2af33b"
    },
    {
      "cell_type": "markdown",
      "metadata": {
        "id": "7b1a83a1-d028-4814-89e6-65ab727f7114"
      },
      "source": [
        "### Load Data"
      ],
      "id": "7b1a83a1-d028-4814-89e6-65ab727f7114"
    },
    {
      "cell_type": "code",
      "execution_count": null,
      "metadata": {
        "colab": {
          "base_uri": "https://localhost:8080/"
        },
        "id": "x5mqkBnFjsRE",
        "outputId": "560933b4-5e48-420c-9a85-9832e5002ea2"
      },
      "outputs": [
        {
          "name": "stdout",
          "output_type": "stream",
          "text": [
            "Drive already mounted at /content/drive; to attempt to forcibly remount, call drive.mount(\"/content/drive\", force_remount=True).\n"
          ]
        }
      ],
      "source": [
        "from google.colab import drive\n",
        "drive.mount('/content/drive')"
      ],
      "id": "x5mqkBnFjsRE"
    },
    {
      "cell_type": "code",
      "execution_count": 24,
      "metadata": {
        "id": "2e49e3d4-b592-4896-b99e-7900e92c44ca"
      },
      "outputs": [],
      "source": [
        "colab = True\n",
        "if colab:\n",
        "  train_meta_df=pd.read_csv('/content/drive/MyDrive/Capstone/csv/hc_train_hurricane-michael.csv')\n",
        "  valid_meta_df=pd.read_csv( '/content/drive/MyDrive/Capstone/csv/hc_hold_hurricane-michael.csv')\n",
        "  test_meta_df=pd.read_csv('/content/drive/MyDrive/Capstone/csv/hc_test_hurricane-michael.csv')\n",
        "else:\n",
        "  train_meta_df=pd.read_csv(os.path.join(ROOT_DATA_DIR, 'challenge', 'csv', 'hc_train_hurricane-michael.csv'))\n",
        "  valid_meta_df=pd.read_csv(os.path.join(ROOT_DATA_DIR, 'challenge', 'csv', 'hc_hold_hurricane-michael.csv'))\n",
        "  test_meta_df=pd.read_csv(os.path.join(ROOT_DATA_DIR, 'challenge', 'csv' , 'hc_test_hurricane-michael.csv'))"
      ],
      "id": "2e49e3d4-b592-4896-b99e-7900e92c44ca"
    },
    {
      "cell_type": "code",
      "execution_count": 25,
      "metadata": {
        "id": "8d22426d-c199-4303-bf54-486eff4e115d"
      },
      "outputs": [],
      "source": [
        "mean = [0.485, 0.456, 0.406]\n",
        "std = [0.229, 0.224, 0.225]\n",
        "\n",
        "train_transform = transforms.Compose([\n",
        "                                transforms.Resize(255),\n",
        "                                transforms.RandomResizedCrop(224),\n",
        "                                transforms.RandomHorizontalFlip(),\n",
        "                                transforms.ColorJitter(),\n",
        "                                transforms.ToTensor(),\n",
        "                                transforms.Normalize(mean, std)])\n",
        "\n",
        "valid_transform = transforms.Compose([\n",
        "                                transforms.Resize(255),\n",
        "                                transforms.CenterCrop(224),\n",
        "                                transforms.ToTensor(),\n",
        "                                transforms.Normalize(mean, std)])\n",
        "\n",
        "test_transform = transforms.Compose([\n",
        "                                transforms.Resize(255),\n",
        "                                transforms.CenterCrop(224),\n",
        "                                transforms.ToTensor(),\n",
        "                                transforms.Normalize(mean, std)])"
      ],
      "id": "8d22426d-c199-4303-bf54-486eff4e115d"
    },
    {
      "cell_type": "code",
      "execution_count": null,
      "metadata": {
        "id": "iSOm3NZedv0g"
      },
      "outputs": [],
      "source": [
        "!unzip  /content/drive/MyDrive/Capstone/train/img_mask_ov_class.zip -d /content/drive/MyDrive/Capstone/train/"
      ],
      "id": "iSOm3NZedv0g"
    },
    {
      "cell_type": "code",
      "execution_count": null,
      "metadata": {
        "id": "t2mPuBRpehlv"
      },
      "outputs": [],
      "source": [
        "!unzip  /content/drive/MyDrive/Capstone/hold/img_mask_ov_class.zip -d /content/drive/MyDrive/Capstone/hold/"
      ],
      "id": "t2mPuBRpehlv"
    },
    {
      "cell_type": "code",
      "execution_count": null,
      "metadata": {
        "id": "_wfyzjI4goi6"
      },
      "outputs": [],
      "source": [
        "!unzip  /content/drive/MyDrive/Capstone/test/img_mask_ov_class.zip -d /content/drive/MyDrive/Capstone/test/"
      ],
      "id": "_wfyzjI4goi6"
    },
    {
      "cell_type": "code",
      "execution_count": 21,
      "metadata": {
        "id": "zY2VYlAwjGTV"
      },
      "outputs": [],
      "source": [
        "!rm -rf /content/drive/MyDrive/Capstone/train/__MACOSX/\n",
        "!rm -rf /content/drive/MyDrive/Capstone/hold/__MACOSX/\n",
        "!rm -rf /content/drive/MyDrive/Capstone/test/__MACOSX/\n",
        "#!rm -rf /content/drive/MyDrive/Capstone/train/destroyed/\n",
        "#!rm -rf /content/drive/MyDrive/Capstone/train/major-damage/\n",
        "#!rm -rf /content/drive/MyDrive/Capstone/train/minor-damage/\n",
        "#!rm -rf /content/drive/MyDrive/Capstone/train/post/\n",
        "#!rm -rf /content/drive/MyDrive/Capstone/train/no-damage/\n",
        "#!rm -rf /content/drive/MyDrive/Capstone/hold/post/\n",
        "#!rm -rf /content/drive/MyDrive/Capstone/train/classes/"
      ],
      "id": "zY2VYlAwjGTV"
    },
    {
      "cell_type": "code",
      "execution_count": null,
      "metadata": {
        "id": "2bc217fc-f975-45d4-873f-2ca65ddf03d4"
      },
      "outputs": [],
      "source": [
        "def get_img_class_dir(disaster_name, dataSplit, ROOT_DIR, colab=True):\n",
        " if colab:\n",
        "   DIR='/content/'+dataSplit+'/post'\n",
        " else:\n",
        "    DIR=os.path.join(ROOT_DIR, dataSplit,'disaster', disaster_name , 'class', 'post')\n",
        " return DIR"
      ],
      "id": "2bc217fc-f975-45d4-873f-2ca65ddf03d4"
    },
    {
      "cell_type": "code",
      "execution_count": 26,
      "metadata": {
        "colab": {
          "base_uri": "https://localhost:8080/"
        },
        "id": "e38f3a0c-a441-4839-9b11-c3f90702c8e8",
        "outputId": "d24c64e7-8613-4095-8da7-ff1fbcf42cbf"
      },
      "outputs": [
        {
          "output_type": "stream",
          "name": "stdout",
          "text": [
            "Train size:22454\n",
            "Valid size:7072\n",
            "Train size:22454\n",
            "Valid size:5602\n",
            "Total Class:  4\n"
          ]
        }
      ],
      "source": [
        "\n",
        "# if colab:\n",
        "#   CHALLENGE_DIR = ''\n",
        "\n",
        "train_loader, valid_loader, classes, class_to_idx = data_prep.prepare_loader(\n",
        "    '/content/drive/MyDrive/Capstone/train/img_mask_ov_class/',\n",
        "    '/content/drive/MyDrive/Capstone/hold/img_mask_ov_class/',\n",
        "    train_transform,\n",
        "    test_transform)\n",
        "\n",
        "train_loader, test_loader, classes, class_to_idx = data_prep.prepare_loader(\n",
        "    '/content/drive/MyDrive/Capstone/train/img_mask_ov_class/',\n",
        "    '/content/drive/MyDrive/Capstone/test/img_mask_ov_class/',\n",
        "    train_transform,\n",
        "    test_transform)\n",
        "\n",
        "\n",
        "\n",
        "print(\"Total Class: \", len(classes))"
      ],
      "id": "e38f3a0c-a441-4839-9b11-c3f90702c8e8"
    },
    {
      "cell_type": "code",
      "source": [
        "def test_evaluate_per_class(model, test_loader, criterion, classes):\n",
        "    \"\"\"\n",
        "    Helper function for testing per class\n",
        "    :param model: current model\n",
        "    :param test_loader: test loader\n",
        "    :param criterion: loss function\n",
        "    :param classes: list of classes\n",
        "    :return: None\n",
        "    \"\"\"\n",
        "\n",
        "    total_class = len(classes)\n",
        "\n",
        "    test_loss = 0.0\n",
        "    class_correct = list(0. for i in range(total_class))\n",
        "    class_total = list(0. for i in range(total_class))\n",
        "\n",
        "    device = torch.device(\"cuda\" if torch.cuda.is_available() else \"cpu\")\n",
        "    pred_list = []\n",
        "    tartget_list = []\n",
        "\n",
        "    model.eval()  # prep model for evaluation\n",
        "\n",
        "    for data, target in test_loader:\n",
        "        # Move input and label tensors to the default device\n",
        "        data, target = data.to(device), target.to(device)\n",
        "        # forward pass: compute predicted outputs by passing inputs to the model\n",
        "        output = model(data)\n",
        "        # calculate the loss\n",
        "        loss = criterion(output, target)\n",
        "        # update test loss\n",
        "        test_loss += loss.item() * data.size(0)\n",
        "        # convert output probabilities to predicted class\n",
        "        _, pred = torch.max(output, 1)\n",
        "\n",
        "        target_list.extend(target)\n",
        "        preds_list.extend(pred)\n",
        "        # compare predictions to true label\n",
        "        correct = np.squeeze(pred.eq(target.data.view_as(pred)))\n",
        "        # calculate test accuracy for each object class\n",
        "        for i in range(len(target) - 1):\n",
        "            label = target.data[i]\n",
        "            class_correct[label] += correct[i].item()\n",
        "            class_total[label] += 1\n",
        "\n",
        "    # calculate and print avg test loss\n",
        "    test_loss = test_loss / len(test_loader.dataset)\n",
        "    print('Test Loss: {:.6f}\\n'.format(test_loss))\n",
        "\n",
        "    for i in range(total_class):\n",
        "        if class_total[i] > 0:\n",
        "            print('Test Accuracy of %5s: %2d%% (%2d/%2d)' % (\n",
        "                str(i), 100 * class_correct[i] / class_total[i],\n",
        "                np.sum(class_correct[i]), np.sum(class_total[i])))\n",
        "        else:\n",
        "            print('Test Accuracy of %5s: N/A (no training examples)' % (classes[i]))\n",
        "\n",
        "    print('\\nTest Accuracy (Overall): %2d%% (%2d/%2d)' % (\n",
        "        100. * np.sum(class_correct) / np.sum(class_total),\n",
        "        np.sum(class_correct), np.sum(class_total)))\n",
        "    get_metrics(preds_list, target_list)"
      ],
      "metadata": {
        "id": "pg-wuzFhD1-m"
      },
      "id": "pg-wuzFhD1-m",
      "execution_count": 51,
      "outputs": []
    },
    {
      "cell_type": "code",
      "source": [
        "def get_metrics(preds_list, target_list, num_classes = 4 ):\n",
        "    pred_ts=tensor(preds_list)\n",
        "    target_ts = tensor(target_list)\n",
        "\n",
        "    accuracy = multiclass_accuracy(pred_ts, target_ts, num_classes=4)\n",
        "\n",
        "    f1_score = multiclass_f1_score(pred_ts, target_ts, num_classes=4, average=\"weighted\")\n",
        "\n",
        "    precision = multiclass_precision(pred_ts, target_ts, num_classes=4, average=\"weighted\")\n",
        "    recall = multiclass_recall(pred_ts, target_ts, num_classes=4, average=\"weighted\")\n",
        "\n",
        "    print(\"Accuracy :\", accuracy)\n",
        "    print(\"F1-score : \", f1_score)\n",
        "    print(\"Precision : \", precision)\n",
        "    print(\"Recall : \", recall)"
      ],
      "metadata": {
        "id": "CFJIHKX-e9cM"
      },
      "id": "CFJIHKX-e9cM",
      "execution_count": 52,
      "outputs": []
    },
    {
      "cell_type": "code",
      "execution_count": 27,
      "metadata": {
        "colab": {
          "base_uri": "https://localhost:8080/"
        },
        "id": "5900beec-2ca1-4e3d-891e-2f188ed60f34",
        "outputId": "693dbecb-00e1-483a-e358-cfb2be4aceac"
      },
      "outputs": [
        {
          "output_type": "stream",
          "name": "stdout",
          "text": [
            "device =  cuda\n"
          ]
        }
      ],
      "source": [
        "device = 'cpu'\n",
        "if torch.cuda.is_available():\n",
        " device='cuda'\n",
        "elif torch.backends.mps.is_available():\n",
        " device = 'mps'\n",
        "\n",
        "print(\"device = \", device)"
      ],
      "id": "5900beec-2ca1-4e3d-891e-2f188ed60f34"
    },
    {
      "cell_type": "code",
      "source": [
        "def get_label_stats(data_loader):\n",
        "    labels = [labels for i, (images, labels) in enumerate(data_loader)]\n",
        "    labels = torch.cat((labels), 0)\n",
        "    labels_count = labels.unique(return_counts=True)\n",
        "\n",
        "    # # print(train_labels_count)\n",
        "\n",
        "    print('The number of samples per classes in training dataset:\\n')\n",
        "    for label, count in zip(labels_count[0], labels_count[1]):\n",
        "        print('\\t {}: {}'.format(label, count))\n",
        "    return labels, labels_count"
      ],
      "metadata": {
        "id": "yTxntyDtAfi2"
      },
      "id": "yTxntyDtAfi2",
      "execution_count": 28,
      "outputs": []
    },
    {
      "cell_type": "code",
      "source": [
        "def get_class_weights(labels):\n",
        "    class_counts = np.bincount(labels)\n",
        "    num_classes = len(class_counts)\n",
        "    total_samples = len(labels)\n",
        "\n",
        "    class_weights = []\n",
        "    for count in class_counts:\n",
        "        weight = 1 / (count / total_samples)\n",
        "        class_weights.append(weight)\n",
        "\n",
        "    return class_weights"
      ],
      "metadata": {
        "id": "tcUE-cfXARAz"
      },
      "id": "tcUE-cfXARAz",
      "execution_count": 29,
      "outputs": []
    },
    {
      "cell_type": "markdown",
      "source": [],
      "metadata": {
        "id": "o96Dms8QAmpK"
      },
      "id": "o96Dms8QAmpK"
    },
    {
      "cell_type": "code",
      "source": [
        "train_labels, train_labels_count = get_label_stats(train_loader)"
      ],
      "metadata": {
        "colab": {
          "base_uri": "https://localhost:8080/"
        },
        "id": "wXW70E_zASoK",
        "outputId": "29e53859-4a93-44a7-c034-23363bfe71f1"
      },
      "id": "wXW70E_zASoK",
      "execution_count": 30,
      "outputs": [
        {
          "output_type": "stream",
          "name": "stdout",
          "text": [
            "The number of samples per classes in training dataset:\n",
            "\n",
            "\t 0: 757\n",
            "\t 1: 1902\n",
            "\t 2: 5207\n",
            "\t 3: 14588\n"
          ]
        }
      ]
    },
    {
      "cell_type": "code",
      "source": [
        "class_weights=get_class_weights(train_labels)\n",
        "class_weights"
      ],
      "metadata": {
        "colab": {
          "base_uri": "https://localhost:8080/"
        },
        "id": "Nm_y2dbFDhje",
        "outputId": "e1563717-f8aa-41b1-c77a-900466eb8f40"
      },
      "id": "Nm_y2dbFDhje",
      "execution_count": 31,
      "outputs": [
        {
          "output_type": "execute_result",
          "data": {
            "text/plain": [
              "[29.661822985468955, 11.80546792849632, 4.312271941617054, 1.5392103098437073]"
            ]
          },
          "metadata": {},
          "execution_count": 31
        }
      ]
    },
    {
      "cell_type": "code",
      "source": [
        "class_weights = torch.tensor(class_weights, dtype=torch.float32).to(device)\n",
        "# balanced sampler\n",
        "weights = class_weights[train_labels]\n",
        "ws = WeightedRandomSampler(weights, len(weights), replacement=True)\n",
        "ws"
      ],
      "metadata": {
        "colab": {
          "base_uri": "https://localhost:8080/"
        },
        "id": "roiblLq3D5Wz",
        "outputId": "77ae27f7-acf0-4021-b602-e9d2d17d1d08"
      },
      "id": "roiblLq3D5Wz",
      "execution_count": 32,
      "outputs": [
        {
          "output_type": "execute_result",
          "data": {
            "text/plain": [
              "<torch.utils.data.sampler.WeightedRandomSampler at 0x7966a8290df0>"
            ]
          },
          "metadata": {},
          "execution_count": 32
        }
      ]
    },
    {
      "cell_type": "code",
      "source": [
        "train_data = datasets.ImageFolder('/content/drive/MyDrive/Capstone/train/img_mask_ov_class/', transform=train_transform)\n",
        "train_loader_ws =torch.utils.data.DataLoader(\n",
        "        train_data, batch_size=64, sampler=ws, num_workers=2)\n"
      ],
      "metadata": {
        "id": "YesG5QRaD9ly"
      },
      "id": "YesG5QRaD9ly",
      "execution_count": 43,
      "outputs": []
    },
    {
      "cell_type": "code",
      "source": [
        "train_loader_ws, valid_loader, classes, class_to_idx = data_prep.prepare_loader(\n",
        "    '/content/drive/MyDrive/Capstone/train/img_mask_ov_class/',\n",
        "    '/content/drive/MyDrive/Capstone/hold/img_mask_ov_class/',\n",
        "    train_transform,\n",
        "    test_transform)\n",
        "\n",
        "train_loader_ws, test_loader, classes, class_to_idx = data_prep.prepare_loader(\n",
        "    '/content/drive/MyDrive/Capstone/train/img_mask_ov_class/',\n",
        "    '/content/drive/MyDrive/Capstone/test/img_mask_ov_class/',\n",
        "    train_transform,\n",
        "    test_transform)\n",
        "\n",
        "\n",
        "\n",
        "print(\"Total Class: \", len(classes))"
      ],
      "metadata": {
        "id": "HGKvCT2HFAvZ",
        "colab": {
          "base_uri": "https://localhost:8080/"
        },
        "outputId": "8b577391-403d-491f-80d1-c42c13738224"
      },
      "id": "HGKvCT2HFAvZ",
      "execution_count": 35,
      "outputs": [
        {
          "output_type": "stream",
          "name": "stdout",
          "text": [
            "Train size:22454\n",
            "Valid size:7072\n",
            "Train size:22454\n",
            "Valid size:5602\n",
            "Total Class:  4\n"
          ]
        }
      ]
    },
    {
      "cell_type": "code",
      "execution_count": null,
      "metadata": {
        "colab": {
          "base_uri": "https://localhost:8080/"
        },
        "id": "b3630e27-b817-4e0c-9ecc-908cf9b6f68d",
        "outputId": "7a8a1f11-7826-41c0-8ad6-df780815c1fa"
      },
      "outputs": [
        {
          "name": "stderr",
          "output_type": "stream",
          "text": [
            "/usr/local/lib/python3.10/dist-packages/torchvision/models/_utils.py:208: UserWarning: The parameter 'pretrained' is deprecated since 0.13 and may be removed in the future, please use 'weights' instead.\n",
            "  warnings.warn(\n",
            "/usr/local/lib/python3.10/dist-packages/torchvision/models/_utils.py:223: UserWarning: Arguments other than a weight enum or `None` for 'weights' are deprecated since 0.13 and may be removed in the future. The current behavior is equivalent to passing `weights=DenseNet161_Weights.IMAGENET1K_V1`. You can also use `weights=DenseNet161_Weights.DEFAULT` to get the most up-to-date weights.\n",
            "  warnings.warn(msg)\n",
            "Downloading: \"https://download.pytorch.org/models/densenet161-8d451a50.pth\" to /root/.cache/torch/hub/checkpoints/densenet161-8d451a50.pth\n",
            "100%|██████████| 110M/110M [00:01<00:00, 66.9MB/s]\n"
          ]
        },
        {
          "data": {
            "text/plain": [
              "Linear(in_features=2208, out_features=1000, bias=True)"
            ]
          },
          "execution_count": 9,
          "metadata": {},
          "output_type": "execute_result"
        }
      ],
      "source": [
        "densenet = models.densenet161(pretrained=True)\n",
        "densenet.classifier"
      ],
      "id": "b3630e27-b817-4e0c-9ecc-908cf9b6f68d"
    },
    {
      "cell_type": "code",
      "execution_count": null,
      "metadata": {
        "id": "66441d70-7ed5-4048-a7ba-d57c0d01d110"
      },
      "outputs": [],
      "source": [
        "densenet = data_prep.freeze_parameters(densenet)\n",
        "num_classes = 5"
      ],
      "id": "66441d70-7ed5-4048-a7ba-d57c0d01d110"
    },
    {
      "cell_type": "code",
      "execution_count": null,
      "metadata": {
        "colab": {
          "base_uri": "https://localhost:8080/"
        },
        "id": "6f249bba-a60b-4ccd-b9bd-5848a80907e2",
        "outputId": "6584f1f9-cdbc-4bc1-cd6f-5574bca14eca"
      },
      "outputs": [
        {
          "data": {
            "text/plain": [
              "Sequential(\n",
              "  (0): Linear(in_features=2208, out_features=1024, bias=True)\n",
              "  (1): ReLU()\n",
              "  (2): Dropout(p=0.4, inplace=False)\n",
              "  (3): Linear(in_features=1024, out_features=16, bias=True)\n",
              "  (4): LogSoftmax(dim=1)\n",
              ")"
            ]
          },
          "execution_count": 15,
          "metadata": {},
          "output_type": "execute_result"
        }
      ],
      "source": [
        "classifier = nn.Sequential(\n",
        "  nn.Linear(in_features=2208, out_features=1024),\n",
        "  nn.ReLU(),\n",
        "  nn.Dropout(p=0.4),\n",
        "  nn.Linear(in_features=1024, out_features=16),\n",
        "  nn.LogSoftmax(dim=1)\n",
        ")\n",
        "\n",
        "densenet.classifier = classifier\n",
        "densenet.classifier"
      ],
      "id": "6f249bba-a60b-4ccd-b9bd-5848a80907e2"
    },
    {
      "cell_type": "code",
      "execution_count": null,
      "metadata": {
        "id": "wXHyqbZje7C7"
      },
      "outputs": [],
      "source": [],
      "id": "wXHyqbZje7C7"
    },
    {
      "cell_type": "code",
      "execution_count": null,
      "metadata": {
        "id": "9d2795cd-5757-428f-8725-e76abef99ce9"
      },
      "outputs": [],
      "source": [
        "densenet.to(device) ### Just for testing\n",
        "\n",
        "criterion = nn.NLLLoss()\n",
        "optimizer = optim.Adam(densenet.classifier.parameters(), lr=0.003)\n",
        "# turn this off\n",
        "scheduler = optim.lr_scheduler.StepLR(optimizer, step_size=3, gamma=0.1)"
      ],
      "id": "9d2795cd-5757-428f-8725-e76abef99ce9"
    },
    {
      "cell_type": "code",
      "execution_count": null,
      "metadata": {
        "id": "024615e2-7e81-4ffc-bede-d7955e67b5b0"
      },
      "outputs": [],
      "source": [
        "epoch = 5"
      ],
      "id": "024615e2-7e81-4ffc-bede-d7955e67b5b0"
    },
    {
      "cell_type": "code",
      "execution_count": null,
      "metadata": {
        "id": "6cb1ad8f-3792-467e-84fc-754ff9f69da2"
      },
      "outputs": [],
      "source": [
        "densenet, train_loss, test_loss = data_prep.train(densenet, train_loader, test_loader, epoch, optimizer, criterion)"
      ],
      "id": "6cb1ad8f-3792-467e-84fc-754ff9f69da2"
    },
    {
      "cell_type": "code",
      "execution_count": null,
      "metadata": {
        "colab": {
          "base_uri": "https://localhost:8080/",
          "height": 430
        },
        "id": "42b490f2-778c-4c4c-a2e6-792647ee144b",
        "outputId": "262630ff-d136-40b5-916c-7aa8c3c72bee"
      },
      "outputs": [
        {
          "data": {
            "image/png": "[encoded data removed]",
            "text/plain": [
              "<Figure size 640x480 with 1 Axes>"
            ]
          },
          "metadata": {},
          "output_type": "display_data"
        }
      ],
      "source": [
        "data_prep.check_overfitted(train_loss, test_loss)"
      ],
      "id": "42b490f2-778c-4c4c-a2e6-792647ee144b"
    },
    {
      "cell_type": "code",
      "execution_count": null,
      "metadata": {
        "id": "sJU-mVm9Itx9"
      },
      "outputs": [],
      "source": [
        "epoch = 20"
      ],
      "id": "sJU-mVm9Itx9"
    },
    {
      "cell_type": "code",
      "execution_count": null,
      "metadata": {
        "colab": {
          "base_uri": "https://localhost:8080/"
        },
        "id": "sXxlCXi4Ix7G",
        "outputId": "3a71c50b-8bbd-4888-d601-619519969a59"
      },
      "outputs": [
        {
          "name": "stdout",
          "output_type": "stream",
          "text": [
            "Epoch: 1/20\n",
            "\t\tGoing for validation\n",
            "\tTrain loss:1.058224.. \tValid Loss:1.045890.. \tAccuracy: 62.2660\n",
            "\tValidation loss decreased (inf --> 1.045890).  Saving model ...\n",
            "\tEpoch:1 completed in 94m 36s\n",
            "Epoch: 2/20\n",
            "\t\tGoing for validation\n",
            "\tTrain loss:1.018263.. \tValid Loss:1.035331.. \tAccuracy: 62.2660\n",
            "\tValidation loss decreased (1.045890 --> 1.035331).  Saving model ...\n",
            "\tEpoch:2 completed in 15m 2s\n",
            "Epoch: 3/20\n",
            "\t\tGoing for validation\n",
            "\tTrain loss:1.013050.. \tValid Loss:1.023710.. \tAccuracy: 62.2660\n",
            "\tValidation loss decreased (1.035331 --> 1.023710).  Saving model ...\n",
            "\tEpoch:3 completed in 14m 38s\n",
            "Epoch: 4/20\n",
            "\t\tGoing for validation\n",
            "\tTrain loss:1.009491.. \tValid Loss:1.026859.. \tAccuracy: 62.2660\n",
            "\tEpoch:4 completed in 14m 32s\n",
            "Epoch: 5/20\n",
            "\t\tGoing for validation\n",
            "\tTrain loss:1.004185.. \tValid Loss:1.050811.. \tAccuracy: 62.0704\n",
            "\tEpoch:5 completed in 15m 6s\n",
            "Epoch: 6/20\n",
            "\t\tGoing for validation\n",
            "\tTrain loss:1.005280.. \tValid Loss:1.033557.. \tAccuracy: 62.2660\n",
            "\tEpoch:6 completed in 14m 29s\n",
            "Epoch: 7/20\n",
            "\t\tGoing for validation\n",
            "\tTrain loss:1.000313.. \tValid Loss:1.029819.. \tAccuracy: 62.2660\n",
            "\tEpoch:7 completed in 14m 34s\n",
            "Epoch: 8/20\n",
            "\t\tGoing for validation\n",
            "\tTrain loss:0.996012.. \tValid Loss:1.027708.. \tAccuracy: 62.2660\n",
            "\tEpoch:8 completed in 14m 29s\n",
            "Epoch: 9/20\n",
            "\t\tGoing for validation\n",
            "\tTrain loss:0.992357.. \tValid Loss:1.037569.. \tAccuracy: 62.2660\n",
            "\tEpoch:9 completed in 14m 36s\n",
            "Epoch: 10/20\n",
            "\t\tGoing for validation\n",
            "\tTrain loss:0.993511.. \tValid Loss:1.021292.. \tAccuracy: 62.2660\n",
            "\tValidation loss decreased (1.023710 --> 1.021292).  Saving model ...\n",
            "\tEpoch:10 completed in 14m 31s\n",
            "Epoch: 11/20\n",
            "\t\tGoing for validation\n",
            "\tTrain loss:0.993533.. \tValid Loss:1.023558.. \tAccuracy: 62.2660\n",
            "\tEpoch:11 completed in 14m 29s\n",
            "Epoch: 12/20\n",
            "\t\tGoing for validation\n",
            "\tTrain loss:0.991434.. \tValid Loss:1.027658.. \tAccuracy: 62.2660\n",
            "\tEpoch:12 completed in 14m 33s\n",
            "Epoch: 13/20\n",
            "\t\tGoing for validation\n",
            "\tTrain loss:0.991546.. \tValid Loss:1.019949.. \tAccuracy: 62.2660\n",
            "\tValidation loss decreased (1.021292 --> 1.019949).  Saving model ...\n",
            "\tEpoch:13 completed in 14m 33s\n",
            "Epoch: 14/20\n",
            "\t\tGoing for validation\n",
            "\tTrain loss:0.990379.. \tValid Loss:1.027107.. \tAccuracy: 62.2660\n",
            "\tEpoch:14 completed in 14m 35s\n",
            "Epoch: 15/20\n",
            "\t\tGoing for validation\n",
            "\tTrain loss:0.990278.. \tValid Loss:1.020426.. \tAccuracy: 62.2660\n",
            "\tEpoch:15 completed in 14m 24s\n",
            "Epoch: 16/20\n",
            "\t\tGoing for validation\n",
            "\tTrain loss:0.989215.. \tValid Loss:1.024158.. \tAccuracy: 62.2660\n",
            "\tEpoch:16 completed in 14m 22s\n",
            "Epoch: 17/20\n",
            "\t\tGoing for validation\n",
            "\tTrain loss:0.989032.. \tValid Loss:1.026027.. \tAccuracy: 62.2660\n",
            "\tEpoch:17 completed in 14m 22s\n",
            "Epoch: 18/20\n",
            "\t\tGoing for validation\n",
            "\tTrain loss:0.989089.. \tValid Loss:1.023380.. \tAccuracy: 62.2660\n",
            "\tEpoch:18 completed in 14m 31s\n",
            "Epoch: 19/20\n",
            "\t\tGoing for validation\n",
            "\tTrain loss:0.989453.. \tValid Loss:1.020466.. \tAccuracy: 62.2660\n",
            "\tEpoch:19 completed in 14m 38s\n",
            "Epoch: 20/20\n"
          ]
        }
      ],
      "source": [
        "densenet, train_loss, test_loss = data_prep.train(densenet, train_loader, valid_loader, epoch, optimizer, criterion)"
      ],
      "id": "sXxlCXi4Ix7G"
    },
    {
      "cell_type": "code",
      "execution_count": null,
      "metadata": {
        "colab": {
          "base_uri": "https://localhost:8080/",
          "height": 430
        },
        "id": "rUyQYmmQI1vy",
        "outputId": "24a4b11f-d88b-4eb4-dc0e-523444e1f3f0"
      },
      "outputs": [
        {
          "data": {
            "image/png": "[encoded data removed]",
            "text/plain": [
              "<Figure size 640x480 with 1 Axes>"
            ]
          },
          "metadata": {},
          "output_type": "display_data"
        }
      ],
      "source": [
        "data_prep.check_overfitted(train_loss, test_loss)"
      ],
      "id": "rUyQYmmQI1vy"
    },
    {
      "cell_type": "code",
      "execution_count": null,
      "metadata": {
        "colab": {
          "background_save": true
        },
        "id": "gKSM7fhNI6d7",
        "outputId": "68398b13-6822-4193-eb31-269c8822a4fa"
      },
      "outputs": [
        {
          "name": "stdout",
          "output_type": "stream",
          "text": [
            "Accuracy: 64.0274\n"
          ]
        }
      ],
      "source": [
        "data_prep.test(densenet, test_loader)"
      ],
      "id": "gKSM7fhNI6d7"
    },
    {
      "cell_type": "code",
      "source": [
        "data_prep.test_per_class(densenet, test_loader, criterion, classes)"
      ],
      "metadata": {
        "colab": {
          "base_uri": "https://localhost:8080/"
        },
        "id": "4PBtAzQt8YFa",
        "outputId": "a0a46247-ec8e-49f8-afbe-caeebeb9cfd8"
      },
      "id": "4PBtAzQt8YFa",
      "execution_count": null,
      "outputs": [
        {
          "output_type": "stream",
          "name": "stdout",
          "text": [
            "Test Loss: 0.967869\n",
            "\n",
            "Test Accuracy of     0:  0% ( 0/181)\n",
            "Test Accuracy of     1:  0% ( 0/402)\n",
            "Test Accuracy of     2:  0% ( 0/1342)\n",
            "Test Accuracy of     3: 100% (3590/3590)\n",
            "Test Accuracy of     4:  0% ( 0/53)\n",
            "\n",
            "Test Accuracy (Overall): 64% (3590/5568)\n"
          ]
        }
      ]
    },
    {
      "cell_type": "code",
      "source": [],
      "metadata": {
        "id": "v88F_5AXEPUy"
      },
      "id": "v88F_5AXEPUy",
      "execution_count": null,
      "outputs": []
    },
    {
      "cell_type": "markdown",
      "metadata": {
        "id": "b4f78384-6131-4010-bd9c-b2a0d62c4805"
      },
      "source": [
        "### Resnet"
      ],
      "id": "b4f78384-6131-4010-bd9c-b2a0d62c4805"
    },
    {
      "cell_type": "code",
      "execution_count": 36,
      "metadata": {
        "id": "af015e25-ddcd-4e07-ac06-403a9cb822ad",
        "colab": {
          "base_uri": "https://localhost:8080/"
        },
        "outputId": "c46a726a-4d46-4d6b-c88e-b2ad23b25bd2"
      },
      "outputs": [
        {
          "output_type": "stream",
          "name": "stderr",
          "text": [
            "/usr/local/lib/python3.10/dist-packages/torchvision/models/_utils.py:208: UserWarning: The parameter 'pretrained' is deprecated since 0.13 and may be removed in the future, please use 'weights' instead.\n",
            "  warnings.warn(\n",
            "/usr/local/lib/python3.10/dist-packages/torchvision/models/_utils.py:223: UserWarning: Arguments other than a weight enum or `None` for 'weights' are deprecated since 0.13 and may be removed in the future. The current behavior is equivalent to passing `weights=ResNet50_Weights.IMAGENET1K_V1`. You can also use `weights=ResNet50_Weights.DEFAULT` to get the most up-to-date weights.\n",
            "  warnings.warn(msg)\n",
            "Downloading: \"https://download.pytorch.org/models/resnet50-0676ba61.pth\" to /root/.cache/torch/hub/checkpoints/resnet50-0676ba61.pth\n",
            "100%|██████████| 97.8M/97.8M [00:00<00:00, 104MB/s]\n"
          ]
        },
        {
          "output_type": "execute_result",
          "data": {
            "text/plain": [
              "Linear(in_features=2048, out_features=1000, bias=True)"
            ]
          },
          "metadata": {},
          "execution_count": 36
        }
      ],
      "source": [
        "resnet = models.resnet50(pretrained=True)\n",
        "resnet.fc"
      ],
      "id": "af015e25-ddcd-4e07-ac06-403a9cb822ad"
    },
    {
      "cell_type": "code",
      "execution_count": 37,
      "metadata": {
        "id": "c84f5436-196a-4fe6-8d9f-247fc7aba510"
      },
      "outputs": [],
      "source": [
        "resnet = data_prep.freeze_parameters(resnet)"
      ],
      "id": "c84f5436-196a-4fe6-8d9f-247fc7aba510"
    },
    {
      "cell_type": "code",
      "execution_count": 41,
      "metadata": {
        "colab": {
          "base_uri": "https://localhost:8080/"
        },
        "id": "9606e748-6b67-4ae0-afad-17d869fcd025",
        "outputId": "719ab69c-8af2-4736-c297-4f44516d51ad"
      },
      "outputs": [
        {
          "output_type": "execute_result",
          "data": {
            "text/plain": [
              "Sequential(\n",
              "  (0): Linear(in_features=2048, out_features=1024, bias=True)\n",
              "  (1): ReLU()\n",
              "  (2): Dropout(p=0.4, inplace=False)\n",
              "  (3): Linear(in_features=1024, out_features=16, bias=True)\n",
              "  (4): LogSoftmax(dim=1)\n",
              ")"
            ]
          },
          "metadata": {},
          "execution_count": 41
        }
      ],
      "source": [
        "classifier = nn.Sequential(\n",
        "  nn.Linear(in_features=2048, out_features=1024),\n",
        "  nn.ReLU(),\n",
        "  nn.Dropout(p=0.4),\n",
        "  nn.Linear(in_features=1024, out_features=16),\n",
        "  nn.LogSoftmax(dim=1)\n",
        ")\n",
        "criterion = nn.CrossEntropyLoss()\n",
        "\n",
        "resnet.fc = classifier\n",
        "resnet.fc"
      ],
      "id": "9606e748-6b67-4ae0-afad-17d869fcd025"
    },
    {
      "cell_type": "code",
      "execution_count": 45,
      "metadata": {
        "id": "d644ff7c-6006-43e4-b9e3-9504e9ff4d4d"
      },
      "outputs": [],
      "source": [
        "#device ='cpu'\n",
        "resnet.to(device)\n",
        "optimizer = optim.Adam(resnet.fc.parameters(), lr=0.0001)\n",
        "#optimizer1 = optim.AdamW(resnet.fc.parameters(), weight_decay= 0.03, lr=0.0015)\n",
        "# turn this off\n",
        "\n",
        "scheduler = optim.lr_scheduler.StepLR(optimizer1, step_size=3, gamma=0.1)"
      ],
      "id": "d644ff7c-6006-43e4-b9e3-9504e9ff4d4d"
    },
    {
      "cell_type": "code",
      "execution_count": 46,
      "metadata": {
        "colab": {
          "base_uri": "https://localhost:8080/"
        },
        "id": "4739b377-2a20-4350-80dc-8f3041b6e31d",
        "outputId": "11d4c62a-70f7-4416-e38c-6033d3d8086f"
      },
      "outputs": [
        {
          "output_type": "stream",
          "name": "stdout",
          "text": [
            "Epoch: 1/10\n",
            "\t\tGoing for validation\n",
            "\tTrain loss:0.998860.. \tValid Loss:0.924070.. \tAccuracy: 65.0839\n",
            "\tValidation loss decreased (inf --> 0.924070).  Saving model ...\n",
            "\tEpoch:1 completed in 15m 38s\n",
            "Epoch: 2/10\n",
            "\t\tGoing for validation\n",
            "\tTrain loss:0.952058.. \tValid Loss:0.916555.. \tAccuracy: 65.0839\n",
            "\tValidation loss decreased (0.924070 --> 0.916555).  Saving model ...\n",
            "\tEpoch:2 completed in 14m 47s\n",
            "Epoch: 3/10\n",
            "\t\tGoing for validation\n",
            "\tTrain loss:0.943120.. \tValid Loss:0.917755.. \tAccuracy: 65.1017\n",
            "\tEpoch:3 completed in 14m 39s\n",
            "Epoch: 4/10\n",
            "\t\tGoing for validation\n",
            "\tTrain loss:0.942273.. \tValid Loss:0.915618.. \tAccuracy: 65.1196\n",
            "\tValidation loss decreased (0.916555 --> 0.915618).  Saving model ...\n",
            "\tEpoch:4 completed in 14m 22s\n",
            "Epoch: 5/10\n",
            "\t\tGoing for validation\n",
            "\tTrain loss:0.940076.. \tValid Loss:0.914818.. \tAccuracy: 65.1017\n",
            "\tValidation loss decreased (0.915618 --> 0.914818).  Saving model ...\n",
            "\tEpoch:5 completed in 14m 17s\n",
            "Epoch: 6/10\n",
            "\t\tGoing for validation\n",
            "\tTrain loss:0.935940.. \tValid Loss:0.909233.. \tAccuracy: 65.1017\n",
            "\tValidation loss decreased (0.914818 --> 0.909233).  Saving model ...\n",
            "\tEpoch:6 completed in 14m 5s\n",
            "Epoch: 7/10\n",
            "\t\tGoing for validation\n",
            "\tTrain loss:0.936607.. \tValid Loss:0.906847.. \tAccuracy: 65.1196\n",
            "\tValidation loss decreased (0.909233 --> 0.906847).  Saving model ...\n",
            "\tEpoch:7 completed in 14m 9s\n",
            "Epoch: 8/10\n",
            "\t\tGoing for validation\n",
            "\tTrain loss:0.935342.. \tValid Loss:0.909603.. \tAccuracy: 65.0660\n",
            "\tEpoch:8 completed in 14m 14s\n",
            "Epoch: 9/10\n",
            "\t\tGoing for validation\n",
            "\tTrain loss:0.933616.. \tValid Loss:0.902065.. \tAccuracy: 65.1017\n",
            "\tValidation loss decreased (0.906847 --> 0.902065).  Saving model ...\n",
            "\tEpoch:9 completed in 14m 17s\n",
            "Epoch: 10/10\n",
            "\t\tGoing for validation\n",
            "\tTrain loss:0.935817.. \tValid Loss:0.912293.. \tAccuracy: 65.0839\n",
            "\tEpoch:10 completed in 14m 18s\n",
            "Training completed in 144m 46s\n"
          ]
        }
      ],
      "source": [
        "epoch = 10\n",
        "resnet, train_loss, test_loss = data_prep.train(resnet, train_loader, test_loader, epoch, optimizer, criterion)"
      ],
      "id": "4739b377-2a20-4350-80dc-8f3041b6e31d"
    },
    {
      "cell_type": "code",
      "source": [
        "!pip  install torcheval"
      ],
      "metadata": {
        "colab": {
          "base_uri": "https://localhost:8080/"
        },
        "id": "Td0Ji-DkjkoN",
        "outputId": "bed96946-cca6-47e0-f0a4-9d88d31b67a2"
      },
      "id": "Td0Ji-DkjkoN",
      "execution_count": 49,
      "outputs": [
        {
          "output_type": "stream",
          "name": "stdout",
          "text": [
            "Collecting torcheval\n",
            "  Downloading torcheval-0.0.7-py3-none-any.whl (179 kB)\n",
            "\u001b[2K     \u001b[90m━━━━━━━━━━━━━━━━━━━━━━━━━━━━━━━━━━━━━━━━\u001b[0m \u001b[32m179.2/179.2 kB\u001b[0m \u001b[31m1.6 MB/s\u001b[0m eta \u001b[36m0:00:00\u001b[0m\n",
            "\u001b[?25hRequirement already satisfied: typing-extensions in /usr/local/lib/python3.10/dist-packages (from torcheval) (4.10.0)\n",
            "Installing collected packages: torcheval\n",
            "Successfully installed torcheval-0.0.7\n"
          ]
        }
      ]
    },
    {
      "cell_type": "code",
      "source": [
        "from torcheval.metrics.functional import multiclass_precision, multiclass_f1_score, multiclass_recall, multiclass_accuracy"
      ],
      "metadata": {
        "id": "UtyZyAKJjUkE"
      },
      "id": "UtyZyAKJjUkE",
      "execution_count": 54,
      "outputs": []
    },
    {
      "cell_type": "code",
      "source": [
        "def get_metrics(preds_list, target_list, num_classes = 4 ):\n",
        "    pred_ts=tensor(preds_list)\n",
        "    target_ts = tensor(target_list)\n",
        "\n",
        "    accuracy = multiclass_accuracy(pred_ts, target_ts, num_classes=4)\n",
        "\n",
        "    f1_score = multiclass_f1_score(pred_ts, target_ts, num_classes=4, average=\"weighted\")\n",
        "\n",
        "    precision = multiclass_precision(pred_ts, target_ts, num_classes=4, average=\"weighted\")\n",
        "    recall = multiclass_recall(pred_ts, target_ts, num_classes=4, average=\"weighted\")\n",
        "\n",
        "    print(\"Accuracy :\", accuracy)\n",
        "    print(\"F1-score : \", f1_score)\n",
        "    print(\"Precision : \", precision)\n",
        "    print(\"Recall : \", recall)\n",
        "\n",
        "def test_evaluate_per_class(model, test_loader, criterion, classes):\n",
        "    \"\"\"\n",
        "    Helper function for testing per class\n",
        "    :param model: current model\n",
        "    :param test_loader: test loader\n",
        "    :param criterion: loss function\n",
        "    :param classes: list of classes\n",
        "    :return: None\n",
        "    \"\"\"\n",
        "\n",
        "    total_class = len(classes)\n",
        "\n",
        "    test_loss = 0.0\n",
        "    class_correct = list(0. for i in range(total_class))\n",
        "    class_total = list(0. for i in range(total_class))\n",
        "\n",
        "    device = torch.device(\"cuda\" if torch.cuda.is_available() else \"cpu\")\n",
        "    pred_list = []\n",
        "    tartget_list = []\n",
        "\n",
        "    model.eval()  # prep model for evaluation\n",
        "\n",
        "    for data, target in test_loader:\n",
        "        # Move input and label tensors to the default device\n",
        "        data, target = data.to(device), target.to(device)\n",
        "        # forward pass: compute predicted outputs by passing inputs to the model\n",
        "        output = model(data)\n",
        "        # calculate the loss\n",
        "        loss = criterion(output, target)\n",
        "        # update test loss\n",
        "        test_loss += loss.item() * data.size(0)\n",
        "        # convert output probabilities to predicted class\n",
        "        _, pred = torch.max(output, 1)\n",
        "\n",
        "        tartget_list.extend(target)\n",
        "        pred_list.extend(pred)\n",
        "        # compare predictions to true label\n",
        "        correct = np.squeeze(pred.eq(target.data.view_as(pred)))\n",
        "        # calculate test accuracy for each object class\n",
        "        for i in range(len(target) - 1):\n",
        "            label = target.data[i]\n",
        "            class_correct[label] += correct[i].item()\n",
        "            class_total[label] += 1\n",
        "\n",
        "    # calculate and print avg test loss\n",
        "    test_loss = test_loss / len(test_loader.dataset)\n",
        "    print('Test Loss: {:.6f}\\n'.format(test_loss))\n",
        "\n",
        "    for i in range(total_class):\n",
        "        if class_total[i] > 0:\n",
        "            print('Test Accuracy of %5s: %2d%% (%2d/%2d)' % (\n",
        "                str(i), 100 * class_correct[i] / class_total[i],\n",
        "                np.sum(class_correct[i]), np.sum(class_total[i])))\n",
        "        else:\n",
        "            print('Test Accuracy of %5s: N/A (no training examples)' % (classes[i]))\n",
        "\n",
        "    print('\\nTest Accuracy (Overall): %2d%% (%2d/%2d)' % (\n",
        "        100. * np.sum(class_correct) / np.sum(class_total),\n",
        "        np.sum(class_correct), np.sum(class_total)))\n",
        "    get_metrics(pred_list, tartget_list)"
      ],
      "metadata": {
        "id": "nr6Q-vFklByy"
      },
      "id": "nr6Q-vFklByy",
      "execution_count": 59,
      "outputs": []
    },
    {
      "cell_type": "code",
      "source": [
        "data_prep.test_per_class(resnet, test_loader, criterion, classes)"
      ],
      "metadata": {
        "colab": {
          "base_uri": "https://localhost:8080/"
        },
        "id": "asoJhaLahhnX",
        "outputId": "5122b8a3-4e4f-412c-de50-0f7b13d86b2b"
      },
      "id": "asoJhaLahhnX",
      "execution_count": 60,
      "outputs": [
        {
          "output_type": "stream",
          "name": "stdout",
          "text": [
            "Test Loss: 0.902065\n",
            "\n",
            "Test Accuracy of     0:  0% ( 0/181)\n",
            "Test Accuracy of     1:  0% ( 1/402)\n",
            "Test Accuracy of     2:  0% ( 5/1342)\n",
            "Test Accuracy of     3: 99% (3583/3589)\n",
            "\n",
            "Test Accuracy (Overall): 65% (3589/5514)\n"
          ]
        }
      ]
    },
    {
      "cell_type": "code",
      "execution_count": 61,
      "metadata": {
        "colab": {
          "base_uri": "https://localhost:8080/",
          "height": 430
        },
        "id": "95fa17b6-65ee-4be2-b9d5-06623e38c89f",
        "outputId": "cf9fd665-e174-43e3-b292-f6d4b5cd4e60"
      },
      "outputs": [
        {
          "output_type": "display_data",
          "data": {
            "text/plain": [
              "<Figure size 640x480 with 1 Axes>"
            ],
            "image/png": "[encoded data removed]"
          },
          "metadata": {}
        }
      ],
      "source": [
        "data_prep.check_overfitted(train_loss, test_loss)"
      ],
      "id": "95fa17b6-65ee-4be2-b9d5-06623e38c89f"
    },
    {
      "cell_type": "code",
      "source": [
        "import torch\n",
        "from torch import tensor\n",
        "test_evaluate_per_class(resnet, test_loader, criterion, classes)"
      ],
      "metadata": {
        "colab": {
          "base_uri": "https://localhost:8080/"
        },
        "id": "R9GQWDH9kHDY",
        "outputId": "6bdb894f-9fb0-4bc3-c99a-73a59a768a7d"
      },
      "id": "R9GQWDH9kHDY",
      "execution_count": 64,
      "outputs": [
        {
          "output_type": "stream",
          "name": "stdout",
          "text": [
            "Test Loss: 0.902065\n",
            "\n",
            "Test Accuracy of     0:  0% ( 0/181)\n",
            "Test Accuracy of     1:  0% ( 1/402)\n",
            "Test Accuracy of     2:  0% ( 5/1342)\n",
            "Test Accuracy of     3: 99% (3583/3589)\n",
            "\n",
            "Test Accuracy (Overall): 65% (3589/5514)\n",
            "Accuracy : tensor(0.6510)\n",
            "F1-score :  tensor(0.5156)\n",
            "Precision :  tensor(0.5423)\n",
            "Recall :  tensor(0.6510)\n"
          ]
        }
      ]
    },
    {
      "cell_type": "markdown",
      "source": [
        "#### End\n"
      ],
      "metadata": {
        "id": "9nqeSTyNlN-r"
      },
      "id": "9nqeSTyNlN-r"
    },
    {
      "cell_type": "markdown",
      "source": [
        "Weighted Resnet"
      ],
      "metadata": {
        "id": "nRMFNyjqEZl8"
      },
      "id": "nRMFNyjqEZl8"
    },
    {
      "cell_type": "code",
      "source": [
        "epoch = 25\n",
        "resnet, train_loss, test_loss = data_prep.train(resnet, train_loader_ws, test_loader, epoch, optimizer, criterion)"
      ],
      "metadata": {
        "colab": {
          "base_uri": "https://localhost:8080/"
        },
        "id": "oJXuHU5YEcea",
        "outputId": "f62a6f9a-a7ec-4afc-836b-7fdeb4e97b1d"
      },
      "id": "oJXuHU5YEcea",
      "execution_count": null,
      "outputs": [
        {
          "output_type": "stream",
          "name": "stdout",
          "text": [
            "Epoch: 1/25\n",
            "\t\tGoing for validation\n",
            "\tTrain loss:1.101048.. \tValid Loss:0.990544.. \tAccuracy: 64.4688\n",
            "\tValidation loss decreased (inf --> 0.990544).  Saving model ...\n",
            "\tEpoch:1 completed in 12m 57s\n",
            "Epoch: 2/25\n",
            "\t\tGoing for validation\n",
            "\tTrain loss:1.040875.. \tValid Loss:0.974887.. \tAccuracy: 64.4688\n",
            "\tValidation loss decreased (0.990544 --> 0.974887).  Saving model ...\n",
            "\tEpoch:2 completed in 11m 54s\n",
            "Epoch: 3/25\n",
            "\t\tGoing for validation\n",
            "\tTrain loss:1.028727.. \tValid Loss:0.977056.. \tAccuracy: 64.4688\n",
            "\tEpoch:3 completed in 11m 54s\n",
            "Epoch: 4/25\n",
            "\t\tGoing for validation\n",
            "\tTrain loss:1.012041.. \tValid Loss:0.995058.. \tAccuracy: 64.4688\n",
            "\tEpoch:4 completed in 11m 52s\n",
            "Epoch: 5/25\n",
            "\t\tGoing for validation\n",
            "\tTrain loss:1.012426.. \tValid Loss:0.976065.. \tAccuracy: 64.4688\n",
            "\tEpoch:5 completed in 11m 55s\n",
            "Epoch: 6/25\n",
            "\t\tGoing for validation\n",
            "\tTrain loss:1.007132.. \tValid Loss:0.972628.. \tAccuracy: 64.4688\n",
            "\tValidation loss decreased (0.974887 --> 0.972628).  Saving model ...\n",
            "\tEpoch:6 completed in 11m 55s\n",
            "Epoch: 7/25\n",
            "\t\tGoing for validation\n",
            "\tTrain loss:1.006507.. \tValid Loss:0.968706.. \tAccuracy: 64.4688\n",
            "\tValidation loss decreased (0.972628 --> 0.968706).  Saving model ...\n",
            "\tEpoch:7 completed in 11m 49s\n",
            "Epoch: 8/25\n",
            "\t\tGoing for validation\n",
            "\tTrain loss:0.998753.. \tValid Loss:0.969105.. \tAccuracy: 64.4688\n",
            "\tEpoch:8 completed in 11m 54s\n",
            "Epoch: 9/25\n",
            "\t\tGoing for validation\n",
            "\tTrain loss:1.001968.. \tValid Loss:0.968720.. \tAccuracy: 64.4688\n",
            "\tEpoch:9 completed in 11m 49s\n",
            "Epoch: 10/25\n",
            "\t\tGoing for validation\n",
            "\tTrain loss:0.989695.. \tValid Loss:0.967085.. \tAccuracy: 64.4688\n",
            "\tValidation loss decreased (0.968706 --> 0.967085).  Saving model ...\n",
            "\tEpoch:10 completed in 11m 44s\n",
            "Epoch: 11/25\n",
            "\t\tGoing for validation\n",
            "\tTrain loss:0.997977.. \tValid Loss:0.971603.. \tAccuracy: 64.4688\n",
            "\tEpoch:11 completed in 11m 39s\n",
            "Epoch: 12/25\n",
            "\t\tGoing for validation\n",
            "\tTrain loss:1.005228.. \tValid Loss:0.969532.. \tAccuracy: 64.4688\n",
            "\tEpoch:12 completed in 11m 46s\n",
            "Epoch: 13/25\n",
            "\t\tGoing for validation\n",
            "\tTrain loss:0.993028.. \tValid Loss:0.978757.. \tAccuracy: 64.4688\n",
            "\tEpoch:13 completed in 11m 55s\n",
            "Epoch: 14/25\n",
            "\t\tGoing for validation\n",
            "\tTrain loss:0.994448.. \tValid Loss:0.968738.. \tAccuracy: 64.4688\n",
            "\tEpoch:14 completed in 11m 46s\n",
            "Epoch: 15/25\n",
            "\t\tGoing for validation\n",
            "\tTrain loss:0.994203.. \tValid Loss:0.971431.. \tAccuracy: 64.4688\n",
            "\tEpoch:15 completed in 11m 55s\n",
            "Epoch: 16/25\n",
            "\t\tGoing for validation\n",
            "\tTrain loss:0.992280.. \tValid Loss:0.971297.. \tAccuracy: 64.4688\n",
            "\tEpoch:16 completed in 11m 50s\n",
            "Epoch: 17/25\n",
            "\t\tGoing for validation\n",
            "\tTrain loss:0.986804.. \tValid Loss:0.974217.. \tAccuracy: 64.4688\n",
            "\tEpoch:17 completed in 11m 47s\n",
            "Epoch: 18/25\n",
            "\t\tGoing for validation\n",
            "\tTrain loss:0.996056.. \tValid Loss:0.971618.. \tAccuracy: 64.4688\n",
            "\tEpoch:18 completed in 11m 50s\n",
            "Epoch: 19/25\n",
            "\t\tGoing for validation\n",
            "\tTrain loss:0.999873.. \tValid Loss:0.974818.. \tAccuracy: 64.4688\n",
            "\tEpoch:19 completed in 11m 55s\n",
            "Epoch: 20/25\n",
            "\t\tGoing for validation\n",
            "\tTrain loss:0.994627.. \tValid Loss:0.974004.. \tAccuracy: 64.4688\n",
            "\tEpoch:20 completed in 11m 45s\n",
            "Epoch: 21/25\n",
            "\t\tGoing for validation\n",
            "\tTrain loss:1.002549.. \tValid Loss:0.973337.. \tAccuracy: 64.4688\n",
            "\tEpoch:21 completed in 11m 57s\n",
            "Epoch: 22/25\n",
            "\t\tGoing for validation\n",
            "\tTrain loss:0.986292.. \tValid Loss:0.974316.. \tAccuracy: 64.4688\n",
            "\tEpoch:22 completed in 11m 59s\n",
            "Epoch: 23/25\n",
            "\t\tGoing for validation\n",
            "\tTrain loss:0.999921.. \tValid Loss:0.972968.. \tAccuracy: 64.4688\n",
            "\tEpoch:23 completed in 11m 34s\n",
            "Epoch: 24/25\n",
            "\t\tGoing for validation\n",
            "\tTrain loss:1.000052.. \tValid Loss:0.973900.. \tAccuracy: 64.4688\n",
            "\tEpoch:24 completed in 11m 34s\n",
            "Epoch: 25/25\n",
            "\t\tGoing for validation\n",
            "\tTrain loss:0.986166.. \tValid Loss:0.973385.. \tAccuracy: 64.4688\n",
            "\tEpoch:25 completed in 11m 43s\n",
            "Training completed in 296m 39s\n"
          ]
        }
      ]
    },
    {
      "cell_type": "code",
      "source": [
        "data_prep.check_overfitted(train_loss, test_loss)"
      ],
      "metadata": {
        "colab": {
          "base_uri": "https://localhost:8080/",
          "height": 430
        },
        "id": "XszZiUDQEYyR",
        "outputId": "880e9144-1c14-40af-aea4-31a76d207833"
      },
      "id": "XszZiUDQEYyR",
      "execution_count": null,
      "outputs": [
        {
          "output_type": "display_data",
          "data": {
            "text/plain": [
              "<Figure size 640x480 with 1 Axes>"
            ],
            "image/png": "[encoded data removed]"
          },
          "metadata": {}
        }
      ]
    },
    {
      "cell_type": "code",
      "source": [
        "data_prep.test(densenet, test_loader)"
      ],
      "metadata": {
        "colab": {
          "base_uri": "https://localhost:8080/"
        },
        "id": "HI6SW92lEuVa",
        "outputId": "e0786ab1-09cd-4a40-b236-bf28554f0192"
      },
      "id": "HI6SW92lEuVa",
      "execution_count": null,
      "outputs": [
        {
          "output_type": "stream",
          "name": "stdout",
          "text": [
            "Accuracy: 64.0274\n"
          ]
        }
      ]
    },
    {
      "cell_type": "code",
      "source": [
        "data_prep.test_per_class(densenet, test_loader, criterion, classes)"
      ],
      "metadata": {
        "colab": {
          "base_uri": "https://localhost:8080/"
        },
        "id": "mYNbqUR8EzCs",
        "outputId": "8b417179-cc89-4701-cec8-e2320b6a80ef"
      },
      "id": "mYNbqUR8EzCs",
      "execution_count": null,
      "outputs": [
        {
          "output_type": "stream",
          "name": "stdout",
          "text": [
            "Test Loss: 0.967869\n",
            "\n",
            "Test Accuracy of     0:  0% ( 0/181)\n",
            "Test Accuracy of     1:  0% ( 0/402)\n",
            "Test Accuracy of     2:  0% ( 0/1342)\n",
            "Test Accuracy of     3: 100% (3590/3590)\n",
            "Test Accuracy of     4:  0% ( 0/53)\n",
            "\n",
            "Test Accuracy (Overall): 64% (3590/5568)\n"
          ]
        }
      ]
    },
    {
      "cell_type": "markdown",
      "source": [
        "Epoches = 50"
      ],
      "metadata": {
        "id": "yGs8cR56gNc8"
      },
      "id": "yGs8cR56gNc8"
    },
    {
      "cell_type": "code",
      "source": [
        "epoch = 50\n",
        "resnet, train_loss, test_loss = data_prep.train(resnet, train_loader_ws, test_loader, epoch, optimizer1, criterion)"
      ],
      "metadata": {
        "colab": {
          "base_uri": "https://localhost:8080/",
          "height": 180
        },
        "id": "zrt4YMKnQbRz",
        "outputId": "891c6854-3660-4812-95f4-6bf154603337"
      },
      "id": "zrt4YMKnQbRz",
      "execution_count": null,
      "outputs": [
        {
          "output_type": "error",
          "ename": "NameError",
          "evalue": "name 'data_prep' is not defined",
          "traceback": [
            "\u001b[0;31m---------------------------------------------------------------------------\u001b[0m",
            "\u001b[0;31mNameError\u001b[0m                                 Traceback (most recent call last)",
            "\u001b[0;32m<ipython-input-1-017e016924dc>\u001b[0m in \u001b[0;36m<cell line: 2>\u001b[0;34m()\u001b[0m\n\u001b[1;32m      1\u001b[0m \u001b[0mepoch\u001b[0m \u001b[0;34m=\u001b[0m \u001b[0;36m50\u001b[0m\u001b[0;34m\u001b[0m\u001b[0;34m\u001b[0m\u001b[0m\n\u001b[0;32m----> 2\u001b[0;31m \u001b[0mresnet\u001b[0m\u001b[0;34m,\u001b[0m \u001b[0mtrain_loss\u001b[0m\u001b[0;34m,\u001b[0m \u001b[0mtest_loss\u001b[0m \u001b[0;34m=\u001b[0m \u001b[0mdata_prep\u001b[0m\u001b[0;34m.\u001b[0m\u001b[0mtrain\u001b[0m\u001b[0;34m(\u001b[0m\u001b[0mresnet\u001b[0m\u001b[0;34m,\u001b[0m \u001b[0mtrain_loader_ws\u001b[0m\u001b[0;34m,\u001b[0m \u001b[0mtest_loader\u001b[0m\u001b[0;34m,\u001b[0m \u001b[0mepoch\u001b[0m\u001b[0;34m,\u001b[0m \u001b[0moptimizer1\u001b[0m\u001b[0;34m,\u001b[0m \u001b[0mcriterion\u001b[0m\u001b[0;34m)\u001b[0m\u001b[0;34m\u001b[0m\u001b[0;34m\u001b[0m\u001b[0m\n\u001b[0m",
            "\u001b[0;31mNameError\u001b[0m: name 'data_prep' is not defined"
          ]
        }
      ]
    },
    {
      "cell_type": "code",
      "source": [
        "data_prep.check_overfitted(train_loss, test_loss)"
      ],
      "metadata": {
        "id": "iDibc3B7QbJw"
      },
      "id": "iDibc3B7QbJw",
      "execution_count": null,
      "outputs": []
    },
    {
      "cell_type": "code",
      "source": [],
      "metadata": {
        "id": "KHA_Omh0QbCx"
      },
      "id": "KHA_Omh0QbCx",
      "execution_count": null,
      "outputs": []
    },
    {
      "cell_type": "code",
      "source": [],
      "metadata": {
        "id": "kiqpCSiCQa41"
      },
      "id": "kiqpCSiCQa41",
      "execution_count": null,
      "outputs": []
    },
    {
      "cell_type": "markdown",
      "metadata": {
        "id": "fed4be57-ddba-4951-b511-0a18a44f3fc9"
      },
      "source": [
        "#### Inception Model v3"
      ],
      "id": "fed4be57-ddba-4951-b511-0a18a44f3fc9"
    },
    {
      "cell_type": "code",
      "execution_count": null,
      "metadata": {
        "id": "CJwkYQcf10jF"
      },
      "outputs": [],
      "source": [
        "mean = [0.485, 0.456, 0.406]\n",
        "std = [0.229, 0.224, 0.225]\n",
        "\n",
        "train_transform = transforms.Compose([\n",
        "                                transforms.Resize(299),\n",
        "                                transforms.RandomResizedCrop(299),\n",
        "                                transforms.RandomHorizontalFlip(),\n",
        "                                transforms.ColorJitter(),\n",
        "                                transforms.ToTensor(),\n",
        "                                transforms.Normalize(mean, std)])\n",
        "\n",
        "\n",
        "test_transform = transforms.Compose([\n",
        "                                transforms.Resize(299),\n",
        "                                transforms.CenterCrop(299),\n",
        "                                transforms.ToTensor(),\n",
        "                                transforms.Normalize(mean, std)])"
      ],
      "id": "CJwkYQcf10jF"
    },
    {
      "cell_type": "code",
      "execution_count": null,
      "metadata": {
        "colab": {
          "base_uri": "https://localhost:8080/"
        },
        "id": "_1mNpFtq2Gse",
        "outputId": "547170aa-9e57-4382-dda9-9786317e4d6f"
      },
      "outputs": [
        {
          "name": "stdout",
          "output_type": "stream",
          "text": [
            "Train size:22686\n",
            "Valid size:5657\n",
            "Total Class:  5\n"
          ]
        },
        {
          "name": "stderr",
          "output_type": "stream",
          "text": [
            "/usr/local/lib/python3.10/dist-packages/torch/utils/data/dataloader.py:557: UserWarning: This DataLoader will create 4 worker processes in total. Our suggested max number of worker in current system is 2, which is smaller than what this DataLoader is going to create. Please be aware that excessive worker creation might get DataLoader running slow or even freeze, lower the worker number to avoid potential slowness/freeze if necessary.\n",
            "  warnings.warn(_create_warning_msg(\n"
          ]
        }
      ],
      "source": [
        "train_loader_inc, test_loader_inc, classes_inc, class_to_idx_inc = data_prep.prepare_loader(\n",
        "    '/content/drive/MyDrive/Capstone/train/post/',\n",
        "    '/content/drive/MyDrive/Capstone/test/post/',\n",
        "    train_transform,\n",
        "    test_transform,\n",
        "    num_workers=4\n",
        ")\n",
        "\n",
        "train_loader_inc, test_loader_inc, classes_inc, class_to_idx_inc = data_prep.prepare_loader(\n",
        "    '/content/drive/MyDrive/Capstone/train/post/',\n",
        "    '/content/drive/MyDrive/Capstone/test/post/',\n",
        "    train_transform,\n",
        "    test_transform,\n",
        "    num_workers=4\n",
        ")\n",
        "\n",
        "print(\"Total Class: \", len(classes))"
      ],
      "id": "_1mNpFtq2Gse"
    },
    {
      "cell_type": "code",
      "execution_count": null,
      "metadata": {
        "id": "BTWW5LlA-IF1"
      },
      "outputs": [],
      "source": [
        "incept = models.inception_v3(pretrained=True)\n",
        "\n",
        "print(incept.fc)\n",
        "incept.aux_logits = True\n",
        "print(incept.aux_logits)"
      ],
      "id": "BTWW5LlA-IF1"
    },
    {
      "cell_type": "code",
      "execution_count": null,
      "metadata": {
        "id": "VOmPqgNI-N3o"
      },
      "outputs": [],
      "source": [
        "incept = data_prep.freeze_parameters(incept)"
      ],
      "id": "VOmPqgNI-N3o"
    },
    {
      "cell_type": "markdown",
      "metadata": {
        "id": "YxI3f9RP-EP5"
      },
      "source": [
        "### VGG 16"
      ],
      "id": "YxI3f9RP-EP5"
    },
    {
      "cell_type": "code",
      "execution_count": null,
      "metadata": {
        "colab": {
          "base_uri": "https://localhost:8080/"
        },
        "id": "h6_Mi_-55P7q",
        "outputId": "711f4a06-0027-44e2-c8d7-f471f60b2b85"
      },
      "outputs": [
        {
          "name": "stderr",
          "output_type": "stream",
          "text": [
            "/usr/local/lib/python3.10/dist-packages/torchvision/models/_utils.py:208: UserWarning: The parameter 'pretrained' is deprecated since 0.13 and may be removed in the future, please use 'weights' instead.\n",
            "  warnings.warn(\n",
            "/usr/local/lib/python3.10/dist-packages/torchvision/models/_utils.py:223: UserWarning: Arguments other than a weight enum or `None` for 'weights' are deprecated since 0.13 and may be removed in the future. The current behavior is equivalent to passing `weights=VGG16_Weights.IMAGENET1K_V1`. You can also use `weights=VGG16_Weights.DEFAULT` to get the most up-to-date weights.\n",
            "  warnings.warn(msg)\n",
            "Downloading: \"https://download.pytorch.org/models/vgg16-397923af.pth\" to /root/.cache/torch/hub/checkpoints/vgg16-397923af.pth\n",
            "100%|██████████| 528M/528M [00:07<00:00, 76.2MB/s]\n"
          ]
        },
        {
          "data": {
            "text/plain": [
              "Sequential(\n",
              "  (0): Linear(in_features=25088, out_features=4096, bias=True)\n",
              "  (1): ReLU(inplace=True)\n",
              "  (2): Dropout(p=0.5, inplace=False)\n",
              "  (3): Linear(in_features=4096, out_features=4096, bias=True)\n",
              "  (4): ReLU(inplace=True)\n",
              "  (5): Dropout(p=0.5, inplace=False)\n",
              "  (6): Linear(in_features=4096, out_features=1000, bias=True)\n",
              ")"
            ]
          },
          "execution_count": 61,
          "metadata": {},
          "output_type": "execute_result"
        }
      ],
      "source": [
        "vgg = models.vgg16(pretrained=True)\n"
      ],
      "id": "h6_Mi_-55P7q"
    },
    {
      "cell_type": "code",
      "execution_count": null,
      "metadata": {
        "colab": {
          "base_uri": "https://localhost:8080/"
        },
        "id": "a34dccc4-2cde-4be7-b3d9-1405e2d4209d",
        "outputId": "9e978df4-de87-4082-8f60-27717362b1fc"
      },
      "outputs": [
        {
          "name": "stderr",
          "output_type": "stream",
          "text": [
            "/usr/local/lib/python3.10/dist-packages/torchvision/models/_utils.py:208: UserWarning: The parameter 'pretrained' is deprecated since 0.13 and may be removed in the future, please use 'weights' instead.\n",
            "  warnings.warn(\n",
            "/usr/local/lib/python3.10/dist-packages/torchvision/models/_utils.py:223: UserWarning: Arguments other than a weight enum or `None` for 'weights' are deprecated since 0.13 and may be removed in the future. The current behavior is equivalent to passing `weights=Inception_V3_Weights.IMAGENET1K_V1`. You can also use `weights=Inception_V3_Weights.DEFAULT` to get the most up-to-date weights.\n",
            "  warnings.warn(msg)\n"
          ]
        },
        {
          "name": "stdout",
          "output_type": "stream",
          "text": [
            "Linear(in_features=2048, out_features=1000, bias=True)\n",
            "True\n"
          ]
        }
      ],
      "source": [],
      "id": "a34dccc4-2cde-4be7-b3d9-1405e2d4209d"
    },
    {
      "cell_type": "code",
      "execution_count": null,
      "metadata": {
        "id": "3cde4182-21bf-422e-b257-2e3b036ec335"
      },
      "outputs": [],
      "source": [],
      "id": "3cde4182-21bf-422e-b257-2e3b036ec335"
    },
    {
      "cell_type": "code",
      "execution_count": null,
      "metadata": {
        "id": "FOqNBZhNyuyh"
      },
      "outputs": [],
      "source": [],
      "id": "FOqNBZhNyuyh"
    },
    {
      "cell_type": "code",
      "execution_count": null,
      "metadata": {
        "colab": {
          "base_uri": "https://localhost:8080/"
        },
        "id": "25f03818-e1fb-4feb-984a-1d94bedd1aae",
        "outputId": "9217de34-b977-431f-f4d6-27ba483ba5b0"
      },
      "outputs": [
        {
          "name": "stdout",
          "output_type": "stream",
          "text": [
            "Sequential(\n",
            "  (0): Linear(in_features=2048, out_features=1024, bias=True)\n",
            "  (1): ReLU()\n",
            "  (2): Dropout(p=0.4, inplace=False)\n",
            "  (3): Linear(in_features=1024, out_features=5, bias=True)\n",
            "  (4): LogSoftmax(dim=1)\n",
            ")\n"
          ]
        }
      ],
      "source": [
        "classifier = nn.Sequential(\n",
        "  nn.Linear(in_features=2048, out_features=1024),\n",
        "  nn.ReLU(),\n",
        "  nn.Dropout(p=0.4),\n",
        "  nn.Linear(in_features=1024, out_features=5),\n",
        "  nn.LogSoftmax(dim=1)\n",
        ")\n",
        "\n",
        "classifier2 = nn.Sequential(\n",
        "  nn.Linear(in_features=786, out_features=512),\n",
        "  nn.ReLU(),\n",
        "  nn.Dropout(p=0.4),\n",
        "  nn.Linear(in_features=512, out_features=5),\n",
        "  nn.LogSoftmax(dim=1)\n",
        ")\n",
        "vgg.fc = classifier\n",
        "#incept.fc = classifier\n",
        "#incept.AuxLogits.fc = classifier2\n",
        "\n",
        "print(vgg.fc)"
      ],
      "id": "25f03818-e1fb-4feb-984a-1d94bedd1aae"
    },
    {
      "cell_type": "code",
      "execution_count": null,
      "metadata": {
        "id": "FsIyiJPy61uR"
      },
      "outputs": [],
      "source": [
        "vgg.to(device)\n",
        "optimizer = optim.Adam(vgg.fc.parameters(),lr=0.003)\n",
        "# turn this off\n",
        "scheduler = optim.lr_scheduler.StepLR(optimizer, step_size=3, gamma=0.1)"
      ],
      "id": "FsIyiJPy61uR"
    },
    {
      "cell_type": "code",
      "execution_count": null,
      "metadata": {
        "id": "9e728a6a-a802-4d7b-a599-b82873b1adf0"
      },
      "outputs": [],
      "source": [
        "incept.to(device)\n",
        "optimizer = optim.Adam(incept.fc.parameters(),lr=0.003)\n",
        "# turn this off\n",
        "scheduler = optim.lr_scheduler.StepLR(optimizer, step_size=2, gamma=0.1)"
      ],
      "id": "9e728a6a-a802-4d7b-a599-b82873b1adf0"
    },
    {
      "cell_type": "code",
      "execution_count": null,
      "metadata": {
        "colab": {
          "base_uri": "https://localhost:8080/"
        },
        "id": "35cb93b8-7218-44e9-b4e0-617f406e8b45",
        "outputId": "785a3b40-949e-42e6-aba8-7655be46a621"
      },
      "outputs": [
        {
          "name": "stdout",
          "output_type": "stream",
          "text": [
            "Epoch: 1/5\n"
          ]
        },
        {
          "name": "stderr",
          "output_type": "stream",
          "text": [
            "/usr/local/lib/python3.10/dist-packages/torch/utils/data/dataloader.py:557: UserWarning: This DataLoader will create 4 worker processes in total. Our suggested max number of worker in current system is 2, which is smaller than what this DataLoader is going to create. Please be aware that excessive worker creation might get DataLoader running slow or even freeze, lower the worker number to avoid potential slowness/freeze if necessary.\n",
            "  warnings.warn(_create_warning_msg(\n"
          ]
        },
        {
          "name": "stdout",
          "output_type": "stream",
          "text": [
            "\t\tGoing for validation\n",
            "\tTrain loss:-0.467551.. \tValid Loss:-0.557683.. \tAccuracy: 0.0000\n",
            "\tValidation loss decreased (inf --> -0.557683).  Saving model ...\n",
            "\tEpoch:1 completed in 9m 56s\n",
            "Epoch: 2/5\n",
            "\t\tGoing for validation\n",
            "\tTrain loss:-0.457261.. \tValid Loss:-0.557683.. \tAccuracy: 0.0000\n",
            "\tEpoch:2 completed in 9m 42s\n",
            "Epoch: 3/5\n",
            "\t\tGoing for validation\n",
            "\tTrain loss:-0.467759.. \tValid Loss:-0.557683.. \tAccuracy: 0.0000\n",
            "\tEpoch:3 completed in 9m 49s\n",
            "Epoch: 4/5\n",
            "\t\tGoing for validation\n",
            "\tTrain loss:-0.467148.. \tValid Loss:-0.557683.. \tAccuracy: 0.0000\n",
            "\tEpoch:4 completed in 9m 41s\n",
            "Epoch: 5/5\n",
            "\t\tGoing for validation\n",
            "\tTrain loss:-0.457489.. \tValid Loss:-0.557683.. \tAccuracy: 0.0000\n",
            "\tEpoch:5 completed in 9m 48s\n",
            "Training completed in 48m 56s\n"
          ]
        }
      ],
      "source": [
        "vgg, train_loss, test_loss = data_prep.train(vgg, train_loader_inc, test_loader_inc, epoch, optimizer, criterion)"
      ],
      "id": "35cb93b8-7218-44e9-b4e0-617f406e8b45"
    },
    {
      "cell_type": "code",
      "execution_count": null,
      "metadata": {
        "colab": {
          "base_uri": "https://localhost:8080/",
          "height": 430
        },
        "id": "f70b3f24-3c5d-44d1-a25a-eccd7a607e90",
        "outputId": "9787f37e-7527-454e-da90-42c5ae9ecb47"
      },
      "outputs": [
        {
          "data": {
            "image/png": "[encoded data removed]",
            "text/plain": [
              "<Figure size 640x480 with 1 Axes>"
            ]
          },
          "metadata": {},
          "output_type": "display_data"
        }
      ],
      "source": [
        "data_prep.check_overfitted(train_loss, test_loss)"
      ],
      "id": "f70b3f24-3c5d-44d1-a25a-eccd7a607e90"
    },
    {
      "cell_type": "markdown",
      "metadata": {
        "id": "2fcdabfa-2df4-465f-a012-af2113126ec3"
      },
      "source": [
        "#### Ensembling"
      ],
      "id": "2fcdabfa-2df4-465f-a012-af2113126ec3"
    },
    {
      "cell_type": "code",
      "execution_count": null,
      "metadata": {
        "id": "ea33b1b0-e23d-4e78-909c-3c27ebe2b3be"
      },
      "outputs": [],
      "source": [
        "class BuildingClassifierEnsemble(nn.Module):\n",
        "\n",
        "    def __init__(self, modelA, modelB, modelC, input):\n",
        "        super(BuildingClassifierEnsemble, self).__init__()\n",
        "        self.modelA = modelA\n",
        "        self.modelB = modelB\n",
        "        self.modelC = modelC\n",
        "\n",
        "        self.fc1 = nn.Linear(input, 5)\n",
        "\n",
        "    def forward(self, x):\n",
        "        out1 = self.modelA(x)\n",
        "        out2 = self.modelB(x)\n",
        "        out3 = self.modelC(x)\n",
        "\n",
        "        out = out1 + out2 + out3\n",
        "\n",
        "        x = self.fc1(out)\n",
        "        return torch.softmax(x, dim=1)"
      ],
      "id": "ea33b1b0-e23d-4e78-909c-3c27ebe2b3be"
    },
    {
      "cell_type": "code",
      "execution_count": null,
      "metadata": {
        "id": "e26450f8-b383-4390-83c7-e2bf1013c25d"
      },
      "outputs": [],
      "source": [
        "model = BuildingClassifierEnsemble(densenet, resnet, vgg, 5)"
      ],
      "id": "e26450f8-b383-4390-83c7-e2bf1013c25d"
    },
    {
      "cell_type": "code",
      "execution_count": null,
      "metadata": {
        "id": "yJrhsFTkGhhL"
      },
      "outputs": [],
      "source": [],
      "id": "yJrhsFTkGhhL"
    },
    {
      "cell_type": "code",
      "execution_count": null,
      "metadata": {
        "id": "51cb60c9-4740-4cd0-a3eb-db0e505989b8"
      },
      "outputs": [],
      "source": [
        "model.to(device)\n",
        "optimizer = optim.Adam(model.parameters(),lr=0.003)\n",
        "# turn this off\n",
        "scheduler = optim.lr_scheduler.StepLR(optimizer, step_size=3, gamma=0.1)"
      ],
      "id": "51cb60c9-4740-4cd0-a3eb-db0e505989b8"
    },
    {
      "cell_type": "code",
      "execution_count": null,
      "metadata": {
        "colab": {
          "base_uri": "https://localhost:8080/",
          "height": 162
        },
        "id": "a248126b-9146-43dd-adbd-7ecf18c8863c",
        "outputId": "0d7450fb-2dd1-4446-f804-2e28ae1d0f2c"
      },
      "outputs": [
        {
          "ename": "NameError",
          "evalue": "name 'data_prep' is not defined",
          "output_type": "error",
          "traceback": [
            "\u001b[0;31m---------------------------------------------------------------------------\u001b[0m",
            "\u001b[0;31mNameError\u001b[0m                                 Traceback (most recent call last)",
            "\u001b[0;32m<ipython-input-1-fcf19ea296df>\u001b[0m in \u001b[0;36m<cell line: 1>\u001b[0;34m()\u001b[0m\n\u001b[0;32m----> 1\u001b[0;31m \u001b[0mmodel\u001b[0m\u001b[0;34m,\u001b[0m \u001b[0mtrain_loss\u001b[0m\u001b[0;34m,\u001b[0m \u001b[0mtest_loss\u001b[0m \u001b[0;34m=\u001b[0m \u001b[0mdata_prep\u001b[0m\u001b[0;34m.\u001b[0m\u001b[0mtrain\u001b[0m\u001b[0;34m(\u001b[0m\u001b[0mmodel\u001b[0m\u001b[0;34m,\u001b[0m \u001b[0mtrain_loader\u001b[0m\u001b[0;34m,\u001b[0m \u001b[0mtest_loader\u001b[0m\u001b[0;34m,\u001b[0m \u001b[0mepoch\u001b[0m\u001b[0;34m,\u001b[0m \u001b[0moptimizer\u001b[0m\u001b[0;34m,\u001b[0m \u001b[0mcriterion\u001b[0m\u001b[0;34m)\u001b[0m\u001b[0;34m\u001b[0m\u001b[0;34m\u001b[0m\u001b[0m\n\u001b[0m",
            "\u001b[0;31mNameError\u001b[0m: name 'data_prep' is not defined"
          ]
        }
      ],
      "source": [
        "model, train_loss, test_loss = data_prep.train(model, train_loader, test_loader, epoch, optimizer, criterion)"
      ],
      "id": "a248126b-9146-43dd-adbd-7ecf18c8863c"
    },
    {
      "cell_type": "code",
      "execution_count": null,
      "metadata": {
        "id": "K59PPTvxGiYe"
      },
      "outputs": [],
      "source": [],
      "id": "K59PPTvxGiYe"
    }
  ],
  "metadata": {
    "accelerator": "GPU",
    "colab": {
      "gpuType": "T4",
      "provenance": []
    },
    "kernelspec": {
      "display_name": "Python 3",
      "name": "python3"
    },
    "language_info": {
      "codemirror_mode": {
        "name": "ipython",
        "version": 3
      },
      "file_extension": ".py",
      "mimetype": "text/x-python",
      "name": "python",
      "nbconvert_exporter": "python",
      "pygments_lexer": "ipython3",
      "version": "3.10.13"
    }
  },
  "nbformat": 4,
  "nbformat_minor": 5
}