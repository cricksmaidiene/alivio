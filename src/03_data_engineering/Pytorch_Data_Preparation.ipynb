{
 "cells": [
  {
   "cell_type": "code",
   "execution_count": 2,
   "id": "d10995e6-bfb0-4d4a-8657-dab964a6631b",
   "metadata": {},
   "outputs": [],
   "source": [
    "import os\n",
    "import cv2\n",
    "import argparse\n",
    "import json\n",
    "import numpy as np\n",
    "import pandas as pd\n",
    "import shutil\n",
    "\n",
    "from tqdm import tqdm\n",
    "from os import path, walk, makedirs\n",
    "from skimage.io import imread\n",
    "from shapely import wkt\n",
    "from shapely.geometry import mapping, MultiPolygon, Polygon\n",
    "from cv2 import fillPoly, imwrite\n",
    "from PIL import Image\n",
    "from shapely.geometry import MultiPolygon, Polygon\n",
    "import shapely.wkt\n",
    "import matplotlib.pyplot as plt"
   ]
  },
  {
   "cell_type": "code",
   "execution_count": 3,
   "id": "cda1f7d0-96c5-4059-b0a9-137e5903c3d2",
   "metadata": {
    "scrolled": true
   },
   "outputs": [
    {
     "name": "stdout",
     "output_type": "stream",
     "text": [
      "Current Dir /Users/yaminigotimukul/DataScience/Berekley/Semesters/Spring_2024/repo/alivio/src/03_data_engineering\n",
      "Current Dir /Users/yaminigotimukul/DataScience/Berekley/Semesters/Spring_2024/repo/alivio\n"
     ]
    }
   ],
   "source": [
    "print(\"Current Dir\",os.getcwd())\n",
    "os.chdir('../..')\n",
    "print(\"Current Dir\",os.getcwd())"
   ]
  },
  {
   "cell_type": "code",
   "execution_count": 11,
   "id": "22cbdf92-24ed-4ced-ba84-d0952f1feb53",
   "metadata": {},
   "outputs": [
    {
     "name": "stdout",
     "output_type": "stream",
     "text": [
      "BASE_DIR :  /Users/yaminigotimukul/DataScience/Berekley/Semesters/Spring_2024/repo/alivio/data\n",
      "DATA_DIR :  /Users/yaminigotimukul/DataScience/Berekley/Semesters/Spring_2024/repo/alivio/data/xview_building_damage/train/sample\n",
      "Root Data Path :  /Users/yaminigotimukul/DataScience/Berekley/Semesters/Spring_2024/repo/alivio/data/xview_building_damage\n"
     ]
    }
   ],
   "source": [
    "ROOT_DIR=os.getcwd()\n",
    "BASE_DATA_DIR = os.path.join(ROOT_DIR, 'data')\n",
    "print(\"BASE_DIR : \", BASE_DATA_DIR)\n",
    "DATA_DIR = os.path.join(BASE_DATA_DIR, 'xview_building_damage/train/sample')\n",
    "print(\"DATA_DIR : \", DATA_DIR)\n",
    "metadata_csv_path=os.path.join(BASE_DATA_DIR, 'xview_building_damage/train/xview2_processed.csv')\n",
    "xbd_train = os.path.join(BASE_DATA_DIR, 'xview_building_damage', 'train', 'clean_meta_csv')\n",
    "\n",
    "ROOT_DATA_DIR = os.path.join(BASE_DATA_DIR, 'xview_building_damage')\n",
    "print(\"Root Data Path : \", ROOT_DATA_DIR)\n",
    "CHALLENGE_DIR = os.path.join(ROOT_DATA_DIR, 'challenge')\n",
    "TRAIN_DIR=os.path.join(CHALLENGE_DIR, 'train')\n",
    "HOLD_DIR=os.path.join(CHALLENGE_DIR, 'hold')\n",
    "TEST_DIR=os.path.join(CHALLENGE_DIR, 'test')\n",
    "\n",
    "train_out_dir=os.path.join(TRAIN_DIR, 'disaster')\n",
    "test_out_dir=os.path.join(TEST_DIR, 'disaster')\n",
    "hold_out_dir=os.path.join(HOLD_DIR, 'disaster')"
   ]
  },
  {
   "cell_type": "markdown",
   "id": "4261cede-d87b-4fe4-82cf-b293543fa1f6",
   "metadata": {},
   "source": [
    "### Metafiles Cleanup Code"
   ]
  },
  {
   "cell_type": "code",
   "execution_count": 7,
   "id": "2edfba16-be3b-4ab4-bc4e-c3e80011a816",
   "metadata": {},
   "outputs": [],
   "source": [
    "def get_df_with_class_numeric_labels(df_name):\n",
    "    df_name['damage'].fillna('pre', inplace=True)\n",
    "    df_name['damage_class']=df_name['damage']\n",
    "    keys=list(df_name['damage_class'].value_counts().keys())\n",
    "    df_name['damage_class']=df_name['damage_class'].apply(keys.index)\n",
    "    df_name['damage_class'].value_counts()\n",
    "    return df_name"
   ]
  },
  {
   "cell_type": "code",
   "execution_count": 8,
   "id": "207f3e8f-4ea7-40c0-9463-d55f7ad988c0",
   "metadata": {},
   "outputs": [],
   "source": [
    "def pre_process_meta_data(meta_df, out_dir, disaster_name ='hurricane-florence', dataset='train'):\n",
    "    hc_disaster = meta_df[meta_df['disaster']==disaster_name]\n",
    "    hc_train = hc_disaster[hc_disaster['dataset']== dataset]\n",
    "    df_disaster = hc_train[hc_train['image_polygon'].notna()]\n",
    "    df_disaster['mask_file_names'] = df_disaster['img_name'].str.replace('.png', '_')+df_disaster['building_id']+'.png'\n",
    "    df_disaster_class_labels = get_df_with_class_numeric_labels(df_disaster)\n",
    "    df_disaster_class_labels.to_csv(out_dir+'/hc_'+dataset+\"_\"+disaster_name+\".csv\")"
   ]
  },
  {
   "cell_type": "code",
   "execution_count": 9,
   "id": "43e14cc3-6915-44a3-858c-441bb30937a8",
   "metadata": {},
   "outputs": [],
   "source": [
    "df_all = pd.read_csv(metadata_csv_path)"
   ]
  },
  {
   "cell_type": "code",
   "execution_count": null,
   "id": "b9e062e0-1138-4a8f-abf1-89c60ce809bc",
   "metadata": {},
   "outputs": [],
   "source": [
    "### Michael\n",
    "pre_process_meta_data(df_all, train_out_dir, 'hurricane-michael', 'train')\n",
    "pre_process_meta_data(df_all, test_out_dir, 'hurricane-michael', 'test')\n",
    "pre_process_meta_data(df_all, hold_out_dir, 'hurricane-michael', 'hold')"
   ]
  },
  {
   "cell_type": "code",
   "execution_count": null,
   "id": "90590966-381c-4ebf-a32e-d833030012f7",
   "metadata": {},
   "outputs": [],
   "source": [
    "### Florence\n",
    "pre_process_meta_data(df_all, train_out_dir, 'hurricane-florence', 'train')\n",
    "pre_process_meta_data(df_all, test_out_dir, 'hurricane-florence', 'test')\n",
    "pre_process_meta_data(df_all, hold_out_dir, 'hurricane-florence', 'hold')"
   ]
  },
  {
   "cell_type": "code",
   "execution_count": null,
   "id": "ddbeebb3-c8b9-4970-90eb-aaa075ae78bb",
   "metadata": {},
   "outputs": [],
   "source": [
    "### Harvey\n",
    "pre_process_meta_data(df_all, train_out_dir, 'hurricane-harvey', 'train')\n",
    "pre_process_meta_data(df_all, test_out_dir, 'hurricane-harvey', 'test')\n",
    "pre_process_meta_data(df_all, hold_out_dir, 'hurricane-harvey', 'hold')"
   ]
  },
  {
   "cell_type": "code",
   "execution_count": null,
   "id": "5d96dd2c-d3ce-4bb7-80d1-3580820513e9",
   "metadata": {},
   "outputs": [],
   "source": [
    "### Matthew\n",
    "pre_process_meta_data(df_all, train_out_dir, 'hurricane-matthew', 'train')\n",
    "pre_process_meta_data(df_all, test_out_dir, 'hurricane-matthew', 'test')\n",
    "pre_process_meta_data(df_all, hold_out_dir, 'hurricane-matthew', 'hold')"
   ]
  },
  {
   "cell_type": "code",
   "execution_count": 29,
   "id": "96f9fa58-1546-4a5e-9cbd-3436fbbf6cb2",
   "metadata": {},
   "outputs": [],
   "source": [
    "#!python src/utils/mask_generators/mask_polygons.py --input data/xview_building_damage/challenge/output --single-file --border 2\n",
    "### Adapting the contents of the mask_polygons.py below\n",
    "def get_dimensions(file_path):\n",
    "    \"\"\"\n",
    "    :param file_path: The path of the file \n",
    "    :return: returns (width,height,channels)\n",
    "    \"\"\"\n",
    "    # Open the image we are going to mask\n",
    "    pil_img = imread(file_path)\n",
    "    img = np.array(pil_img)\n",
    "    w, h, c = img.shape\n",
    "    return (w, h, c)\n",
    "\n",
    "def mask_polygons_separately(size, shapes):\n",
    "    \"\"\"\n",
    "    :param size: A tuple of the (width,height,channels)\n",
    "    :param shapes: A list of points in the polygon from get_feature_info\n",
    "    :returns: a dict of masked polygons with the shapes filled in from cv2.fillPoly\n",
    "    \"\"\"\n",
    "    # For each WKT polygon, read the WKT format and fill the polygon as an image\n",
    "    masked_polys = {}\n",
    "\n",
    "    for u in shapes:\n",
    "        sh = shapes[u]\n",
    "        mask_img = np.zeros(size, np.uint8)\n",
    "        i = fillPoly(mask_img, [sh], (255, 255, 255))\n",
    "        masked_polys[u] = i\n",
    "\n",
    "    return masked_polys\n",
    "\n",
    "def mask_polygons_together(size, shapes):\n",
    "    \"\"\"\n",
    "    :param size: A tuple of the (width,height,channels)\n",
    "    :param shapes: A list of points in the polygon from get_feature_info\n",
    "    :returns: A numpy array with the polygons filled 255s where there's a building and 0 where not \n",
    "    \"\"\"\n",
    "    # For each WKT polygon, read the WKT format and fill the polygon as an image\n",
    "    mask_img = np.zeros(size, np.uint8)\n",
    "\n",
    "    for u in shapes:\n",
    "        blank =  np.zeros(size, np.uint8)\n",
    "        poly = shapes[u] \n",
    "        fillPoly(blank, [poly], (1, 1, 1))\n",
    "        mask_img += blank\n",
    "    \n",
    "    # Here we are taking the overlap (+=) and squashing it back to 0\n",
    "    mask_img[mask_img > 1] = 0\n",
    "\n",
    "    # Finally we are taking all 1s and making it pure white (255)\n",
    "    mask_img[mask_img == 1] = 255\n",
    "\n",
    "    return mask_img\n",
    "\n",
    "def mask_polygons_together_with_border(size, shapes, border):\n",
    "    \"\"\"\n",
    "    :param size: A tuple of the (width,height,channels)\n",
    "    :param shapes: A list of points in the polygon from get_feature_info\n",
    "    :returns: a dict of masked polygons with the shapes filled in from cv2.fillPoly\n",
    "    \"\"\"\n",
    "\n",
    "    # For each WKT polygon, read the WKT format and fill the polygon as an image\n",
    "    mask_img = np.zeros(size, np.uint8)\n",
    "\n",
    "    for u in shapes:\n",
    "        blank =  np.zeros(size, np.uint8)\n",
    "        # Each polygon stored in shapes is a np.ndarray\n",
    "        poly = shapes[u]\n",
    "        \n",
    "        # Creating a shapely polygon object out of the numpy array \n",
    "        polygon = Polygon(poly)\n",
    "\n",
    "        # Getting the center points from the polygon and the polygon points\n",
    "        (poly_center_x, poly_center_y) = polygon.centroid.coords[0]\n",
    "        polygon_points = polygon.exterior.coords\n",
    "\n",
    "        # Setting a new polygon with each X,Y manipulated based off the center point\n",
    "        shrunk_polygon = []\n",
    "        for (x,y) in polygon_points:\n",
    "            if x < poly_center_x:\n",
    "                x += border\n",
    "            elif x > poly_center_x:\n",
    "                x -= border\n",
    "\n",
    "            if y < poly_center_y:\n",
    "                y += border\n",
    "            elif y > poly_center_y:\n",
    "                y -= border\n",
    "\n",
    "            shrunk_polygon.append([x,y])\n",
    "        \n",
    "        # Transforming the polygon back to a np.ndarray\n",
    "        ns_poly = np.array(shrunk_polygon, np.int32)\n",
    "  \n",
    "        # Filling the shrunken polygon to add a border between close polygons\n",
    "        fillPoly(blank, [ns_poly], (1, 1, 1))\n",
    "        mask_img += blank\n",
    "    \n",
    "    mask_img[mask_img > 1] = 0\n",
    "    mask_img[mask_img == 1] = 255\n",
    "    return mask_img\n",
    "\n",
    "def save_masks(masks, output_path, mask_file_name):\n",
    "    \"\"\"\n",
    "    :param masks: dictionary of UID:masked polygons from mask_polygons_separately()\n",
    "    :param output_path: path to save the masks\n",
    "    :param mask_file_name: the file name the masks should have \n",
    "    \"\"\"\n",
    "    # For each filled polygon, write out a separate file, increasing the name\n",
    "    for m in masks:\n",
    "        final_out = path.join(output_path,\n",
    "                              mask_file_name + '_{}.png'.format(m))\n",
    "        imwrite(final_out, masks[m])\n",
    "\n",
    "def save_one_mask(masks, output_path, mask_file_name):\n",
    "    \"\"\"\n",
    "    :param masks: list of masked polygons from the mask_polygons_separately function \n",
    "    :param output_path: path to save the masks\n",
    "    :param mask_file_name: the file name the masks should have \n",
    "    \"\"\"\n",
    "    # For each filled polygon, write the mask shape out to the file per image\n",
    "    mask_file_name = path.join(output_path, mask_file_name + '.png')\n",
    "    imwrite(mask_file_name, masks)\n",
    "    \n",
    "\n",
    "def read_json(json_path):\n",
    "    \"\"\"\n",
    "    :param json_path: path to load json from\n",
    "    :returns: a python dictionary of json features\n",
    "    \"\"\"\n",
    "    annotations = json.load(open(json_path))\n",
    "    return annotations\n",
    "\n",
    "\n",
    "def get_feature_info(feature):\n",
    "    \"\"\"\n",
    "    :param feature: a python dictionary of json labels\n",
    "    :returns: a list mapping of polygons contained in the image \n",
    "    \"\"\"\n",
    "    # Getting each polygon points from the json file and adding it to a dictionary of uid:polygons\n",
    "    props = {}\n",
    "\n",
    "    for feat in feature['features']['xy']:\n",
    "        feat_shape = wkt.loads(feat['wkt'])\n",
    "        coords = list(mapping(feat_shape)['coordinates'][0])\n",
    "        props[feat['properties']['uid']] = (np.array(coords, np.int32))\n",
    "\n",
    "    return props\n",
    "\n",
    "\n",
    "def mask_chips(json_path, images_directory, output_directory, single_file, border, pre_post='_post'):\n",
    "    \"\"\"\n",
    "    :param json_path: path to find multiple json files for the chips\n",
    "    :param images_directory: path to the directory containing the images to be masked\n",
    "    :param output_directory: path to the directory where masks are to be saved\n",
    "    :param single_file: a boolean value to see if masks should be saved a single file or multiple\n",
    "    \"\"\"\n",
    "    # For each feature in the json we will create a separate mask\n",
    "    # Getting all files in the directory provided for jsons\n",
    "    jsons = [j for j in next(walk(json_path))[2] if pre_post in j]\n",
    "\n",
    "    # After removing non-json items in dir (if any)\n",
    "    for j in tqdm([j for j in jsons if j.endswith('json')],\n",
    "                  unit='poly',\n",
    "                  leave=False):\n",
    "        # Our chips start off in life as PNGs\n",
    "        chip_image_id = path.splitext(j)[0] + '.png'\n",
    "        mask_file = path.splitext(j)[0]\n",
    "\n",
    "        # Loading the per chip json\n",
    "        j_full_path = path.join(json_path, j)\n",
    "        chip_json = read_json(j_full_path)\n",
    "\n",
    "        # Getting the full chip path, and loading the size dimensions\n",
    "        chip_file = path.join(images_directory, chip_image_id)\n",
    "        chip_size = get_dimensions(chip_file)\n",
    "\n",
    "        # Reading in the polygons from the json file\n",
    "        polys = get_feature_info(chip_json)\n",
    "\n",
    "        # Getting a list of the polygons and saving masks as separate or single image files\n",
    "        if len(polys) > 0:\n",
    "            if single_file:\n",
    "                if border > 0:\n",
    "                    masked_polys = mask_polygons_together_with_border(chip_size, polys, border)\n",
    "                else:\n",
    "                    masked_polys = mask_polygons_together(chip_size, polys)\n",
    "                save_one_mask(masked_polys, output_directory, mask_file)\n",
    "            else:\n",
    "                masked_polys = mask_polygons_separately(chip_size, polys)\n",
    "                save_masks(masked_polys, output_directory, mask_file)"
   ]
  },
  {
   "cell_type": "code",
   "execution_count": 130,
   "id": "71035e8a-b01d-42b4-b89f-5bc2c3c1cbd7",
   "metadata": {},
   "outputs": [],
   "source": [
    "def create_masks(dataSplit='train', pre_post_str=\"post\", single_file=True):\n",
    "    # Parse command line arguments\n",
    "    parser = argparse.ArgumentParser(\n",
    "        description=\n",
    "        \"\"\"mask_polygons.py: Takes in xBD dataset and masks polygons in the image\\n\\n\n",
    "        WARNING: This could lead to hundreds of output images per input\\n\"\"\")\n",
    "    \n",
    "    parser.add_argument('--input',\n",
    "                        required=True,\n",
    "                        metavar=\"/path/to/xBD/\",\n",
    "                        help='Path to parent dataset directory \"xBD\"')\n",
    "    parser.add_argument('--single-file', \n",
    "                        action='store_true',\n",
    "                        help='use to save all masked polygon instances to a single file rather than one polygon per mask file')\n",
    "    parser.add_argument('--border',\n",
    "                        default=0,\n",
    "                        type=int,\n",
    "                        metavar=\"positive integer for pixel border (e.g. 1)\",\n",
    "                        help='Positive integer used to shrink the polygon by')\n",
    "    \n",
    "    if single_file: ### Creates all the masks in single file\n",
    "        args = parser.parse_args(['--input', 'data/xview_building_damage/challenge/output' , '--single-file', '--border', '2'])\n",
    "    else:\n",
    "        args = parser.parse_args(['--input', 'data/xview_building_damage/challenge/'+dataSplit+'/disaster' , '--border', '2'])\n",
    "    \n",
    "    # Getting the list of the disaster types under the xBD directory\n",
    "    disasters = next(walk(args.input))[1]\n",
    "    \n",
    "    for disaster in tqdm(disasters, desc='Masking', unit='disaster'):\n",
    "        # Create the full path to the images, labels, and mask output directories\n",
    "            print(\"disaster \", disaster)\n",
    "            image_dir = path.join(args.input, disaster, 'images')\n",
    "            json_dir = path.join(args.input, disaster, 'labels')\n",
    "            output_dir = path.join(args.input, disaster, 'masks', pre_post_str)\n",
    "        \n",
    "            if not path.isdir(image_dir):\n",
    "                print(\n",
    "                    \"Error, could not find image files in {}.\\n\\n\"\n",
    "                    .format(image_dir),\n",
    "                    file=stderr)\n",
    "                exit(2)\n",
    "        \n",
    "            if not path.isdir(json_dir):\n",
    "                print(\n",
    "                    \"Error, could not find labels in {}.\\n\\n\"\n",
    "                    .format(json_dir),\n",
    "                    file=stderr)\n",
    "                exit(3)\n",
    "        \n",
    "            if not path.isdir(output_dir):\n",
    "                makedirs(output_dir)\n",
    "        \n",
    "            mask_chips(json_dir, image_dir, output_dir, args.single_file, args.border, '_' + pre_post_str)"
   ]
  },
  {
   "cell_type": "code",
   "execution_count": null,
   "id": "6588c184-de7f-40a3-8478-3bfb8be89355",
   "metadata": {},
   "outputs": [],
   "source": [
    "create_masks('train', \"post\", single_file=False)"
   ]
  },
  {
   "cell_type": "code",
   "execution_count": null,
   "id": "606ba93e-5b2e-417d-b1fe-2c6404f19f04",
   "metadata": {
    "scrolled": true
   },
   "outputs": [],
   "source": [
    "create_masks('train', \"post\", single_file=False)  ## Completed Locally\n",
    "create_masks('train', \"pre\", single_file=False)"
   ]
  },
  {
   "cell_type": "code",
   "execution_count": null,
   "id": "efe52cb2-3ec8-493e-9ca4-ac6ed6c8cf29",
   "metadata": {
    "scrolled": true
   },
   "outputs": [],
   "source": [
    "create_masks('hold', \"pre\", single_file=False)\n",
    "create_masks('hold', \"post\", single_file=False)"
   ]
  },
  {
   "cell_type": "code",
   "execution_count": null,
   "id": "813bffad-89e9-4d2b-8ea9-d5fb0c16401b",
   "metadata": {},
   "outputs": [],
   "source": [
    "create_masks('test', \"pre\", single_file=False)\n",
    "create_masks('test', \"post\", single_file=False)"
   ]
  },
  {
   "cell_type": "markdown",
   "id": "82ee7956-50e9-4276-b844-5aaecb0234ff",
   "metadata": {},
   "source": [
    "### Spliting the images by disaster"
   ]
  },
  {
   "cell_type": "markdown",
   "id": "d9094199-8537-45ea-9721-e8b014c589aa",
   "metadata": {},
   "source": [
    "#### Train"
   ]
  },
  {
   "cell_type": "code",
   "execution_count": 5,
   "id": "eaba1770-2380-4761-b8bc-c7371ed06def",
   "metadata": {},
   "outputs": [],
   "source": [
    "!python src/utils/mask_generators/split_into_disasters.py --input data/xview_building_damage/challenge/train/raw --output data/xview_building_damage/challenge/train/disaster"
   ]
  },
  {
   "cell_type": "markdown",
   "id": "7f15d5a1-59e8-4b88-baa4-01b258f32303",
   "metadata": {},
   "source": [
    "#### Hold"
   ]
  },
  {
   "cell_type": "code",
   "execution_count": 6,
   "id": "174a7644-31ff-4cc8-829f-1ecfa676c5c1",
   "metadata": {},
   "outputs": [],
   "source": [
    "!python src/utils/mask_generators/split_into_disasters.py --input data/xview_building_damage/challenge/hold/raw --output data/xview_building_damage/challenge/hold/disaster"
   ]
  },
  {
   "cell_type": "markdown",
   "id": "771e9c91-10f2-4ec5-8253-00c1059448f0",
   "metadata": {},
   "source": [
    "#### Test"
   ]
  },
  {
   "cell_type": "code",
   "execution_count": 7,
   "id": "3fa01b88-283d-446e-8091-88a705f442fe",
   "metadata": {},
   "outputs": [],
   "source": [
    "!python src/utils/mask_generators/split_into_disasters.py --input data/xview_building_damage/challenge/test/raw --output data/xview_building_damage/challenge/test/disaster"
   ]
  },
  {
   "cell_type": "markdown",
   "id": "c70001e4-d54d-4d45-9a16-b125069bde87",
   "metadata": {},
   "source": [
    "### Overlay Masks and images Steps - Prepare for Pytorch Masks for Models\n",
    "\n",
    "These steps are need to create the image classes for VIT and other models using Pytorch"
   ]
  },
  {
   "cell_type": "markdown",
   "id": "ce4fce2b-50f2-49bc-9691-ba2ab3411a2a",
   "metadata": {},
   "source": [
    "### 1. Load the Metadata files"
   ]
  },
  {
   "cell_type": "code",
   "execution_count": 31,
   "id": "cbb628cb-a669-4afd-8d5a-7f1e83efb6ba",
   "metadata": {},
   "outputs": [],
   "source": [
    "def load_meta_files(ROOT_DATA_DIR,disaster_name):\n",
    "    train_meta_df=pd.read_csv(os.path.join(ROOT_DATA_DIR, 'challenge', 'csv', 'hc_train_'+disaster_name+'.csv'))\n",
    "    valid_meta_df=pd.read_csv(os.path.join(ROOT_DATA_DIR, 'challenge', 'csv', 'hc_hold_'+disaster_name+'.csv'))\n",
    "    test_meta_df=pd.read_csv(os.path.join(ROOT_DATA_DIR, 'challenge', 'csv' , 'hc_test_'+disaster_name+'.csv'))\n",
    "    return train_meta_df, valid_meta_df, test_meta_df"
   ]
  },
  {
   "cell_type": "code",
   "execution_count": 14,
   "id": "b9a72ccd-7cb8-4f85-892c-3ee824f7261f",
   "metadata": {},
   "outputs": [],
   "source": [
    "def remove_pre_and_unclassified_class(df):\n",
    "    data = df[df['damage'] != 'un-classified']\n",
    "    data_wo_pre = data[data['damage'] != 'pre']\n",
    "    return data_wo_pre"
   ]
  },
  {
   "cell_type": "code",
   "execution_count": 5,
   "id": "8672f910-a4e7-4984-a18e-63a356f2a3e8",
   "metadata": {},
   "outputs": [],
   "source": [
    "def clean_meta_file_wo_pre(disaster_name):\n",
    "    train_meta_df, valid_meta_df, test_meta_df = load_meta_files(ROOT_DATA_DIR, disaster_name)\n",
    "    train_data_wo_pre = remove_pre_and_unclassified_class(train_meta_df)\n",
    "    valid_data_wo_pre = remove_pre_and_unclassified_class(valid_meta_df)\n",
    "    test_data_wo_pre = remove_pre_and_unclassified_class(test_meta_df)\n",
    "    return train_data_wo_pre, valid_data_wo_pre, test_data_wo_pre"
   ]
  },
  {
   "cell_type": "markdown",
   "id": "5a21ec03-31fa-40f8-8df2-75068326f7f5",
   "metadata": {},
   "source": [
    "### 2. Create mask and image overlay with cropped images"
   ]
  },
  {
   "cell_type": "markdown",
   "id": "2678f76f-9363-4c07-b277-31b45068ff54",
   "metadata": {},
   "source": [
    "#### Creating polygon masks and overlay"
   ]
  },
  {
   "cell_type": "code",
   "execution_count": 17,
   "id": "0675f5f2-c1ed-4fe1-a58c-86112a81a455",
   "metadata": {},
   "outputs": [],
   "source": [
    "def polygons_mask(polygons):\n",
    "    img_mask = np.zeros(im_size, np.uint8)\n",
    "    if not polygons:\n",
    "        return img_mask\n",
    "    int_coords = lambda x: np.array(x).round().astype(np.int32)\n",
    "    exteriors = [int_coords(poly.exterior.coords) for poly in polygons]\n",
    "    interiors = [int_coords(pi.coords) for poly in polygons\n",
    "                 for pi in poly.interiors]\n",
    "    cv2.fillPoly(img_mask, exteriors, 1)\n",
    "    cv2.fillPoly(img_mask, interiors, 0)\n",
    "    return img_mask\n",
    "\n",
    "def create_image_mask_overall(root_dir, im_size, meta_df ,dataSplit = 'train', disaster_name='hurricane-michael', hurricane_name='michael'):\n",
    "   input_dir =  os.path.join(root_dir, 'challenge', dataSplit, 'disaster', disaster_name) \n",
    "   img_input = os.path.join(input_dir, 'images')\n",
    "   output_dir =os.path.join(root_dir, 'challenge', dataSplit, 'disaster','hurricanes-all', 'img_mask_overlay', hurricane_name )\n",
    "\n",
    "   df = meta_df[meta_df['is_post_image'] == True]\n",
    "   print(\"Starting : Mask overlay\")\n",
    "   for idx, file_name in enumerate(df['mask_file_names']):\n",
    "       image = cv2.imread(os.path.join(img_input, df.iloc[idx]['img_name']))\n",
    "       mask = np.zeros(image.shape[:2], dtype=\"uint8\")\n",
    "       _mask = polygons_mask([shapely.wkt.loads(df.iloc[idx]['image_polygon'])])\n",
    "       masked = cv2.bitwise_and(image, image, mask=_mask)\n",
    "       plt.imsave(os.path.join(output_dir, file_name), masked)\n",
    "   print(\"Ending : Mask overlay\")"
   ]
  },
  {
   "cell_type": "markdown",
   "id": "cceb714b-ce57-4516-8837-a18d2a0b3c15",
   "metadata": {},
   "source": [
    "#### Crop and save"
   ]
  },
  {
   "cell_type": "code",
   "execution_count": 44,
   "id": "77439a39-ca35-481d-bbdc-2bccaf03d6d7",
   "metadata": {},
   "outputs": [],
   "source": [
    "def get_bounds_tp(image_wkt):\n",
    "    bounds = wkt.loads(image_wkt).bounds\n",
    "    return (bounds[0], bounds[1], bounds[2], bounds[3]) ## \n",
    "\n",
    "def crop_save_masked_images(data_split_dir, meta_df, crop_output_dir_name = 'img_mask_overlay_crops', disaster_name = 'hurricane-michael', hurricane_name='michael'):\n",
    "    print(\"Starting Cropping the images\")\n",
    "    for idx, file_name in enumerate(meta_df['mask_file_names']):\n",
    "        img = Image.open(os.path.join(data_split_dir, 'disaster', 'hurricanes-all','img_mask_overlay', hurricane_name, file_name))\n",
    "        minx, miny, maxx, maxy = get_bounds_tp(meta_df.iloc[idx]['image_polygon'])\n",
    "        cropped_img=img.crop((minx-5, miny-5, maxx+5, maxy+5))\n",
    "        cropped_img.save(os.path.join(data_split_dir, 'disaster', 'hurricanes-all', crop_output_dir_name, hurricane_name, file_name))\n",
    "    print(\"Finished Cropping the images\")"
   ]
  },
  {
   "cell_type": "code",
   "execution_count": 47,
   "id": "35b296cb-a236-425d-9e4f-2003da98c54f",
   "metadata": {},
   "outputs": [],
   "source": [
    "def sort_masks_by_class(top_dir, meta_df, disaster_name='hurricane-all', hurricane_name='michael', post=True):\n",
    "    root_path=os.path.join(top_dir, 'disaster', disaster_name)\n",
    "    disas_post_mask= os.path.join(root_path,'img_mask_overlay_crops', hurricane_name) #source\n",
    "    print(\"Source root : \", disas_post_mask)\n",
    "    disas_class_path=os.path.join(root_path, 'img_mask_ov_crop_class')\n",
    "    print(\"Destination root : \", disas_class_path)\n",
    "    \n",
    "    df = meta_df[meta_df['is_post_image'] == True]\n",
    "    \n",
    "    #    df = meta_df[meta_df['is_pre_image'] != post]\n",
    "    print(\"Started moving the mask files to class folder for hurricane-\", hurricane_name)\n",
    "    for idx, file_name in enumerate(df['mask_file_names']):\n",
    "        source = os.path.join(disas_post_mask, df.iloc[idx]['mask_file_names'])\n",
    "        destination = os.path.join(disas_class_path, df.iloc[idx]['damage'])\n",
    "        if os.path.exists(destination):\n",
    "            pass\n",
    "        else:\n",
    "            print( \"Creating dir for \" , df.iloc[idx]['damage'])\n",
    "            os.mkdir(destination)\n",
    "        \n",
    "        if os.path.exists(source):\n",
    "            shutil.copy(source, destination)\n",
    "    print(\"Finshed moving the mask files to class folder for hurricane-\", hurricane_name)"
   ]
  },
  {
   "cell_type": "markdown",
   "id": "df640057-1c65-4886-962e-225fd15976fd",
   "metadata": {},
   "source": [
    "#### Michael"
   ]
  },
  {
   "cell_type": "code",
   "execution_count": null,
   "id": "b3246296-7eb8-4ba4-af2c-2b75daa6084c",
   "metadata": {},
   "outputs": [],
   "source": [
    "train_data_wo_pre,valid_data_wo_pre, test_data_wo_pre  = clean_meta_file_wo_pre('hurricane-michael')"
   ]
  },
  {
   "cell_type": "code",
   "execution_count": null,
   "id": "00bf02cc-90e5-44fa-81f2-4b455d36d027",
   "metadata": {},
   "outputs": [],
   "source": [
    "im_size =(1024, 1024)\n",
    "create_image_mask_overall(ROOT_DATA_DIR, im_size, train_data_wo_pre, 'train', 'hurricane-michael', 'michael')\n",
    "create_image_mask_overall(ROOT_DATA_DIR, im_size, valid_data_wo_pre, 'hold', 'hurricane-michael', 'michael')\n",
    "create_image_mask_overall(ROOT_DATA_DIR, im_size, test_data_wo_pre, 'test', 'hurricane-michael', 'michael')"
   ]
  },
  {
   "cell_type": "code",
   "execution_count": null,
   "id": "e91f0b4b-cf81-4d18-8de5-b3ceb498f7f0",
   "metadata": {},
   "outputs": [],
   "source": [
    "crop_save_masked_images(TRAIN_DIR, train_data_wo_pre, crop_output_dir_name = 'img_mask_overlay_crops', disaster_name = 'hurricane-michael', hurricane_name='michael')\n",
    "crop_save_masked_images(HOLD_DIR, valid_data_wo_pre, crop_output_dir_name = 'img_mask_overlay_crops', disaster_name = 'hurricane-michael', hurricane_name='michael')\n",
    "crop_save_masked_images(TEST_DIR, test_data_wo_pre, crop_output_dir_name = 'img_mask_overlay_crops', disaster_name = 'hurricane-michael', hurricane_name='michael')"
   ]
  },
  {
   "cell_type": "code",
   "execution_count": null,
   "id": "e3fbdd78-4678-4321-ade2-23c2308fe0d3",
   "metadata": {},
   "outputs": [],
   "source": [
    "sort_masks_by_class(TRAIN_DIR , train_data_wo_pre , 'hurricanes-all',  hurricane_name='michael')\n",
    "sort_masks_by_class(HOLD_DIR , valid_data_wo_pre , 'hurricanes-all',  hurricane_name='michael')\n",
    "sort_masks_by_class(TEST_DIR , test_data_wo_pre , 'hurricanes-all',  hurricane_name='michael')"
   ]
  },
  {
   "cell_type": "markdown",
   "id": "dd628a9b-659c-46d1-95f8-aa285b9df215",
   "metadata": {},
   "source": [
    "#### Florence"
   ]
  },
  {
   "cell_type": "code",
   "execution_count": 33,
   "id": "bf7d62b0-7f23-449b-8e2e-9ac73fd05875",
   "metadata": {},
   "outputs": [],
   "source": [
    "train_data_wo_pre,valid_data_wo_pre, test_data_wo_pre  = clean_meta_file_wo_pre('hurricane-florence')"
   ]
  },
  {
   "cell_type": "code",
   "execution_count": 34,
   "id": "55cdcb72-d882-4485-b03d-28c85c7d4351",
   "metadata": {
    "scrolled": true
   },
   "outputs": [
    {
     "data": {
      "text/html": [
       "<div>\n",
       "<style scoped>\n",
       "    .dataframe tbody tr th:only-of-type {\n",
       "        vertical-align: middle;\n",
       "    }\n",
       "\n",
       "    .dataframe tbody tr th {\n",
       "        vertical-align: top;\n",
       "    }\n",
       "\n",
       "    .dataframe thead th {\n",
       "        text-align: right;\n",
       "    }\n",
       "</style>\n",
       "<table border=\"1\" class=\"dataframe\">\n",
       "  <thead>\n",
       "    <tr style=\"text-align: right;\">\n",
       "      <th></th>\n",
       "      <th>Unnamed: 0</th>\n",
       "      <th>sensor</th>\n",
       "      <th>provider_asset_type</th>\n",
       "      <th>gsd</th>\n",
       "      <th>capture_date</th>\n",
       "      <th>off_nadir_angle</th>\n",
       "      <th>pan_resolution</th>\n",
       "      <th>sun_azimuth</th>\n",
       "      <th>sun_elevation</th>\n",
       "      <th>target_azimuth</th>\n",
       "      <th>...</th>\n",
       "      <th>building_id</th>\n",
       "      <th>image_polygon</th>\n",
       "      <th>feature_type</th>\n",
       "      <th>damage</th>\n",
       "      <th>dataset</th>\n",
       "      <th>image_id</th>\n",
       "      <th>is_pre_image</th>\n",
       "      <th>is_post_image</th>\n",
       "      <th>mask_file_names</th>\n",
       "      <th>damage_class</th>\n",
       "    </tr>\n",
       "  </thead>\n",
       "  <tbody>\n",
       "    <tr>\n",
       "      <th>110</th>\n",
       "      <td>221034</td>\n",
       "      <td>GEOEYE01</td>\n",
       "      <td>GEOEYE01</td>\n",
       "      <td>2.895928</td>\n",
       "      <td>2018-09-18 16:32:47+00:00</td>\n",
       "      <td>41.741340</td>\n",
       "      <td>0.722669</td>\n",
       "      <td>162.69955</td>\n",
       "      <td>57.024815</td>\n",
       "      <td>69.02214</td>\n",
       "      <td>...</td>\n",
       "      <td>b4e1ef10-eda9-4879-87c2-6f0025b861b4</td>\n",
       "      <td>POLYGON ((404.8428229479346 1022.985470946143,...</td>\n",
       "      <td>building</td>\n",
       "      <td>no-damage</td>\n",
       "      <td>train</td>\n",
       "      <td>hurricane-florence_00000001</td>\n",
       "      <td>False</td>\n",
       "      <td>True</td>\n",
       "      <td>hurricane-florence_00000001_post_disaster_b4e1...</td>\n",
       "      <td>1</td>\n",
       "    </tr>\n",
       "    <tr>\n",
       "      <th>111</th>\n",
       "      <td>221035</td>\n",
       "      <td>GEOEYE01</td>\n",
       "      <td>GEOEYE01</td>\n",
       "      <td>2.895928</td>\n",
       "      <td>2018-09-18 16:32:47+00:00</td>\n",
       "      <td>41.741340</td>\n",
       "      <td>0.722669</td>\n",
       "      <td>162.69955</td>\n",
       "      <td>57.024815</td>\n",
       "      <td>69.02214</td>\n",
       "      <td>...</td>\n",
       "      <td>b7e5d853-6fee-41c8-b5c7-4ea5d7f7a296</td>\n",
       "      <td>POLYGON ((379.9585035544198 1004.636700643454,...</td>\n",
       "      <td>building</td>\n",
       "      <td>no-damage</td>\n",
       "      <td>train</td>\n",
       "      <td>hurricane-florence_00000001</td>\n",
       "      <td>False</td>\n",
       "      <td>True</td>\n",
       "      <td>hurricane-florence_00000001_post_disaster_b7e5...</td>\n",
       "      <td>1</td>\n",
       "    </tr>\n",
       "    <tr>\n",
       "      <th>112</th>\n",
       "      <td>221036</td>\n",
       "      <td>GEOEYE01</td>\n",
       "      <td>GEOEYE01</td>\n",
       "      <td>2.895928</td>\n",
       "      <td>2018-09-18 16:32:47+00:00</td>\n",
       "      <td>41.741340</td>\n",
       "      <td>0.722669</td>\n",
       "      <td>162.69955</td>\n",
       "      <td>57.024815</td>\n",
       "      <td>69.02214</td>\n",
       "      <td>...</td>\n",
       "      <td>742703de-5862-4aa6-b739-ba05b0598021</td>\n",
       "      <td>POLYGON ((333.5734307474256 971.2194976514633,...</td>\n",
       "      <td>building</td>\n",
       "      <td>no-damage</td>\n",
       "      <td>train</td>\n",
       "      <td>hurricane-florence_00000001</td>\n",
       "      <td>False</td>\n",
       "      <td>True</td>\n",
       "      <td>hurricane-florence_00000001_post_disaster_7427...</td>\n",
       "      <td>1</td>\n",
       "    </tr>\n",
       "    <tr>\n",
       "      <th>113</th>\n",
       "      <td>221037</td>\n",
       "      <td>GEOEYE01</td>\n",
       "      <td>GEOEYE01</td>\n",
       "      <td>2.895928</td>\n",
       "      <td>2018-09-18 16:32:47+00:00</td>\n",
       "      <td>41.741340</td>\n",
       "      <td>0.722669</td>\n",
       "      <td>162.69955</td>\n",
       "      <td>57.024815</td>\n",
       "      <td>69.02214</td>\n",
       "      <td>...</td>\n",
       "      <td>0ada4abf-2075-4c90-95ba-dc4e24fbbc0c</td>\n",
       "      <td>POLYGON ((313.4536771412606 944.5107167134208,...</td>\n",
       "      <td>building</td>\n",
       "      <td>no-damage</td>\n",
       "      <td>train</td>\n",
       "      <td>hurricane-florence_00000001</td>\n",
       "      <td>False</td>\n",
       "      <td>True</td>\n",
       "      <td>hurricane-florence_00000001_post_disaster_0ada...</td>\n",
       "      <td>1</td>\n",
       "    </tr>\n",
       "    <tr>\n",
       "      <th>114</th>\n",
       "      <td>221038</td>\n",
       "      <td>GEOEYE01</td>\n",
       "      <td>GEOEYE01</td>\n",
       "      <td>2.895928</td>\n",
       "      <td>2018-09-18 16:32:47+00:00</td>\n",
       "      <td>41.741340</td>\n",
       "      <td>0.722669</td>\n",
       "      <td>162.69955</td>\n",
       "      <td>57.024815</td>\n",
       "      <td>69.02214</td>\n",
       "      <td>...</td>\n",
       "      <td>09741acc-1b6b-4183-8d32-0329ff917003</td>\n",
       "      <td>POLYGON ((85.82098497048729 996.4078882593402,...</td>\n",
       "      <td>building</td>\n",
       "      <td>no-damage</td>\n",
       "      <td>train</td>\n",
       "      <td>hurricane-florence_00000001</td>\n",
       "      <td>False</td>\n",
       "      <td>True</td>\n",
       "      <td>hurricane-florence_00000001_post_disaster_0974...</td>\n",
       "      <td>1</td>\n",
       "    </tr>\n",
       "    <tr>\n",
       "      <th>...</th>\n",
       "      <td>...</td>\n",
       "      <td>...</td>\n",
       "      <td>...</td>\n",
       "      <td>...</td>\n",
       "      <td>...</td>\n",
       "      <td>...</td>\n",
       "      <td>...</td>\n",
       "      <td>...</td>\n",
       "      <td>...</td>\n",
       "      <td>...</td>\n",
       "      <td>...</td>\n",
       "      <td>...</td>\n",
       "      <td>...</td>\n",
       "      <td>...</td>\n",
       "      <td>...</td>\n",
       "      <td>...</td>\n",
       "      <td>...</td>\n",
       "      <td>...</td>\n",
       "      <td>...</td>\n",
       "      <td>...</td>\n",
       "      <td>...</td>\n",
       "    </tr>\n",
       "    <tr>\n",
       "      <th>12887</th>\n",
       "      <td>233837</td>\n",
       "      <td>GEOEYE01</td>\n",
       "      <td>GEOEYE01</td>\n",
       "      <td>2.091625</td>\n",
       "      <td>2018-09-20 16:04:41+00:00</td>\n",
       "      <td>28.017313</td>\n",
       "      <td>0.522825</td>\n",
       "      <td>153.94543</td>\n",
       "      <td>53.722378</td>\n",
       "      <td>190.82309</td>\n",
       "      <td>...</td>\n",
       "      <td>1ab6de84-c28c-4600-90ae-747ac750b1f7</td>\n",
       "      <td>POLYGON ((338.9242822473159 824.4681114714469,...</td>\n",
       "      <td>building</td>\n",
       "      <td>no-damage</td>\n",
       "      <td>train</td>\n",
       "      <td>hurricane-florence_00000545</td>\n",
       "      <td>False</td>\n",
       "      <td>True</td>\n",
       "      <td>hurricane-florence_00000545_post_disaster_1ab6...</td>\n",
       "      <td>1</td>\n",
       "    </tr>\n",
       "    <tr>\n",
       "      <th>12888</th>\n",
       "      <td>233838</td>\n",
       "      <td>GEOEYE01</td>\n",
       "      <td>GEOEYE01</td>\n",
       "      <td>2.091625</td>\n",
       "      <td>2018-09-20 16:04:41+00:00</td>\n",
       "      <td>28.017313</td>\n",
       "      <td>0.522825</td>\n",
       "      <td>153.94543</td>\n",
       "      <td>53.722378</td>\n",
       "      <td>190.82309</td>\n",
       "      <td>...</td>\n",
       "      <td>8586d216-5f4d-4d6b-b888-d3aab23d50d9</td>\n",
       "      <td>POLYGON ((528.3778450679621 684.4573814955489,...</td>\n",
       "      <td>building</td>\n",
       "      <td>no-damage</td>\n",
       "      <td>train</td>\n",
       "      <td>hurricane-florence_00000545</td>\n",
       "      <td>False</td>\n",
       "      <td>True</td>\n",
       "      <td>hurricane-florence_00000545_post_disaster_8586...</td>\n",
       "      <td>1</td>\n",
       "    </tr>\n",
       "    <tr>\n",
       "      <th>12889</th>\n",
       "      <td>233839</td>\n",
       "      <td>GEOEYE01</td>\n",
       "      <td>GEOEYE01</td>\n",
       "      <td>2.091625</td>\n",
       "      <td>2018-09-20 16:04:41+00:00</td>\n",
       "      <td>28.017313</td>\n",
       "      <td>0.522825</td>\n",
       "      <td>153.94543</td>\n",
       "      <td>53.722378</td>\n",
       "      <td>190.82309</td>\n",
       "      <td>...</td>\n",
       "      <td>494ffde0-dbe4-4c18-a81f-c77ae6f461bb</td>\n",
       "      <td>POLYGON ((802.7019802489498 641.6557056870366,...</td>\n",
       "      <td>building</td>\n",
       "      <td>no-damage</td>\n",
       "      <td>train</td>\n",
       "      <td>hurricane-florence_00000545</td>\n",
       "      <td>False</td>\n",
       "      <td>True</td>\n",
       "      <td>hurricane-florence_00000545_post_disaster_494f...</td>\n",
       "      <td>1</td>\n",
       "    </tr>\n",
       "    <tr>\n",
       "      <th>12890</th>\n",
       "      <td>233840</td>\n",
       "      <td>GEOEYE01</td>\n",
       "      <td>GEOEYE01</td>\n",
       "      <td>2.091625</td>\n",
       "      <td>2018-09-20 16:04:41+00:00</td>\n",
       "      <td>28.017313</td>\n",
       "      <td>0.522825</td>\n",
       "      <td>153.94543</td>\n",
       "      <td>53.722378</td>\n",
       "      <td>190.82309</td>\n",
       "      <td>...</td>\n",
       "      <td>7aa9c634-7f37-4555-90ef-20fdcee1eb72</td>\n",
       "      <td>POLYGON ((105.8794847856132 234.6895093332477,...</td>\n",
       "      <td>building</td>\n",
       "      <td>no-damage</td>\n",
       "      <td>train</td>\n",
       "      <td>hurricane-florence_00000545</td>\n",
       "      <td>False</td>\n",
       "      <td>True</td>\n",
       "      <td>hurricane-florence_00000545_post_disaster_7aa9...</td>\n",
       "      <td>1</td>\n",
       "    </tr>\n",
       "    <tr>\n",
       "      <th>12891</th>\n",
       "      <td>233841</td>\n",
       "      <td>GEOEYE01</td>\n",
       "      <td>GEOEYE01</td>\n",
       "      <td>2.091625</td>\n",
       "      <td>2018-09-20 16:04:41+00:00</td>\n",
       "      <td>28.017313</td>\n",
       "      <td>0.522825</td>\n",
       "      <td>153.94543</td>\n",
       "      <td>53.722378</td>\n",
       "      <td>190.82309</td>\n",
       "      <td>...</td>\n",
       "      <td>011d735f-9483-443c-8ee0-52913c5075c1</td>\n",
       "      <td>POLYGON ((69.12492390856055 366.5347506347468,...</td>\n",
       "      <td>building</td>\n",
       "      <td>no-damage</td>\n",
       "      <td>train</td>\n",
       "      <td>hurricane-florence_00000545</td>\n",
       "      <td>False</td>\n",
       "      <td>True</td>\n",
       "      <td>hurricane-florence_00000545_post_disaster_011d...</td>\n",
       "      <td>1</td>\n",
       "    </tr>\n",
       "  </tbody>\n",
       "</table>\n",
       "<p>6120 rows × 30 columns</p>\n",
       "</div>"
      ],
      "text/plain": [
       "       Unnamed: 0    sensor provider_asset_type       gsd  \\\n",
       "110        221034  GEOEYE01            GEOEYE01  2.895928   \n",
       "111        221035  GEOEYE01            GEOEYE01  2.895928   \n",
       "112        221036  GEOEYE01            GEOEYE01  2.895928   \n",
       "113        221037  GEOEYE01            GEOEYE01  2.895928   \n",
       "114        221038  GEOEYE01            GEOEYE01  2.895928   \n",
       "...           ...       ...                 ...       ...   \n",
       "12887      233837  GEOEYE01            GEOEYE01  2.091625   \n",
       "12888      233838  GEOEYE01            GEOEYE01  2.091625   \n",
       "12889      233839  GEOEYE01            GEOEYE01  2.091625   \n",
       "12890      233840  GEOEYE01            GEOEYE01  2.091625   \n",
       "12891      233841  GEOEYE01            GEOEYE01  2.091625   \n",
       "\n",
       "                    capture_date  off_nadir_angle  pan_resolution  \\\n",
       "110    2018-09-18 16:32:47+00:00        41.741340        0.722669   \n",
       "111    2018-09-18 16:32:47+00:00        41.741340        0.722669   \n",
       "112    2018-09-18 16:32:47+00:00        41.741340        0.722669   \n",
       "113    2018-09-18 16:32:47+00:00        41.741340        0.722669   \n",
       "114    2018-09-18 16:32:47+00:00        41.741340        0.722669   \n",
       "...                          ...              ...             ...   \n",
       "12887  2018-09-20 16:04:41+00:00        28.017313        0.522825   \n",
       "12888  2018-09-20 16:04:41+00:00        28.017313        0.522825   \n",
       "12889  2018-09-20 16:04:41+00:00        28.017313        0.522825   \n",
       "12890  2018-09-20 16:04:41+00:00        28.017313        0.522825   \n",
       "12891  2018-09-20 16:04:41+00:00        28.017313        0.522825   \n",
       "\n",
       "       sun_azimuth  sun_elevation  target_azimuth  ...  \\\n",
       "110      162.69955      57.024815        69.02214  ...   \n",
       "111      162.69955      57.024815        69.02214  ...   \n",
       "112      162.69955      57.024815        69.02214  ...   \n",
       "113      162.69955      57.024815        69.02214  ...   \n",
       "114      162.69955      57.024815        69.02214  ...   \n",
       "...            ...            ...             ...  ...   \n",
       "12887    153.94543      53.722378       190.82309  ...   \n",
       "12888    153.94543      53.722378       190.82309  ...   \n",
       "12889    153.94543      53.722378       190.82309  ...   \n",
       "12890    153.94543      53.722378       190.82309  ...   \n",
       "12891    153.94543      53.722378       190.82309  ...   \n",
       "\n",
       "                                building_id  \\\n",
       "110    b4e1ef10-eda9-4879-87c2-6f0025b861b4   \n",
       "111    b7e5d853-6fee-41c8-b5c7-4ea5d7f7a296   \n",
       "112    742703de-5862-4aa6-b739-ba05b0598021   \n",
       "113    0ada4abf-2075-4c90-95ba-dc4e24fbbc0c   \n",
       "114    09741acc-1b6b-4183-8d32-0329ff917003   \n",
       "...                                     ...   \n",
       "12887  1ab6de84-c28c-4600-90ae-747ac750b1f7   \n",
       "12888  8586d216-5f4d-4d6b-b888-d3aab23d50d9   \n",
       "12889  494ffde0-dbe4-4c18-a81f-c77ae6f461bb   \n",
       "12890  7aa9c634-7f37-4555-90ef-20fdcee1eb72   \n",
       "12891  011d735f-9483-443c-8ee0-52913c5075c1   \n",
       "\n",
       "                                           image_polygon feature_type  \\\n",
       "110    POLYGON ((404.8428229479346 1022.985470946143,...     building   \n",
       "111    POLYGON ((379.9585035544198 1004.636700643454,...     building   \n",
       "112    POLYGON ((333.5734307474256 971.2194976514633,...     building   \n",
       "113    POLYGON ((313.4536771412606 944.5107167134208,...     building   \n",
       "114    POLYGON ((85.82098497048729 996.4078882593402,...     building   \n",
       "...                                                  ...          ...   \n",
       "12887  POLYGON ((338.9242822473159 824.4681114714469,...     building   \n",
       "12888  POLYGON ((528.3778450679621 684.4573814955489,...     building   \n",
       "12889  POLYGON ((802.7019802489498 641.6557056870366,...     building   \n",
       "12890  POLYGON ((105.8794847856132 234.6895093332477,...     building   \n",
       "12891  POLYGON ((69.12492390856055 366.5347506347468,...     building   \n",
       "\n",
       "          damage  dataset                     image_id  is_pre_image  \\\n",
       "110    no-damage    train  hurricane-florence_00000001         False   \n",
       "111    no-damage    train  hurricane-florence_00000001         False   \n",
       "112    no-damage    train  hurricane-florence_00000001         False   \n",
       "113    no-damage    train  hurricane-florence_00000001         False   \n",
       "114    no-damage    train  hurricane-florence_00000001         False   \n",
       "...          ...      ...                          ...           ...   \n",
       "12887  no-damage    train  hurricane-florence_00000545         False   \n",
       "12888  no-damage    train  hurricane-florence_00000545         False   \n",
       "12889  no-damage    train  hurricane-florence_00000545         False   \n",
       "12890  no-damage    train  hurricane-florence_00000545         False   \n",
       "12891  no-damage    train  hurricane-florence_00000545         False   \n",
       "\n",
       "      is_post_image                                    mask_file_names  \\\n",
       "110            True  hurricane-florence_00000001_post_disaster_b4e1...   \n",
       "111            True  hurricane-florence_00000001_post_disaster_b7e5...   \n",
       "112            True  hurricane-florence_00000001_post_disaster_7427...   \n",
       "113            True  hurricane-florence_00000001_post_disaster_0ada...   \n",
       "114            True  hurricane-florence_00000001_post_disaster_0974...   \n",
       "...             ...                                                ...   \n",
       "12887          True  hurricane-florence_00000545_post_disaster_1ab6...   \n",
       "12888          True  hurricane-florence_00000545_post_disaster_8586...   \n",
       "12889          True  hurricane-florence_00000545_post_disaster_494f...   \n",
       "12890          True  hurricane-florence_00000545_post_disaster_7aa9...   \n",
       "12891          True  hurricane-florence_00000545_post_disaster_011d...   \n",
       "\n",
       "      damage_class  \n",
       "110              1  \n",
       "111              1  \n",
       "112              1  \n",
       "113              1  \n",
       "114              1  \n",
       "...            ...  \n",
       "12887            1  \n",
       "12888            1  \n",
       "12889            1  \n",
       "12890            1  \n",
       "12891            1  \n",
       "\n",
       "[6120 rows x 30 columns]"
      ]
     },
     "execution_count": 34,
     "metadata": {},
     "output_type": "execute_result"
    }
   ],
   "source": [
    "train_data_wo_pre"
   ]
  },
  {
   "cell_type": "code",
   "execution_count": 39,
   "id": "630bb58d-9d6e-48f8-9c9a-cfa168cf7578",
   "metadata": {},
   "outputs": [
    {
     "name": "stdout",
     "output_type": "stream",
     "text": [
      "Starting : Mask overlay\n",
      "Ending : Mask overlay\n"
     ]
    }
   ],
   "source": [
    "im_size =(1024, 1024)\n",
    "create_image_mask_overall(ROOT_DATA_DIR, im_size, train_data_wo_pre, 'train', 'hurricane-florence', 'florence')"
   ]
  },
  {
   "cell_type": "code",
   "execution_count": 41,
   "id": "e105d46a-7f69-47ea-806d-a8da762a22e5",
   "metadata": {},
   "outputs": [
    {
     "name": "stdout",
     "output_type": "stream",
     "text": [
      "Starting : Mask overlay\n",
      "Ending : Mask overlay\n"
     ]
    }
   ],
   "source": [
    "create_image_mask_overall(ROOT_DATA_DIR, im_size, valid_data_wo_pre, 'hold', 'hurricane-florence', 'florence')"
   ]
  },
  {
   "cell_type": "code",
   "execution_count": 43,
   "id": "cb9a265a-1367-412b-9c72-aa8465333c74",
   "metadata": {},
   "outputs": [
    {
     "name": "stdout",
     "output_type": "stream",
     "text": [
      "Starting : Mask overlay\n",
      "Ending : Mask overlay\n"
     ]
    }
   ],
   "source": [
    "create_image_mask_overall(ROOT_DATA_DIR, im_size, test_data_wo_pre, 'test', 'hurricane-florence', 'florence')"
   ]
  },
  {
   "cell_type": "code",
   "execution_count": 46,
   "id": "d6262f09-4a7f-493c-a563-6baa40a13cc3",
   "metadata": {},
   "outputs": [
    {
     "name": "stdout",
     "output_type": "stream",
     "text": [
      "Starting Cropping the images\n",
      "Finished Cropping the images\n"
     ]
    }
   ],
   "source": [
    "crop_save_masked_images(TRAIN_DIR, train_data_wo_pre, crop_output_dir_name = 'img_mask_overlay_crops', disaster_name = 'hurricane-florence', hurricane_name='florence')"
   ]
  },
  {
   "cell_type": "code",
   "execution_count": 51,
   "id": "9c250632-270f-40aa-b32d-dbc376f5ce25",
   "metadata": {},
   "outputs": [
    {
     "name": "stdout",
     "output_type": "stream",
     "text": [
      "Starting Cropping the images\n",
      "Finished Cropping the images\n"
     ]
    }
   ],
   "source": [
    "crop_save_masked_images(HOLD_DIR, valid_data_wo_pre, crop_output_dir_name = 'img_mask_overlay_crops', disaster_name = 'hurricane-florence', hurricane_name='florence')"
   ]
  },
  {
   "cell_type": "code",
   "execution_count": 52,
   "id": "e3fd2d3b-3ddb-402e-8b39-fcbf4f6db389",
   "metadata": {},
   "outputs": [
    {
     "name": "stdout",
     "output_type": "stream",
     "text": [
      "Starting Cropping the images\n",
      "Finished Cropping the images\n"
     ]
    }
   ],
   "source": [
    "crop_save_masked_images(TEST_DIR, test_data_wo_pre, crop_output_dir_name = 'img_mask_overlay_crops', disaster_name = 'hurricane-florence', hurricane_name='florence')"
   ]
  },
  {
   "cell_type": "code",
   "execution_count": 49,
   "id": "d9736a83-d4b4-4aae-bf97-3ffc5fbb3764",
   "metadata": {},
   "outputs": [
    {
     "name": "stdout",
     "output_type": "stream",
     "text": [
      "Source root :  /Users/yaminigotimukul/DataScience/Berekley/Semesters/Spring_2024/repo/alivio/data/xview_building_damage/challenge/train/disaster/hurricanes-all/img_mask_overlay_crops/florence\n",
      "Destination root :  /Users/yaminigotimukul/DataScience/Berekley/Semesters/Spring_2024/repo/alivio/data/xview_building_damage/challenge/train/disaster/hurricanes-all/img_mask_ov_crop_class\n",
      "Started moving the mask files to class folder for hurricane- florence\n",
      "Finshed moving the mask files to class folder for hurricane- florence\n"
     ]
    }
   ],
   "source": [
    "sort_masks_by_class(TRAIN_DIR , train_data_wo_pre , 'hurricanes-all',  hurricane_name='florence')"
   ]
  },
  {
   "cell_type": "code",
   "execution_count": 53,
   "id": "bcc8a68f-3f79-4c95-af4b-6256dae5868e",
   "metadata": {},
   "outputs": [
    {
     "name": "stdout",
     "output_type": "stream",
     "text": [
      "Source root :  /Users/yaminigotimukul/DataScience/Berekley/Semesters/Spring_2024/repo/alivio/data/xview_building_damage/challenge/hold/disaster/hurricanes-all/img_mask_overlay_crops/florence\n",
      "Destination root :  /Users/yaminigotimukul/DataScience/Berekley/Semesters/Spring_2024/repo/alivio/data/xview_building_damage/challenge/hold/disaster/hurricanes-all/img_mask_ov_crop_class\n",
      "Started moving the mask files to class folder for hurricane- florence\n",
      "Finshed moving the mask files to class folder for hurricane- florence\n"
     ]
    }
   ],
   "source": [
    "sort_masks_by_class(HOLD_DIR , valid_data_wo_pre , 'hurricanes-all',  hurricane_name='florence')"
   ]
  },
  {
   "cell_type": "code",
   "execution_count": 54,
   "id": "e6faabfe-230b-4b51-98d0-45c00c764b91",
   "metadata": {},
   "outputs": [
    {
     "name": "stdout",
     "output_type": "stream",
     "text": [
      "Source root :  /Users/yaminigotimukul/DataScience/Berekley/Semesters/Spring_2024/repo/alivio/data/xview_building_damage/challenge/test/disaster/hurricanes-all/img_mask_overlay_crops/florence\n",
      "Destination root :  /Users/yaminigotimukul/DataScience/Berekley/Semesters/Spring_2024/repo/alivio/data/xview_building_damage/challenge/test/disaster/hurricanes-all/img_mask_ov_crop_class\n",
      "Started moving the mask files to class folder for hurricane- florence\n",
      "Finshed moving the mask files to class folder for hurricane- florence\n"
     ]
    }
   ],
   "source": [
    "sort_masks_by_class(TEST_DIR , test_data_wo_pre , 'hurricanes-all',  hurricane_name='florence')"
   ]
  },
  {
   "cell_type": "markdown",
   "id": "f190395a-43a6-4038-8882-4e2669a6a9a7",
   "metadata": {},
   "source": [
    "#### Harvey"
   ]
  },
  {
   "cell_type": "code",
   "execution_count": 57,
   "id": "6f48066f-6325-43b0-abe1-97e2e3369337",
   "metadata": {},
   "outputs": [],
   "source": [
    "train_data_wo_pre,valid_data_wo_pre, test_data_wo_pre  = clean_meta_file_wo_pre('hurricane-harvey')"
   ]
  },
  {
   "cell_type": "code",
   "execution_count": 59,
   "id": "53c96e30-53da-4ab5-912a-7129bf769451",
   "metadata": {},
   "outputs": [
    {
     "name": "stdout",
     "output_type": "stream",
     "text": [
      "Starting : Mask overlay\n",
      "Ending : Mask overlay\n",
      "Starting : Mask overlay\n",
      "Ending : Mask overlay\n",
      "Starting : Mask overlay\n",
      "Ending : Mask overlay\n"
     ]
    }
   ],
   "source": [
    "im_size =(1024, 1024)\n",
    "create_image_mask_overall(ROOT_DATA_DIR, im_size, train_data_wo_pre, 'train', 'hurricane-harvey', 'harvey')\n",
    "create_image_mask_overall(ROOT_DATA_DIR, im_size, valid_data_wo_pre, 'hold', 'hurricane-harvey', 'harvey')\n",
    "create_image_mask_overall(ROOT_DATA_DIR, im_size, test_data_wo_pre, 'test', 'hurricane-harvey', 'harvey')"
   ]
  },
  {
   "cell_type": "code",
   "execution_count": 60,
   "id": "5ea49791-aaf7-4d04-bb6a-eb93b02f31ee",
   "metadata": {},
   "outputs": [
    {
     "name": "stdout",
     "output_type": "stream",
     "text": [
      "Starting Cropping the images\n",
      "Finished Cropping the images\n",
      "Starting Cropping the images\n",
      "Finished Cropping the images\n",
      "Starting Cropping the images\n",
      "Finished Cropping the images\n"
     ]
    }
   ],
   "source": [
    "crop_save_masked_images(TRAIN_DIR, train_data_wo_pre, crop_output_dir_name = 'img_mask_overlay_crops', disaster_name = 'hurricane-harvey', hurricane_name='harvey')\n",
    "crop_save_masked_images(HOLD_DIR, valid_data_wo_pre, crop_output_dir_name = 'img_mask_overlay_crops', disaster_name = 'hurricane-harvey', hurricane_name='harvey')\n",
    "crop_save_masked_images(TEST_DIR, test_data_wo_pre, crop_output_dir_name = 'img_mask_overlay_crops', disaster_name = 'hurricane-harvey', hurricane_name='harvey')"
   ]
  },
  {
   "cell_type": "code",
   "execution_count": 61,
   "id": "2ca75158-75ec-44f6-b700-44dd22c19946",
   "metadata": {},
   "outputs": [
    {
     "name": "stdout",
     "output_type": "stream",
     "text": [
      "Source root :  /Users/yaminigotimukul/DataScience/Berekley/Semesters/Spring_2024/repo/alivio/data/xview_building_damage/challenge/train/disaster/hurricanes-all/img_mask_overlay_crops/harvey\n",
      "Destination root :  /Users/yaminigotimukul/DataScience/Berekley/Semesters/Spring_2024/repo/alivio/data/xview_building_damage/challenge/train/disaster/hurricanes-all/img_mask_ov_crop_class\n",
      "Started moving the mask files to class folder for hurricane- harvey\n",
      "Finshed moving the mask files to class folder for hurricane- harvey\n",
      "Source root :  /Users/yaminigotimukul/DataScience/Berekley/Semesters/Spring_2024/repo/alivio/data/xview_building_damage/challenge/hold/disaster/hurricanes-all/img_mask_overlay_crops/harvey\n",
      "Destination root :  /Users/yaminigotimukul/DataScience/Berekley/Semesters/Spring_2024/repo/alivio/data/xview_building_damage/challenge/hold/disaster/hurricanes-all/img_mask_ov_crop_class\n",
      "Started moving the mask files to class folder for hurricane- harvey\n",
      "Finshed moving the mask files to class folder for hurricane- harvey\n",
      "Source root :  /Users/yaminigotimukul/DataScience/Berekley/Semesters/Spring_2024/repo/alivio/data/xview_building_damage/challenge/test/disaster/hurricanes-all/img_mask_overlay_crops/harvey\n",
      "Destination root :  /Users/yaminigotimukul/DataScience/Berekley/Semesters/Spring_2024/repo/alivio/data/xview_building_damage/challenge/test/disaster/hurricanes-all/img_mask_ov_crop_class\n",
      "Started moving the mask files to class folder for hurricane- harvey\n",
      "Finshed moving the mask files to class folder for hurricane- harvey\n"
     ]
    }
   ],
   "source": [
    "sort_masks_by_class(TRAIN_DIR , train_data_wo_pre , 'hurricanes-all',  hurricane_name='harvey')\n",
    "sort_masks_by_class(HOLD_DIR , valid_data_wo_pre , 'hurricanes-all',  hurricane_name='harvey')\n",
    "sort_masks_by_class(TEST_DIR , test_data_wo_pre , 'hurricanes-all',  hurricane_name='harvey')"
   ]
  },
  {
   "cell_type": "markdown",
   "id": "1622857a-daca-451a-8cc3-f19e6689a0d1",
   "metadata": {},
   "source": [
    "#### Matthew"
   ]
  },
  {
   "cell_type": "code",
   "execution_count": 64,
   "id": "2778b0f2-1c83-40dd-93db-16964dca3937",
   "metadata": {},
   "outputs": [],
   "source": [
    "train_data_wo_pre,valid_data_wo_pre, test_data_wo_pre  = clean_meta_file_wo_pre('hurricane-matthew')"
   ]
  },
  {
   "cell_type": "code",
   "execution_count": 65,
   "id": "f32832df-ca4d-46b2-9e4b-49525981089c",
   "metadata": {},
   "outputs": [
    {
     "name": "stdout",
     "output_type": "stream",
     "text": [
      "Starting : Mask overlay\n",
      "Ending : Mask overlay\n",
      "Starting : Mask overlay\n",
      "Ending : Mask overlay\n",
      "Starting : Mask overlay\n",
      "Ending : Mask overlay\n"
     ]
    }
   ],
   "source": [
    "im_size =(1024, 1024)\n",
    "create_image_mask_overall(ROOT_DATA_DIR, im_size, train_data_wo_pre, 'train', 'hurricane-matthew', 'matthew')\n",
    "create_image_mask_overall(ROOT_DATA_DIR, im_size, valid_data_wo_pre, 'hold', 'hurricane-matthew', 'matthew')\n",
    "create_image_mask_overall(ROOT_DATA_DIR, im_size, test_data_wo_pre, 'test', 'hurricane-matthew', 'matthew')"
   ]
  },
  {
   "cell_type": "code",
   "execution_count": 66,
   "id": "e422cbb2-1194-485e-b674-ef0a9bb6d953",
   "metadata": {},
   "outputs": [
    {
     "name": "stdout",
     "output_type": "stream",
     "text": [
      "Starting Cropping the images\n",
      "Finished Cropping the images\n",
      "Starting Cropping the images\n",
      "Finished Cropping the images\n",
      "Starting Cropping the images\n",
      "Finished Cropping the images\n"
     ]
    }
   ],
   "source": [
    "crop_save_masked_images(TRAIN_DIR, train_data_wo_pre, crop_output_dir_name = 'img_mask_overlay_crops', disaster_name = 'hurricane-matthew', hurricane_name='matthew')\n",
    "crop_save_masked_images(HOLD_DIR, valid_data_wo_pre, crop_output_dir_name = 'img_mask_overlay_crops', disaster_name = 'hurricane-matthew', hurricane_name='matthew')\n",
    "crop_save_masked_images(TEST_DIR, test_data_wo_pre, crop_output_dir_name = 'img_mask_overlay_crops', disaster_name = 'hurricane-matthew', hurricane_name='matthew')"
   ]
  },
  {
   "cell_type": "code",
   "execution_count": 67,
   "id": "345b766a-c6b8-447c-b1af-d9ffab96fa3e",
   "metadata": {},
   "outputs": [
    {
     "name": "stdout",
     "output_type": "stream",
     "text": [
      "Source root :  /Users/yaminigotimukul/DataScience/Berekley/Semesters/Spring_2024/repo/alivio/data/xview_building_damage/challenge/train/disaster/hurricanes-all/img_mask_overlay_crops/matthew\n",
      "Destination root :  /Users/yaminigotimukul/DataScience/Berekley/Semesters/Spring_2024/repo/alivio/data/xview_building_damage/challenge/train/disaster/hurricanes-all/img_mask_ov_crop_class\n",
      "Started moving the mask files to class folder for hurricane- matthew\n",
      "Finshed moving the mask files to class folder for hurricane- matthew\n",
      "Source root :  /Users/yaminigotimukul/DataScience/Berekley/Semesters/Spring_2024/repo/alivio/data/xview_building_damage/challenge/hold/disaster/hurricanes-all/img_mask_overlay_crops/matthew\n",
      "Destination root :  /Users/yaminigotimukul/DataScience/Berekley/Semesters/Spring_2024/repo/alivio/data/xview_building_damage/challenge/hold/disaster/hurricanes-all/img_mask_ov_crop_class\n",
      "Started moving the mask files to class folder for hurricane- matthew\n",
      "Finshed moving the mask files to class folder for hurricane- matthew\n",
      "Source root :  /Users/yaminigotimukul/DataScience/Berekley/Semesters/Spring_2024/repo/alivio/data/xview_building_damage/challenge/test/disaster/hurricanes-all/img_mask_overlay_crops/matthew\n",
      "Destination root :  /Users/yaminigotimukul/DataScience/Berekley/Semesters/Spring_2024/repo/alivio/data/xview_building_damage/challenge/test/disaster/hurricanes-all/img_mask_ov_crop_class\n",
      "Started moving the mask files to class folder for hurricane- matthew\n",
      "Finshed moving the mask files to class folder for hurricane- matthew\n"
     ]
    }
   ],
   "source": [
    "sort_masks_by_class(TRAIN_DIR , train_data_wo_pre , 'hurricanes-all',  hurricane_name='matthew')\n",
    "sort_masks_by_class(HOLD_DIR , valid_data_wo_pre , 'hurricanes-all',  hurricane_name='matthew')\n",
    "sort_masks_by_class(TEST_DIR , test_data_wo_pre , 'hurricanes-all',  hurricane_name='matthew')"
   ]
  }
 ],
 "metadata": {
  "kernelspec": {
   "display_name": "Python 3 (ipykernel)",
   "language": "python",
   "name": "python3"
  },
  "language_info": {
   "codemirror_mode": {
    "name": "ipython",
    "version": 3
   },
   "file_extension": ".py",
   "mimetype": "text/x-python",
   "name": "python",
   "nbconvert_exporter": "python",
   "pygments_lexer": "ipython3",
   "version": "3.10.14"
  }
 },
 "nbformat": 4,
 "nbformat_minor": 5
}
